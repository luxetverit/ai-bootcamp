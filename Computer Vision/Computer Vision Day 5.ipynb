{
 "cells": [
  {
   "cell_type": "code",
   "execution_count": 2,
   "id": "beaade90",
   "metadata": {},
   "outputs": [],
   "source": [
    "import cv2\n",
    "import numpy as np"
   ]
  },
  {
   "cell_type": "markdown",
   "id": "2b39873d",
   "metadata": {},
   "source": [
    "# 컬러 영상 다루기"
   ]
  },
  {
   "cell_type": "markdown",
   "id": "6d80354e",
   "metadata": {},
   "source": [
    "## 컬러 영상의 픽셀값 참조"
   ]
  },
  {
   "cell_type": "code",
   "execution_count": 5,
   "id": "5ee9ed27",
   "metadata": {},
   "outputs": [],
   "source": [
    "src = cv2.imread('./data/butterfly.jpg', cv2.IMREAD_COLOR)"
   ]
  },
  {
   "cell_type": "code",
   "execution_count": 9,
   "id": "aa49135c",
   "metadata": {},
   "outputs": [],
   "source": [
    "cv2.imshow('src', src)\n",
    "cv2.waitKey()\n",
    "cv2.destroyAllWindows()"
   ]
  },
  {
   "cell_type": "markdown",
   "id": "6d1c6d84",
   "metadata": {},
   "source": [
    "## 컬러 영상의 픽셀값 반전"
   ]
  },
  {
   "cell_type": "code",
   "execution_count": 14,
   "id": "af10b444",
   "metadata": {},
   "outputs": [],
   "source": [
    "src = cv2.imread('./data/butterfly.jpg', cv2.IMREAD_COLOR)\n",
    "\n",
    "# option 1\n",
    "# dst = src.copy()\n",
    "# dst[:, :, 0] = 255 - src[:, :, 0]\n",
    "# dst[:, :, 1] = 255 - src[:, :, 1]\n",
    "# dst[:, :, 2] = 255 - src[:, :, 2]\n",
    "\n",
    "# option 2\n",
    "dst = 255 - src\n",
    "\n",
    "cv2.imshow('src', src)\n",
    "cv2.imshow('dst', dst)\n",
    "cv2.waitKey()\n",
    "cv2.destroyAllWindows()"
   ]
  },
  {
   "cell_type": "markdown",
   "id": "efa88e57",
   "metadata": {},
   "source": [
    "## 색공간 변환"
   ]
  },
  {
   "cell_type": "code",
   "execution_count": null,
   "id": "e4373ed4",
   "metadata": {},
   "outputs": [],
   "source": [
    "src = cv2.imreat('./data/butterfly.jpg', cv2.IMREAD_COLOR)\n",
    "gray = "
   ]
  },
  {
   "cell_type": "markdown",
   "id": "2074bf28",
   "metadata": {},
   "source": [
    "## 색상 채널 나누기"
   ]
  },
  {
   "cell_type": "markdown",
   "id": "a67fe0cd",
   "metadata": {},
   "source": [
    "**BGR -> HSV**"
   ]
  },
  {
   "cell_type": "code",
   "execution_count": null,
   "id": "b088f37a",
   "metadata": {},
   "outputs": [],
   "source": []
  },
  {
   "cell_type": "markdown",
   "id": "e40c213d",
   "metadata": {},
   "source": [
    "**BGR -> YCRCB**"
   ]
  },
  {
   "cell_type": "code",
   "execution_count": 20,
   "id": "83a46bb3",
   "metadata": {},
   "outputs": [],
   "source": [
    "src = cv2.imread('./data/butterfly.jpg', cv2.IMREAD_COLOR)\n",
    "yCrCb = cv2.cvtColor(src, cv2.COLOR_BGR2YCrCb)\n",
    "\n",
    "y, Cr, Cb = cv2.split(yCrCb)\n",
    "\n",
    "cv2.imshow('src', src)\n",
    "cv2.imshow('y', y)\n",
    "cv2.imshow('Cr', Cr)\n",
    "cv2.imshow('Cb', Cb)\n",
    "cv2.waitKey()\n",
    "cv2.destroyAllWindows()"
   ]
  },
  {
   "cell_type": "code",
   "execution_count": null,
   "id": "b285b24d",
   "metadata": {},
   "outputs": [],
   "source": []
  },
  {
   "cell_type": "markdown",
   "id": "4ffa9d4f",
   "metadata": {},
   "source": [
    "# 컬러 영상 처리 기법"
   ]
  },
  {
   "cell_type": "markdown",
   "id": "4953330a",
   "metadata": {},
   "source": [
    "## 컬러 히스토그램 평활화"
   ]
  },
  {
   "cell_type": "code",
   "execution_count": 32,
   "id": "42776bcc",
   "metadata": {},
   "outputs": [],
   "source": [
    "# 명암비를 조정한다는것은 \"밝기\"값하고만 상관이 있음\n",
    "src = cv2.imread(\"./data/pepper.bmp\")\n",
    "src_yCrCb = cv2.cvtColor(src, cv2.COLOR_BGR2YCrCb) # YCrCb : Y(밝기 정보), Cr(붉은색 색상정보), Cb(푸른색 색상정보)\n",
    "\n",
    "y, Cr, Cb = cv2.split(src_yCrCb)\n",
    "\n",
    "y_equalized = cv2.equalizeHist(y) # 밝기 정보만을 담고 있는 y 채널에 대해서만 평활화를 수행\n",
    "\n",
    "dst_yCrCb = cv2.merge([y_equalized, Cr, Cb])\n",
    "\n",
    "dst = cv2.cvtColor(dst_yCrCb, cv2.COLOR_YCrCb2BGR)\n",
    "\n",
    "cv2.imshow(\"src\", src)\n",
    "cv2.imshow(\"dst\", dst)\n",
    "cv2.waitKey()\n",
    "cv2.destroyAllWindows()\n"
   ]
  },
  {
   "cell_type": "markdown",
   "id": "c5faaca8",
   "metadata": {},
   "source": [
    "## 색상 범위 지정에 의한 영역 분할"
   ]
  },
  {
   "cell_type": "markdown",
   "id": "39f715d0",
   "metadata": {},
   "source": [
    "**B, G, R 값의 구간 조정하여 영역 분할**"
   ]
  },
  {
   "cell_type": "code",
   "execution_count": 28,
   "id": "5e693a0d",
   "metadata": {},
   "outputs": [
    {
     "ename": "error",
     "evalue": "OpenCV(4.6.0) D:\\a\\opencv-python\\opencv-python\\opencv\\modules\\highgui\\src\\window_w32.cpp:2363: error: (-27:Null pointer) NULL window: 'dst' in function 'icvCreateTrackbar'\n",
     "output_type": "error",
     "traceback": [
      "\u001b[1;31m---------------------------------------------------------------------------\u001b[0m",
      "\u001b[1;31merror\u001b[0m                                     Traceback (most recent call last)",
      "Input \u001b[1;32mIn [28]\u001b[0m, in \u001b[0;36m<cell line: 27>\u001b[1;34m()\u001b[0m\n\u001b[0;32m     23\u001b[0m cv2\u001b[38;5;241m.\u001b[39mwaitKey()\n\u001b[0;32m     24\u001b[0m cv2\u001b[38;5;241m.\u001b[39mdestroyAllWindows()\n\u001b[1;32m---> 27\u001b[0m \u001b[43mcv2\u001b[49m\u001b[38;5;241;43m.\u001b[39;49m\u001b[43mcreateTrackbar\u001b[49m\u001b[43m(\u001b[49m\u001b[38;5;124;43m'\u001b[39;49m\u001b[38;5;124;43mlower b\u001b[39;49m\u001b[38;5;124;43m'\u001b[39;49m\u001b[43m,\u001b[49m\u001b[43m \u001b[49m\u001b[38;5;124;43m'\u001b[39;49m\u001b[38;5;124;43mdst\u001b[39;49m\u001b[38;5;124;43m'\u001b[39;49m\u001b[43m,\u001b[49m\u001b[43m \u001b[49m\u001b[38;5;241;43m0\u001b[39;49m\u001b[43m,\u001b[49m\u001b[43m \u001b[49m\u001b[38;5;241;43m255\u001b[39;49m\u001b[43m,\u001b[49m\u001b[43m \u001b[49m\u001b[43mon_level_change\u001b[49m\u001b[43m)\u001b[49m\n\u001b[0;32m     28\u001b[0m cv2\u001b[38;5;241m.\u001b[39mcreateTrackbar(\u001b[38;5;124m'\u001b[39m\u001b[38;5;124mupper b\u001b[39m\u001b[38;5;124m'\u001b[39m, \u001b[38;5;124m'\u001b[39m\u001b[38;5;124mdst\u001b[39m\u001b[38;5;124m'\u001b[39m, \u001b[38;5;241m0\u001b[39m, \u001b[38;5;241m255\u001b[39m, on_level_change)\n\u001b[0;32m     30\u001b[0m cv2\u001b[38;5;241m.\u001b[39mcreateTrackbar(\u001b[38;5;124m'\u001b[39m\u001b[38;5;124mlower g\u001b[39m\u001b[38;5;124m'\u001b[39m, \u001b[38;5;124m'\u001b[39m\u001b[38;5;124mdst\u001b[39m\u001b[38;5;124m'\u001b[39m, \u001b[38;5;241m0\u001b[39m, \u001b[38;5;241m255\u001b[39m, on_level_change)\n",
      "\u001b[1;31merror\u001b[0m: OpenCV(4.6.0) D:\\a\\opencv-python\\opencv-python\\opencv\\modules\\highgui\\src\\window_w32.cpp:2363: error: (-27:Null pointer) NULL window: 'dst' in function 'icvCreateTrackbar'\n"
     ]
    }
   ],
   "source": [
    "def on_level_change(pos):\n",
    "    lower_b = cv2.getTrackbarPos('lower b', 'dst')\n",
    "    upper_b = cv2.getTrackbarPos('upper b', 'dst')\n",
    "    lower_g = cv2.getTrackbarPos('lower g', 'dst')\n",
    "    upper_g = cv2.getTrackbarPos('upper g', 'dst')\n",
    "    lower_r = cv2.getTrackbarPos('lower r', 'dst')\n",
    "    upper_r = cv2.getTrackbarPos('upper r', 'dst')    \n",
    "\n",
    "    # blue m&m (rgb) : 0, 114, 236\n",
    "    # start point\n",
    "    # lower = (220, 100, 0)\n",
    "    # upper = (255, 120, 10)\n",
    "    \n",
    "    lower = (lower_b, lower_g, lower_r)\n",
    "    upper = (upper_b, upper_g, upper_r)\n",
    "    \n",
    "    dst = cv2.inRange(src, lower, upper)\n",
    "    cv2.imshow('dst', dst)\n",
    "    \n",
    "src = cv2.imread('./data/candies.png')\n",
    "cv2.imshow(\"src\", src)\n",
    "cv2.imshow(\"dst\", dst)\n",
    "cv2.waitKey()\n",
    "cv2.destroyAllWindows()\n",
    "\n",
    "\n",
    "cv2.createTrackbar('lower b', 'dst', 0, 255, on_level_change)\n",
    "cv2.createTrackbar('upper b', 'dst', 0, 255, on_level_change)\n",
    "\n",
    "cv2.createTrackbar('lower g', 'dst', 0, 255, on_level_change)\n",
    "cv2.createTrackbar('upper g', 'dst', 0, 255, on_level_change)\n",
    "\n",
    "cv2.createTrackbar('lower r', 'dst', 0, 255, on_level_change)\n",
    "cv2.createTrackbar('upper r', 'dst', 0, 255, on_level_change)\n",
    "\n"
   ]
  },
  {
   "cell_type": "code",
   "execution_count": 29,
   "id": "323cdb0a",
   "metadata": {},
   "outputs": [],
   "source": [
    "src = cv2.imread('./data/candies.png', cv2.IMREAD_COLOR)\n",
    "\n",
    "b, g, r = cv2.split(src)\n",
    "\n",
    "cv2.imshow('src', src)\n",
    "cv2.imshow('b', b)\n",
    "cv2.imshow('g', g)\n",
    "cv2.imshow('r', r)\n",
    "cv2.waitKey()\n",
    "cv2.destroyAllWindows()"
   ]
  },
  {
   "cell_type": "markdown",
   "id": "78de27ee",
   "metadata": {},
   "source": [
    "**H, S, V 값의 구간 조정하여 영역 분할**"
   ]
  },
  {
   "cell_type": "code",
   "execution_count": null,
   "id": "e6b77aac",
   "metadata": {},
   "outputs": [],
   "source": []
  },
  {
   "cell_type": "markdown",
   "id": "b9717dca",
   "metadata": {},
   "source": [
    "## 히스토그램 역투영"
   ]
  },
  {
   "cell_type": "code",
   "execution_count": 30,
   "id": "05a868ca",
   "metadata": {},
   "outputs": [
    {
     "data": {
      "text/plain": [
       "array([[9.],\n",
       "       [3.],\n",
       "       [2.],\n",
       "       [2.]], dtype=float32)"
      ]
     },
     "execution_count": 30,
     "metadata": {},
     "output_type": "execute_result"
    }
   ],
   "source": [
    "src = np.array([[0, 0, 0, 0],\n",
    "                [1, 1, 3, 5],\n",
    "                [6, 1, 1, 3],\n",
    "                [4, 3, 1, 7]], dtype=np.uint8)\n",
    "\n",
    "hist = cv2.calcHist(images=[src], channels=[0], mask=None, histSize=[4], ranges=[0, 8])\n",
    "hist"
   ]
  },
  {
   "cell_type": "code",
   "execution_count": 31,
   "id": "c7ed1b5b",
   "metadata": {},
   "outputs": [
    {
     "data": {
      "text/plain": [
       "array([[9, 9, 9, 9],\n",
       "       [9, 9, 3, 2],\n",
       "       [2, 9, 9, 3],\n",
       "       [2, 3, 9, 2]], dtype=uint8)"
      ]
     },
     "execution_count": 31,
     "metadata": {},
     "output_type": "execute_result"
    }
   ],
   "source": [
    "backP= cv2.calcBackProject([src], [0], hist, [0, 8], scale=1)\n",
    "backP"
   ]
  },
  {
   "cell_type": "code",
   "execution_count": 32,
   "id": "b741222f",
   "metadata": {},
   "outputs": [],
   "source": [
    "ref = cv2.imread('./data/ref.png')\n",
    "mask = cv2.imread('./data/mask.bmp', cv2.IMREAD_GRAYSCALE)\n",
    "src = cv2.imread('./data/kids.png')\n",
    "\n",
    "cv2.imshow('ref', ref)\n",
    "cv2.imshow('mask', mask)\n",
    "cv2.imshow('src', src)\n",
    "cv2.waitKey()\n",
    "cv2.destroyAllWindows()"
   ]
  },
  {
   "cell_type": "code",
   "execution_count": null,
   "id": "4933b13f",
   "metadata": {},
   "outputs": [],
   "source": []
  },
  {
   "cell_type": "code",
   "execution_count": null,
   "id": "7bf32966",
   "metadata": {},
   "outputs": [],
   "source": []
  },
  {
   "cell_type": "code",
   "execution_count": null,
   "id": "51709ff1",
   "metadata": {},
   "outputs": [],
   "source": []
  },
  {
   "cell_type": "code",
   "execution_count": null,
   "id": "ff00521d",
   "metadata": {},
   "outputs": [],
   "source": []
  },
  {
   "cell_type": "markdown",
   "id": "9255fb6e",
   "metadata": {},
   "source": [
    "# 영상의 이진화"
   ]
  },
  {
   "cell_type": "markdown",
   "id": "c1dea018",
   "metadata": {},
   "source": [
    "## 전역 이진화"
   ]
  },
  {
   "cell_type": "code",
   "execution_count": 8,
   "id": "23253773",
   "metadata": {},
   "outputs": [],
   "source": [
    "def on_threshold(pos):\n",
    "    _ , dst = cv2.threshold(src, pos, 255, cv2.THRESH_BINARY)\n",
    "    cv2.imshow(\"dst\", dst)\n",
    "\n",
    "src = cv2.imread('./data/neutrophils.png', cv2.IMREAD_GRAYSCALE)\n",
    "dst = src.copy()\n",
    "\n",
    "cv2.imshow(\"src\", src)\n",
    "cv2.imshow(\"dst\", dst)\n",
    "\n",
    "cv2.createTrackbar(\"threshold\", \"dst\", 0, 255, on_threshold)\n",
    "cv2.setTrackbarPos(\"threshold\", \"dst\", 128)\n",
    "\n",
    "cv2.waitKey()\n",
    "cv2.destroyAllWindows()"
   ]
  },
  {
   "cell_type": "markdown",
   "id": "c0d74fcb",
   "metadata": {},
   "source": [
    "* Otsu 알고리즘에 의한 임계값 사용"
   ]
  },
  {
   "cell_type": "code",
   "execution_count": null,
   "id": "334e6142",
   "metadata": {},
   "outputs": [],
   "source": []
  },
  {
   "cell_type": "markdown",
   "id": "91de7fc6",
   "metadata": {},
   "source": [
    "* Otsu 알고리즘에 의한 임계값 사용 (heart10.jpg)"
   ]
  },
  {
   "cell_type": "code",
   "execution_count": 34,
   "id": "d4cec205",
   "metadata": {},
   "outputs": [
    {
     "name": "stdout",
     "output_type": "stream",
     "text": [
      "175.0\n"
     ]
    }
   ],
   "source": [
    "src = cv2.imread('./data/heart10.jpg', cv2.IMREAD_GRAYSCALE)\n",
    "\n",
    "thresh, dst = cv2.threshold(src, 0, 255, cv2.THRESH_BINARY | cv2.THRESH_OTSU)\n",
    "print(thresh)\n",
    "\n",
    "cv2.imshow('src', src)\n",
    "cv2.imshow('dst', dst)\n",
    "cv2.waitKey()\n",
    "cv2.destroyAllWindows()"
   ]
  },
  {
   "cell_type": "markdown",
   "id": "eaf01e51",
   "metadata": {},
   "source": [
    "## 적응형 이진화"
   ]
  },
  {
   "cell_type": "code",
   "execution_count": 35,
   "id": "1471b2e7",
   "metadata": {},
   "outputs": [],
   "source": [
    "src = cv2.imread('./data/sudoku.jpg', cv2.IMREAD_GRAYSCALE)\n",
    "thresh, dst = cv2.threshold(src, 0, 255, cv2.THRESH_BINARY | cv2.THRESH_OTSU)\n",
    "\n",
    "cv2.imshow('src', src)\n",
    "cv2.imshow('dst', dst)\n",
    "cv2.waitKey()\n",
    "cv2.destroyAllWindows()"
   ]
  },
  {
   "cell_type": "code",
   "execution_count": 48,
   "id": "4b02a927",
   "metadata": {},
   "outputs": [],
   "source": [
    "def on_trackbar(pos):\n",
    "    b_size = pos\n",
    "    if b_size % 2 == 0 :\n",
    "        b_size += 1\n",
    "    if b_size < 3 :\n",
    "        b_size = 3\n",
    "    \n",
    "    C = 5\n",
    "    \n",
    "    dst = cv2.adaptiveThreshold(src, 255, cv2.ADAPTIVE_THRESH_GAUSSIAN_C, cv2.THRESH_BINARY, b_size, C)\n",
    "    cv2.imshow('dst', dst)\n",
    "\n",
    "src = cv2.imread('./data/sudoku.jpg', cv2.IMREAD_GRAYSCALE)\n",
    "\n",
    "cv2.imshow('src', src)\n",
    "cv2.imshow('dst', dst)\n",
    "\n",
    "cv2.createTrackbar('block size', 'dst', 0, 200, on_trackbar)\n",
    "cv2.setTrackbarPos('block size', 'dst', 11)\n",
    "\n",
    "cv2.waitKey()\n",
    "cv2.destroyAllWindows()"
   ]
  },
  {
   "cell_type": "code",
   "execution_count": null,
   "id": "b625c8c4",
   "metadata": {},
   "outputs": [],
   "source": []
  },
  {
   "cell_type": "code",
   "execution_count": null,
   "id": "ba052d91",
   "metadata": {},
   "outputs": [],
   "source": []
  }
 ],
 "metadata": {
  "kernelspec": {
   "display_name": "Python 3 (ipykernel)",
   "language": "python",
   "name": "python3"
  },
  "language_info": {
   "codemirror_mode": {
    "name": "ipython",
    "version": 3
   },
   "file_extension": ".py",
   "mimetype": "text/x-python",
   "name": "python",
   "nbconvert_exporter": "python",
   "pygments_lexer": "ipython3",
   "version": "3.9.12"
  }
 },
 "nbformat": 4,
 "nbformat_minor": 5
}
