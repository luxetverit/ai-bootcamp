{
 "cells": [
  {
   "cell_type": "code",
   "execution_count": 1,
   "id": "245725e4",
   "metadata": {},
   "outputs": [],
   "source": [
    "import cv2\n",
    "import numpy as np"
   ]
  },
  {
   "cell_type": "markdown",
   "id": "a709af91",
   "metadata": {},
   "source": [
    "# 모폴로지 연산"
   ]
  },
  {
   "cell_type": "markdown",
   "id": "4e6e7785",
   "metadata": {},
   "source": [
    "## 침식과 팽창"
   ]
  },
  {
   "cell_type": "code",
   "execution_count": 9,
   "id": "4827b70f",
   "metadata": {},
   "outputs": [],
   "source": [
    "src = cv2.imread('./data/milkdrop.bmp', cv2.IMREAD_GRAYSCALE)\n",
    "thresh, src_bin = cv2.threshold(src, 0, 255, cv2.THRESH_BINARY | cv2.THRESH_OTSU)\n",
    "\n",
    "erode = cv2.erode(src_bin, None)\n",
    "dilate = cv2.dilate(src_bin, None)\n",
    "\n",
    "cv2.imshow('src', src)\n",
    "cv2.imshow('src_bin', src_bin)\n",
    "cv2.imshow('erode', erode)\n",
    "cv2.imshow('dilate', dilate)\n",
    "cv2.waitKey()\n",
    "cv2.destroyAllWindows()"
   ]
  },
  {
   "cell_type": "markdown",
   "id": "a91d288f",
   "metadata": {},
   "source": [
    "## 열기와 닫기"
   ]
  },
  {
   "cell_type": "code",
   "execution_count": 13,
   "id": "71dda44b",
   "metadata": {},
   "outputs": [],
   "source": [
    "src = cv2.imread('./data/milkdrop.bmp', cv2.IMREAD_GRAYSCALE)\n",
    "thresh, src_bin = cv2.threshold(src, 0, 255, cv2.THRESH_BINARY | cv2.THRESH_OTSU)\n",
    "\n",
    "# 열기 : 침식 -> 팽창\n",
    "opening = cv2.morphologyEx(src_bin, cv2.MORPH_OPEN, None, iterations = 1)\n",
    "\n",
    "# 닫기 : 팽창 -> 침식\n",
    "closing = cv2.morphologyEx(src_bin, cv2.MORPH_CLOSE, None, iterations = 1)\n",
    "\n",
    "\n",
    "#cv2.imshow('src', src)\n",
    "cv2.imshow('src_bin', src_bin)\n",
    "cv2.imshow('opening', opening)\n",
    "cv2.imshow('closing', closing)\n",
    "\n",
    "cv2.waitKey()\n",
    "cv2.destroyAllWindows()"
   ]
  },
  {
   "cell_type": "markdown",
   "id": "90d09f46",
   "metadata": {},
   "source": [
    "# 레이블링과 외곽선 검출"
   ]
  },
  {
   "cell_type": "markdown",
   "id": "1982a1c9",
   "metadata": {},
   "source": [
    "## 레이블링 기본"
   ]
  },
  {
   "cell_type": "code",
   "execution_count": 14,
   "id": "52ccb6f0",
   "metadata": {},
   "outputs": [
    {
     "name": "stdout",
     "output_type": "stream",
     "text": [
      "4\n",
      "[[0 0 1 1 0 0 0 0]\n",
      " [1 1 1 1 0 0 2 0]\n",
      " [1 1 1 1 0 0 0 0]\n",
      " [0 0 0 0 0 3 3 0]\n",
      " [0 0 0 3 3 3 3 0]\n",
      " [0 0 0 3 0 0 3 0]\n",
      " [0 0 3 3 3 3 3 0]\n",
      " [0 0 0 0 0 0 0 0]]\n"
     ]
    }
   ],
   "source": [
    "src = np.array([[0, 0, 1, 1, 0, 0, 0, 0],\n",
    "                [1, 1, 1, 1, 0, 0, 1, 0],\n",
    "                [1, 1, 1, 1, 0, 0, 0, 0],\n",
    "                [0, 0, 0, 0, 0, 1, 1, 0],\n",
    "                [0, 0, 0, 1, 1, 1, 1, 0],\n",
    "                [0, 0, 0, 1, 0, 0, 1, 0],\n",
    "                [0, 0, 1, 1, 1, 1, 1, 0],\n",
    "                [0, 0, 0, 0, 0, 0, 0, 0]]).astype(np.uint8)\n",
    "\n",
    "src = src * 255\n",
    "cnt, labels = cv2.connectedComponents(src)\n",
    "\n",
    "print(cnt)\n",
    "print(labels)"
   ]
  },
  {
   "cell_type": "code",
   "execution_count": 24,
   "id": "c6d7b4e0",
   "metadata": {},
   "outputs": [],
   "source": [
    "src = cv2.imread('./data/circles.jpg', cv2.IMREAD_GRAYSCALE)\n",
    "thresh, src_bin = cv2.threshold(src, 0, 255, cv2.THRESH_BINARY_INV | cv2.THRESH_OTSU)\n",
    "\n",
    "cnt, labels, stats, centroids = cv2.connectedComponentsWithStats(src_bin)\n",
    "dst = cv2.cvtColor(src, cv2.COLOR_GRAY2BGR)\n",
    "\n",
    "dst[labels == 0] = (0, 255, 255)\n",
    "dst[labels == 1] = (0, 0, 255)\n",
    "dst[labels == 2] = (255, 0, 255)\n",
    "dst[labels == 3] = (0, 255, 0)"
   ]
  },
  {
   "cell_type": "code",
   "execution_count": 25,
   "id": "d11d9d8f",
   "metadata": {},
   "outputs": [
    {
     "data": {
      "text/plain": [
       "array([[     0,      0,    512,    512, 222722],\n",
       "       [   308,     86,    125,    125,  12281],\n",
       "       [   153,    145,    152,    152,  18150],\n",
       "       [   292,    338,    107,    107,   8991]], dtype=int32)"
      ]
     },
     "execution_count": 25,
     "metadata": {},
     "output_type": "execute_result"
    }
   ],
   "source": [
    "stats"
   ]
  },
  {
   "cell_type": "code",
   "execution_count": 22,
   "id": "cb7953fd",
   "metadata": {},
   "outputs": [],
   "source": [
    "cv2.imshow('src', src)\n",
    "cv2.imshow('src_bin', src_bin)\n",
    "cv2.imshow('dst', dst)\n",
    "cv2.waitKey()\n",
    "cv2.destroyAllWindows()"
   ]
  },
  {
   "cell_type": "markdown",
   "id": "6b4ab092",
   "metadata": {},
   "source": [
    "## 레이블링 응용"
   ]
  },
  {
   "cell_type": "code",
   "execution_count": 30,
   "id": "c895992f",
   "metadata": {},
   "outputs": [],
   "source": [
    "src = cv2.imread('./data/circles.jpg', cv2.IMREAD_GRAYSCALE)\n",
    "thresh, src_bin = cv2.threshold(src, 0, 255, cv2.THRESH_BINARY_INV | cv2.THRESH_OTSU)\n",
    "\n",
    "cnt, labels, stats, centroids = cv2.connectedComponentsWithStats(src_bin)\n",
    "\n",
    "dst = cv2.cvtColor(src, cv2.COLOR_GRAY2BGR) # 객체별로 색깔을 다르게 표시할 3차원 도화지 준비\n",
    "\n",
    "for i in range(1, cnt): # 객체 1, 2, 3\n",
    "    b = np.random.randint(0, 256)\n",
    "    g = np.random.randint(0, 256)\n",
    "    r = np.random.randint(0, 256)\n",
    "    dst[labels == i] = (b, g, r)\n",
    "    \n",
    "    # bounding box --> rectangle\n",
    "    x, y, width, height, area = stats[i]\n",
    "    cv2.rectangle(dst, (x, y), (x+width, y+height), (0, 0, 255))\n",
    "    \n",
    "    # centroids --> circle\n",
    "    cx, cy = centroids[i]\n",
    "    cv2.circle(dst, (int(cx), int(cy)), 5, (255, 0, 0), -1)\n",
    "\n",
    "cv2.imshow('src', src)\n",
    "cv2.imshow('src_bin', src_bin)\n",
    "cv2.imshow('dst', dst)\n",
    "cv2.waitKey()\n",
    "cv2.destroyAllWindows()"
   ]
  },
  {
   "cell_type": "code",
   "execution_count": 41,
   "id": "675761cb",
   "metadata": {},
   "outputs": [],
   "source": [
    "src = cv2.imread('./data/keyboard.bmp')\n",
    "gray = cv2.cvtColor(src, cv2.COLOR_BGR2GRAY)\n",
    "\n",
    "thresh, src_bin = cv2.threshold(gray, 0, 255, cv2.THRESH_BINARY | cv2.THRESH_OTSU)\n",
    "cnt, labels, stats, centroids = cv2.connectedComponentsWithStats(src_bin)\n",
    "\n",
    "dst = src.copy()\n",
    "\n",
    "for i in range(1, cnt): # 0번 배경 제외, 1~37번 객체까지 반복\n",
    "    x, y, width, height, area = stats[i]\n",
    "    if area > 20:\n",
    "        cv2.rectangle(dst, (x, y), (x + width, y + height), (0, 255, 255))\n",
    "\n"
   ]
  },
  {
   "cell_type": "code",
   "execution_count": 42,
   "id": "bf0446a5",
   "metadata": {},
   "outputs": [],
   "source": [
    "cv2.imshow('src', src)\n",
    "cv2.imshow('src_bin', src_bin)\n",
    "cv2.imshow('dst', dst)\n",
    "cv2.waitKey()\n",
    "cv2.destroyAllWindows()"
   ]
  },
  {
   "cell_type": "markdown",
   "id": "bfd1beb3",
   "metadata": {},
   "source": [
    "## 외곽선 검출과 그리기"
   ]
  },
  {
   "cell_type": "code",
   "execution_count": 70,
   "id": "d13e267d",
   "metadata": {},
   "outputs": [],
   "source": [
    "src = cv2.imread('./data/contours.bmp')\n",
    "gray = cv2.cvtColor(src, cv2.COLOR_BGR2GRAY)\n",
    "thresh, gray_bin = cv2.threshold(gray, 0, 255, cv2.THRESH_BINARY)\n",
    "\n",
    "dst = src.copy()\n",
    "contours, hierachy = cv2.findContours(gray, cv2.RETR_LIST, cv2.CHAIN_APPROX_NONE)\n",
    "\n",
    "# cv2.drawContours(dst, contours, 0, (255, 0, 0), 2)\n",
    "# cv2.drawContours(dst, contours, 1, (255, 0, 0), 2)\n",
    "# cv2.drawContours(dst, contours, 2, (255, 255, 0), 2)\n",
    "# cv2.drawContours(dst, contours, 3, (255, 255, 0), 2)\n",
    "# cv2.drawContours(dst, contours, 4, (255, 255, 0), 2)\n",
    "\n",
    "for i in range(len(contours)):\n",
    "    b = np.random.randint(0, 256)\n",
    "    g = np.random.randint(0, 256)\n",
    "    r = np.random.randint(0, 256)\n",
    "    cv2.drawContours(dst, contours, i, (b, g, r), 2)\n",
    "\n",
    "\n",
    "cv2.imshow('src', src)\n",
    "cv2.imshow('dst', dst)\n",
    "cv2.waitKey()\n",
    "cv2.destroyAllWindows()"
   ]
  },
  {
   "cell_type": "code",
   "execution_count": 54,
   "id": "127ac921",
   "metadata": {},
   "outputs": [],
   "source": []
  },
  {
   "cell_type": "code",
   "execution_count": 100,
   "id": "30ff392c",
   "metadata": {},
   "outputs": [],
   "source": [
    "src = cv2.imread('./data/thumbs_up_down.jpg')\n",
    "gray = cv2.cvtColor(src, cv2.COLOR_BGR2GRAY)\n",
    "\n",
    "thresh, gray_bin = cv2.threshold(gray, 220, 255, cv2.THRESH_BINARY_INV)\n",
    "\n",
    "dst = src.copy()\n",
    "contours, hierachy = cv2.findContours(gray_bin, cv2.RETR_LIST, cv2.CHAIN_APPROX_NONE)\n",
    "\n",
    "cv2.drawContours(dst, contours, -1, (255, 255, 0), 3)\n",
    "\n",
    "# for i in range(len(contours)):\n",
    "#     b = np.random.randint(0, 256)\n",
    "#     g = np.random.randint(0, 256)\n",
    "#     r = np.random.randint(0, 256)\n",
    "#     cv2.drawContours(dst, contours, i, (b, g, r), 2)\n",
    "\n",
    "cv2.imshow('src', src)\n",
    "cv2.imshow('gray', gray)\n",
    "cv2.imshow('gray_bin', gray_bin)\n",
    "cv2.imshow('dst', dst)\n",
    "cv2.waitKey()\n",
    "cv2.destroyAllWindows()\n"
   ]
  },
  {
   "cell_type": "code",
   "execution_count": 89,
   "id": "0a43d72a",
   "metadata": {},
   "outputs": [
    {
     "data": {
      "text/plain": [
       "(array([[[0, 0]],\n",
       " \n",
       "        [[0, 1]],\n",
       " \n",
       "        [[0, 2]],\n",
       " \n",
       "        ...,\n",
       " \n",
       "        [[3, 0]],\n",
       " \n",
       "        [[2, 0]],\n",
       " \n",
       "        [[1, 0]]], dtype=int32),)"
      ]
     },
     "execution_count": 89,
     "metadata": {},
     "output_type": "execute_result"
    }
   ],
   "source": [
    "contours"
   ]
  },
  {
   "cell_type": "code",
   "execution_count": 106,
   "id": "4c8618b2",
   "metadata": {},
   "outputs": [],
   "source": [
    "left_hand = contours[1]\n",
    "x, y, w, h = cv2.boundingRect(left_hand)\n",
    "\n",
    "dst2 = src.copy()\n",
    "\n",
    "cv2.rectangle(dst2, (x, y), (x + w, y + h), (0, 0, 255), 2)\n",
    "\n",
    "cv2.imshow('dst2', dst2)\n",
    "cv2.waitKey()\n",
    "cv2.destroyAllWindows()\n"
   ]
  },
  {
   "cell_type": "markdown",
   "id": "2ae2a15b",
   "metadata": {},
   "source": [
    "# 객체 검출"
   ]
  },
  {
   "cell_type": "markdown",
   "id": "7c389697",
   "metadata": {},
   "source": [
    "## 캐스케이스 분류기와 얼굴 검출"
   ]
  },
  {
   "cell_type": "markdown",
   "id": "2bc2698b",
   "metadata": {},
   "source": [
    "**opencv**\n",
    "https://docs.opencv.org/3.4/db/d28/tutorial_cascade_classifier.html\n",
    "\n",
    "**haar cascade classifier**\n",
    "https://towardsdatascience.com/viola-jones-algorithm-and-haar-cascade-classifier-ee3bfb19f7d8\n",
    "\n",
    "https://webnautes.tistory.com/1352 (한글 블로그)\n",
    "\n",
    "**adaboost**\n",
    "https://www.youtube.com/watch?v=LsK-xG1cLYA (유튜브)"
   ]
  },
  {
   "cell_type": "code",
   "execution_count": null,
   "id": "e6ef79fb",
   "metadata": {},
   "outputs": [],
   "source": []
  },
  {
   "cell_type": "code",
   "execution_count": null,
   "id": "c4d6f129",
   "metadata": {},
   "outputs": [],
   "source": []
  },
  {
   "cell_type": "code",
   "execution_count": null,
   "id": "8df69bc1",
   "metadata": {},
   "outputs": [],
   "source": [
    "# detectMultiScale\n",
    "# scaleFactor : 검색 윈도우 확대 비율 (default =1.1)\n",
    "# minNeighbors : 검출 영역으로 선택하기 위한 최소 검출 횟수 (default = 3)\n",
    "# minSize : 검출할 객체의 최소크기\n",
    "# maxSize : 검출할 객체의 최대크기"
   ]
  },
  {
   "cell_type": "code",
   "execution_count": null,
   "id": "c3490df6",
   "metadata": {},
   "outputs": [],
   "source": []
  },
  {
   "cell_type": "markdown",
   "id": "7cbe1d48",
   "metadata": {},
   "source": [
    "## HOG 알고리즘과 보행자 검출"
   ]
  },
  {
   "cell_type": "markdown",
   "id": "83243aa5",
   "metadata": {},
   "source": [
    "**HOG Descriptor**\n",
    "https://docs.opencv.org/4.x/d5/d33/structcv_1_1HOGDescriptor.html#a723b95b709cfd3f95cf9e616de988fc8"
   ]
  },
  {
   "cell_type": "code",
   "execution_count": null,
   "id": "3fd5f04e",
   "metadata": {},
   "outputs": [],
   "source": []
  },
  {
   "cell_type": "code",
   "execution_count": null,
   "id": "26f544c1",
   "metadata": {},
   "outputs": [],
   "source": []
  },
  {
   "cell_type": "code",
   "execution_count": null,
   "id": "0fee2123",
   "metadata": {},
   "outputs": [],
   "source": []
  }
 ],
 "metadata": {
  "kernelspec": {
   "display_name": "Python 3 (ipykernel)",
   "language": "python",
   "name": "python3"
  },
  "language_info": {
   "codemirror_mode": {
    "name": "ipython",
    "version": 3
   },
   "file_extension": ".py",
   "mimetype": "text/x-python",
   "name": "python",
   "nbconvert_exporter": "python",
   "pygments_lexer": "ipython3",
   "version": "3.9.12"
  }
 },
 "nbformat": 4,
 "nbformat_minor": 5
}
