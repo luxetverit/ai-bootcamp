{
 "cells": [
  {
   "cell_type": "code",
   "execution_count": 1,
   "id": "04b5ab7d",
   "metadata": {},
   "outputs": [],
   "source": [
    "import cv2\n",
    "import numpy as np"
   ]
  },
  {
   "cell_type": "markdown",
   "id": "673a1e87",
   "metadata": {},
   "source": [
    "# 영상의 기하학적 변환"
   ]
  },
  {
   "cell_type": "markdown",
   "id": "99778167",
   "metadata": {},
   "source": [
    "## 전단 변환"
   ]
  },
  {
   "cell_type": "code",
   "execution_count": 12,
   "id": "9f179173",
   "metadata": {},
   "outputs": [],
   "source": [
    "src = cv2.imread('./data/tekapo.bmp')\n",
    "\n",
    "height = src.shape[0]\n",
    "width = src.shape[1]\n",
    "\n",
    "Mx = 0.8\n",
    "M = np.array([[1, Mx, 0], [0, 1, 0]], dtype=np.float64)\n",
    "\n",
    "dst = cv2.warpAffine(src, M, (0,0))\n",
    "dst = cv2.warpAffine(src, M, (int(width + Mx*height), height))\n",
    "\n",
    "cv2.imshow('src', src)\n",
    "cv2.imshow('dst', dst)\n",
    "cv2.waitKey()\n",
    "cv2.destroyAllWindows()"
   ]
  },
  {
   "cell_type": "markdown",
   "id": "b8e8f480",
   "metadata": {},
   "source": [
    "## 크기 변환"
   ]
  },
  {
   "cell_type": "code",
   "execution_count": 15,
   "id": "768f1773",
   "metadata": {},
   "outputs": [],
   "source": [
    "src = cv2.imread('./data/tekapo.bmp')\n",
    "\n",
    "height = src.shape[0]\n",
    "width = src.shape[1]\n",
    "\n",
    "Sx = 2 #2배정도 키워주겠다\n",
    "Sy = 2\n",
    "\n",
    "Mx = 0.8\n",
    "M = np.array([[Sx, 0, 0], \n",
    "              [0, Sy, 0]], dtype=np.float64)\n",
    "\n",
    "# dst = cv2.warpAffine(src, M, (int(width + Mx*height), height))\n",
    "dst = cv2.warpAffine(src, M, (int(width * Sx), int(height * Sy)))\n",
    "\n",
    "cv2.imshow('src', src)\n",
    "cv2.imshow('dst', dst)\n",
    "cv2.waitKey()\n",
    "cv2.destroyAllWindows()"
   ]
  },
  {
   "cell_type": "code",
   "execution_count": 18,
   "id": "ec0594f8",
   "metadata": {},
   "outputs": [],
   "source": [
    "src = cv2.imread('./data/tekapo.bmp')\n",
    "\n",
    "# dst = cv2.resize(src, (0,0), fx=1.2, fy=1.2) # 원본에 적용될 배율을 직접 지정\n",
    "dst = cv2.resize(src, (1920,1080)) # 해상도를 직접 지정\n",
    "\n",
    "cv2.imshow('src', src)\n",
    "cv2.imshow('dst', dst)\n",
    "cv2.waitKey()\n",
    "cv2.destroyAllWindows()"
   ]
  },
  {
   "cell_type": "markdown",
   "id": "dda74bae",
   "metadata": {},
   "source": [
    "## 회전 변환"
   ]
  },
  {
   "cell_type": "code",
   "execution_count": 19,
   "id": "4b3e8d5a",
   "metadata": {},
   "outputs": [
    {
     "data": {
      "text/plain": [
       "(480, 640, 3)"
      ]
     },
     "execution_count": 19,
     "metadata": {},
     "output_type": "execute_result"
    }
   ],
   "source": [
    "src.shape"
   ]
  },
  {
   "cell_type": "code",
   "execution_count": 21,
   "id": "8da0577f",
   "metadata": {},
   "outputs": [],
   "source": [
    "# getRotationMatrix2D\n",
    "src = cv2.imread('./data/tekapo.bmp')\n",
    "\n",
    "height = src.shape[0] # y값\n",
    "width = src.shape[1] # x값\n",
    "\n",
    "center = int(width/2), int(height/2)\n",
    "angle = 20 # 반시계방향 20도를 의미\n",
    "scale = 1 # 1 일 경우 크기 변환은 없다.\n",
    "\n",
    "M = cv2.getRotationMatrix2D(center, angle, scale) # getRotationMatrix2D(중심점, 각도, 스케일)\n",
    "\n",
    "dst = cv2.warpAffine(src, M, (0, 0))\n",
    "\n",
    "cv2.imshow('src', src)\n",
    "cv2.imshow('dst', dst)\n",
    "cv2.waitKey()\n",
    "cv2.destroyAllWindows()"
   ]
  },
  {
   "cell_type": "code",
   "execution_count": 27,
   "id": "6cec6b33",
   "metadata": {},
   "outputs": [],
   "source": [
    "# rotate 함수 사용\n",
    "# 90도 단위로 회전하고 싶을 경우\n",
    "src = cv2.imread('./data/tekapo.bmp')\n",
    "\n",
    "dst1 = cv2.rotate(src, cv2.ROTATE_90_CLOCKWISE) # 시계방향 90도\n",
    "dst2 = cv2.rotate(src, cv2.ROTATE_90_COUNTERCLOCKWISE) # 반시계방향 90도\n",
    "dst3 = cv2.rotate(src, cv2.ROTATE_180) # 180도\n",
    "\n",
    "cv2.imshow('src', src)\n",
    "cv2.imshow('dst1', dst1)\n",
    "cv2.imshow('dst2', dst2)\n",
    "cv2.imshow('dst3', dst3)\n",
    "cv2.waitKey()\n",
    "cv2.destroyAllWindows()"
   ]
  },
  {
   "cell_type": "markdown",
   "id": "caf7c5ff",
   "metadata": {},
   "source": [
    "## 대칭 변환"
   ]
  },
  {
   "cell_type": "code",
   "execution_count": 28,
   "id": "b278764a",
   "metadata": {},
   "outputs": [],
   "source": [
    "src = cv2.imread('./data/tekapo.bmp')\n",
    "\n",
    "dst = cv2.flip(src, 1)\n",
    "\n",
    "cv2.imshow('src', src)\n",
    "cv2.imshow('dst', dst1)\n",
    "cv2.waitKey()\n",
    "cv2.destroyAllWindows()"
   ]
  },
  {
   "cell_type": "markdown",
   "id": "312d2ffc",
   "metadata": {},
   "source": [
    "## 투시변환"
   ]
  },
  {
   "cell_type": "code",
   "execution_count": 34,
   "id": "440f0684",
   "metadata": {},
   "outputs": [],
   "source": [
    "src = cv2.imread('./data/tekapo.bmp')\n",
    "\n",
    "height = src.shape[0] # y값\n",
    "width = src.shape[1] # x값\n",
    "\n",
    "src_pts = np.array([[0,0], [width-1, 0], [width-1, height-1], [0, height-1]], np.float32)\n",
    "dst_pts = np.array([[60, 100], [width-20, 80], [width-10, height-10], [5, height-20]], np.float32)\n",
    "\n",
    "M = cv2.getPerspectiveTransform(src_pts, dst_pts)\n",
    "dst = cv2.warpPerspective(src, M, (0, 0))\n",
    "\n",
    "cv2.imshow('src', src)\n",
    "cv2.imshow('dst', dst)\n",
    "cv2.waitKey()\n",
    "cv2.destroyAllWindows()"
   ]
  },
  {
   "cell_type": "code",
   "execution_count": null,
   "id": "de568bfa",
   "metadata": {},
   "outputs": [],
   "source": [
    "\n",
    "\n",
    "src = cv2.imread('./data/card.bmp')\n",
    "\n",
    "cv2.imshow('src', src)\n",
    "cv2.imshow('dst', dst)\n",
    "cv2.waitKey()\n",
    "cv2.destroyAllWindows()"
   ]
  },
  {
   "cell_type": "code",
   "execution_count": 68,
   "id": "6e5e6a18",
   "metadata": {},
   "outputs": [
    {
     "name": "stdout",
     "output_type": "stream",
     "text": [
      "470 135\n",
      "601 168\n",
      "557 309\n",
      "406 265\n"
     ]
    }
   ],
   "source": [
    "cv2.EVENT_LBUTTONDOWN\n",
    "cv2.EVENT_LBUTTONUP\n",
    "cv2.EVENT_MOUSEMOVE\n",
    "cv2.EVENT_FLAG_SHIFTKEY\n",
    "\n",
    "arr_xy = []\n",
    "\n",
    "# 마우스 이벤트를 처리할 루틴\n",
    "def on_mouse(event, x, y, flags, param):\n",
    "    global old_x, old_y\n",
    "    if event == cv2.EVENT_LBUTTONDOWN:\n",
    "        old_x, old_y = x, y\n",
    "        print(old_x, old_y)\n",
    "        arr_xy.append([old_x, old_y])\n",
    "    elif event == cv2.EVENT_LBUTTONUP:\n",
    "        pass\n",
    "    \n",
    "    elif event == cv2.EVENT_MOUSEMOVE:\n",
    "        if flags & cv2.EVENT_FLAG_LBUTTON:\n",
    "            cv2.line(img, (old_x, old_y), (x, y), (0, 255, 255), 2)\n",
    "            cv2.imshow('img', img)\n",
    "            old_x, old_y = x, y\n",
    "    \n",
    "# 마우스 이벤트가 발생했을 때 처리할 루틴(함수) 등록\n",
    "img = cv2.imread('./data/card.bmp')\n",
    "cv2.imshow('img', img)\n",
    "cv2.setMouseCallback('img', on_mouse)\n",
    "cv2.waitKey()\n",
    "cv2.destroyAllWindows()\n",
    "\n",
    "src = cv2.imread('./data/card.bmp')\n",
    "\n",
    "height = src.shape[0] # y값\n",
    "width = src.shape[1] # x값\n",
    "\n",
    "dst_pts = np.array([[0,0], [width-1, 0], [width-1, height-1], [0, height-1]], np.float32)\n",
    "src_pts = np.array([arr_xy[0], arr_xy[1], arr_xy[2], arr_xy[3]], np.float32)\n",
    "\n",
    "M = cv2.getPerspectiveTransform(src_pts, dst_pts)\n",
    "dst = cv2.warpPerspective(src, M, (0, 0))\n",
    "\n",
    "cv2.imshow('src', src)\n",
    "cv2.imshow('dst', dst)\n",
    "cv2.waitKey()\n",
    "cv2.destroyAllWindows()"
   ]
  },
  {
   "cell_type": "code",
   "execution_count": 59,
   "id": "0a5cd90b",
   "metadata": {},
   "outputs": [
    {
     "data": {
      "text/plain": [
       "[[225, 121], [395, 72], [459, 137], [279, 192]]"
      ]
     },
     "execution_count": 59,
     "metadata": {},
     "output_type": "execute_result"
    }
   ],
   "source": [
    "arr_xy"
   ]
  },
  {
   "cell_type": "markdown",
   "id": "c6dc47cb",
   "metadata": {},
   "source": [
    "# 에지 검출과 응용"
   ]
  },
  {
   "cell_type": "code",
   "execution_count": 74,
   "id": "94cb8140",
   "metadata": {},
   "outputs": [],
   "source": [
    "src = cv2.imread('./data/lenna.bmp', cv2.IMREAD_GRAYSCALE)\n",
    "\n",
    "Mx = np.array([[-1 ,0, 1], [-2, 0, 2], [0, 1, 1]], dtype=np.float32)\n",
    "My = np.array([[-1, -2, -1], [0, 0, 0], [1, 2, 1]], dtype=np.float32)\n",
    "\n",
    "dx = cv2.filter2D(src, -1, Mx)\n",
    "dy = cv2.filter2D(src, -1, My)\n",
    "\n",
    "cv2.imshow('src', src)\n",
    "cv2.imshow('dx', dx)\n",
    "cv2.imshow('dy', dy)\n",
    "cv2.waitKey()\n",
    "cv2.destroyAllWindows()"
   ]
  },
  {
   "cell_type": "code",
   "execution_count": 78,
   "id": "85dacfeb",
   "metadata": {},
   "outputs": [],
   "source": [
    "# 미분필터(소벨필터)를 따로 준비하지 않고 원본 이미지와 마스크 연산 까지 처리해주는 함수\n",
    "\n",
    "src = cv2.imread('./data/lenna.bmp', cv2.IMREAD_GRAYSCALE)\n",
    "\n",
    "dx = cv2.Sobel(src, cv2.CV_32FC1, 1, 0) #(원본이미지, 옵션, x미분, y미분) (src, cv2.., 1, 0) = dx미분, x축으로 미분\n",
    "dy = cv2.Sobel(src, cv2.CV_32FC1, 0, 1) #(원본이미지, 옵션, x미분, y미분) (src, cv2.., 0, 1) = dy미분, y축으로 미분\n",
    "# cv2.Sobel() 함수는 cv2.filter2D 로 마스크 연산한 것 까지는 동일하지만 형 변환은 안되어 있는 상태\n",
    "\n",
    "fmag = cv2.magnitude(dx, dy) # x축으로 미분 + y축으로의 미분 = gradient\n",
    "                     # magnitude() 는 gradient의 크기를 구해주는 함수\n",
    "mag = np.clip(fmag, 0, 225).astype(np.uint8)\n",
    "\n",
    "cv2.imshow('mag', mag)\n",
    "cv2.imshow('src', src)\n",
    "cv2.waitKey()\n",
    "cv2.destroyAllWindows()"
   ]
  },
  {
   "cell_type": "code",
   "execution_count": null,
   "id": "32d55048",
   "metadata": {},
   "outputs": [],
   "source": []
  },
  {
   "cell_type": "markdown",
   "id": "15f98fd4",
   "metadata": {},
   "source": [
    "## 캐니 에지 검출기"
   ]
  },
  {
   "cell_type": "code",
   "execution_count": 87,
   "id": "1a121e96",
   "metadata": {},
   "outputs": [],
   "source": [
    "src = cv2.imread('./data/lenna.bmp', cv2.IMREAD_GRAYSCALE)\n",
    "\n",
    "dst = cv2.Canny(src, 80, 150)\n",
    "\n",
    "cv2.imshow('dst', dst)\n",
    "cv2.imshow('src', src)\n",
    "cv2.waitKey()\n",
    "cv2.destroyAllWindows()\n"
   ]
  },
  {
   "cell_type": "markdown",
   "id": "31bcb177",
   "metadata": {},
   "source": [
    "## 허프 변환 직선 검출"
   ]
  },
  {
   "cell_type": "code",
   "execution_count": 89,
   "id": "d52aab0b",
   "metadata": {},
   "outputs": [],
   "source": [
    "import math"
   ]
  },
  {
   "cell_type": "code",
   "execution_count": null,
   "id": "27fbb712",
   "metadata": {},
   "outputs": [
    {
     "name": "stdout",
     "output_type": "stream",
     "text": [
      "(600, 868)\n",
      "(600, 868, 3)\n"
     ]
    }
   ],
   "source": [
    "src = cv2.imread('./data/building.jpg', cv2.IMREAD_GRAYSCALE)\n",
    "\n",
    "edge = cv2.Canny(src, 100, 200)\n",
    "\n",
    "rho = 1 # or 2 : 숫자가 작을수록 더 정밀하게 검출하지만 연산시간이 더 걸림\n",
    "theta = math.pi/180 # 라디안 단위\n",
    "threshold = 160 # 축적배열의 숫자가 높다는 것은 직선을 이루는 점들이 많다는 뜻.\n",
    "                 # 얼마나 큰 값을 직선으로 판단할지는 threshold에 달려있음\n",
    "minLineLength = 50 # 검출할 선분의 최소길이\n",
    "maxLineGap = 5 # 직선으로 간주할 최대 에지 점 간격\n",
    "\n",
    "lines = cv2.HoughLinesP(edge, rho, theta, threshold,\n",
    "                       minLineLength = minLineLength,\n",
    "                       maxLineGap = maxLineGap)\n",
    "\n",
    "print(edge.shape)\n",
    "dst = cv2.cvtColor(edge, cv2.COLOR_GRAY2BGR) # 직선을 그릴 도화지 (3 채널 도화지)\n",
    "print(dst.shape)\n",
    "\n",
    "if lines is not None:\n",
    "    for i in range(len(lines)):\n",
    "        #print(lines[i][0])\n",
    "        line = lines[i][0]\n",
    "        pt1 = line[0], line[1]\n",
    "        pt2 = line[2], line[3]\n",
    "        cv2.line(dst, pt1, pt2, (0, 0, 255), 2, cv2.LINE_AA)\n",
    "\n",
    "cv2.imshow('src', src)\n",
    "cv2.imshow('edge', edge)\n",
    "cv2.imshow('dst', dst)\n",
    "cv2.waitKey()\n",
    "cv2.destroyAllWindows()"
   ]
  },
  {
   "cell_type": "code",
   "execution_count": null,
   "id": "3ae6bd80",
   "metadata": {},
   "outputs": [],
   "source": []
  }
 ],
 "metadata": {
  "kernelspec": {
   "display_name": "Python 3 (ipykernel)",
   "language": "python",
   "name": "python3"
  },
  "language_info": {
   "codemirror_mode": {
    "name": "ipython",
    "version": 3
   },
   "file_extension": ".py",
   "mimetype": "text/x-python",
   "name": "python",
   "nbconvert_exporter": "python",
   "pygments_lexer": "ipython3",
   "version": "3.9.12"
  }
 },
 "nbformat": 4,
 "nbformat_minor": 5
}
