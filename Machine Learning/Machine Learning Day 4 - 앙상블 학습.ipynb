{
 "cells": [
  {
   "cell_type": "markdown",
   "id": "b707f525",
   "metadata": {},
   "source": [
    "## 1. 투표기반 분류기"
   ]
  },
  {
   "cell_type": "code",
   "execution_count": 1,
   "id": "da3604e6",
   "metadata": {},
   "outputs": [],
   "source": [
    "from sklearn.datasets import make_moons\n",
    "import matplotlib.pyplot as plt"
   ]
  },
  {
   "cell_type": "code",
   "execution_count": 2,
   "id": "b11490fb",
   "metadata": {},
   "outputs": [],
   "source": [
    "from sklearn.model_selection import train_test_split"
   ]
  },
  {
   "cell_type": "code",
   "execution_count": 36,
   "id": "7b86b5e4",
   "metadata": {},
   "outputs": [],
   "source": [
    "from sklearn.ensemble import VotingClassifier\n",
    "\n",
    "from sklearn.linear_model import LogisticRegression\n",
    "from sklearn.ensemble import RandomForestClassifier\n",
    "from sklearn.svm import SVC\n",
    "\n",
    "from sklearn.metrics import accuracy_score"
   ]
  },
  {
   "cell_type": "code",
   "execution_count": 41,
   "id": "54b2caf8",
   "metadata": {},
   "outputs": [],
   "source": [
    "X, y = make_moons(n_samples = 1000, noise=0.3, random_state=42)"
   ]
  },
  {
   "cell_type": "code",
   "execution_count": 5,
   "id": "5a69c333",
   "metadata": {},
   "outputs": [
    {
     "data": {
      "text/plain": [
       "((500, 2), (500,))"
      ]
     },
     "execution_count": 5,
     "metadata": {},
     "output_type": "execute_result"
    }
   ],
   "source": [
    "X.shape, y.shape"
   ]
  },
  {
   "cell_type": "code",
   "execution_count": 7,
   "id": "a9540a3c",
   "metadata": {},
   "outputs": [
    {
     "data": {
      "text/plain": [
       "array([-0.25874875,  0.92038714, -0.45552558,  1.08628844,  1.50942444,\n",
       "       -0.55117606, -0.15862989,  1.31817168,  0.49607493, -0.45980435,\n",
       "       -0.01569994,  0.25219294, -0.7164187 ,  0.62486933, -0.51105069,\n",
       "       -0.54069686,  0.29779005,  0.5179118 , -0.80209911, -0.25361127,\n",
       "        0.22237528,  0.46793015,  0.23938905, -0.21552359,  0.41594634,\n",
       "        1.01491329,  0.22194847,  0.42392467,  1.56378251, -0.37654889,\n",
       "       -0.03961892, -0.30353056, -0.05615094,  0.84336766,  0.38027569,\n",
       "       -0.77306105, -0.38304892,  0.84400584,  0.62105408,  0.96162325,\n",
       "       -0.77914243,  0.81659756,  0.5738688 ,  0.15981211, -0.04316216,\n",
       "        0.96722336,  0.16080796,  0.47834272, -0.79825322,  0.260445  ,\n",
       "        1.13134609,  0.92791687,  1.08219171, -0.33619758,  0.48235382,\n",
       "        1.09730924,  1.01921527,  0.15470144,  0.39039385,  1.30952481,\n",
       "        0.174434  ,  0.11781406, -0.31106856, -0.18068443,  1.04359771,\n",
       "        0.66710754, -0.02393825,  0.60521267,  0.00411171, -0.48254253,\n",
       "       -0.6633121 , -0.52450259,  0.19885385,  0.5899372 , -0.19020545,\n",
       "        0.05050566,  0.68163518,  0.56991691, -0.30793653,  0.00669274,\n",
       "        0.85105181,  1.12749583,  0.98775745,  0.70875766, -0.12314292,\n",
       "        1.1475473 ,  0.83679644,  0.23737062, -0.3410119 ,  0.74242195,\n",
       "       -0.33619632,  0.23417652, -0.06168757, -0.12796263,  0.10527437,\n",
       "       -0.85188656,  0.26556815,  0.48067955, -0.43975416, -0.08551361,\n",
       "       -0.07059562, -0.23523914,  0.38866262,  0.02506552, -0.3826774 ,\n",
       "        1.36369921, -0.18610813,  0.0040643 , -0.43521713,  0.93635977,\n",
       "        1.00008904, -0.30785789, -0.35766355,  0.07611367,  0.14836706,\n",
       "       -0.11657947,  0.22055052, -0.34690318,  0.84889533,  0.11814244,\n",
       "        0.41978578,  0.16301484, -0.66505739,  0.74883972,  0.71924064,\n",
       "        0.86986081, -0.70040787,  0.80026142,  0.50842271, -0.39797523,\n",
       "       -0.30215922,  1.03305359,  0.11986877,  0.48768097,  1.7659488 ,\n",
       "        0.80712273,  0.41431751,  0.37798449,  0.25439786,  0.31511459,\n",
       "        0.23429681, -0.14711326,  0.84553024,  0.62308302,  0.28083418,\n",
       "        0.3473589 ,  0.47927245,  0.29074695,  0.30489759, -0.14703716,\n",
       "        0.25443237,  1.13186802,  0.15040559,  0.38293529,  0.29741856,\n",
       "       -0.59523574,  0.27956207,  0.83446687, -0.12778642, -0.01512659,\n",
       "        1.41305691, -0.52075929, -0.12692494,  0.6740975 ,  0.27003633,\n",
       "        0.37026282,  0.1945897 ,  0.64048602,  0.0298215 ,  1.18115176,\n",
       "        0.16996006,  0.97177418,  0.25850462,  1.59643427,  1.4615161 ,\n",
       "        0.59971584, -0.68133985,  0.82029692,  0.68893318, -0.43621024,\n",
       "       -0.09038406,  0.48119375, -0.54831719, -0.14002343, -0.44535636,\n",
       "        0.77128936, -0.68194918,  0.82201998,  0.39822924,  1.09535941,\n",
       "        0.41282374, -0.47518331, -0.35479775,  0.30913458,  1.2527051 ,\n",
       "       -0.18391643,  0.97100096,  0.42831121,  1.27930459, -0.76869363,\n",
       "       -0.37644764,  0.7671402 , -0.58678349,  1.31188165,  1.2342761 ,\n",
       "        0.28963874,  0.84678426, -0.26666727,  0.30962439, -0.54486577,\n",
       "        0.77649042,  1.28304752, -0.83904838, -0.26679845,  0.48165925,\n",
       "       -1.03094492, -0.15911603,  0.48521774, -0.44496292, -0.082035  ,\n",
       "       -0.71031901,  0.34183685,  0.72622525,  0.84435467,  0.83108115,\n",
       "       -0.52028559,  0.36774844,  0.18874413,  0.20296989,  0.38473187,\n",
       "        1.0856224 ,  0.49854755, -0.18745627,  0.56185915, -0.84336334,\n",
       "       -0.50276315, -0.20898398,  1.07387112,  0.98672795,  0.78752306,\n",
       "       -1.24634761,  0.82547139, -0.28368763, -0.14912984, -0.89741664,\n",
       "        0.89872785,  1.19605397,  0.89776059, -0.25806507,  1.22192588,\n",
       "        0.26016079, -0.00845634,  0.15428629,  0.26423162, -0.57470649,\n",
       "       -0.45021021,  0.64878501, -0.58098331,  0.42580926,  0.3703596 ,\n",
       "        0.02721726,  0.8021514 , -0.19359667,  0.9494748 ,  1.17959385,\n",
       "        0.5362295 ,  0.14984004,  0.82566484, -0.577424  ,  0.91565287,\n",
       "        0.56357763,  0.51263318, -0.06998971, -0.9533074 ,  0.3199596 ,\n",
       "       -1.05994162, -0.50452812, -0.07728408, -0.48729023,  1.41655744,\n",
       "        0.14080644,  0.5410489 , -0.05437694,  0.36356735,  0.94681468,\n",
       "       -0.50626701,  0.19791647, -0.19979781, -1.12538622, -0.08444841,\n",
       "       -0.2466759 ,  0.16392642, -0.72838068, -0.16619443,  1.00268142,\n",
       "        1.0511896 , -0.14245708, -0.34766486,  0.19806436,  0.24362913,\n",
       "        0.03252382, -0.24944995,  0.54028516,  0.36573491,  0.98858859,\n",
       "        0.89363484,  0.60431232,  0.55054911,  0.77800855,  0.98910349,\n",
       "       -0.50890388,  0.60267177, -0.40977107, -0.44831299,  1.30864462,\n",
       "        0.33146222,  0.20924233,  1.1671157 , -0.47930336, -0.45347967,\n",
       "        0.70915568, -0.24769916,  0.47946069,  0.19437743,  0.92287759,\n",
       "        0.19850259,  0.6938598 , -0.09026399,  0.7600883 , -0.4373387 ,\n",
       "        0.83584578,  0.03115655,  0.63040796,  0.15855707,  1.13276953,\n",
       "        0.96325269, -0.6783285 , -0.00223066,  0.20887889,  0.56405021,\n",
       "        0.94974022,  0.37643827,  0.4852202 , -0.60541241,  0.61070561,\n",
       "        0.21572718,  0.67944044, -0.1258226 ,  1.28551662,  0.15341491,\n",
       "        0.09356161, -0.38315346,  0.33161302,  0.02198885,  0.08188343,\n",
       "        1.04753175, -0.01247494, -0.78809835,  0.42649173,  0.47941258,\n",
       "        1.43026566,  0.21717211,  0.66974068,  0.71014856,  0.5319355 ,\n",
       "        0.19464711,  0.31463025, -0.65792663,  0.74534689, -0.20217009,\n",
       "        0.59819305,  0.14586927,  0.18585106,  0.5308022 ,  0.43111374,\n",
       "        0.82856935,  0.04787746,  1.43509879,  0.56678427,  1.31376262,\n",
       "        0.87181358, -0.39413031,  0.21333878, -0.34310375,  0.42078438,\n",
       "        1.65076041, -0.31771048, -0.24786964,  0.79608869,  0.40109744,\n",
       "       -0.27115196,  0.59284387,  0.44781911,  0.42741497, -0.32084028,\n",
       "       -0.09941945, -0.67360299, -1.07559161,  0.35005137,  0.92194708,\n",
       "        0.83274484, -0.73514669, -0.04806482,  0.44553185, -0.13207307,\n",
       "        0.60213346, -0.33404551, -0.94046924,  0.7238529 ,  0.40347384,\n",
       "        0.80597119,  0.31896741,  0.21586571, -0.78817828,  0.71207135,\n",
       "       -0.56892243, -0.0949707 ,  0.32372361,  0.91105021, -0.53167488,\n",
       "        0.70495401, -0.30349397,  0.14385048,  0.4185681 , -0.11491978,\n",
       "        0.10994687,  0.67809175,  0.50383467,  0.36425726, -0.25235134,\n",
       "       -0.62244065,  1.05716709, -0.76705128,  0.23678855,  0.66004276,\n",
       "       -0.3478216 ,  0.36659234,  0.39786943,  0.44632362, -0.56469787,\n",
       "        0.77632766, -0.63989339, -0.02173762,  0.82436663, -0.10691887,\n",
       "        0.69624995,  0.59238424, -0.58781896,  0.87107659, -0.91178529,\n",
       "        0.74946744,  0.61939953, -0.39586855,  0.79914596, -0.00639112,\n",
       "        0.86252728, -0.2897417 ,  0.78429141,  1.00839264,  1.08341903,\n",
       "        0.96049862,  0.52357842,  0.54068871, -0.75987987,  0.25915046,\n",
       "        0.70566633,  0.31090773,  0.25383786,  0.03542795,  1.01980724,\n",
       "       -0.09083889,  0.00928946,  0.9070551 , -1.17431158,  0.65883719,\n",
       "       -0.25772191, -0.27879249,  0.3356729 ,  0.28470628,  0.63511404,\n",
       "        1.13485609,  1.1155632 , -0.35128102,  0.87359438, -0.60765685,\n",
       "        0.32249047, -0.27586079, -0.53938385,  0.65318752,  0.14464186,\n",
       "        0.79176103,  0.77687965, -0.34257384,  0.53991148,  1.09442697,\n",
       "        1.04835431, -0.14266054,  0.02966123, -0.58921704,  1.58396005])"
      ]
     },
     "execution_count": 7,
     "metadata": {},
     "output_type": "execute_result"
    }
   ],
   "source": [
    "X[:, 0]\n",
    "X[:, 1]"
   ]
  },
  {
   "cell_type": "code",
   "execution_count": 21,
   "id": "38cfafbc",
   "metadata": {},
   "outputs": [
    {
     "data": {
      "text/plain": [
       "Text(0, 0.5, 'X2')"
      ]
     },
     "execution_count": 21,
     "metadata": {},
     "output_type": "execute_result"
    },
    {
     "data": {
      "image/png": "[encoded data removed]",
      "text/plain": [
       "<Figure size 432x288 with 1 Axes>"
      ]
     },
     "metadata": {
      "needs_background": "light"
     },
     "output_type": "display_data"
    }
   ],
   "source": [
    "# 정답 y의 경우 0 또는 1로 구성되어 있음\n",
    "plt.plot(X[:, 0][y==0], X[:, 1][y==0], 'b.') # 정답이 0인경우 blue\n",
    "plt.plot(X[:, 0][y==1], X[:, 1][y==1], 'r.') # 정답이 1인경우 red\n",
    "plt.xlabel('X1')\n",
    "plt.ylabel('X2', rotation=0) #rotation 넣으면 X2 라벨 회전"
   ]
  },
  {
   "cell_type": "code",
   "execution_count": 25,
   "id": "18caf758",
   "metadata": {},
   "outputs": [],
   "source": [
    "X_train, X_test, y_train, y_test = train_test_split(X, y, random_state=42)"
   ]
  },
  {
   "cell_type": "markdown",
   "id": "4c8bb021",
   "metadata": {},
   "source": [
    "### 1.1 하드보팅"
   ]
  },
  {
   "cell_type": "code",
   "execution_count": 53,
   "id": "4d07de7d",
   "metadata": {},
   "outputs": [],
   "source": [
    "log_clf = LogisticRegression()\n",
    "rnd_clf = RandomForestClassifier()\n",
    "svm_clf = SVC()\n",
    "\n",
    "voting_clf = VotingClassifier(\n",
    "                estimators=[('lr', log_clf), ('rf', rnd_clf), ('svm', svm_clf)],\n",
    "                voting='hard'\n",
    "            )"
   ]
  },
  {
   "cell_type": "code",
   "execution_count": 27,
   "id": "ec26b7d1",
   "metadata": {
    "scrolled": true
   },
   "outputs": [
    {
     "data": {
      "text/plain": [
       "VotingClassifier(estimators=[('lr', LogisticRegression()),\n",
       "                             ('rf', RandomForestClassifier()), ('svm', SVC())])"
      ]
     },
     "execution_count": 27,
     "metadata": {},
     "output_type": "execute_result"
    }
   ],
   "source": [
    "voting_clf.fit(X_train, y_train)"
   ]
  },
  {
   "cell_type": "code",
   "execution_count": 47,
   "id": "570ff2e1",
   "metadata": {},
   "outputs": [
    {
     "name": "stdout",
     "output_type": "stream",
     "text": [
      "LogisticRegression 0.864\n",
      "RandomForestClassifier 0.896\n",
      "SVC 0.896\n",
      "VotingClassifier 0.912\n"
     ]
    }
   ],
   "source": [
    "for clf in (log_clf, rnd_clf, svm_clf, voting_clf):\n",
    "    clf.fit(X_train, y_train)\n",
    "    y_pred = clf.predict(X_test)\n",
    "    print(clf.__class__.__name__, accuracy_score(y_test, y_pred))"
   ]
  },
  {
   "cell_type": "code",
   "execution_count": 28,
   "id": "58bfa0f0",
   "metadata": {},
   "outputs": [],
   "source": [
    "y_pred = voting_clf.predict(X_test)"
   ]
  },
  {
   "cell_type": "code",
   "execution_count": 30,
   "id": "4efccc26",
   "metadata": {},
   "outputs": [
    {
     "data": {
      "text/plain": [
       "(112, 125)"
      ]
     },
     "execution_count": 30,
     "metadata": {},
     "output_type": "execute_result"
    }
   ],
   "source": [
    "(y_test == y_pred).sum(), len(y_test)"
   ]
  },
  {
   "cell_type": "code",
   "execution_count": 34,
   "id": "b3beebb6",
   "metadata": {},
   "outputs": [
    {
     "data": {
      "text/plain": [
       "0.896"
      ]
     },
     "execution_count": 34,
     "metadata": {},
     "output_type": "execute_result"
    }
   ],
   "source": [
    "\n",
    "accuracy_score(y_test, y_pred)"
   ]
  },
  {
   "cell_type": "code",
   "execution_count": null,
   "id": "3c0eaea0",
   "metadata": {},
   "outputs": [],
   "source": []
  },
  {
   "cell_type": "markdown",
   "id": "fddee050",
   "metadata": {},
   "source": [
    "### 1.2 소프트보팅"
   ]
  },
  {
   "cell_type": "code",
   "execution_count": 58,
   "id": "6d1d5b0d",
   "metadata": {},
   "outputs": [],
   "source": [
    "log_clf = LogisticRegression()\n",
    "rnd_clf = RandomForestClassifier()\n",
    "svm_clf = SVC(gamma='auto', probability=True)\n",
    "\n",
    "voting_clf = VotingClassifier(\n",
    "                estimators=[('lr', log_clf), ('rf', rnd_clf), ('svm', svm_clf)],\n",
    "                voting='soft'\n",
    "            )"
   ]
  },
  {
   "cell_type": "code",
   "execution_count": 59,
   "id": "7f2219f4",
   "metadata": {},
   "outputs": [
    {
     "name": "stdout",
     "output_type": "stream",
     "text": [
      "LogisticRegression 0.864\n",
      "RandomForestClassifier 0.904\n",
      "SVC 0.888\n",
      "VotingClassifier 0.912\n"
     ]
    }
   ],
   "source": [
    "for clf in (log_clf, rnd_clf, svm_clf, voting_clf):\n",
    "    clf.fit(X_train, y_train)\n",
    "    y_pred = clf.predict(X_test)\n",
    "    print(clf.__class__.__name__, accuracy_score(y_test, y_pred))"
   ]
  },
  {
   "cell_type": "code",
   "execution_count": null,
   "id": "a24d9c9d",
   "metadata": {},
   "outputs": [],
   "source": []
  },
  {
   "cell_type": "markdown",
   "id": "148f5e35",
   "metadata": {},
   "source": [
    "## 2. 배깅 앙상블"
   ]
  },
  {
   "cell_type": "code",
   "execution_count": 61,
   "id": "3a5fc9ee",
   "metadata": {},
   "outputs": [],
   "source": [
    "from sklearn.ensemble import BaggingClassifier\n",
    "from sklearn.tree import DecisionTreeClassifier"
   ]
  },
  {
   "cell_type": "code",
   "execution_count": 63,
   "id": "c5fe516f",
   "metadata": {},
   "outputs": [
    {
     "data": {
      "text/plain": [
       "BaggingClassifier(base_estimator=DecisionTreeClassifier(random_state=42),\n",
       "                  max_samples=100, n_estimators=500, n_jobs=-1,\n",
       "                  random_state=42)"
      ]
     },
     "execution_count": 63,
     "metadata": {},
     "output_type": "execute_result"
    }
   ],
   "source": [
    "bag_clf = BaggingClassifier(\n",
    "            DecisionTreeClassifier(random_state=42), n_estimators=500,\n",
    "            max_samples=100, bootstrap=True, random_state=42, n_jobs=-1\n",
    "        )\n",
    "\n",
    "bag_clf.fit(X_train, y_train)"
   ]
  },
  {
   "cell_type": "code",
   "execution_count": 64,
   "id": "0caa6050",
   "metadata": {},
   "outputs": [
    {
     "data": {
      "text/plain": [
       "0.904"
      ]
     },
     "execution_count": 64,
     "metadata": {},
     "output_type": "execute_result"
    }
   ],
   "source": [
    "y_pred = bag_clf.predict(X_test)\n",
    "accuracy_score(y_test, y_pred)"
   ]
  },
  {
   "cell_type": "code",
   "execution_count": 65,
   "id": "dc0d5fac",
   "metadata": {},
   "outputs": [
    {
     "data": {
      "text/plain": [
       "0.856"
      ]
     },
     "execution_count": 65,
     "metadata": {},
     "output_type": "execute_result"
    }
   ],
   "source": [
    "tree_clf = DecisionTreeClassifier(random_state=42)\n",
    "tree_clf.fit(X_train, y_train)\n",
    "y_pred = tree_clf.predict(X_test)\n",
    "accuracy_score(y_test, y_pred)"
   ]
  },
  {
   "cell_type": "markdown",
   "id": "5fedc5c4",
   "metadata": {},
   "source": [
    "### oob 평가"
   ]
  },
  {
   "cell_type": "code",
   "execution_count": 66,
   "id": "761ebc9b",
   "metadata": {},
   "outputs": [
    {
     "data": {
      "text/plain": [
       "BaggingClassifier(base_estimator=DecisionTreeClassifier(random_state=42),\n",
       "                  max_samples=100, n_estimators=500, n_jobs=-1, oob_score=True,\n",
       "                  random_state=42)"
      ]
     },
     "execution_count": 66,
     "metadata": {},
     "output_type": "execute_result"
    }
   ],
   "source": [
    "bag_clf = BaggingClassifier(\n",
    "            DecisionTreeClassifier(random_state=42), n_estimators=500,\n",
    "            max_samples=100, bootstrap=True, oob_score=True, random_state=42, n_jobs=-1\n",
    "        )\n",
    "\n",
    "bag_clf.fit(X_train, y_train)"
   ]
  },
  {
   "cell_type": "code",
   "execution_count": 67,
   "id": "3b47413e",
   "metadata": {},
   "outputs": [
    {
     "data": {
      "text/plain": [
       "0.904"
      ]
     },
     "execution_count": 67,
     "metadata": {},
     "output_type": "execute_result"
    }
   ],
   "source": [
    "y_pred = bag_clf.predict(X_test)\n",
    "accuracy_score(y_test, y_pred)"
   ]
  },
  {
   "cell_type": "code",
   "execution_count": 68,
   "id": "c3609f54",
   "metadata": {},
   "outputs": [
    {
     "data": {
      "text/plain": [
       "0.856"
      ]
     },
     "execution_count": 68,
     "metadata": {},
     "output_type": "execute_result"
    }
   ],
   "source": [
    "tree_clf = DecisionTreeClassifier(random_state=42)\n",
    "tree_clf.fit(X_train, y_train)\n",
    "y_pred = tree_clf.predict(X_test)\n",
    "accuracy_score(y_test, y_pred)"
   ]
  },
  {
   "cell_type": "code",
   "execution_count": 69,
   "id": "0db2ce44",
   "metadata": {},
   "outputs": [
    {
     "data": {
      "text/plain": [
       "0.9253333333333333"
      ]
     },
     "execution_count": 69,
     "metadata": {},
     "output_type": "execute_result"
    }
   ],
   "source": [
    "bag_clf.oob_score_"
   ]
  },
  {
   "cell_type": "code",
   "execution_count": null,
   "id": "d08b23b2",
   "metadata": {},
   "outputs": [],
   "source": []
  },
  {
   "cell_type": "markdown",
   "id": "173a2c09",
   "metadata": {},
   "source": [
    "### 랜덤포레스트 모델"
   ]
  },
  {
   "cell_type": "code",
   "execution_count": 72,
   "id": "f375019c",
   "metadata": {},
   "outputs": [
    {
     "data": {
      "text/plain": [
       "0.912"
      ]
     },
     "execution_count": 72,
     "metadata": {},
     "output_type": "execute_result"
    }
   ],
   "source": [
    "# 결정트리를 기반으로 만들어진 앙상블 모델, 스케일링 불필요, 특성의 중요도 알 수 있음\n",
    "bag_clf = BaggingClassifier(\n",
    "            DecisionTreeClassifier(max_leaf_nodes=16, random_state=42), \n",
    "            n_estimators=500, bootstrap=True, oob_score=True, random_state=42, n_jobs=-1\n",
    "        )\n",
    "bag_clf.fit(X_train, y_train)\n",
    "y_pred = bag_clf.predict(X_test)\n",
    "accuracy_score(y_test, y_pred)"
   ]
  },
  {
   "cell_type": "code",
   "execution_count": 73,
   "id": "fcadf64d",
   "metadata": {},
   "outputs": [
    {
     "data": {
      "text/plain": [
       "0.912"
      ]
     },
     "execution_count": 73,
     "metadata": {},
     "output_type": "execute_result"
    }
   ],
   "source": [
    "rnd_clf = RandomForestClassifier(n_estimators=500, max_leaf_nodes=16, random_state=42, n_jobs=-1)\n",
    "rnd_clf.fit(X_train, y_train)\n",
    "y_pred = bag_clf.predict(X_test)\n",
    "accuracy_score(y_test, y_pred)"
   ]
  },
  {
   "cell_type": "code",
   "execution_count": 74,
   "id": "e0ebfbdf",
   "metadata": {},
   "outputs": [
    {
     "data": {
      "text/plain": [
       "array([0.42253629, 0.57746371])"
      ]
     },
     "execution_count": 74,
     "metadata": {},
     "output_type": "execute_result"
    }
   ],
   "source": [
    "rnd_clf.feature_importances_"
   ]
  },
  {
   "cell_type": "code",
   "execution_count": null,
   "id": "7e94a5c4",
   "metadata": {},
   "outputs": [],
   "source": [
    "# x2 특성이 57% 정도로 x1 특성의 42% 에 비해 더 중요했다."
   ]
  }
 ],
 "metadata": {
  "kernelspec": {
   "display_name": "Python 3 (ipykernel)",
   "language": "python",
   "name": "python3"
  },
  "language_info": {
   "codemirror_mode": {
    "name": "ipython",
    "version": 3
   },
   "file_extension": ".py",
   "mimetype": "text/x-python",
   "name": "python",
   "nbconvert_exporter": "python",
   "pygments_lexer": "ipython3",
   "version": "3.9.12"
  }
 },
 "nbformat": 4,
 "nbformat_minor": 5
}
