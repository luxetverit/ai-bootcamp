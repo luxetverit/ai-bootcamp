{
 "cells": [
  {
   "cell_type": "markdown",
   "id": "af05c153",
   "metadata": {
    "id": "af05c153"
   },
   "source": [
    "# Bike Sharing Demand"
   ]
  },
  {
   "cell_type": "markdown",
   "id": "21bb932d",
   "metadata": {
    "id": "21bb932d"
   },
   "source": [
    "- 도시 자전거 공유 시스템 사용 예측\n",
    "- [캐글](https://www.kaggle.com)의 [Bike Sharing Demand](https://www.kaggle.com/c/bike-sharing-demand)에서 `train.csv`와 `test.csv`를 다운로드\n",
    "- 두 파일을 각각 datasets 디렉토리에 bike_train.csv bike_test.csv로 저장 "
   ]
  },
  {
   "cell_type": "markdown",
   "id": "13585302",
   "metadata": {
    "id": "13585302"
   },
   "source": [
    "## 1. 문제 정의\n",
    "- 자전거 대여량을 예측하는 문제\n",
    "- Evaluation : Submissions are evaluated one the Root Mean Squared Logarithmic Error (RMSLE). "
   ]
  },
  {
   "cell_type": "code",
   "execution_count": 10,
   "id": "24ec38cc",
   "metadata": {
    "id": "24ec38cc"
   },
   "outputs": [],
   "source": [
    "import numpy as np\n",
    "import pandas as pd\n",
    "import seaborn as sns\n",
    "import matplotlib.pyplot as plt"
   ]
  },
  {
   "cell_type": "markdown",
   "id": "d3d306c5",
   "metadata": {
    "id": "d3d306c5"
   },
   "source": [
    "## 2. 데이터 가져오기"
   ]
  },
  {
   "cell_type": "code",
   "execution_count": 11,
   "id": "a8e3c135",
   "metadata": {
    "id": "a8e3c135"
   },
   "outputs": [],
   "source": [
    "bike_train = pd.read_csv('datasets/bike_train.csv') # 훈련 데이터\n",
    "bike_test = pd.read_csv('datasets/bike_test.csv') # 테스트 데이터\n",
    "submission = pd.read_csv('datasets/sampleSubmission.csv') # 제출 샘플 데이터"
   ]
  },
  {
   "cell_type": "code",
   "execution_count": 12,
   "id": "745fe866",
   "metadata": {
    "id": "745fe866",
    "outputId": "434ece7a-1809-446c-f702-55d83bc65fd4"
   },
   "outputs": [
    {
     "data": {
      "text/plain": [
       "((10886, 12), (6493, 9))"
      ]
     },
     "execution_count": 12,
     "metadata": {},
     "output_type": "execute_result"
    }
   ],
   "source": [
    "bike_train.shape, bike_test.shape"
   ]
  },
  {
   "cell_type": "markdown",
   "id": "04bbcf5e",
   "metadata": {
    "id": "04bbcf5e"
   },
   "source": [
    "## 3. 데이터 훑어보기"
   ]
  },
  {
   "cell_type": "code",
   "execution_count": 13,
   "id": "805bbc24",
   "metadata": {
    "id": "805bbc24",
    "outputId": "ea3806d7-54af-466d-c7b3-2ffb810bf014"
   },
   "outputs": [
    {
     "data": {
      "text/html": [
       "<div>\n",
       "<style scoped>\n",
       "    .dataframe tbody tr th:only-of-type {\n",
       "        vertical-align: middle;\n",
       "    }\n",
       "\n",
       "    .dataframe tbody tr th {\n",
       "        vertical-align: top;\n",
       "    }\n",
       "\n",
       "    .dataframe thead th {\n",
       "        text-align: right;\n",
       "    }\n",
       "</style>\n",
       "<table border=\"1\" class=\"dataframe\">\n",
       "  <thead>\n",
       "    <tr style=\"text-align: right;\">\n",
       "      <th></th>\n",
       "      <th>datetime</th>\n",
       "      <th>season</th>\n",
       "      <th>holiday</th>\n",
       "      <th>workingday</th>\n",
       "      <th>weather</th>\n",
       "      <th>temp</th>\n",
       "      <th>atemp</th>\n",
       "      <th>humidity</th>\n",
       "      <th>windspeed</th>\n",
       "      <th>casual</th>\n",
       "      <th>registered</th>\n",
       "      <th>count</th>\n",
       "    </tr>\n",
       "  </thead>\n",
       "  <tbody>\n",
       "    <tr>\n",
       "      <th>0</th>\n",
       "      <td>2011-01-01 00:00:00</td>\n",
       "      <td>1</td>\n",
       "      <td>0</td>\n",
       "      <td>0</td>\n",
       "      <td>1</td>\n",
       "      <td>9.84</td>\n",
       "      <td>14.395</td>\n",
       "      <td>81</td>\n",
       "      <td>0.0</td>\n",
       "      <td>3</td>\n",
       "      <td>13</td>\n",
       "      <td>16</td>\n",
       "    </tr>\n",
       "    <tr>\n",
       "      <th>1</th>\n",
       "      <td>2011-01-01 01:00:00</td>\n",
       "      <td>1</td>\n",
       "      <td>0</td>\n",
       "      <td>0</td>\n",
       "      <td>1</td>\n",
       "      <td>9.02</td>\n",
       "      <td>13.635</td>\n",
       "      <td>80</td>\n",
       "      <td>0.0</td>\n",
       "      <td>8</td>\n",
       "      <td>32</td>\n",
       "      <td>40</td>\n",
       "    </tr>\n",
       "    <tr>\n",
       "      <th>2</th>\n",
       "      <td>2011-01-01 02:00:00</td>\n",
       "      <td>1</td>\n",
       "      <td>0</td>\n",
       "      <td>0</td>\n",
       "      <td>1</td>\n",
       "      <td>9.02</td>\n",
       "      <td>13.635</td>\n",
       "      <td>80</td>\n",
       "      <td>0.0</td>\n",
       "      <td>5</td>\n",
       "      <td>27</td>\n",
       "      <td>32</td>\n",
       "    </tr>\n",
       "    <tr>\n",
       "      <th>3</th>\n",
       "      <td>2011-01-01 03:00:00</td>\n",
       "      <td>1</td>\n",
       "      <td>0</td>\n",
       "      <td>0</td>\n",
       "      <td>1</td>\n",
       "      <td>9.84</td>\n",
       "      <td>14.395</td>\n",
       "      <td>75</td>\n",
       "      <td>0.0</td>\n",
       "      <td>3</td>\n",
       "      <td>10</td>\n",
       "      <td>13</td>\n",
       "    </tr>\n",
       "    <tr>\n",
       "      <th>4</th>\n",
       "      <td>2011-01-01 04:00:00</td>\n",
       "      <td>1</td>\n",
       "      <td>0</td>\n",
       "      <td>0</td>\n",
       "      <td>1</td>\n",
       "      <td>9.84</td>\n",
       "      <td>14.395</td>\n",
       "      <td>75</td>\n",
       "      <td>0.0</td>\n",
       "      <td>0</td>\n",
       "      <td>1</td>\n",
       "      <td>1</td>\n",
       "    </tr>\n",
       "  </tbody>\n",
       "</table>\n",
       "</div>"
      ],
      "text/plain": [
       "              datetime  season  holiday  workingday  weather  temp   atemp  \\\n",
       "0  2011-01-01 00:00:00       1        0           0        1  9.84  14.395   \n",
       "1  2011-01-01 01:00:00       1        0           0        1  9.02  13.635   \n",
       "2  2011-01-01 02:00:00       1        0           0        1  9.02  13.635   \n",
       "3  2011-01-01 03:00:00       1        0           0        1  9.84  14.395   \n",
       "4  2011-01-01 04:00:00       1        0           0        1  9.84  14.395   \n",
       "\n",
       "   humidity  windspeed  casual  registered  count  \n",
       "0        81        0.0       3          13     16  \n",
       "1        80        0.0       8          32     40  \n",
       "2        80        0.0       5          27     32  \n",
       "3        75        0.0       3          10     13  \n",
       "4        75        0.0       0           1      1  "
      ]
     },
     "execution_count": 13,
     "metadata": {},
     "output_type": "execute_result"
    }
   ],
   "source": [
    "bike_train.head()"
   ]
  },
  {
   "cell_type": "code",
   "execution_count": 14,
   "id": "ad7611c9",
   "metadata": {
    "id": "ad7611c9",
    "outputId": "781f9c52-c759-458e-b6f9-adffeea854ac"
   },
   "outputs": [
    {
     "data": {
      "text/html": [
       "<div>\n",
       "<style scoped>\n",
       "    .dataframe tbody tr th:only-of-type {\n",
       "        vertical-align: middle;\n",
       "    }\n",
       "\n",
       "    .dataframe tbody tr th {\n",
       "        vertical-align: top;\n",
       "    }\n",
       "\n",
       "    .dataframe thead th {\n",
       "        text-align: right;\n",
       "    }\n",
       "</style>\n",
       "<table border=\"1\" class=\"dataframe\">\n",
       "  <thead>\n",
       "    <tr style=\"text-align: right;\">\n",
       "      <th></th>\n",
       "      <th>datetime</th>\n",
       "      <th>season</th>\n",
       "      <th>holiday</th>\n",
       "      <th>workingday</th>\n",
       "      <th>weather</th>\n",
       "      <th>temp</th>\n",
       "      <th>atemp</th>\n",
       "      <th>humidity</th>\n",
       "      <th>windspeed</th>\n",
       "    </tr>\n",
       "  </thead>\n",
       "  <tbody>\n",
       "    <tr>\n",
       "      <th>0</th>\n",
       "      <td>2011-01-20 00:00:00</td>\n",
       "      <td>1</td>\n",
       "      <td>0</td>\n",
       "      <td>1</td>\n",
       "      <td>1</td>\n",
       "      <td>10.66</td>\n",
       "      <td>11.365</td>\n",
       "      <td>56</td>\n",
       "      <td>26.0027</td>\n",
       "    </tr>\n",
       "    <tr>\n",
       "      <th>1</th>\n",
       "      <td>2011-01-20 01:00:00</td>\n",
       "      <td>1</td>\n",
       "      <td>0</td>\n",
       "      <td>1</td>\n",
       "      <td>1</td>\n",
       "      <td>10.66</td>\n",
       "      <td>13.635</td>\n",
       "      <td>56</td>\n",
       "      <td>0.0000</td>\n",
       "    </tr>\n",
       "    <tr>\n",
       "      <th>2</th>\n",
       "      <td>2011-01-20 02:00:00</td>\n",
       "      <td>1</td>\n",
       "      <td>0</td>\n",
       "      <td>1</td>\n",
       "      <td>1</td>\n",
       "      <td>10.66</td>\n",
       "      <td>13.635</td>\n",
       "      <td>56</td>\n",
       "      <td>0.0000</td>\n",
       "    </tr>\n",
       "    <tr>\n",
       "      <th>3</th>\n",
       "      <td>2011-01-20 03:00:00</td>\n",
       "      <td>1</td>\n",
       "      <td>0</td>\n",
       "      <td>1</td>\n",
       "      <td>1</td>\n",
       "      <td>10.66</td>\n",
       "      <td>12.880</td>\n",
       "      <td>56</td>\n",
       "      <td>11.0014</td>\n",
       "    </tr>\n",
       "    <tr>\n",
       "      <th>4</th>\n",
       "      <td>2011-01-20 04:00:00</td>\n",
       "      <td>1</td>\n",
       "      <td>0</td>\n",
       "      <td>1</td>\n",
       "      <td>1</td>\n",
       "      <td>10.66</td>\n",
       "      <td>12.880</td>\n",
       "      <td>56</td>\n",
       "      <td>11.0014</td>\n",
       "    </tr>\n",
       "  </tbody>\n",
       "</table>\n",
       "</div>"
      ],
      "text/plain": [
       "              datetime  season  holiday  workingday  weather   temp   atemp  \\\n",
       "0  2011-01-20 00:00:00       1        0           1        1  10.66  11.365   \n",
       "1  2011-01-20 01:00:00       1        0           1        1  10.66  13.635   \n",
       "2  2011-01-20 02:00:00       1        0           1        1  10.66  13.635   \n",
       "3  2011-01-20 03:00:00       1        0           1        1  10.66  12.880   \n",
       "4  2011-01-20 04:00:00       1        0           1        1  10.66  12.880   \n",
       "\n",
       "   humidity  windspeed  \n",
       "0        56    26.0027  \n",
       "1        56     0.0000  \n",
       "2        56     0.0000  \n",
       "3        56    11.0014  \n",
       "4        56    11.0014  "
      ]
     },
     "execution_count": 14,
     "metadata": {},
     "output_type": "execute_result"
    }
   ],
   "source": [
    "bike_test.head()"
   ]
  },
  {
   "cell_type": "code",
   "execution_count": 15,
   "id": "bd5a3a3a",
   "metadata": {
    "id": "bd5a3a3a",
    "outputId": "6f12c841-00ba-4f7b-84ff-20d8b4f6708a"
   },
   "outputs": [
    {
     "data": {
      "text/html": [
       "<div>\n",
       "<style scoped>\n",
       "    .dataframe tbody tr th:only-of-type {\n",
       "        vertical-align: middle;\n",
       "    }\n",
       "\n",
       "    .dataframe tbody tr th {\n",
       "        vertical-align: top;\n",
       "    }\n",
       "\n",
       "    .dataframe thead th {\n",
       "        text-align: right;\n",
       "    }\n",
       "</style>\n",
       "<table border=\"1\" class=\"dataframe\">\n",
       "  <thead>\n",
       "    <tr style=\"text-align: right;\">\n",
       "      <th></th>\n",
       "      <th>datetime</th>\n",
       "      <th>count</th>\n",
       "    </tr>\n",
       "  </thead>\n",
       "  <tbody>\n",
       "    <tr>\n",
       "      <th>0</th>\n",
       "      <td>2011-01-20 00:00:00</td>\n",
       "      <td>0</td>\n",
       "    </tr>\n",
       "    <tr>\n",
       "      <th>1</th>\n",
       "      <td>2011-01-20 01:00:00</td>\n",
       "      <td>0</td>\n",
       "    </tr>\n",
       "    <tr>\n",
       "      <th>2</th>\n",
       "      <td>2011-01-20 02:00:00</td>\n",
       "      <td>0</td>\n",
       "    </tr>\n",
       "    <tr>\n",
       "      <th>3</th>\n",
       "      <td>2011-01-20 03:00:00</td>\n",
       "      <td>0</td>\n",
       "    </tr>\n",
       "    <tr>\n",
       "      <th>4</th>\n",
       "      <td>2011-01-20 04:00:00</td>\n",
       "      <td>0</td>\n",
       "    </tr>\n",
       "  </tbody>\n",
       "</table>\n",
       "</div>"
      ],
      "text/plain": [
       "              datetime  count\n",
       "0  2011-01-20 00:00:00      0\n",
       "1  2011-01-20 01:00:00      0\n",
       "2  2011-01-20 02:00:00      0\n",
       "3  2011-01-20 03:00:00      0\n",
       "4  2011-01-20 04:00:00      0"
      ]
     },
     "execution_count": 15,
     "metadata": {},
     "output_type": "execute_result"
    }
   ],
   "source": [
    "submission.head()"
   ]
  },
  {
   "cell_type": "markdown",
   "id": "e2a57c99",
   "metadata": {
    "id": "e2a57c99"
   },
   "source": [
    "datetime: hourly date + timestamp  \n",
    "season: 1 = 봄, 2 = 여름, 3 = 가을, 4 = 겨울  \n",
    "holiday: 1 = 토, 일요일의 주말을 제외한 국경일 등의 휴일, 0 = 휴일이 아닌 날  \n",
    "workingday: 1 = 토, 일요일의 주말 및 휴일이 아닌 주중, 0 = 주말 및 휴일  \n",
    "weather:  \n",
    "• 1 = 맑음, 약간 구름 낀 흐림  \n",
    "• 2 = 안개, 안개 + 흐림  \n",
    "• 3 = 가벼운 눈, 가벼운 비 + 천둥  \n",
    "• 4 = 심한 눈/비, 천둥/번개  \n",
    "temp: 온도(섭씨)   \n",
    "atemp: 체감온도(섭씨)  \n",
    "humidity: 상대습도  \n",
    "windspeed: 풍속  \n",
    "casual: 사전에 등록되지 않는 사용자가 대여한 횟수  \n",
    "registered: 사전에 등록된 사용자가 대여한 횟수  \n",
    "count: 대여 횟수  "
   ]
  },
  {
   "cell_type": "code",
   "execution_count": 16,
   "id": "1d1081a3",
   "metadata": {
    "id": "1d1081a3",
    "outputId": "afd3e15f-e4f2-485e-c260-c29643b98bca"
   },
   "outputs": [
    {
     "data": {
      "image/png": "[encoded data removed]",
      "text/plain": [
       "<Figure size 1440x1080 with 12 Axes>"
      ]
     },
     "metadata": {
      "needs_background": "light"
     },
     "output_type": "display_data"
    }
   ],
   "source": [
    "h = bike_train.hist(bins=50, figsize=(20, 15))"
   ]
  },
  {
   "cell_type": "markdown",
   "id": "cf207291",
   "metadata": {
    "id": "cf207291"
   },
   "source": [
    "* target 값(count 열) 의 분포가 오른쪽으로 꼬리가 긴 모양"
   ]
  },
  {
   "cell_type": "code",
   "execution_count": 17,
   "id": "86580f94",
   "metadata": {
    "id": "86580f94",
    "outputId": "fd76761c-49e5-4c15-a3f9-f8b1e8f7d811"
   },
   "outputs": [
    {
     "name": "stdout",
     "output_type": "stream",
     "text": [
      "<class 'pandas.core.frame.DataFrame'>\n",
      "RangeIndex: 10886 entries, 0 to 10885\n",
      "Data columns (total 12 columns):\n",
      " #   Column      Non-Null Count  Dtype  \n",
      "---  ------      --------------  -----  \n",
      " 0   datetime    10886 non-null  object \n",
      " 1   season      10886 non-null  int64  \n",
      " 2   holiday     10886 non-null  int64  \n",
      " 3   workingday  10886 non-null  int64  \n",
      " 4   weather     10886 non-null  int64  \n",
      " 5   temp        10886 non-null  float64\n",
      " 6   atemp       10886 non-null  float64\n",
      " 7   humidity    10886 non-null  int64  \n",
      " 8   windspeed   10886 non-null  float64\n",
      " 9   casual      10886 non-null  int64  \n",
      " 10  registered  10886 non-null  int64  \n",
      " 11  count       10886 non-null  int64  \n",
      "dtypes: float64(3), int64(8), object(1)\n",
      "memory usage: 1020.7+ KB\n"
     ]
    }
   ],
   "source": [
    "bike_train.info()"
   ]
  },
  {
   "cell_type": "code",
   "execution_count": 18,
   "id": "23175789",
   "metadata": {
    "id": "23175789",
    "outputId": "4ab06c5b-2f63-42d0-a963-9c8552cf56f1"
   },
   "outputs": [
    {
     "name": "stdout",
     "output_type": "stream",
     "text": [
      "<class 'pandas.core.frame.DataFrame'>\n",
      "RangeIndex: 6493 entries, 0 to 6492\n",
      "Data columns (total 9 columns):\n",
      " #   Column      Non-Null Count  Dtype  \n",
      "---  ------      --------------  -----  \n",
      " 0   datetime    6493 non-null   object \n",
      " 1   season      6493 non-null   int64  \n",
      " 2   holiday     6493 non-null   int64  \n",
      " 3   workingday  6493 non-null   int64  \n",
      " 4   weather     6493 non-null   int64  \n",
      " 5   temp        6493 non-null   float64\n",
      " 6   atemp       6493 non-null   float64\n",
      " 7   humidity    6493 non-null   int64  \n",
      " 8   windspeed   6493 non-null   float64\n",
      "dtypes: float64(3), int64(5), object(1)\n",
      "memory usage: 456.7+ KB\n"
     ]
    }
   ],
   "source": [
    "bike_test.info()"
   ]
  },
  {
   "cell_type": "markdown",
   "id": "096de77e",
   "metadata": {
    "id": "096de77e"
   },
   "source": [
    "* 누락데이터는 없으나, datetime 의 타입이 문자열로 되어 있음\n",
    "* 효과적인 분석을 위해 datetime 특성을 datetime(pandas에서 제공하는 타입)으로 바꾼 뒤\n",
    "* 년, 월, 일, 시간 추출"
   ]
  },
  {
   "cell_type": "code",
   "execution_count": 19,
   "id": "19037be4",
   "metadata": {
    "id": "19037be4"
   },
   "outputs": [],
   "source": [
    "bike_train['datetime'] = bike_train.datetime.apply(pd.to_datetime)"
   ]
  },
  {
   "cell_type": "code",
   "execution_count": 20,
   "id": "daf96ebb",
   "metadata": {
    "id": "daf96ebb"
   },
   "outputs": [],
   "source": [
    "bike_train['year'] = bike_train.datetime.apply(lambda x : x.year)\n",
    "bike_train['month'] = bike_train.datetime.apply(lambda x : x.month)\n",
    "bike_train['day'] = bike_train.datetime.apply(lambda x : x.day)\n",
    "bike_train['hour'] = bike_train.datetime.apply(lambda x : x.hour)\n",
    "bike_train['minute'] = bike_train.datetime.apply(lambda x : x.minute)\n",
    "bike_train['dayofweek'] = bike_train.datetime.apply(lambda x : x.dayofweek) # 요일"
   ]
  },
  {
   "cell_type": "markdown",
   "id": "755e6957",
   "metadata": {
    "id": "755e6957"
   },
   "source": [
    "- season과 weather 컬럼을 숫자에서 실제 의미 있는 단어로 표시\n",
    "- **season** (1 = 봄,  2 = 여름, 3 = 가을, 4 = 겨울  )\n",
    "- **weather** (1 = 맑음, 약간 구름 낀 흐림, 2 = 안개, 안개 + 흐림, 3 = 가벼운 눈, 가벼운 비 + 천둥, 4 = 심한 눈/비, 천둥/번개)"
   ]
  },
  {
   "cell_type": "code",
   "execution_count": 21,
   "id": "d94bc135",
   "metadata": {
    "id": "d94bc135"
   },
   "outputs": [],
   "source": [
    "bike_train['season'] = bike_train['season'].map({1 : 'Spring', \n",
    "                                                 2 : 'Summer',\n",
    "                                                 3 : 'Fall', \n",
    "                                                 4 : 'Winter'})\n",
    "\n",
    "bike_train['weather'] = bike_train['weather'].map({1 : 'Clear', \n",
    "                                                   2 : 'Mist, Few clouds',\n",
    "                                                   3 : 'Light Snow, Rain, Thunder',\n",
    "                                                   4 : 'Heavy Snow, Rain, Thunder'})"
   ]
  },
  {
   "cell_type": "code",
   "execution_count": 22,
   "id": "6153c050",
   "metadata": {
    "id": "6153c050",
    "outputId": "06450a1b-f10a-44f4-fe8b-2dd54e380923"
   },
   "outputs": [
    {
     "data": {
      "text/html": [
       "<div>\n",
       "<style scoped>\n",
       "    .dataframe tbody tr th:only-of-type {\n",
       "        vertical-align: middle;\n",
       "    }\n",
       "\n",
       "    .dataframe tbody tr th {\n",
       "        vertical-align: top;\n",
       "    }\n",
       "\n",
       "    .dataframe thead th {\n",
       "        text-align: right;\n",
       "    }\n",
       "</style>\n",
       "<table border=\"1\" class=\"dataframe\">\n",
       "  <thead>\n",
       "    <tr style=\"text-align: right;\">\n",
       "      <th></th>\n",
       "      <th>datetime</th>\n",
       "      <th>season</th>\n",
       "      <th>holiday</th>\n",
       "      <th>workingday</th>\n",
       "      <th>weather</th>\n",
       "      <th>temp</th>\n",
       "      <th>atemp</th>\n",
       "      <th>humidity</th>\n",
       "      <th>windspeed</th>\n",
       "      <th>casual</th>\n",
       "      <th>registered</th>\n",
       "      <th>count</th>\n",
       "      <th>year</th>\n",
       "      <th>month</th>\n",
       "      <th>day</th>\n",
       "      <th>hour</th>\n",
       "      <th>minute</th>\n",
       "      <th>dayofweek</th>\n",
       "    </tr>\n",
       "  </thead>\n",
       "  <tbody>\n",
       "    <tr>\n",
       "      <th>0</th>\n",
       "      <td>2011-01-01 00:00:00</td>\n",
       "      <td>Spring</td>\n",
       "      <td>0</td>\n",
       "      <td>0</td>\n",
       "      <td>Clear</td>\n",
       "      <td>9.84</td>\n",
       "      <td>14.395</td>\n",
       "      <td>81</td>\n",
       "      <td>0.0</td>\n",
       "      <td>3</td>\n",
       "      <td>13</td>\n",
       "      <td>16</td>\n",
       "      <td>2011</td>\n",
       "      <td>1</td>\n",
       "      <td>1</td>\n",
       "      <td>0</td>\n",
       "      <td>0</td>\n",
       "      <td>5</td>\n",
       "    </tr>\n",
       "    <tr>\n",
       "      <th>1</th>\n",
       "      <td>2011-01-01 01:00:00</td>\n",
       "      <td>Spring</td>\n",
       "      <td>0</td>\n",
       "      <td>0</td>\n",
       "      <td>Clear</td>\n",
       "      <td>9.02</td>\n",
       "      <td>13.635</td>\n",
       "      <td>80</td>\n",
       "      <td>0.0</td>\n",
       "      <td>8</td>\n",
       "      <td>32</td>\n",
       "      <td>40</td>\n",
       "      <td>2011</td>\n",
       "      <td>1</td>\n",
       "      <td>1</td>\n",
       "      <td>1</td>\n",
       "      <td>0</td>\n",
       "      <td>5</td>\n",
       "    </tr>\n",
       "    <tr>\n",
       "      <th>2</th>\n",
       "      <td>2011-01-01 02:00:00</td>\n",
       "      <td>Spring</td>\n",
       "      <td>0</td>\n",
       "      <td>0</td>\n",
       "      <td>Clear</td>\n",
       "      <td>9.02</td>\n",
       "      <td>13.635</td>\n",
       "      <td>80</td>\n",
       "      <td>0.0</td>\n",
       "      <td>5</td>\n",
       "      <td>27</td>\n",
       "      <td>32</td>\n",
       "      <td>2011</td>\n",
       "      <td>1</td>\n",
       "      <td>1</td>\n",
       "      <td>2</td>\n",
       "      <td>0</td>\n",
       "      <td>5</td>\n",
       "    </tr>\n",
       "    <tr>\n",
       "      <th>3</th>\n",
       "      <td>2011-01-01 03:00:00</td>\n",
       "      <td>Spring</td>\n",
       "      <td>0</td>\n",
       "      <td>0</td>\n",
       "      <td>Clear</td>\n",
       "      <td>9.84</td>\n",
       "      <td>14.395</td>\n",
       "      <td>75</td>\n",
       "      <td>0.0</td>\n",
       "      <td>3</td>\n",
       "      <td>10</td>\n",
       "      <td>13</td>\n",
       "      <td>2011</td>\n",
       "      <td>1</td>\n",
       "      <td>1</td>\n",
       "      <td>3</td>\n",
       "      <td>0</td>\n",
       "      <td>5</td>\n",
       "    </tr>\n",
       "    <tr>\n",
       "      <th>4</th>\n",
       "      <td>2011-01-01 04:00:00</td>\n",
       "      <td>Spring</td>\n",
       "      <td>0</td>\n",
       "      <td>0</td>\n",
       "      <td>Clear</td>\n",
       "      <td>9.84</td>\n",
       "      <td>14.395</td>\n",
       "      <td>75</td>\n",
       "      <td>0.0</td>\n",
       "      <td>0</td>\n",
       "      <td>1</td>\n",
       "      <td>1</td>\n",
       "      <td>2011</td>\n",
       "      <td>1</td>\n",
       "      <td>1</td>\n",
       "      <td>4</td>\n",
       "      <td>0</td>\n",
       "      <td>5</td>\n",
       "    </tr>\n",
       "  </tbody>\n",
       "</table>\n",
       "</div>"
      ],
      "text/plain": [
       "             datetime  season  holiday  workingday weather  temp   atemp  \\\n",
       "0 2011-01-01 00:00:00  Spring        0           0   Clear  9.84  14.395   \n",
       "1 2011-01-01 01:00:00  Spring        0           0   Clear  9.02  13.635   \n",
       "2 2011-01-01 02:00:00  Spring        0           0   Clear  9.02  13.635   \n",
       "3 2011-01-01 03:00:00  Spring        0           0   Clear  9.84  14.395   \n",
       "4 2011-01-01 04:00:00  Spring        0           0   Clear  9.84  14.395   \n",
       "\n",
       "   humidity  windspeed  casual  registered  count  year  month  day  hour  \\\n",
       "0        81        0.0       3          13     16  2011      1    1     0   \n",
       "1        80        0.0       8          32     40  2011      1    1     1   \n",
       "2        80        0.0       5          27     32  2011      1    1     2   \n",
       "3        75        0.0       3          10     13  2011      1    1     3   \n",
       "4        75        0.0       0           1      1  2011      1    1     4   \n",
       "\n",
       "   minute  dayofweek  \n",
       "0       0          5  \n",
       "1       0          5  \n",
       "2       0          5  \n",
       "3       0          5  \n",
       "4       0          5  "
      ]
     },
     "execution_count": 22,
     "metadata": {},
     "output_type": "execute_result"
    }
   ],
   "source": [
    "bike_train.head()"
   ]
  },
  {
   "cell_type": "markdown",
   "id": "610e7ab7",
   "metadata": {
    "id": "610e7ab7"
   },
   "source": [
    "## 4. 데이터 탐색"
   ]
  },
  {
   "cell_type": "markdown",
   "id": "e0a970f4",
   "metadata": {
    "id": "e0a970f4"
   },
   "source": [
    "### 4.1 타깃값(count) 의 분포도 그려보기"
   ]
  },
  {
   "cell_type": "code",
   "execution_count": 23,
   "id": "30a667f8",
   "metadata": {
    "id": "30a667f8",
    "outputId": "2d606bf7-ea71-4bb8-bc82-59a36bfab1e9"
   },
   "outputs": [
    {
     "data": {
      "text/plain": [
       "<seaborn.axisgrid.FacetGrid at 0x1dda7a173d0>"
      ]
     },
     "execution_count": 23,
     "metadata": {},
     "output_type": "execute_result"
    },
    {
     "data": {
      "image/png": "[encoded data removed]",
      "text/plain": [
       "<Figure size 360x360 with 1 Axes>"
      ]
     },
     "metadata": {
      "needs_background": "light"
     },
     "output_type": "display_data"
    }
   ],
   "source": [
    "sns.displot(bike_train['count'])"
   ]
  },
  {
   "cell_type": "markdown",
   "id": "e1417b40",
   "metadata": {
    "id": "e1417b40"
   },
   "source": [
    "- x축은 타깃값 count, y축은 빈도수(횟수)\n",
    "- 오른쪽으로 꼬리가 긴 분포\n",
    "- 회귀 모델이 좋은 성능 내려면 데이터가 정규분포를 따르는게 좋음\n",
    "- 따라서 타깃값으 정규분포에 가깝게 만들기 위해 로그 변환 사용"
   ]
  },
  {
   "cell_type": "code",
   "execution_count": 24,
   "id": "01fa56ed",
   "metadata": {
    "id": "01fa56ed",
    "outputId": "46f027ba-ede5-49fe-f2ad-aad3d4900298"
   },
   "outputs": [
    {
     "data": {
      "text/plain": [
       "<seaborn.axisgrid.FacetGrid at 0x1dda9232760>"
      ]
     },
     "execution_count": 24,
     "metadata": {},
     "output_type": "execute_result"
    },
    {
     "data": {
      "image/png": "[encoded data removed]",
      "text/plain": [
       "<Figure size 360x360 with 1 Axes>"
      ]
     },
     "metadata": {
      "needs_background": "light"
     },
     "output_type": "display_data"
    }
   ],
   "source": [
    "sns.displot(np.log(bike_train['count']))"
   ]
  },
  {
   "cell_type": "markdown",
   "id": "9575aa7b",
   "metadata": {
    "id": "9575aa7b"
   },
   "source": [
    "### 4.2 대여 시간대(년, 월, 일, 요일, 시간, 분) 에 따른 자전거 대여율\n",
    "범주형 데이터에 따른 수치형 데이터의 평균값(막대그래프)"
   ]
  },
  {
   "cell_type": "code",
   "execution_count": 25,
   "id": "cf6f52f3",
   "metadata": {
    "id": "cf6f52f3",
    "outputId": "bbf82bd0-fcbd-494c-df26-b41134b279b8"
   },
   "outputs": [
    {
     "data": {
      "text/plain": [
       "Index(['datetime', 'season', 'holiday', 'workingday', 'weather', 'temp',\n",
       "       'atemp', 'humidity', 'windspeed', 'casual', 'registered', 'count',\n",
       "       'year', 'month', 'day', 'hour', 'minute', 'dayofweek'],\n",
       "      dtype='object')"
      ]
     },
     "execution_count": 25,
     "metadata": {},
     "output_type": "execute_result"
    }
   ],
   "source": [
    "bike_train.columns"
   ]
  },
  {
   "cell_type": "code",
   "execution_count": 26,
   "id": "cf1c69d4",
   "metadata": {
    "id": "cf1c69d4",
    "outputId": "0e32a438-4a63-4a2d-b247-28ad34fdf8a3"
   },
   "outputs": [
    {
     "data": {
      "text/plain": [
       "[Text(0.5, 1.0, 'number of rentals per minute')]"
      ]
     },
     "execution_count": 26,
     "metadata": {},
     "output_type": "execute_result"
    },
    {
     "data": {
      "image/png": "[encoded data removed]",
      "text/plain": [
       "<Figure size 1080x648 with 6 Axes>"
      ]
     },
     "metadata": {
      "needs_background": "light"
     },
     "output_type": "display_data"
    }
   ],
   "source": [
    "figure, axes = plt.subplots(nrows=2, ncols=3)\n",
    "plt.tight_layout()\n",
    "figure.set_size_inches(15, 9)\n",
    "\n",
    "sns.barplot(data=bike_train, x=\"year\", y=\"count\", ax=axes[0][0]) # 년도별 자전거 대여량의 평균\n",
    "sns.barplot(data=bike_train, x=\"month\", y=\"count\", ax=axes[0][1]) # 월별 자전거 대여량의 평균\n",
    "sns.barplot(data=bike_train, x=\"day\", y=\"count\", ax=axes[0][2]) # 날짜별 자전거 대여량의 평균\n",
    "\n",
    "sns.barplot(data=bike_train, x=\"dayofweek\", y=\"count\", ax=axes[1][0]) # 요일별 자전거 대여량의 평균\n",
    "sns.barplot(data=bike_train, x=\"hour\", y=\"count\", ax=axes[1][1]) # 시간별 자전거 대여량의 평균\n",
    "sns.barplot(data=bike_train, x=\"minute\", y=\"count\", ax=axes[1][2]) # 분별 자전거 대여량의 평균\n",
    "\n",
    "\n",
    "axes[0][0].set(title=\"number of rentals per year\")\n",
    "axes[0][1].set(title=\"number of rentals per month\")\n",
    "axes[0][2].set(title=\"number of rentals per day\")\n",
    "\n",
    "axes[1][0].set(title=\"number of rentals per dayofweek\")\n",
    "axes[1][1].set(title=\"number of rentals per hour\")\n",
    "axes[1][2].set(title=\"number of rentals per minute\")"
   ]
  },
  {
   "cell_type": "markdown",
   "id": "03e87a3f",
   "metadata": {
    "id": "03e87a3f"
   },
   "source": [
    "* 년도별 대여량은 2011년보다 2012년이 더 많음\n",
    "* 월별 대여량은 6월에 가장 많고, 7~10월도 대여량이 많음. 1월이 가장 적음\n",
    "* 일별 대여량은 1일부터 19일까지만 데이터가 있고 예측력도 없어 보임. 20~31일 데이터는 테스트 데이터에 있음(사용불가)\n",
    "* 시간대 대여량은 오전 8시, 오후 17~18시에 에 많은것으로 보아 출퇴근 시간대로 추측(주말과 평일을 나누어 분석해보기)"
   ]
  },
  {
   "cell_type": "markdown",
   "id": "8a72bd0b",
   "metadata": {
    "id": "8a72bd0b"
   },
   "source": [
    "### 4.3 대여 시간대를 제외한 다른 범주형 데이터(계절, 날씨, 공휴일여부 등)에 따른 자전거 대여율"
   ]
  },
  {
   "cell_type": "code",
   "execution_count": 27,
   "id": "52c17127",
   "metadata": {
    "id": "52c17127",
    "outputId": "6000c4af-c885-44bc-fbf0-2d127cf7290f"
   },
   "outputs": [
    {
     "data": {
      "text/plain": [
       "Index(['datetime', 'season', 'holiday', 'workingday', 'weather', 'temp',\n",
       "       'atemp', 'humidity', 'windspeed', 'casual', 'registered', 'count',\n",
       "       'year', 'month', 'day', 'hour', 'minute', 'dayofweek'],\n",
       "      dtype='object')"
      ]
     },
     "execution_count": 27,
     "metadata": {},
     "output_type": "execute_result"
    }
   ],
   "source": [
    "bike_train.columns"
   ]
  },
  {
   "cell_type": "code",
   "execution_count": 28,
   "id": "490fa497",
   "metadata": {
    "id": "490fa497",
    "outputId": "eb348835-1faa-4149-de7f-06e7fef250b7"
   },
   "outputs": [
    {
     "data": {
      "text/plain": [
       "[Text(0, 0, 'Clear'),\n",
       " Text(1, 0, 'Mist, Few clouds'),\n",
       " Text(2, 0, 'Light Snow, Rain, Thunder'),\n",
       " Text(3, 0, 'Heavy Snow, Rain, Thunder')]"
      ]
     },
     "execution_count": 28,
     "metadata": {},
     "output_type": "execute_result"
    },
    {
     "data": {
      "image/png": "[encoded data removed]",
      "text/plain": [
       "<Figure size 720x720 with 4 Axes>"
      ]
     },
     "metadata": {
      "needs_background": "light"
     },
     "output_type": "display_data"
    }
   ],
   "source": [
    "figure, axes = plt.subplots(nrows=2, ncols=2)\n",
    "plt.tight_layout()\n",
    "figure.set_size_inches(10, 10)\n",
    "\n",
    "sns.barplot(data=bike_train, x=\"workingday\", y=\"count\", ax=axes[0][0]) \n",
    "sns.barplot(data=bike_train, x=\"holiday\", y=\"count\", ax=axes[0][1]) \n",
    "\n",
    "sns.barplot(data=bike_train, x=\"season\", y=\"count\", ax=axes[1][0]) \n",
    "sns.barplot(data=bike_train, x=\"weather\", y=\"count\", ax=axes[1][1]) \n",
    "\n",
    "\n",
    "\n",
    "axes[0][0].set(title=\"number of rentals per workingday\")\n",
    "axes[0][1].set(title=\"number of rentals per holiday\")\n",
    "\n",
    "axes[1][0].set(title=\"number of rentals per season\")\n",
    "axes[1][1].set(title=\"number of rentals per weather\")\n",
    "\n",
    "axes[1][1].set_xticklabels(axes[1][1].get_xticklabels(), rotation=30)"
   ]
  },
  {
   "cell_type": "markdown",
   "id": "01842abe",
   "metadata": {
    "id": "01842abe"
   },
   "source": [
    "- 가을(Fall, 3)에 대여량이 많음 (앞의 month 특성과 겹치는 부분이 있음)\n",
    "- 데이터가 지나치게 세분화 되어 있으면 분류별 데이터수가 적이지므로 month 특성 제거 고려\n",
    "- 날씨가 좋을수록 대여 수량이 많음\n",
    "- 그러나 heavy snow 기상상태에서 160건 이상의 대여량이 있는것이 이상"
   ]
  },
  {
   "cell_type": "code",
   "execution_count": 29,
   "id": "7eca3003",
   "metadata": {
    "id": "7eca3003",
    "outputId": "3ac7d451-9260-48c9-ce57-4b8be363198e"
   },
   "outputs": [
    {
     "data": {
      "text/plain": [
       "weather\n",
       "Clear                        7192\n",
       "Heavy Snow, Rain, Thunder       1\n",
       "Light Snow, Rain, Thunder     859\n",
       "Mist, Few clouds             2834\n",
       "dtype: int64"
      ]
     },
     "execution_count": 29,
     "metadata": {},
     "output_type": "execute_result"
    }
   ],
   "source": [
    "bike_train.groupby(\"weather\").size() # countplot"
   ]
  },
  {
   "cell_type": "code",
   "execution_count": 30,
   "id": "51f7c69c",
   "metadata": {
    "id": "51f7c69c",
    "outputId": "3e34b790-0fb5-40d1-8ca2-2acd193d6617"
   },
   "outputs": [
    {
     "data": {
      "text/plain": [
       "weather\n",
       "Clear                        205.236791\n",
       "Heavy Snow, Rain, Thunder    164.000000\n",
       "Light Snow, Rain, Thunder    118.846333\n",
       "Mist, Few clouds             178.955540\n",
       "Name: count, dtype: float64"
      ]
     },
     "execution_count": 30,
     "metadata": {},
     "output_type": "execute_result"
    }
   ],
   "source": [
    "bike_train.groupby(\"weather\").mean()['count'] # barplot"
   ]
  },
  {
   "cell_type": "markdown",
   "id": "c12e990e",
   "metadata": {
    "id": "c12e990e"
   },
   "source": [
    "### 4.4 위의 범주형 데이터(계절, 날씨, 공휴일 여부 등)의 사분위 분포 확인"
   ]
  },
  {
   "cell_type": "code",
   "execution_count": 31,
   "id": "e6ad0728",
   "metadata": {
    "id": "e6ad0728",
    "outputId": "c9c4cacc-f9be-4882-8c04-aa2486960334"
   },
   "outputs": [
    {
     "data": {
      "text/plain": [
       "[Text(0, 0, 'Clear'),\n",
       " Text(1, 0, 'Mist, Few clouds'),\n",
       " Text(2, 0, 'Light Snow, Rain, Thunder'),\n",
       " Text(3, 0, 'Heavy Snow, Rain, Thunder')]"
      ]
     },
     "execution_count": 31,
     "metadata": {},
     "output_type": "execute_result"
    },
    {
     "data": {
      "image/png": "[encoded data removed]",
      "text/plain": [
       "<Figure size 720x720 with 4 Axes>"
      ]
     },
     "metadata": {
      "needs_background": "light"
     },
     "output_type": "display_data"
    }
   ],
   "source": [
    "figure, axes = plt.subplots(nrows=2, ncols=2)\n",
    "plt.tight_layout()\n",
    "figure.set_size_inches(10, 10)\n",
    "\n",
    "sns.boxplot(data=bike_train, x=\"workingday\", y=\"count\", ax=axes[0][0]) \n",
    "sns.boxplot(data=bike_train, x=\"holiday\", y=\"count\", ax=axes[0][1]) \n",
    "\n",
    "sns.boxplot(data=bike_train, x=\"season\", y=\"count\", ax=axes[1][0]) \n",
    "sns.boxplot(data=bike_train, x=\"weather\", y=\"count\", ax=axes[1][1]) \n",
    "\n",
    "\n",
    "\n",
    "axes[0][0].set(title=\"box plot on count across workingday\")\n",
    "axes[0][1].set(title=\"box plot on count across holiday\")\n",
    "\n",
    "axes[1][0].set(title=\"box plot on count across season\")\n",
    "axes[1][1].set(title=\"box plot on count across weather\")\n",
    "\n",
    "axes[1][1].set_xticklabels(axes[1][1].get_xticklabels(), rotation=30)"
   ]
  },
  {
   "cell_type": "markdown",
   "id": "af9fc371",
   "metadata": {
    "id": "af9fc371"
   },
   "source": [
    "- 공휴일이 아닐 때 특잇값(outlier)가 많음\n",
    "- 근무일일 때 특잇값이 많음\n",
    "- 가을(Fall, 3)에 대여량이 많음\n",
    "- 날씨가 좋을수록 대여량이 많음\n",
    "- 악천후 속 자전거 대여수 한건(특잇값)데 대해 제거 고려"
   ]
  },
  {
   "cell_type": "markdown",
   "id": "9a7a9855",
   "metadata": {
    "id": "9a7a9855"
   },
   "source": [
    "### 4.5 시간대별 자건거 대여율을 추가 정보와 함께 보기\n",
    "추가정보 : 공휴일여부"
   ]
  },
  {
   "cell_type": "code",
   "execution_count": 32,
   "id": "9770845c",
   "metadata": {
    "id": "9770845c",
    "outputId": "3ddfddfd-760e-46c4-aed3-464a0fbc57f8"
   },
   "outputs": [
    {
     "data": {
      "text/plain": [
       "<AxesSubplot:xlabel='hour', ylabel='count'>"
      ]
     },
     "execution_count": 32,
     "metadata": {},
     "output_type": "execute_result"
    },
    {
     "data": {
      "image/png": "[encoded data removed]",
      "text/plain": [
       "<Figure size 432x288 with 2 Axes>"
      ]
     },
     "metadata": {
      "needs_background": "light"
     },
     "output_type": "display_data"
    }
   ],
   "source": [
    "figure, (ax1, ax2) = plt.subplots(nrows=2)\n",
    "sns.pointplot(data=bike_train, x=\"hour\", y=\"count\", ax=ax1) # 시간별 자전거 대여량의 평균\n",
    "sns.pointplot(data=bike_train, x=\"hour\", y=\"count\", hue='workingday', ax=ax2)"
   ]
  },
  {
   "cell_type": "markdown",
   "id": "c129a7c6",
   "metadata": {
    "id": "c129a7c6"
   },
   "source": [
    "* 근무일에는 출퇴근 시간에 대여량이 많고\n",
    "* 쉬는날에는 오후 12~2시 사이에 대여량이 많음"
   ]
  },
  {
   "cell_type": "markdown",
   "id": "7d2ba278",
   "metadata": {
    "id": "7d2ba278"
   },
   "source": [
    "### 4.6 상관관계\n",
    "수치형 데이터 간 상관관계를 파악하기 위해 산점도 그래프(회귀선 포함한) 그리기"
   ]
  },
  {
   "cell_type": "markdown",
   "id": "5af74a47",
   "metadata": {
    "id": "5af74a47"
   },
   "source": [
    "- **(1)** 온도, 체감온도, 습도, 풍속별 대여 수량 산점도 그래프('temp', 'atemp', 'humidity', 'windspeed')"
   ]
  },
  {
   "cell_type": "code",
   "execution_count": 33,
   "id": "11431331",
   "metadata": {
    "id": "11431331",
    "outputId": "1a451be6-7e8d-473b-8eb1-5544aec8bf6a"
   },
   "outputs": [
    {
     "data": {
      "text/plain": [
       "<AxesSubplot:xlabel='windspeed', ylabel='count'>"
      ]
     },
     "execution_count": 33,
     "metadata": {},
     "output_type": "execute_result"
    },
    {
     "data": {
      "image/png": "[encoded data removed]",
      "text/plain": [
       "<Figure size 504x432 with 4 Axes>"
      ]
     },
     "metadata": {
      "needs_background": "light"
     },
     "output_type": "display_data"
    }
   ],
   "source": [
    "figure, axes = plt.subplots(nrows=2, ncols=2)\n",
    "plt.tight_layout()\n",
    "figure.set_size_inches(7, 6)\n",
    "\n",
    "sns.regplot(data=bike_train, x='temp', y='count', ax=axes[0][0],\n",
    "           scatter_kws={'alpha':0.2}, line_kws={'color' : 'blue'})\n",
    "sns.regplot(data=bike_train, x='atemp', y='count', ax=axes[0][1],\n",
    "           scatter_kws={'alpha':0.2}, line_kws={'color' : 'blue'})\n",
    "sns.regplot(data=bike_train, x='humidity', y='count', ax=axes[1][0],\n",
    "           scatter_kws={'alpha':0.2}, line_kws={'color' : 'blue'})\n",
    "sns.regplot(data=bike_train, x='windspeed', y='count', ax=axes[1][1],\n",
    "           scatter_kws={'alpha':0.2}, line_kws={'color' : 'blue'})"
   ]
  },
  {
   "cell_type": "markdown",
   "id": "971131cf",
   "metadata": {
    "id": "971131cf"
   },
   "source": [
    "* 온도, 체감온도가 높을수록 대여 수량이 많음\n",
    "* 습하지 않을수록 대여 수량이 많음\n",
    "* 풍속이 셀수록 대여 수량이 많은지는 확실치가 않고\n",
    "* 풍속이 0일 때 표시되어 있는 값을이 다수 발견되었고, 만약 결측치라면 제거하는 것 고려"
   ]
  },
  {
   "cell_type": "markdown",
   "id": "e7102029",
   "metadata": {
    "id": "e7102029"
   },
   "source": [
    "- **(2)** 상관계수"
   ]
  },
  {
   "cell_type": "code",
   "execution_count": 34,
   "id": "04b24314",
   "metadata": {
    "id": "04b24314",
    "outputId": "14bd16e9-20fe-4cd7-82a0-6c566da0dc36"
   },
   "outputs": [
    {
     "data": {
      "text/html": [
       "<div>\n",
       "<style scoped>\n",
       "    .dataframe tbody tr th:only-of-type {\n",
       "        vertical-align: middle;\n",
       "    }\n",
       "\n",
       "    .dataframe tbody tr th {\n",
       "        vertical-align: top;\n",
       "    }\n",
       "\n",
       "    .dataframe thead th {\n",
       "        text-align: right;\n",
       "    }\n",
       "</style>\n",
       "<table border=\"1\" class=\"dataframe\">\n",
       "  <thead>\n",
       "    <tr style=\"text-align: right;\">\n",
       "      <th></th>\n",
       "      <th>temp</th>\n",
       "      <th>atemp</th>\n",
       "      <th>humidity</th>\n",
       "      <th>windspeed</th>\n",
       "      <th>count</th>\n",
       "    </tr>\n",
       "  </thead>\n",
       "  <tbody>\n",
       "    <tr>\n",
       "      <th>temp</th>\n",
       "      <td>1.000000</td>\n",
       "      <td>0.984948</td>\n",
       "      <td>-0.064949</td>\n",
       "      <td>-0.017852</td>\n",
       "      <td>0.394454</td>\n",
       "    </tr>\n",
       "    <tr>\n",
       "      <th>atemp</th>\n",
       "      <td>0.984948</td>\n",
       "      <td>1.000000</td>\n",
       "      <td>-0.043536</td>\n",
       "      <td>-0.057473</td>\n",
       "      <td>0.389784</td>\n",
       "    </tr>\n",
       "    <tr>\n",
       "      <th>humidity</th>\n",
       "      <td>-0.064949</td>\n",
       "      <td>-0.043536</td>\n",
       "      <td>1.000000</td>\n",
       "      <td>-0.318607</td>\n",
       "      <td>-0.317371</td>\n",
       "    </tr>\n",
       "    <tr>\n",
       "      <th>windspeed</th>\n",
       "      <td>-0.017852</td>\n",
       "      <td>-0.057473</td>\n",
       "      <td>-0.318607</td>\n",
       "      <td>1.000000</td>\n",
       "      <td>0.101369</td>\n",
       "    </tr>\n",
       "    <tr>\n",
       "      <th>count</th>\n",
       "      <td>0.394454</td>\n",
       "      <td>0.389784</td>\n",
       "      <td>-0.317371</td>\n",
       "      <td>0.101369</td>\n",
       "      <td>1.000000</td>\n",
       "    </tr>\n",
       "  </tbody>\n",
       "</table>\n",
       "</div>"
      ],
      "text/plain": [
       "               temp     atemp  humidity  windspeed     count\n",
       "temp       1.000000  0.984948 -0.064949  -0.017852  0.394454\n",
       "atemp      0.984948  1.000000 -0.043536  -0.057473  0.389784\n",
       "humidity  -0.064949 -0.043536  1.000000  -0.318607 -0.317371\n",
       "windspeed -0.017852 -0.057473 -0.318607   1.000000  0.101369\n",
       "count      0.394454  0.389784 -0.317371   0.101369  1.000000"
      ]
     },
     "execution_count": 34,
     "metadata": {},
     "output_type": "execute_result"
    }
   ],
   "source": [
    "bike_train[['temp', 'atemp', 'humidity', 'windspeed', 'count']].corr()"
   ]
  },
  {
   "cell_type": "code",
   "execution_count": 35,
   "id": "13f73814",
   "metadata": {
    "id": "13f73814",
    "outputId": "fcf1e08d-6792-4ada-e6f3-666859574a67"
   },
   "outputs": [
    {
     "data": {
      "text/plain": [
       "<AxesSubplot:>"
      ]
     },
     "execution_count": 35,
     "metadata": {},
     "output_type": "execute_result"
    },
    {
     "data": {
      "image/png": "[encoded data removed]",
      "text/plain": [
       "<Figure size 576x576 with 2 Axes>"
      ]
     },
     "metadata": {
      "needs_background": "light"
     },
     "output_type": "display_data"
    }
   ],
   "source": [
    "corr = bike_train[['temp', 'atemp', 'humidity', 'windspeed', 'count']].corr()\n",
    "plt.figure(figsize=(8,8)) # sns.heatmap 함수가 axes level api 이므로 figure 사이즈 조절 가능\n",
    "sns.heatmap(corr, annot=True, fmt='.2f', linewidths=0.5, cmap='YlGnBu')"
   ]
  },
  {
   "cell_type": "markdown",
   "id": "8929f5d9",
   "metadata": {
    "id": "8929f5d9"
   },
   "source": [
    "* 온도(temp)와 대여수량(count)간 상관계수 0.39(양의 상관관계)\n",
    "* 풍속(windspeed)과 대여수량(count)간 상관계수는 0.1(상관관계가 매우 약함)\n",
    "* windspeed는 대여 수량 예측에 별 도움을 주지 못하면서 결측치(0인값)도 많으므로 제거 고려"
   ]
  },
  {
   "cell_type": "markdown",
   "id": "bfb1b414",
   "metadata": {
    "id": "bfb1b414"
   },
   "source": [
    "**선형회귀에서 다중공선성 문제(Multicollinearity in Regression)**\n",
    "- https://towardsdatascience.com/multi-collinearity-in-regression-fe7a2c1467ea\n",
    "- temp와 atemp가 상관관계가 높으므로 원하는 coef값이 나오지 않을 수 있음\n",
    "- 두 특성 모두 예측변수에 양의 상관관계가 있으므로 coef가 양수값이 나오길 기대하지만\n",
    "- 다중 선형회귀에선느 이 값이 바뀔 수 있음"
   ]
  },
  {
   "cell_type": "markdown",
   "id": "c209df2d",
   "metadata": {
    "id": "c209df2d"
   },
   "source": [
    "## 5. 데이터 전처리"
   ]
  },
  {
   "cell_type": "markdown",
   "id": "fa59d171",
   "metadata": {
    "id": "fa59d171"
   },
   "source": [
    "훈련 데이터와 테스트 데이터를 준비하는 방법\n",
    "1. 훈련 데이터에 대한 전처리를 해준 뒤, 동일한 방법으로 테스트 데이터에 적용한다.\n",
    "2. 훈련 데이터와 테스트 데이터를 합쳐서 모든 전처리가 끝난 뒤, 분리한다."
   ]
  },
  {
   "cell_type": "code",
   "execution_count": 36,
   "id": "b1111430",
   "metadata": {
    "id": "b1111430",
    "outputId": "6c0fc66c-06e9-4a53-e4b5-0bdc4f767e70"
   },
   "outputs": [
    {
     "ename": "FileNotFoundError",
     "evalue": "No such file or directory: './images/img5.png'",
     "output_type": "error",
     "traceback": [
      "\u001b[1;31m---------------------------------------------------------------------------\u001b[0m",
      "\u001b[1;31mTypeError\u001b[0m                                 Traceback (most recent call last)",
      "File \u001b[1;32m~\\anaconda3\\lib\\site-packages\\IPython\\core\\display.py:1032\u001b[0m, in \u001b[0;36mImage._data_and_metadata\u001b[1;34m(self, always_both)\u001b[0m\n\u001b[0;32m   1031\u001b[0m \u001b[38;5;28;01mtry\u001b[39;00m:\n\u001b[1;32m-> 1032\u001b[0m     b64_data \u001b[38;5;241m=\u001b[39m \u001b[43mb2a_base64\u001b[49m\u001b[43m(\u001b[49m\u001b[38;5;28;43mself\u001b[39;49m\u001b[38;5;241;43m.\u001b[39;49m\u001b[43mdata\u001b[49m\u001b[43m)\u001b[49m\u001b[38;5;241m.\u001b[39mdecode(\u001b[38;5;124m'\u001b[39m\u001b[38;5;124mascii\u001b[39m\u001b[38;5;124m'\u001b[39m)\n\u001b[0;32m   1033\u001b[0m \u001b[38;5;28;01mexcept\u001b[39;00m \u001b[38;5;167;01mTypeError\u001b[39;00m \u001b[38;5;28;01mas\u001b[39;00m e:\n",
      "\u001b[1;31mTypeError\u001b[0m: a bytes-like object is required, not 'str'",
      "\nThe above exception was the direct cause of the following exception:\n",
      "\u001b[1;31mFileNotFoundError\u001b[0m                         Traceback (most recent call last)",
      "File \u001b[1;32m~\\anaconda3\\lib\\site-packages\\IPython\\core\\formatters.py:973\u001b[0m, in \u001b[0;36mMimeBundleFormatter.__call__\u001b[1;34m(self, obj, include, exclude)\u001b[0m\n\u001b[0;32m    970\u001b[0m     method \u001b[38;5;241m=\u001b[39m get_real_method(obj, \u001b[38;5;28mself\u001b[39m\u001b[38;5;241m.\u001b[39mprint_method)\n\u001b[0;32m    972\u001b[0m     \u001b[38;5;28;01mif\u001b[39;00m method \u001b[38;5;129;01mis\u001b[39;00m \u001b[38;5;129;01mnot\u001b[39;00m \u001b[38;5;28;01mNone\u001b[39;00m:\n\u001b[1;32m--> 973\u001b[0m         \u001b[38;5;28;01mreturn\u001b[39;00m \u001b[43mmethod\u001b[49m\u001b[43m(\u001b[49m\u001b[43minclude\u001b[49m\u001b[38;5;241;43m=\u001b[39;49m\u001b[43minclude\u001b[49m\u001b[43m,\u001b[49m\u001b[43m \u001b[49m\u001b[43mexclude\u001b[49m\u001b[38;5;241;43m=\u001b[39;49m\u001b[43mexclude\u001b[49m\u001b[43m)\u001b[49m\n\u001b[0;32m    974\u001b[0m     \u001b[38;5;28;01mreturn\u001b[39;00m \u001b[38;5;28;01mNone\u001b[39;00m\n\u001b[0;32m    975\u001b[0m \u001b[38;5;28;01melse\u001b[39;00m:\n",
      "File \u001b[1;32m~\\anaconda3\\lib\\site-packages\\IPython\\core\\display.py:1022\u001b[0m, in \u001b[0;36mImage._repr_mimebundle_\u001b[1;34m(self, include, exclude)\u001b[0m\n\u001b[0;32m   1020\u001b[0m \u001b[38;5;28;01mif\u001b[39;00m \u001b[38;5;28mself\u001b[39m\u001b[38;5;241m.\u001b[39membed:\n\u001b[0;32m   1021\u001b[0m     mimetype \u001b[38;5;241m=\u001b[39m \u001b[38;5;28mself\u001b[39m\u001b[38;5;241m.\u001b[39m_mimetype\n\u001b[1;32m-> 1022\u001b[0m     data, metadata \u001b[38;5;241m=\u001b[39m \u001b[38;5;28;43mself\u001b[39;49m\u001b[38;5;241;43m.\u001b[39;49m\u001b[43m_data_and_metadata\u001b[49m\u001b[43m(\u001b[49m\u001b[43malways_both\u001b[49m\u001b[38;5;241;43m=\u001b[39;49m\u001b[38;5;28;43;01mTrue\u001b[39;49;00m\u001b[43m)\u001b[49m\n\u001b[0;32m   1023\u001b[0m     \u001b[38;5;28;01mif\u001b[39;00m metadata:\n\u001b[0;32m   1024\u001b[0m         metadata \u001b[38;5;241m=\u001b[39m {mimetype: metadata}\n",
      "File \u001b[1;32m~\\anaconda3\\lib\\site-packages\\IPython\\core\\display.py:1034\u001b[0m, in \u001b[0;36mImage._data_and_metadata\u001b[1;34m(self, always_both)\u001b[0m\n\u001b[0;32m   1032\u001b[0m     b64_data \u001b[38;5;241m=\u001b[39m b2a_base64(\u001b[38;5;28mself\u001b[39m\u001b[38;5;241m.\u001b[39mdata)\u001b[38;5;241m.\u001b[39mdecode(\u001b[38;5;124m'\u001b[39m\u001b[38;5;124mascii\u001b[39m\u001b[38;5;124m'\u001b[39m)\n\u001b[0;32m   1033\u001b[0m \u001b[38;5;28;01mexcept\u001b[39;00m \u001b[38;5;167;01mTypeError\u001b[39;00m \u001b[38;5;28;01mas\u001b[39;00m e:\n\u001b[1;32m-> 1034\u001b[0m     \u001b[38;5;28;01mraise\u001b[39;00m \u001b[38;5;167;01mFileNotFoundError\u001b[39;00m(\n\u001b[0;32m   1035\u001b[0m         \u001b[38;5;124m\"\u001b[39m\u001b[38;5;124mNo such file or directory: \u001b[39m\u001b[38;5;124m'\u001b[39m\u001b[38;5;132;01m%s\u001b[39;00m\u001b[38;5;124m'\u001b[39m\u001b[38;5;124m\"\u001b[39m \u001b[38;5;241m%\u001b[39m (\u001b[38;5;28mself\u001b[39m\u001b[38;5;241m.\u001b[39mdata)) \u001b[38;5;28;01mfrom\u001b[39;00m \u001b[38;5;21;01me\u001b[39;00m\n\u001b[0;32m   1036\u001b[0m md \u001b[38;5;241m=\u001b[39m {}\n\u001b[0;32m   1037\u001b[0m \u001b[38;5;28;01mif\u001b[39;00m \u001b[38;5;28mself\u001b[39m\u001b[38;5;241m.\u001b[39mmetadata:\n",
      "\u001b[1;31mFileNotFoundError\u001b[0m: No such file or directory: './images/img5.png'"
     ]
    },
    {
     "ename": "FileNotFoundError",
     "evalue": "No such file or directory: './images/img5.png'",
     "output_type": "error",
     "traceback": [
      "\u001b[1;31m---------------------------------------------------------------------------\u001b[0m",
      "\u001b[1;31mTypeError\u001b[0m                                 Traceback (most recent call last)",
      "File \u001b[1;32m~\\anaconda3\\lib\\site-packages\\IPython\\core\\display.py:1032\u001b[0m, in \u001b[0;36mImage._data_and_metadata\u001b[1;34m(self, always_both)\u001b[0m\n\u001b[0;32m   1031\u001b[0m \u001b[38;5;28;01mtry\u001b[39;00m:\n\u001b[1;32m-> 1032\u001b[0m     b64_data \u001b[38;5;241m=\u001b[39m \u001b[43mb2a_base64\u001b[49m\u001b[43m(\u001b[49m\u001b[38;5;28;43mself\u001b[39;49m\u001b[38;5;241;43m.\u001b[39;49m\u001b[43mdata\u001b[49m\u001b[43m)\u001b[49m\u001b[38;5;241m.\u001b[39mdecode(\u001b[38;5;124m'\u001b[39m\u001b[38;5;124mascii\u001b[39m\u001b[38;5;124m'\u001b[39m)\n\u001b[0;32m   1033\u001b[0m \u001b[38;5;28;01mexcept\u001b[39;00m \u001b[38;5;167;01mTypeError\u001b[39;00m \u001b[38;5;28;01mas\u001b[39;00m e:\n",
      "\u001b[1;31mTypeError\u001b[0m: a bytes-like object is required, not 'str'",
      "\nThe above exception was the direct cause of the following exception:\n",
      "\u001b[1;31mFileNotFoundError\u001b[0m                         Traceback (most recent call last)",
      "File \u001b[1;32m~\\anaconda3\\lib\\site-packages\\IPython\\core\\formatters.py:343\u001b[0m, in \u001b[0;36mBaseFormatter.__call__\u001b[1;34m(self, obj)\u001b[0m\n\u001b[0;32m    341\u001b[0m     method \u001b[38;5;241m=\u001b[39m get_real_method(obj, \u001b[38;5;28mself\u001b[39m\u001b[38;5;241m.\u001b[39mprint_method)\n\u001b[0;32m    342\u001b[0m     \u001b[38;5;28;01mif\u001b[39;00m method \u001b[38;5;129;01mis\u001b[39;00m \u001b[38;5;129;01mnot\u001b[39;00m \u001b[38;5;28;01mNone\u001b[39;00m:\n\u001b[1;32m--> 343\u001b[0m         \u001b[38;5;28;01mreturn\u001b[39;00m \u001b[43mmethod\u001b[49m\u001b[43m(\u001b[49m\u001b[43m)\u001b[49m\n\u001b[0;32m    344\u001b[0m     \u001b[38;5;28;01mreturn\u001b[39;00m \u001b[38;5;28;01mNone\u001b[39;00m\n\u001b[0;32m    345\u001b[0m \u001b[38;5;28;01melse\u001b[39;00m:\n",
      "File \u001b[1;32m~\\anaconda3\\lib\\site-packages\\IPython\\core\\display.py:1054\u001b[0m, in \u001b[0;36mImage._repr_png_\u001b[1;34m(self)\u001b[0m\n\u001b[0;32m   1052\u001b[0m \u001b[38;5;28;01mdef\u001b[39;00m \u001b[38;5;21m_repr_png_\u001b[39m(\u001b[38;5;28mself\u001b[39m):\n\u001b[0;32m   1053\u001b[0m     \u001b[38;5;28;01mif\u001b[39;00m \u001b[38;5;28mself\u001b[39m\u001b[38;5;241m.\u001b[39membed \u001b[38;5;129;01mand\u001b[39;00m \u001b[38;5;28mself\u001b[39m\u001b[38;5;241m.\u001b[39mformat \u001b[38;5;241m==\u001b[39m \u001b[38;5;28mself\u001b[39m\u001b[38;5;241m.\u001b[39m_FMT_PNG:\n\u001b[1;32m-> 1054\u001b[0m         \u001b[38;5;28;01mreturn\u001b[39;00m \u001b[38;5;28;43mself\u001b[39;49m\u001b[38;5;241;43m.\u001b[39;49m\u001b[43m_data_and_metadata\u001b[49m\u001b[43m(\u001b[49m\u001b[43m)\u001b[49m\n",
      "File \u001b[1;32m~\\anaconda3\\lib\\site-packages\\IPython\\core\\display.py:1034\u001b[0m, in \u001b[0;36mImage._data_and_metadata\u001b[1;34m(self, always_both)\u001b[0m\n\u001b[0;32m   1032\u001b[0m     b64_data \u001b[38;5;241m=\u001b[39m b2a_base64(\u001b[38;5;28mself\u001b[39m\u001b[38;5;241m.\u001b[39mdata)\u001b[38;5;241m.\u001b[39mdecode(\u001b[38;5;124m'\u001b[39m\u001b[38;5;124mascii\u001b[39m\u001b[38;5;124m'\u001b[39m)\n\u001b[0;32m   1033\u001b[0m \u001b[38;5;28;01mexcept\u001b[39;00m \u001b[38;5;167;01mTypeError\u001b[39;00m \u001b[38;5;28;01mas\u001b[39;00m e:\n\u001b[1;32m-> 1034\u001b[0m     \u001b[38;5;28;01mraise\u001b[39;00m \u001b[38;5;167;01mFileNotFoundError\u001b[39;00m(\n\u001b[0;32m   1035\u001b[0m         \u001b[38;5;124m\"\u001b[39m\u001b[38;5;124mNo such file or directory: \u001b[39m\u001b[38;5;124m'\u001b[39m\u001b[38;5;132;01m%s\u001b[39;00m\u001b[38;5;124m'\u001b[39m\u001b[38;5;124m\"\u001b[39m \u001b[38;5;241m%\u001b[39m (\u001b[38;5;28mself\u001b[39m\u001b[38;5;241m.\u001b[39mdata)) \u001b[38;5;28;01mfrom\u001b[39;00m \u001b[38;5;21;01me\u001b[39;00m\n\u001b[0;32m   1036\u001b[0m md \u001b[38;5;241m=\u001b[39m {}\n\u001b[0;32m   1037\u001b[0m \u001b[38;5;28;01mif\u001b[39;00m \u001b[38;5;28mself\u001b[39m\u001b[38;5;241m.\u001b[39mmetadata:\n",
      "\u001b[1;31mFileNotFoundError\u001b[0m: No such file or directory: './images/img5.png'"
     ]
    },
    {
     "data": {
      "text/plain": [
       "<IPython.core.display.Image object>"
      ]
     },
     "execution_count": 36,
     "metadata": {},
     "output_type": "execute_result"
    }
   ],
   "source": [
    "from IPython.display import Image\n",
    "Image('./images/img5.png')"
   ]
  },
  {
   "cell_type": "code",
   "execution_count": 37,
   "id": "b68a464e",
   "metadata": {
    "id": "b68a464e"
   },
   "outputs": [],
   "source": [
    "bike_train = pd.read_csv('datasets/bike_train.csv')\n",
    "bike_test = pd.read_csv('datasets/bike_test.csv')\n",
    "submission = pd.read_csv('datasets/sampleSubmission.csv')"
   ]
  },
  {
   "cell_type": "markdown",
   "id": "e9d6cd7a",
   "metadata": {
    "id": "e9d6cd7a"
   },
   "source": [
    "### 5.1 이상치 제거"
   ]
  },
  {
   "cell_type": "code",
   "execution_count": 38,
   "id": "c404de2e",
   "metadata": {
    "id": "c404de2e",
    "outputId": "a1255a1b-5036-4989-ad62-2e3034151fcf"
   },
   "outputs": [
    {
     "data": {
      "text/plain": [
       "1"
      ]
     },
     "execution_count": 38,
     "metadata": {},
     "output_type": "execute_result"
    }
   ],
   "source": [
    "(bike_train['weather'] == 4).sum()"
   ]
  },
  {
   "cell_type": "code",
   "execution_count": 39,
   "id": "fccc03a8",
   "metadata": {
    "id": "fccc03a8",
    "outputId": "c1fe3af3-e278-428d-ab30-8270af484b56"
   },
   "outputs": [
    {
     "data": {
      "text/plain": [
       "(10886, 12)"
      ]
     },
     "execution_count": 39,
     "metadata": {},
     "output_type": "execute_result"
    }
   ],
   "source": [
    "bike_train.shape"
   ]
  },
  {
   "cell_type": "code",
   "execution_count": 40,
   "id": "4c8b7fe1",
   "metadata": {
    "id": "4c8b7fe1"
   },
   "outputs": [],
   "source": [
    "bike_train = bike_train[bike_train['weather'] != 4]"
   ]
  },
  {
   "cell_type": "code",
   "execution_count": 41,
   "id": "06d5a19f",
   "metadata": {
    "id": "06d5a19f",
    "outputId": "69701793-7adb-4e3f-c101-4d8628ec1aff"
   },
   "outputs": [
    {
     "data": {
      "text/plain": [
       "(10885, 12)"
      ]
     },
     "execution_count": 41,
     "metadata": {},
     "output_type": "execute_result"
    }
   ],
   "source": [
    "bike_train.shape"
   ]
  },
  {
   "cell_type": "markdown",
   "id": "536e1609",
   "metadata": {
    "id": "536e1609"
   },
   "source": [
    "### 5.2 훈련 데이터와 테스트 데이터 합치기"
   ]
  },
  {
   "cell_type": "code",
   "execution_count": 42,
   "id": "d5d4017d",
   "metadata": {
    "id": "d5d4017d",
    "outputId": "fc054036-84c7-4938-8915-4cf41aa6c26f"
   },
   "outputs": [
    {
     "data": {
      "text/html": [
       "<div>\n",
       "<style scoped>\n",
       "    .dataframe tbody tr th:only-of-type {\n",
       "        vertical-align: middle;\n",
       "    }\n",
       "\n",
       "    .dataframe tbody tr th {\n",
       "        vertical-align: top;\n",
       "    }\n",
       "\n",
       "    .dataframe thead th {\n",
       "        text-align: right;\n",
       "    }\n",
       "</style>\n",
       "<table border=\"1\" class=\"dataframe\">\n",
       "  <thead>\n",
       "    <tr style=\"text-align: right;\">\n",
       "      <th></th>\n",
       "      <th>datetime</th>\n",
       "      <th>season</th>\n",
       "      <th>holiday</th>\n",
       "      <th>workingday</th>\n",
       "      <th>weather</th>\n",
       "      <th>temp</th>\n",
       "      <th>atemp</th>\n",
       "      <th>humidity</th>\n",
       "      <th>windspeed</th>\n",
       "      <th>casual</th>\n",
       "      <th>registered</th>\n",
       "      <th>count</th>\n",
       "    </tr>\n",
       "  </thead>\n",
       "  <tbody>\n",
       "    <tr>\n",
       "      <th>0</th>\n",
       "      <td>2011-01-01 00:00:00</td>\n",
       "      <td>1</td>\n",
       "      <td>0</td>\n",
       "      <td>0</td>\n",
       "      <td>1</td>\n",
       "      <td>9.84</td>\n",
       "      <td>14.395</td>\n",
       "      <td>81</td>\n",
       "      <td>0.0000</td>\n",
       "      <td>3.0</td>\n",
       "      <td>13.0</td>\n",
       "      <td>16.0</td>\n",
       "    </tr>\n",
       "    <tr>\n",
       "      <th>1</th>\n",
       "      <td>2011-01-01 01:00:00</td>\n",
       "      <td>1</td>\n",
       "      <td>0</td>\n",
       "      <td>0</td>\n",
       "      <td>1</td>\n",
       "      <td>9.02</td>\n",
       "      <td>13.635</td>\n",
       "      <td>80</td>\n",
       "      <td>0.0000</td>\n",
       "      <td>8.0</td>\n",
       "      <td>32.0</td>\n",
       "      <td>40.0</td>\n",
       "    </tr>\n",
       "    <tr>\n",
       "      <th>2</th>\n",
       "      <td>2011-01-01 02:00:00</td>\n",
       "      <td>1</td>\n",
       "      <td>0</td>\n",
       "      <td>0</td>\n",
       "      <td>1</td>\n",
       "      <td>9.02</td>\n",
       "      <td>13.635</td>\n",
       "      <td>80</td>\n",
       "      <td>0.0000</td>\n",
       "      <td>5.0</td>\n",
       "      <td>27.0</td>\n",
       "      <td>32.0</td>\n",
       "    </tr>\n",
       "    <tr>\n",
       "      <th>3</th>\n",
       "      <td>2011-01-01 03:00:00</td>\n",
       "      <td>1</td>\n",
       "      <td>0</td>\n",
       "      <td>0</td>\n",
       "      <td>1</td>\n",
       "      <td>9.84</td>\n",
       "      <td>14.395</td>\n",
       "      <td>75</td>\n",
       "      <td>0.0000</td>\n",
       "      <td>3.0</td>\n",
       "      <td>10.0</td>\n",
       "      <td>13.0</td>\n",
       "    </tr>\n",
       "    <tr>\n",
       "      <th>4</th>\n",
       "      <td>2011-01-01 04:00:00</td>\n",
       "      <td>1</td>\n",
       "      <td>0</td>\n",
       "      <td>0</td>\n",
       "      <td>1</td>\n",
       "      <td>9.84</td>\n",
       "      <td>14.395</td>\n",
       "      <td>75</td>\n",
       "      <td>0.0000</td>\n",
       "      <td>0.0</td>\n",
       "      <td>1.0</td>\n",
       "      <td>1.0</td>\n",
       "    </tr>\n",
       "    <tr>\n",
       "      <th>...</th>\n",
       "      <td>...</td>\n",
       "      <td>...</td>\n",
       "      <td>...</td>\n",
       "      <td>...</td>\n",
       "      <td>...</td>\n",
       "      <td>...</td>\n",
       "      <td>...</td>\n",
       "      <td>...</td>\n",
       "      <td>...</td>\n",
       "      <td>...</td>\n",
       "      <td>...</td>\n",
       "      <td>...</td>\n",
       "    </tr>\n",
       "    <tr>\n",
       "      <th>6488</th>\n",
       "      <td>2012-12-31 19:00:00</td>\n",
       "      <td>1</td>\n",
       "      <td>0</td>\n",
       "      <td>1</td>\n",
       "      <td>2</td>\n",
       "      <td>10.66</td>\n",
       "      <td>12.880</td>\n",
       "      <td>60</td>\n",
       "      <td>11.0014</td>\n",
       "      <td>NaN</td>\n",
       "      <td>NaN</td>\n",
       "      <td>NaN</td>\n",
       "    </tr>\n",
       "    <tr>\n",
       "      <th>6489</th>\n",
       "      <td>2012-12-31 20:00:00</td>\n",
       "      <td>1</td>\n",
       "      <td>0</td>\n",
       "      <td>1</td>\n",
       "      <td>2</td>\n",
       "      <td>10.66</td>\n",
       "      <td>12.880</td>\n",
       "      <td>60</td>\n",
       "      <td>11.0014</td>\n",
       "      <td>NaN</td>\n",
       "      <td>NaN</td>\n",
       "      <td>NaN</td>\n",
       "    </tr>\n",
       "    <tr>\n",
       "      <th>6490</th>\n",
       "      <td>2012-12-31 21:00:00</td>\n",
       "      <td>1</td>\n",
       "      <td>0</td>\n",
       "      <td>1</td>\n",
       "      <td>1</td>\n",
       "      <td>10.66</td>\n",
       "      <td>12.880</td>\n",
       "      <td>60</td>\n",
       "      <td>11.0014</td>\n",
       "      <td>NaN</td>\n",
       "      <td>NaN</td>\n",
       "      <td>NaN</td>\n",
       "    </tr>\n",
       "    <tr>\n",
       "      <th>6491</th>\n",
       "      <td>2012-12-31 22:00:00</td>\n",
       "      <td>1</td>\n",
       "      <td>0</td>\n",
       "      <td>1</td>\n",
       "      <td>1</td>\n",
       "      <td>10.66</td>\n",
       "      <td>13.635</td>\n",
       "      <td>56</td>\n",
       "      <td>8.9981</td>\n",
       "      <td>NaN</td>\n",
       "      <td>NaN</td>\n",
       "      <td>NaN</td>\n",
       "    </tr>\n",
       "    <tr>\n",
       "      <th>6492</th>\n",
       "      <td>2012-12-31 23:00:00</td>\n",
       "      <td>1</td>\n",
       "      <td>0</td>\n",
       "      <td>1</td>\n",
       "      <td>1</td>\n",
       "      <td>10.66</td>\n",
       "      <td>13.635</td>\n",
       "      <td>65</td>\n",
       "      <td>8.9981</td>\n",
       "      <td>NaN</td>\n",
       "      <td>NaN</td>\n",
       "      <td>NaN</td>\n",
       "    </tr>\n",
       "  </tbody>\n",
       "</table>\n",
       "<p>17378 rows × 12 columns</p>\n",
       "</div>"
      ],
      "text/plain": [
       "                 datetime  season  holiday  workingday  weather   temp  \\\n",
       "0     2011-01-01 00:00:00       1        0           0        1   9.84   \n",
       "1     2011-01-01 01:00:00       1        0           0        1   9.02   \n",
       "2     2011-01-01 02:00:00       1        0           0        1   9.02   \n",
       "3     2011-01-01 03:00:00       1        0           0        1   9.84   \n",
       "4     2011-01-01 04:00:00       1        0           0        1   9.84   \n",
       "...                   ...     ...      ...         ...      ...    ...   \n",
       "6488  2012-12-31 19:00:00       1        0           1        2  10.66   \n",
       "6489  2012-12-31 20:00:00       1        0           1        2  10.66   \n",
       "6490  2012-12-31 21:00:00       1        0           1        1  10.66   \n",
       "6491  2012-12-31 22:00:00       1        0           1        1  10.66   \n",
       "6492  2012-12-31 23:00:00       1        0           1        1  10.66   \n",
       "\n",
       "       atemp  humidity  windspeed  casual  registered  count  \n",
       "0     14.395        81     0.0000     3.0        13.0   16.0  \n",
       "1     13.635        80     0.0000     8.0        32.0   40.0  \n",
       "2     13.635        80     0.0000     5.0        27.0   32.0  \n",
       "3     14.395        75     0.0000     3.0        10.0   13.0  \n",
       "4     14.395        75     0.0000     0.0         1.0    1.0  \n",
       "...      ...       ...        ...     ...         ...    ...  \n",
       "6488  12.880        60    11.0014     NaN         NaN    NaN  \n",
       "6489  12.880        60    11.0014     NaN         NaN    NaN  \n",
       "6490  12.880        60    11.0014     NaN         NaN    NaN  \n",
       "6491  13.635        56     8.9981     NaN         NaN    NaN  \n",
       "6492  13.635        65     8.9981     NaN         NaN    NaN  \n",
       "\n",
       "[17378 rows x 12 columns]"
      ]
     },
     "execution_count": 42,
     "metadata": {},
     "output_type": "execute_result"
    }
   ],
   "source": [
    "pd.concat([bike_train, bike_test], axis=0) # 행축으로 연결"
   ]
  },
  {
   "cell_type": "code",
   "execution_count": 43,
   "id": "72ae89c9",
   "metadata": {
    "id": "72ae89c9",
    "outputId": "a9c4d167-991a-44fa-d0e2-ccee93b9a62e"
   },
   "outputs": [
    {
     "data": {
      "text/html": [
       "<div>\n",
       "<style scoped>\n",
       "    .dataframe tbody tr th:only-of-type {\n",
       "        vertical-align: middle;\n",
       "    }\n",
       "\n",
       "    .dataframe tbody tr th {\n",
       "        vertical-align: top;\n",
       "    }\n",
       "\n",
       "    .dataframe thead th {\n",
       "        text-align: right;\n",
       "    }\n",
       "</style>\n",
       "<table border=\"1\" class=\"dataframe\">\n",
       "  <thead>\n",
       "    <tr style=\"text-align: right;\">\n",
       "      <th></th>\n",
       "      <th>datetime</th>\n",
       "      <th>season</th>\n",
       "      <th>holiday</th>\n",
       "      <th>workingday</th>\n",
       "      <th>weather</th>\n",
       "      <th>temp</th>\n",
       "      <th>atemp</th>\n",
       "      <th>humidity</th>\n",
       "      <th>windspeed</th>\n",
       "      <th>casual</th>\n",
       "      <th>registered</th>\n",
       "      <th>count</th>\n",
       "    </tr>\n",
       "  </thead>\n",
       "  <tbody>\n",
       "    <tr>\n",
       "      <th>0</th>\n",
       "      <td>2011-01-01 00:00:00</td>\n",
       "      <td>1</td>\n",
       "      <td>0</td>\n",
       "      <td>0</td>\n",
       "      <td>1</td>\n",
       "      <td>9.84</td>\n",
       "      <td>14.395</td>\n",
       "      <td>81</td>\n",
       "      <td>0.0000</td>\n",
       "      <td>3.0</td>\n",
       "      <td>13.0</td>\n",
       "      <td>16.0</td>\n",
       "    </tr>\n",
       "    <tr>\n",
       "      <th>1</th>\n",
       "      <td>2011-01-01 01:00:00</td>\n",
       "      <td>1</td>\n",
       "      <td>0</td>\n",
       "      <td>0</td>\n",
       "      <td>1</td>\n",
       "      <td>9.02</td>\n",
       "      <td>13.635</td>\n",
       "      <td>80</td>\n",
       "      <td>0.0000</td>\n",
       "      <td>8.0</td>\n",
       "      <td>32.0</td>\n",
       "      <td>40.0</td>\n",
       "    </tr>\n",
       "    <tr>\n",
       "      <th>2</th>\n",
       "      <td>2011-01-01 02:00:00</td>\n",
       "      <td>1</td>\n",
       "      <td>0</td>\n",
       "      <td>0</td>\n",
       "      <td>1</td>\n",
       "      <td>9.02</td>\n",
       "      <td>13.635</td>\n",
       "      <td>80</td>\n",
       "      <td>0.0000</td>\n",
       "      <td>5.0</td>\n",
       "      <td>27.0</td>\n",
       "      <td>32.0</td>\n",
       "    </tr>\n",
       "    <tr>\n",
       "      <th>3</th>\n",
       "      <td>2011-01-01 03:00:00</td>\n",
       "      <td>1</td>\n",
       "      <td>0</td>\n",
       "      <td>0</td>\n",
       "      <td>1</td>\n",
       "      <td>9.84</td>\n",
       "      <td>14.395</td>\n",
       "      <td>75</td>\n",
       "      <td>0.0000</td>\n",
       "      <td>3.0</td>\n",
       "      <td>10.0</td>\n",
       "      <td>13.0</td>\n",
       "    </tr>\n",
       "    <tr>\n",
       "      <th>4</th>\n",
       "      <td>2011-01-01 04:00:00</td>\n",
       "      <td>1</td>\n",
       "      <td>0</td>\n",
       "      <td>0</td>\n",
       "      <td>1</td>\n",
       "      <td>9.84</td>\n",
       "      <td>14.395</td>\n",
       "      <td>75</td>\n",
       "      <td>0.0000</td>\n",
       "      <td>0.0</td>\n",
       "      <td>1.0</td>\n",
       "      <td>1.0</td>\n",
       "    </tr>\n",
       "    <tr>\n",
       "      <th>...</th>\n",
       "      <td>...</td>\n",
       "      <td>...</td>\n",
       "      <td>...</td>\n",
       "      <td>...</td>\n",
       "      <td>...</td>\n",
       "      <td>...</td>\n",
       "      <td>...</td>\n",
       "      <td>...</td>\n",
       "      <td>...</td>\n",
       "      <td>...</td>\n",
       "      <td>...</td>\n",
       "      <td>...</td>\n",
       "    </tr>\n",
       "    <tr>\n",
       "      <th>17373</th>\n",
       "      <td>2012-12-31 19:00:00</td>\n",
       "      <td>1</td>\n",
       "      <td>0</td>\n",
       "      <td>1</td>\n",
       "      <td>2</td>\n",
       "      <td>10.66</td>\n",
       "      <td>12.880</td>\n",
       "      <td>60</td>\n",
       "      <td>11.0014</td>\n",
       "      <td>NaN</td>\n",
       "      <td>NaN</td>\n",
       "      <td>NaN</td>\n",
       "    </tr>\n",
       "    <tr>\n",
       "      <th>17374</th>\n",
       "      <td>2012-12-31 20:00:00</td>\n",
       "      <td>1</td>\n",
       "      <td>0</td>\n",
       "      <td>1</td>\n",
       "      <td>2</td>\n",
       "      <td>10.66</td>\n",
       "      <td>12.880</td>\n",
       "      <td>60</td>\n",
       "      <td>11.0014</td>\n",
       "      <td>NaN</td>\n",
       "      <td>NaN</td>\n",
       "      <td>NaN</td>\n",
       "    </tr>\n",
       "    <tr>\n",
       "      <th>17375</th>\n",
       "      <td>2012-12-31 21:00:00</td>\n",
       "      <td>1</td>\n",
       "      <td>0</td>\n",
       "      <td>1</td>\n",
       "      <td>1</td>\n",
       "      <td>10.66</td>\n",
       "      <td>12.880</td>\n",
       "      <td>60</td>\n",
       "      <td>11.0014</td>\n",
       "      <td>NaN</td>\n",
       "      <td>NaN</td>\n",
       "      <td>NaN</td>\n",
       "    </tr>\n",
       "    <tr>\n",
       "      <th>17376</th>\n",
       "      <td>2012-12-31 22:00:00</td>\n",
       "      <td>1</td>\n",
       "      <td>0</td>\n",
       "      <td>1</td>\n",
       "      <td>1</td>\n",
       "      <td>10.66</td>\n",
       "      <td>13.635</td>\n",
       "      <td>56</td>\n",
       "      <td>8.9981</td>\n",
       "      <td>NaN</td>\n",
       "      <td>NaN</td>\n",
       "      <td>NaN</td>\n",
       "    </tr>\n",
       "    <tr>\n",
       "      <th>17377</th>\n",
       "      <td>2012-12-31 23:00:00</td>\n",
       "      <td>1</td>\n",
       "      <td>0</td>\n",
       "      <td>1</td>\n",
       "      <td>1</td>\n",
       "      <td>10.66</td>\n",
       "      <td>13.635</td>\n",
       "      <td>65</td>\n",
       "      <td>8.9981</td>\n",
       "      <td>NaN</td>\n",
       "      <td>NaN</td>\n",
       "      <td>NaN</td>\n",
       "    </tr>\n",
       "  </tbody>\n",
       "</table>\n",
       "<p>17378 rows × 12 columns</p>\n",
       "</div>"
      ],
      "text/plain": [
       "                  datetime  season  holiday  workingday  weather   temp  \\\n",
       "0      2011-01-01 00:00:00       1        0           0        1   9.84   \n",
       "1      2011-01-01 01:00:00       1        0           0        1   9.02   \n",
       "2      2011-01-01 02:00:00       1        0           0        1   9.02   \n",
       "3      2011-01-01 03:00:00       1        0           0        1   9.84   \n",
       "4      2011-01-01 04:00:00       1        0           0        1   9.84   \n",
       "...                    ...     ...      ...         ...      ...    ...   \n",
       "17373  2012-12-31 19:00:00       1        0           1        2  10.66   \n",
       "17374  2012-12-31 20:00:00       1        0           1        2  10.66   \n",
       "17375  2012-12-31 21:00:00       1        0           1        1  10.66   \n",
       "17376  2012-12-31 22:00:00       1        0           1        1  10.66   \n",
       "17377  2012-12-31 23:00:00       1        0           1        1  10.66   \n",
       "\n",
       "        atemp  humidity  windspeed  casual  registered  count  \n",
       "0      14.395        81     0.0000     3.0        13.0   16.0  \n",
       "1      13.635        80     0.0000     8.0        32.0   40.0  \n",
       "2      13.635        80     0.0000     5.0        27.0   32.0  \n",
       "3      14.395        75     0.0000     3.0        10.0   13.0  \n",
       "4      14.395        75     0.0000     0.0         1.0    1.0  \n",
       "...       ...       ...        ...     ...         ...    ...  \n",
       "17373  12.880        60    11.0014     NaN         NaN    NaN  \n",
       "17374  12.880        60    11.0014     NaN         NaN    NaN  \n",
       "17375  12.880        60    11.0014     NaN         NaN    NaN  \n",
       "17376  13.635        56     8.9981     NaN         NaN    NaN  \n",
       "17377  13.635        65     8.9981     NaN         NaN    NaN  \n",
       "\n",
       "[17378 rows x 12 columns]"
      ]
     },
     "execution_count": 43,
     "metadata": {},
     "output_type": "execute_result"
    }
   ],
   "source": [
    "all_data = pd.concat([bike_train, bike_test], axis=0, ignore_index=True) # 행축으로 연결\n",
    "all_data"
   ]
  },
  {
   "cell_type": "markdown",
   "id": "f8612d6d",
   "metadata": {
    "id": "f8612d6d"
   },
   "source": [
    "### 5.3 datetime으로부터 파생특성 추가(특성 공학, feature engineering)"
   ]
  },
  {
   "cell_type": "code",
   "execution_count": 44,
   "id": "f1cb6217",
   "metadata": {
    "id": "f1cb6217"
   },
   "outputs": [],
   "source": [
    "all_data['datetime'] = all_data.datetime.apply(pd.to_datetime)\n",
    "all_data['year'] = all_data.datetime.apply(lambda x : x.year)\n",
    "all_data['month'] = all_data.datetime.apply(lambda x : x.month)\n",
    "all_data['hour'] = all_data.datetime.apply(lambda x : x.hour)\n",
    "all_data['dayofweek'] = all_data.datetime.apply(lambda x : x.dayofweek) "
   ]
  },
  {
   "cell_type": "markdown",
   "id": "43037adf",
   "metadata": {
    "id": "43037adf"
   },
   "source": [
    "### 5.4 필요없는 특성 제거"
   ]
  },
  {
   "cell_type": "code",
   "execution_count": 45,
   "id": "0a0288ed",
   "metadata": {
    "id": "0a0288ed"
   },
   "outputs": [],
   "source": [
    "drop_features = ['casual', 'registered', 'datetime', 'windspeed', 'month']\n",
    "all_data = all_data.drop(drop_features, axis=1)"
   ]
  },
  {
   "cell_type": "markdown",
   "id": "a664477c",
   "metadata": {
    "id": "a664477c"
   },
   "source": [
    "* 탐색적 데이터 분석에서 얻은 인사트를 활용해 의미있는 특성과 불필요한 특성을 구분(특성 선택)\n",
    "- 특성이 많다고 무조건 좋은게 아님\n",
    "- 예측 성능을 높이려면 타기값과 관련있는 특성이 필요\n",
    "- 탐색적 데이터 분석, 상관관계 매트릭스 등의 배경지식을 종합적으로 활용해 판단해야 함\n",
    "- 모델링 과정에서 특성 중요도(Tree model), 회귀 계수등을 참고해 볼 수 있음"
   ]
  },
  {
   "cell_type": "markdown",
   "id": "e4cba81a",
   "metadata": {
    "id": "e4cba81a"
   },
   "source": [
    "### 5.5 훈련 데이터와 테스트 데이터 나누기"
   ]
  },
  {
   "cell_type": "code",
   "execution_count": 46,
   "id": "3f2b3478",
   "metadata": {
    "id": "3f2b3478",
    "outputId": "75b6db7d-58b8-489f-9f5e-2f63fcb2600b"
   },
   "outputs": [
    {
     "data": {
      "text/html": [
       "<div>\n",
       "<style scoped>\n",
       "    .dataframe tbody tr th:only-of-type {\n",
       "        vertical-align: middle;\n",
       "    }\n",
       "\n",
       "    .dataframe tbody tr th {\n",
       "        vertical-align: top;\n",
       "    }\n",
       "\n",
       "    .dataframe thead th {\n",
       "        text-align: right;\n",
       "    }\n",
       "</style>\n",
       "<table border=\"1\" class=\"dataframe\">\n",
       "  <thead>\n",
       "    <tr style=\"text-align: right;\">\n",
       "      <th></th>\n",
       "      <th>season</th>\n",
       "      <th>holiday</th>\n",
       "      <th>workingday</th>\n",
       "      <th>weather</th>\n",
       "      <th>temp</th>\n",
       "      <th>atemp</th>\n",
       "      <th>humidity</th>\n",
       "      <th>count</th>\n",
       "      <th>year</th>\n",
       "      <th>hour</th>\n",
       "      <th>dayofweek</th>\n",
       "    </tr>\n",
       "  </thead>\n",
       "  <tbody>\n",
       "    <tr>\n",
       "      <th>10885</th>\n",
       "      <td>1</td>\n",
       "      <td>0</td>\n",
       "      <td>1</td>\n",
       "      <td>1</td>\n",
       "      <td>10.66</td>\n",
       "      <td>11.365</td>\n",
       "      <td>56</td>\n",
       "      <td>NaN</td>\n",
       "      <td>2011</td>\n",
       "      <td>0</td>\n",
       "      <td>3</td>\n",
       "    </tr>\n",
       "    <tr>\n",
       "      <th>10886</th>\n",
       "      <td>1</td>\n",
       "      <td>0</td>\n",
       "      <td>1</td>\n",
       "      <td>1</td>\n",
       "      <td>10.66</td>\n",
       "      <td>13.635</td>\n",
       "      <td>56</td>\n",
       "      <td>NaN</td>\n",
       "      <td>2011</td>\n",
       "      <td>1</td>\n",
       "      <td>3</td>\n",
       "    </tr>\n",
       "    <tr>\n",
       "      <th>10887</th>\n",
       "      <td>1</td>\n",
       "      <td>0</td>\n",
       "      <td>1</td>\n",
       "      <td>1</td>\n",
       "      <td>10.66</td>\n",
       "      <td>13.635</td>\n",
       "      <td>56</td>\n",
       "      <td>NaN</td>\n",
       "      <td>2011</td>\n",
       "      <td>2</td>\n",
       "      <td>3</td>\n",
       "    </tr>\n",
       "    <tr>\n",
       "      <th>10888</th>\n",
       "      <td>1</td>\n",
       "      <td>0</td>\n",
       "      <td>1</td>\n",
       "      <td>1</td>\n",
       "      <td>10.66</td>\n",
       "      <td>12.880</td>\n",
       "      <td>56</td>\n",
       "      <td>NaN</td>\n",
       "      <td>2011</td>\n",
       "      <td>3</td>\n",
       "      <td>3</td>\n",
       "    </tr>\n",
       "    <tr>\n",
       "      <th>10889</th>\n",
       "      <td>1</td>\n",
       "      <td>0</td>\n",
       "      <td>1</td>\n",
       "      <td>1</td>\n",
       "      <td>10.66</td>\n",
       "      <td>12.880</td>\n",
       "      <td>56</td>\n",
       "      <td>NaN</td>\n",
       "      <td>2011</td>\n",
       "      <td>4</td>\n",
       "      <td>3</td>\n",
       "    </tr>\n",
       "    <tr>\n",
       "      <th>...</th>\n",
       "      <td>...</td>\n",
       "      <td>...</td>\n",
       "      <td>...</td>\n",
       "      <td>...</td>\n",
       "      <td>...</td>\n",
       "      <td>...</td>\n",
       "      <td>...</td>\n",
       "      <td>...</td>\n",
       "      <td>...</td>\n",
       "      <td>...</td>\n",
       "      <td>...</td>\n",
       "    </tr>\n",
       "    <tr>\n",
       "      <th>17373</th>\n",
       "      <td>1</td>\n",
       "      <td>0</td>\n",
       "      <td>1</td>\n",
       "      <td>2</td>\n",
       "      <td>10.66</td>\n",
       "      <td>12.880</td>\n",
       "      <td>60</td>\n",
       "      <td>NaN</td>\n",
       "      <td>2012</td>\n",
       "      <td>19</td>\n",
       "      <td>0</td>\n",
       "    </tr>\n",
       "    <tr>\n",
       "      <th>17374</th>\n",
       "      <td>1</td>\n",
       "      <td>0</td>\n",
       "      <td>1</td>\n",
       "      <td>2</td>\n",
       "      <td>10.66</td>\n",
       "      <td>12.880</td>\n",
       "      <td>60</td>\n",
       "      <td>NaN</td>\n",
       "      <td>2012</td>\n",
       "      <td>20</td>\n",
       "      <td>0</td>\n",
       "    </tr>\n",
       "    <tr>\n",
       "      <th>17375</th>\n",
       "      <td>1</td>\n",
       "      <td>0</td>\n",
       "      <td>1</td>\n",
       "      <td>1</td>\n",
       "      <td>10.66</td>\n",
       "      <td>12.880</td>\n",
       "      <td>60</td>\n",
       "      <td>NaN</td>\n",
       "      <td>2012</td>\n",
       "      <td>21</td>\n",
       "      <td>0</td>\n",
       "    </tr>\n",
       "    <tr>\n",
       "      <th>17376</th>\n",
       "      <td>1</td>\n",
       "      <td>0</td>\n",
       "      <td>1</td>\n",
       "      <td>1</td>\n",
       "      <td>10.66</td>\n",
       "      <td>13.635</td>\n",
       "      <td>56</td>\n",
       "      <td>NaN</td>\n",
       "      <td>2012</td>\n",
       "      <td>22</td>\n",
       "      <td>0</td>\n",
       "    </tr>\n",
       "    <tr>\n",
       "      <th>17377</th>\n",
       "      <td>1</td>\n",
       "      <td>0</td>\n",
       "      <td>1</td>\n",
       "      <td>1</td>\n",
       "      <td>10.66</td>\n",
       "      <td>13.635</td>\n",
       "      <td>65</td>\n",
       "      <td>NaN</td>\n",
       "      <td>2012</td>\n",
       "      <td>23</td>\n",
       "      <td>0</td>\n",
       "    </tr>\n",
       "  </tbody>\n",
       "</table>\n",
       "<p>6493 rows × 11 columns</p>\n",
       "</div>"
      ],
      "text/plain": [
       "       season  holiday  workingday  weather   temp   atemp  humidity  count  \\\n",
       "10885       1        0           1        1  10.66  11.365        56    NaN   \n",
       "10886       1        0           1        1  10.66  13.635        56    NaN   \n",
       "10887       1        0           1        1  10.66  13.635        56    NaN   \n",
       "10888       1        0           1        1  10.66  12.880        56    NaN   \n",
       "10889       1        0           1        1  10.66  12.880        56    NaN   \n",
       "...       ...      ...         ...      ...    ...     ...       ...    ...   \n",
       "17373       1        0           1        2  10.66  12.880        60    NaN   \n",
       "17374       1        0           1        2  10.66  12.880        60    NaN   \n",
       "17375       1        0           1        1  10.66  12.880        60    NaN   \n",
       "17376       1        0           1        1  10.66  13.635        56    NaN   \n",
       "17377       1        0           1        1  10.66  13.635        65    NaN   \n",
       "\n",
       "       year  hour  dayofweek  \n",
       "10885  2011     0          3  \n",
       "10886  2011     1          3  \n",
       "10887  2011     2          3  \n",
       "10888  2011     3          3  \n",
       "10889  2011     4          3  \n",
       "...     ...   ...        ...  \n",
       "17373  2012    19          0  \n",
       "17374  2012    20          0  \n",
       "17375  2012    21          0  \n",
       "17376  2012    22          0  \n",
       "17377  2012    23          0  \n",
       "\n",
       "[6493 rows x 11 columns]"
      ]
     },
     "execution_count": 46,
     "metadata": {},
     "output_type": "execute_result"
    }
   ],
   "source": [
    "all_data[pd.isnull(all_data['count'])]"
   ]
  },
  {
   "cell_type": "code",
   "execution_count": 57,
   "id": "40efaeaf",
   "metadata": {
    "id": "40efaeaf"
   },
   "outputs": [],
   "source": [
    "# Train/Test 데이터 분리하기\n",
    "X_train = all_data[~pd.isnull(all_data['count'])]\n",
    "X_test = all_data[pd.isnull(all_data['count'])]"
   ]
  },
  {
   "cell_type": "code",
   "execution_count": 58,
   "id": "f9586893",
   "metadata": {
    "id": "f9586893"
   },
   "outputs": [],
   "source": [
    "# 타깃값, 특성 분리하기\n",
    "y_train = X_train['count']\n",
    "X_train = X_train.drop(['count'], axis=1)\n",
    "\n",
    "\n",
    "X_test = X_test.drop(['count'], axis=1)\n",
    "# y_test = 없음"
   ]
  },
  {
   "cell_type": "code",
   "execution_count": 59,
   "id": "d07abdd4",
   "metadata": {
    "scrolled": true
   },
   "outputs": [
    {
     "data": {
      "text/html": [
       "<div>\n",
       "<style scoped>\n",
       "    .dataframe tbody tr th:only-of-type {\n",
       "        vertical-align: middle;\n",
       "    }\n",
       "\n",
       "    .dataframe tbody tr th {\n",
       "        vertical-align: top;\n",
       "    }\n",
       "\n",
       "    .dataframe thead th {\n",
       "        text-align: right;\n",
       "    }\n",
       "</style>\n",
       "<table border=\"1\" class=\"dataframe\">\n",
       "  <thead>\n",
       "    <tr style=\"text-align: right;\">\n",
       "      <th></th>\n",
       "      <th>season</th>\n",
       "      <th>holiday</th>\n",
       "      <th>workingday</th>\n",
       "      <th>weather</th>\n",
       "      <th>temp</th>\n",
       "      <th>atemp</th>\n",
       "      <th>humidity</th>\n",
       "      <th>year</th>\n",
       "      <th>hour</th>\n",
       "      <th>dayofweek</th>\n",
       "    </tr>\n",
       "  </thead>\n",
       "  <tbody>\n",
       "    <tr>\n",
       "      <th>0</th>\n",
       "      <td>1</td>\n",
       "      <td>0</td>\n",
       "      <td>0</td>\n",
       "      <td>1</td>\n",
       "      <td>9.84</td>\n",
       "      <td>14.395</td>\n",
       "      <td>81</td>\n",
       "      <td>2011</td>\n",
       "      <td>0</td>\n",
       "      <td>5</td>\n",
       "    </tr>\n",
       "    <tr>\n",
       "      <th>1</th>\n",
       "      <td>1</td>\n",
       "      <td>0</td>\n",
       "      <td>0</td>\n",
       "      <td>1</td>\n",
       "      <td>9.02</td>\n",
       "      <td>13.635</td>\n",
       "      <td>80</td>\n",
       "      <td>2011</td>\n",
       "      <td>1</td>\n",
       "      <td>5</td>\n",
       "    </tr>\n",
       "    <tr>\n",
       "      <th>2</th>\n",
       "      <td>1</td>\n",
       "      <td>0</td>\n",
       "      <td>0</td>\n",
       "      <td>1</td>\n",
       "      <td>9.02</td>\n",
       "      <td>13.635</td>\n",
       "      <td>80</td>\n",
       "      <td>2011</td>\n",
       "      <td>2</td>\n",
       "      <td>5</td>\n",
       "    </tr>\n",
       "    <tr>\n",
       "      <th>3</th>\n",
       "      <td>1</td>\n",
       "      <td>0</td>\n",
       "      <td>0</td>\n",
       "      <td>1</td>\n",
       "      <td>9.84</td>\n",
       "      <td>14.395</td>\n",
       "      <td>75</td>\n",
       "      <td>2011</td>\n",
       "      <td>3</td>\n",
       "      <td>5</td>\n",
       "    </tr>\n",
       "    <tr>\n",
       "      <th>4</th>\n",
       "      <td>1</td>\n",
       "      <td>0</td>\n",
       "      <td>0</td>\n",
       "      <td>1</td>\n",
       "      <td>9.84</td>\n",
       "      <td>14.395</td>\n",
       "      <td>75</td>\n",
       "      <td>2011</td>\n",
       "      <td>4</td>\n",
       "      <td>5</td>\n",
       "    </tr>\n",
       "    <tr>\n",
       "      <th>...</th>\n",
       "      <td>...</td>\n",
       "      <td>...</td>\n",
       "      <td>...</td>\n",
       "      <td>...</td>\n",
       "      <td>...</td>\n",
       "      <td>...</td>\n",
       "      <td>...</td>\n",
       "      <td>...</td>\n",
       "      <td>...</td>\n",
       "      <td>...</td>\n",
       "    </tr>\n",
       "    <tr>\n",
       "      <th>10880</th>\n",
       "      <td>4</td>\n",
       "      <td>0</td>\n",
       "      <td>1</td>\n",
       "      <td>1</td>\n",
       "      <td>15.58</td>\n",
       "      <td>19.695</td>\n",
       "      <td>50</td>\n",
       "      <td>2012</td>\n",
       "      <td>19</td>\n",
       "      <td>2</td>\n",
       "    </tr>\n",
       "    <tr>\n",
       "      <th>10881</th>\n",
       "      <td>4</td>\n",
       "      <td>0</td>\n",
       "      <td>1</td>\n",
       "      <td>1</td>\n",
       "      <td>14.76</td>\n",
       "      <td>17.425</td>\n",
       "      <td>57</td>\n",
       "      <td>2012</td>\n",
       "      <td>20</td>\n",
       "      <td>2</td>\n",
       "    </tr>\n",
       "    <tr>\n",
       "      <th>10882</th>\n",
       "      <td>4</td>\n",
       "      <td>0</td>\n",
       "      <td>1</td>\n",
       "      <td>1</td>\n",
       "      <td>13.94</td>\n",
       "      <td>15.910</td>\n",
       "      <td>61</td>\n",
       "      <td>2012</td>\n",
       "      <td>21</td>\n",
       "      <td>2</td>\n",
       "    </tr>\n",
       "    <tr>\n",
       "      <th>10883</th>\n",
       "      <td>4</td>\n",
       "      <td>0</td>\n",
       "      <td>1</td>\n",
       "      <td>1</td>\n",
       "      <td>13.94</td>\n",
       "      <td>17.425</td>\n",
       "      <td>61</td>\n",
       "      <td>2012</td>\n",
       "      <td>22</td>\n",
       "      <td>2</td>\n",
       "    </tr>\n",
       "    <tr>\n",
       "      <th>10884</th>\n",
       "      <td>4</td>\n",
       "      <td>0</td>\n",
       "      <td>1</td>\n",
       "      <td>1</td>\n",
       "      <td>13.12</td>\n",
       "      <td>16.665</td>\n",
       "      <td>66</td>\n",
       "      <td>2012</td>\n",
       "      <td>23</td>\n",
       "      <td>2</td>\n",
       "    </tr>\n",
       "  </tbody>\n",
       "</table>\n",
       "<p>10885 rows × 10 columns</p>\n",
       "</div>"
      ],
      "text/plain": [
       "       season  holiday  workingday  weather   temp   atemp  humidity  year  \\\n",
       "0           1        0           0        1   9.84  14.395        81  2011   \n",
       "1           1        0           0        1   9.02  13.635        80  2011   \n",
       "2           1        0           0        1   9.02  13.635        80  2011   \n",
       "3           1        0           0        1   9.84  14.395        75  2011   \n",
       "4           1        0           0        1   9.84  14.395        75  2011   \n",
       "...       ...      ...         ...      ...    ...     ...       ...   ...   \n",
       "10880       4        0           1        1  15.58  19.695        50  2012   \n",
       "10881       4        0           1        1  14.76  17.425        57  2012   \n",
       "10882       4        0           1        1  13.94  15.910        61  2012   \n",
       "10883       4        0           1        1  13.94  17.425        61  2012   \n",
       "10884       4        0           1        1  13.12  16.665        66  2012   \n",
       "\n",
       "       hour  dayofweek  \n",
       "0         0          5  \n",
       "1         1          5  \n",
       "2         2          5  \n",
       "3         3          5  \n",
       "4         4          5  \n",
       "...     ...        ...  \n",
       "10880    19          2  \n",
       "10881    20          2  \n",
       "10882    21          2  \n",
       "10883    22          2  \n",
       "10884    23          2  \n",
       "\n",
       "[10885 rows x 10 columns]"
      ]
     },
     "execution_count": 59,
     "metadata": {},
     "output_type": "execute_result"
    }
   ],
   "source": [
    "X_train"
   ]
  },
  {
   "cell_type": "code",
   "execution_count": 60,
   "id": "db3a8b17",
   "metadata": {},
   "outputs": [
    {
     "data": {
      "text/html": [
       "<div>\n",
       "<style scoped>\n",
       "    .dataframe tbody tr th:only-of-type {\n",
       "        vertical-align: middle;\n",
       "    }\n",
       "\n",
       "    .dataframe tbody tr th {\n",
       "        vertical-align: top;\n",
       "    }\n",
       "\n",
       "    .dataframe thead th {\n",
       "        text-align: right;\n",
       "    }\n",
       "</style>\n",
       "<table border=\"1\" class=\"dataframe\">\n",
       "  <thead>\n",
       "    <tr style=\"text-align: right;\">\n",
       "      <th></th>\n",
       "      <th>season</th>\n",
       "      <th>holiday</th>\n",
       "      <th>workingday</th>\n",
       "      <th>weather</th>\n",
       "      <th>temp</th>\n",
       "      <th>atemp</th>\n",
       "      <th>humidity</th>\n",
       "      <th>year</th>\n",
       "      <th>hour</th>\n",
       "      <th>dayofweek</th>\n",
       "    </tr>\n",
       "  </thead>\n",
       "  <tbody>\n",
       "    <tr>\n",
       "      <th>10885</th>\n",
       "      <td>1</td>\n",
       "      <td>0</td>\n",
       "      <td>1</td>\n",
       "      <td>1</td>\n",
       "      <td>10.66</td>\n",
       "      <td>11.365</td>\n",
       "      <td>56</td>\n",
       "      <td>2011</td>\n",
       "      <td>0</td>\n",
       "      <td>3</td>\n",
       "    </tr>\n",
       "    <tr>\n",
       "      <th>10886</th>\n",
       "      <td>1</td>\n",
       "      <td>0</td>\n",
       "      <td>1</td>\n",
       "      <td>1</td>\n",
       "      <td>10.66</td>\n",
       "      <td>13.635</td>\n",
       "      <td>56</td>\n",
       "      <td>2011</td>\n",
       "      <td>1</td>\n",
       "      <td>3</td>\n",
       "    </tr>\n",
       "    <tr>\n",
       "      <th>10887</th>\n",
       "      <td>1</td>\n",
       "      <td>0</td>\n",
       "      <td>1</td>\n",
       "      <td>1</td>\n",
       "      <td>10.66</td>\n",
       "      <td>13.635</td>\n",
       "      <td>56</td>\n",
       "      <td>2011</td>\n",
       "      <td>2</td>\n",
       "      <td>3</td>\n",
       "    </tr>\n",
       "    <tr>\n",
       "      <th>10888</th>\n",
       "      <td>1</td>\n",
       "      <td>0</td>\n",
       "      <td>1</td>\n",
       "      <td>1</td>\n",
       "      <td>10.66</td>\n",
       "      <td>12.880</td>\n",
       "      <td>56</td>\n",
       "      <td>2011</td>\n",
       "      <td>3</td>\n",
       "      <td>3</td>\n",
       "    </tr>\n",
       "    <tr>\n",
       "      <th>10889</th>\n",
       "      <td>1</td>\n",
       "      <td>0</td>\n",
       "      <td>1</td>\n",
       "      <td>1</td>\n",
       "      <td>10.66</td>\n",
       "      <td>12.880</td>\n",
       "      <td>56</td>\n",
       "      <td>2011</td>\n",
       "      <td>4</td>\n",
       "      <td>3</td>\n",
       "    </tr>\n",
       "    <tr>\n",
       "      <th>...</th>\n",
       "      <td>...</td>\n",
       "      <td>...</td>\n",
       "      <td>...</td>\n",
       "      <td>...</td>\n",
       "      <td>...</td>\n",
       "      <td>...</td>\n",
       "      <td>...</td>\n",
       "      <td>...</td>\n",
       "      <td>...</td>\n",
       "      <td>...</td>\n",
       "    </tr>\n",
       "    <tr>\n",
       "      <th>17373</th>\n",
       "      <td>1</td>\n",
       "      <td>0</td>\n",
       "      <td>1</td>\n",
       "      <td>2</td>\n",
       "      <td>10.66</td>\n",
       "      <td>12.880</td>\n",
       "      <td>60</td>\n",
       "      <td>2012</td>\n",
       "      <td>19</td>\n",
       "      <td>0</td>\n",
       "    </tr>\n",
       "    <tr>\n",
       "      <th>17374</th>\n",
       "      <td>1</td>\n",
       "      <td>0</td>\n",
       "      <td>1</td>\n",
       "      <td>2</td>\n",
       "      <td>10.66</td>\n",
       "      <td>12.880</td>\n",
       "      <td>60</td>\n",
       "      <td>2012</td>\n",
       "      <td>20</td>\n",
       "      <td>0</td>\n",
       "    </tr>\n",
       "    <tr>\n",
       "      <th>17375</th>\n",
       "      <td>1</td>\n",
       "      <td>0</td>\n",
       "      <td>1</td>\n",
       "      <td>1</td>\n",
       "      <td>10.66</td>\n",
       "      <td>12.880</td>\n",
       "      <td>60</td>\n",
       "      <td>2012</td>\n",
       "      <td>21</td>\n",
       "      <td>0</td>\n",
       "    </tr>\n",
       "    <tr>\n",
       "      <th>17376</th>\n",
       "      <td>1</td>\n",
       "      <td>0</td>\n",
       "      <td>1</td>\n",
       "      <td>1</td>\n",
       "      <td>10.66</td>\n",
       "      <td>13.635</td>\n",
       "      <td>56</td>\n",
       "      <td>2012</td>\n",
       "      <td>22</td>\n",
       "      <td>0</td>\n",
       "    </tr>\n",
       "    <tr>\n",
       "      <th>17377</th>\n",
       "      <td>1</td>\n",
       "      <td>0</td>\n",
       "      <td>1</td>\n",
       "      <td>1</td>\n",
       "      <td>10.66</td>\n",
       "      <td>13.635</td>\n",
       "      <td>65</td>\n",
       "      <td>2012</td>\n",
       "      <td>23</td>\n",
       "      <td>0</td>\n",
       "    </tr>\n",
       "  </tbody>\n",
       "</table>\n",
       "<p>6493 rows × 10 columns</p>\n",
       "</div>"
      ],
      "text/plain": [
       "       season  holiday  workingday  weather   temp   atemp  humidity  year  \\\n",
       "10885       1        0           1        1  10.66  11.365        56  2011   \n",
       "10886       1        0           1        1  10.66  13.635        56  2011   \n",
       "10887       1        0           1        1  10.66  13.635        56  2011   \n",
       "10888       1        0           1        1  10.66  12.880        56  2011   \n",
       "10889       1        0           1        1  10.66  12.880        56  2011   \n",
       "...       ...      ...         ...      ...    ...     ...       ...   ...   \n",
       "17373       1        0           1        2  10.66  12.880        60  2012   \n",
       "17374       1        0           1        2  10.66  12.880        60  2012   \n",
       "17375       1        0           1        1  10.66  12.880        60  2012   \n",
       "17376       1        0           1        1  10.66  13.635        56  2012   \n",
       "17377       1        0           1        1  10.66  13.635        65  2012   \n",
       "\n",
       "       hour  dayofweek  \n",
       "10885     0          3  \n",
       "10886     1          3  \n",
       "10887     2          3  \n",
       "10888     3          3  \n",
       "10889     4          3  \n",
       "...     ...        ...  \n",
       "17373    19          0  \n",
       "17374    20          0  \n",
       "17375    21          0  \n",
       "17376    22          0  \n",
       "17377    23          0  \n",
       "\n",
       "[6493 rows x 10 columns]"
      ]
     },
     "execution_count": 60,
     "metadata": {},
     "output_type": "execute_result"
    }
   ],
   "source": [
    "X_test"
   ]
  },
  {
   "cell_type": "code",
   "execution_count": 61,
   "id": "cc58e51c",
   "metadata": {},
   "outputs": [
    {
     "data": {
      "text/plain": [
       "0         16.0\n",
       "1         40.0\n",
       "2         32.0\n",
       "3         13.0\n",
       "4          1.0\n",
       "         ...  \n",
       "10880    336.0\n",
       "10881    241.0\n",
       "10882    168.0\n",
       "10883    129.0\n",
       "10884     88.0\n",
       "Name: count, Length: 10885, dtype: float64"
      ]
     },
     "execution_count": 61,
     "metadata": {},
     "output_type": "execute_result"
    }
   ],
   "source": [
    "y_train"
   ]
  },
  {
   "cell_type": "code",
   "execution_count": null,
   "id": "e7450b84",
   "metadata": {},
   "outputs": [],
   "source": []
  },
  {
   "cell_type": "code",
   "execution_count": null,
   "id": "0a4ae3d2",
   "metadata": {},
   "outputs": [],
   "source": []
  },
  {
   "cell_type": "markdown",
   "id": "5ce472a1",
   "metadata": {
    "id": "5ce472a1"
   },
   "source": [
    "## 6. 평가지표 계산 함수 작성"
   ]
  },
  {
   "cell_type": "code",
   "execution_count": null,
   "id": "d4b05dd5",
   "metadata": {
    "id": "d4b05dd5",
    "outputId": "0c878be2-7857-4284-d569-92b65fbe87f2"
   },
   "outputs": [
    {
     "data": {
      "image/png": "[encoded data removed]",
      "text/plain": [
       "<IPython.core.display.Image object>"
      ]
     },
     "execution_count": 2,
     "metadata": {},
     "output_type": "execute_result"
    }
   ],
   "source": [
    "Image('./images/img6.png')"
   ]
  },
  {
   "cell_type": "code",
   "execution_count": null,
   "id": "a3712047",
   "metadata": {
    "id": "a3712047"
   },
   "outputs": [],
   "source": [
    "from sklearn.metrics import make_scorer\n",
    "# log 값 변환 시 언더플로우 영향으로 log() 가 아닌 log1p() 를 이용하여 RMSLE 계산\n",
    "def rmsle(y, pred, convertExp=True):\n",
    "    if convertExp:\n",
    "        y = np.expm1(y)\n",
    "        pred = np.expm1(pred)\n",
    "    \n",
    "    log_y = np.log1p(y)\n",
    "    log_pred = np.log1p(pred)\n",
    "    squared_error = (log_y - log_pred) ** 2\n",
    "    rmsle = np.sqrt(np.mean(squared_error))\n",
    "    return rmsle\n",
    "\n",
    "rmsle_scorer = make_scorer(rmsle, greater_is_better=False)"
   ]
  },
  {
   "cell_type": "markdown",
   "id": "b2592bf6",
   "metadata": {
    "id": "b2592bf6"
   },
   "source": [
    "## 7. 모델 선택과 훈련"
   ]
  },
  {
   "cell_type": "markdown",
   "id": "bd5a7b08",
   "metadata": {
    "id": "bd5a7b08"
   },
   "source": [
    "### 7.1 선형회귀 모델"
   ]
  },
  {
   "cell_type": "code",
   "execution_count": null,
   "id": "a1fc4906",
   "metadata": {
    "id": "a1fc4906"
   },
   "outputs": [],
   "source": [
    "from sklearn.linear_model import LinearRegression\n",
    "\n",
    "lin_reg = LinearRegression()"
   ]
  },
  {
   "cell_type": "code",
   "execution_count": null,
   "id": "79201e01",
   "metadata": {
    "id": "79201e01",
    "outputId": "98886325-78b4-469f-bbe6-b15b4f613c70"
   },
   "outputs": [
    {
     "data": {
      "text/plain": [
       "LinearRegression()"
      ]
     },
     "execution_count": 89,
     "metadata": {},
     "output_type": "execute_result"
    }
   ],
   "source": [
    "log_y = np.log1p(y_train)\n",
    "lin_reg.fit(X_train, log_y)"
   ]
  },
  {
   "cell_type": "markdown",
   "id": "850413d9",
   "metadata": {
    "id": "850413d9"
   },
   "source": [
    "### 7.2 잘못된 검증 (X_train으로 학습하고, X_train으로 검증을 했으므로)"
   ]
  },
  {
   "cell_type": "code",
   "execution_count": null,
   "id": "5fc64c10",
   "metadata": {
    "id": "5fc64c10",
    "outputId": "6f0cc5e3-8912-4d27-fd16-92fbeecc0397"
   },
   "outputs": [
    {
     "data": {
      "text/plain": [
       "1.0183455499651857"
      ]
     },
     "execution_count": 90,
     "metadata": {},
     "output_type": "execute_result"
    }
   ],
   "source": [
    "y_pred = lin_reg.predict(X_train)\n",
    "rmsle(log_y, y_pred, True)"
   ]
  },
  {
   "cell_type": "markdown",
   "id": "b42156d4",
   "metadata": {
    "id": "b42156d4"
   },
   "source": [
    "### 7.3 모델 성능 검증(교차 검증)"
   ]
  },
  {
   "cell_type": "code",
   "execution_count": null,
   "id": "58f37ee2",
   "metadata": {
    "id": "58f37ee2",
    "outputId": "90c4b56b-e3e1-4d0e-dcc3-6dcf4d50ba42"
   },
   "outputs": [
    {
     "data": {
      "text/plain": [
       "1.0259377040159592"
      ]
     },
     "execution_count": 93,
     "metadata": {},
     "output_type": "execute_result"
    }
   ],
   "source": [
    "from sklearn.model_selection import cross_val_score\n",
    "\n",
    "scores = cross_val_score(lin_reg, X_train, log_y, scoring=rmsle_scorer, cv=5)\n",
    "-scores.mean() # 5개 교차 검증한 결과의 평균 rmsle"
   ]
  },
  {
   "cell_type": "code",
   "execution_count": null,
   "id": "0f108b13",
   "metadata": {
    "collapsed": true,
    "id": "0f108b13",
    "outputId": "0f5660a2-b297-48dc-992f-05e5d23f812b"
   },
   "outputs": [
    {
     "name": "stderr",
     "output_type": "stream",
     "text": [
      "C:\\Users\\Playdata\\anaconda3\\lib\\site-packages\\sklearn\\model_selection\\_validation.py:696: UserWarning: Scoring failed. The score on this train-test partition for these parameters will be set to nan. Details: \n",
      "Traceback (most recent call last):\n",
      "  File \"C:\\Users\\Playdata\\anaconda3\\lib\\site-packages\\sklearn\\model_selection\\_validation.py\", line 687, in _score\n",
      "    scores = scorer(estimator, X_test, y_test)\n",
      "  File \"C:\\Users\\Playdata\\anaconda3\\lib\\site-packages\\sklearn\\metrics\\_scorer.py\", line 87, in __call__\n",
      "    score = scorer._score(cached_call, estimator,\n",
      "  File \"C:\\Users\\Playdata\\anaconda3\\lib\\site-packages\\sklearn\\metrics\\_scorer.py\", line 242, in _score\n",
      "    return self._sign * self._score_func(y_true, y_pred,\n",
      "  File \"C:\\Users\\Playdata\\anaconda3\\lib\\site-packages\\sklearn\\utils\\validation.py\", line 63, in inner_f\n",
      "    return f(*args, **kwargs)\n",
      "  File \"C:\\Users\\Playdata\\anaconda3\\lib\\site-packages\\sklearn\\metrics\\_regression.py\", line 413, in mean_squared_log_error\n",
      "    raise ValueError(\"Mean Squared Logarithmic Error cannot be used when \"\n",
      "ValueError: Mean Squared Logarithmic Error cannot be used when targets contain negative values.\n",
      "\n",
      "  warnings.warn(\n",
      "C:\\Users\\Playdata\\anaconda3\\lib\\site-packages\\sklearn\\model_selection\\_validation.py:696: UserWarning: Scoring failed. The score on this train-test partition for these parameters will be set to nan. Details: \n",
      "Traceback (most recent call last):\n",
      "  File \"C:\\Users\\Playdata\\anaconda3\\lib\\site-packages\\sklearn\\model_selection\\_validation.py\", line 687, in _score\n",
      "    scores = scorer(estimator, X_test, y_test)\n",
      "  File \"C:\\Users\\Playdata\\anaconda3\\lib\\site-packages\\sklearn\\metrics\\_scorer.py\", line 87, in __call__\n",
      "    score = scorer._score(cached_call, estimator,\n",
      "  File \"C:\\Users\\Playdata\\anaconda3\\lib\\site-packages\\sklearn\\metrics\\_scorer.py\", line 242, in _score\n",
      "    return self._sign * self._score_func(y_true, y_pred,\n",
      "  File \"C:\\Users\\Playdata\\anaconda3\\lib\\site-packages\\sklearn\\utils\\validation.py\", line 63, in inner_f\n",
      "    return f(*args, **kwargs)\n",
      "  File \"C:\\Users\\Playdata\\anaconda3\\lib\\site-packages\\sklearn\\metrics\\_regression.py\", line 413, in mean_squared_log_error\n",
      "    raise ValueError(\"Mean Squared Logarithmic Error cannot be used when \"\n",
      "ValueError: Mean Squared Logarithmic Error cannot be used when targets contain negative values.\n",
      "\n",
      "  warnings.warn(\n",
      "C:\\Users\\Playdata\\anaconda3\\lib\\site-packages\\sklearn\\model_selection\\_validation.py:696: UserWarning: Scoring failed. The score on this train-test partition for these parameters will be set to nan. Details: \n",
      "Traceback (most recent call last):\n",
      "  File \"C:\\Users\\Playdata\\anaconda3\\lib\\site-packages\\sklearn\\model_selection\\_validation.py\", line 687, in _score\n",
      "    scores = scorer(estimator, X_test, y_test)\n",
      "  File \"C:\\Users\\Playdata\\anaconda3\\lib\\site-packages\\sklearn\\metrics\\_scorer.py\", line 87, in __call__\n",
      "    score = scorer._score(cached_call, estimator,\n",
      "  File \"C:\\Users\\Playdata\\anaconda3\\lib\\site-packages\\sklearn\\metrics\\_scorer.py\", line 242, in _score\n",
      "    return self._sign * self._score_func(y_true, y_pred,\n",
      "  File \"C:\\Users\\Playdata\\anaconda3\\lib\\site-packages\\sklearn\\utils\\validation.py\", line 63, in inner_f\n",
      "    return f(*args, **kwargs)\n",
      "  File \"C:\\Users\\Playdata\\anaconda3\\lib\\site-packages\\sklearn\\metrics\\_regression.py\", line 413, in mean_squared_log_error\n",
      "    raise ValueError(\"Mean Squared Logarithmic Error cannot be used when \"\n",
      "ValueError: Mean Squared Logarithmic Error cannot be used when targets contain negative values.\n",
      "\n",
      "  warnings.warn(\n"
     ]
    },
    {
     "data": {
      "text/plain": [
       "nan"
      ]
     },
     "execution_count": 96,
     "metadata": {},
     "output_type": "execute_result"
    }
   ],
   "source": [
    "# 공식 문서에 나와 있는  predefined values(‘neg_mean_squared_log_error’)를 사용해도 되나\n",
    "# underflow 처리가 안되어 있는 것으로 보임\n",
    "# https://scikit-learn.org/stable/modules/model_evaluation.html#the-scoring-parameter-defining-model-evaluation-rules\n",
    "# scores = cross_val_score(lin_reg, X_train, y_train, scoring='neg_mean_squared_log_error', cv=5)\n",
    "# -scores.mean()"
   ]
  },
  {
   "cell_type": "markdown",
   "id": "a8335555",
   "metadata": {
    "id": "a8335555"
   },
   "source": [
    "### 7.4 규제모델(릿지, 라쏘, 엘라스티넷 모델)"
   ]
  },
  {
   "cell_type": "code",
   "execution_count": null,
   "id": "7d162e94",
   "metadata": {},
   "outputs": [],
   "source": []
  },
  {
   "cell_type": "code",
   "execution_count": null,
   "id": "67b3660d",
   "metadata": {
    "id": "67b3660d"
   },
   "outputs": [],
   "source": [
    "from sklearn.linear_model import Ridge, Lasso, ElasticNet\n",
    "\n",
    "# 모델 생성\n",
    "ridge = Ridge()\n",
    "lasso = Lasso()\n",
    "elastic = ElasticNet()"
   ]
  },
  {
   "cell_type": "code",
   "execution_count": null,
   "id": "043d6ccf",
   "metadata": {
    "id": "043d6ccf",
    "outputId": "f63117c4-a9ba-473e-95be-919cf841d199"
   },
   "outputs": [
    {
     "data": {
      "text/plain": [
       "1.0259457332657096"
      ]
     },
     "execution_count": 100,
     "metadata": {},
     "output_type": "execute_result"
    }
   ],
   "source": [
    "scores = cross_val_score(ridge, X_train, log_y, scoring=rmsle_scorer, cv=5)\n",
    "-scores.mean() # 릿지모델을 5개 교차 검증한 결과의 평균 rmsle"
   ]
  },
  {
   "cell_type": "code",
   "execution_count": null,
   "id": "6d5fade3",
   "metadata": {
    "id": "6d5fade3",
    "outputId": "d68209af-b992-4856-a4c4-5f3eedd0862a"
   },
   "outputs": [
    {
     "data": {
      "text/plain": [
       "1.1142719258697973"
      ]
     },
     "execution_count": 101,
     "metadata": {},
     "output_type": "execute_result"
    }
   ],
   "source": [
    "scores= cross_val_score(lasso, X_train, log_y, scoring=rmsle_scorer, cv=5)\n",
    "-scores.mean() # 라쏘모델을 5개 교차 검증한 결과의 평균 rmsle"
   ]
  },
  {
   "cell_type": "code",
   "execution_count": null,
   "id": "bdd58cfa",
   "metadata": {
    "id": "bdd58cfa",
    "outputId": "0e1e6e61-37b5-4da7-fa03-280f2d38ebad"
   },
   "outputs": [
    {
     "data": {
      "text/plain": [
       "1.1035342525816867"
      ]
     },
     "execution_count": 102,
     "metadata": {},
     "output_type": "execute_result"
    }
   ],
   "source": [
    "scores = cross_val_score(elastic, X_train, log_y, scoring=rmsle_scorer, cv=5)\n",
    "-scores.mean() # 엘라스틱넷 모델을 5개 교차 검증한 결과의 평균 rmsle"
   ]
  },
  {
   "cell_type": "markdown",
   "id": "38de589a",
   "metadata": {
    "id": "38de589a"
   },
   "source": [
    "## 8. 모델 세부 튜닝"
   ]
  },
  {
   "cell_type": "code",
   "execution_count": null,
   "id": "70541e70",
   "metadata": {
    "id": "70541e70"
   },
   "outputs": [],
   "source": [
    "from sklearn.model_selection import GridSearchCV"
   ]
  },
  {
   "cell_type": "markdown",
   "id": "2e5cb7e7",
   "metadata": {
    "id": "2e5cb7e7"
   },
   "source": [
    "### 8.1 릿지 모델"
   ]
  },
  {
   "cell_type": "code",
   "execution_count": null,
   "id": "a8d77958",
   "metadata": {
    "id": "a8d77958"
   },
   "outputs": [],
   "source": [
    "ridge = Ridge()\n",
    "\n",
    "ridge_params = {'alpha' : [0.1, 1, 2, 3, 4, 10, 30, 100, 200, 300, 400, 800, 900, 1000]} # 14개\n",
    "\n",
    "gridsearch_ridge = GridSearchCV(ridge, ridge_params, scoring=rmsle_scorer, cv=5, n_jobs=-1) # 14 * 5"
   ]
  },
  {
   "cell_type": "code",
   "execution_count": null,
   "id": "505e32ac",
   "metadata": {
    "id": "505e32ac",
    "outputId": "0373fe81-0dc3-43cc-be2a-562654574336"
   },
   "outputs": [
    {
     "name": "stdout",
     "output_type": "stream",
     "text": [
      "Wall time: 6.33 s\n"
     ]
    },
    {
     "data": {
      "text/plain": [
       "GridSearchCV(cv=5, estimator=Ridge(), n_jobs=-1,\n",
       "             param_grid={'alpha': [0.1, 1, 2, 3, 4, 10, 30, 100, 200, 300, 400,\n",
       "                                   800, 900, 1000]},\n",
       "             scoring=make_scorer(rmsle, greater_is_better=False))"
      ]
     },
     "execution_count": 107,
     "metadata": {},
     "output_type": "execute_result"
    }
   ],
   "source": [
    "%time gridsearch_ridge.fit(X_train, log_y)"
   ]
  },
  {
   "cell_type": "code",
   "execution_count": null,
   "id": "80ee87fe",
   "metadata": {
    "id": "80ee87fe",
    "outputId": "c37a0abc-a60b-4342-cfc7-fd90355a7a13"
   },
   "outputs": [
    {
     "data": {
      "text/plain": [
       "{'alpha': 0.1}"
      ]
     },
     "execution_count": 108,
     "metadata": {},
     "output_type": "execute_result"
    }
   ],
   "source": [
    "gridsearch_ridge.best_params_"
   ]
  },
  {
   "cell_type": "code",
   "execution_count": null,
   "id": "f8aedd6d",
   "metadata": {
    "id": "f8aedd6d",
    "outputId": "ef98f677-b590-4c9a-d981-c146bac75413"
   },
   "outputs": [
    {
     "name": "stdout",
     "output_type": "stream",
     "text": [
      "1.0259385051524947 {'alpha': 0.1}\n",
      "1.0259457332657098 {'alpha': 1}\n",
      "1.0259538020203387 {'alpha': 2}\n",
      "1.0259619099095543 {'alpha': 3}\n",
      "1.0259700565712468 {'alpha': 4}\n",
      "1.0260197314469994 {'alpha': 10}\n",
      "1.0261944516002468 {'alpha': 30}\n",
      "1.0268953328557835 {'alpha': 100}\n",
      "1.0280667404301447 {'alpha': 200}\n",
      "1.0293631168653716 {'alpha': 300}\n",
      "1.0307297219760279 {'alpha': 400}\n",
      "1.036310230958598 {'alpha': 800}\n",
      "1.0376557036987102 {'alpha': 900}\n",
      "1.0389657418631324 {'alpha': 1000}\n"
     ]
    }
   ],
   "source": [
    "cvres = gridsearch_ridge.cv_results_\n",
    "\n",
    "for mean_score, params in zip(cvres['mean_test_score'], cvres['params']):\n",
    "    print(-mean_score, params) # rmsle와 그 때의 하이퍼 파라미터"
   ]
  },
  {
   "cell_type": "code",
   "execution_count": null,
   "id": "1b897ce6",
   "metadata": {
    "id": "1b897ce6",
    "outputId": "adbf3c62-468a-4bd6-e9f3-2a80f9ed2bb8"
   },
   "outputs": [
    {
     "data": {
      "text/plain": [
       "<AxesSubplot:>"
      ]
     },
     "execution_count": 115,
     "metadata": {},
     "output_type": "execute_result"
    },
    {
     "data": {
      "image/png": "[encoded data removed]",
      "text/plain": [
       "<Figure size 432x288 with 1 Axes>"
      ]
     },
     "metadata": {
      "needs_background": "light"
     },
     "output_type": "display_data"
    }
   ],
   "source": [
    "coef = pd.Series(gridsearch_ridge.best_estimator_.coef_, index= X_train.columns)\n",
    "coef_sort = coef.sort_values(ascending=False)\n",
    "sns.barplot(x=coef_sort.values, y=coef_sort.index)"
   ]
  },
  {
   "cell_type": "markdown",
   "id": "8b53902e",
   "metadata": {
    "id": "8b53902e"
   },
   "source": [
    "### 8.2 랜덤포레스트"
   ]
  },
  {
   "cell_type": "code",
   "execution_count": null,
   "id": "d271c76a",
   "metadata": {
    "id": "d271c76a",
    "outputId": "d90a4bc0-98ab-4f2d-cb06-d4f1a35feda5"
   },
   "outputs": [
    {
     "name": "stdout",
     "output_type": "stream",
     "text": [
      "Wall time: 37.8 s\n"
     ]
    },
    {
     "data": {
      "text/plain": [
       "GridSearchCV(cv=5, estimator=RandomForestRegressor(random_state=42), n_jobs=-1,\n",
       "             param_grid={'n_estimators': [100, 120, 140]},\n",
       "             scoring=make_scorer(rmsle, greater_is_better=False))"
      ]
     },
     "execution_count": 117,
     "metadata": {},
     "output_type": "execute_result"
    }
   ],
   "source": [
    "from sklearn.ensemble import RandomForestRegressor\n",
    "\n",
    "rf_params = {'n_estimators' : [100, 120, 140]}\n",
    "rnd_forest = RandomForestRegressor(random_state=42)\n",
    "\n",
    "gridsearch_forest = GridSearchCV(rnd_forest, rf_params, scoring=rmsle_scorer, cv=5, n_jobs=-1)\n",
    "\n",
    "%time gridsearch_forest.fit(X_train, log_y)"
   ]
  },
  {
   "cell_type": "code",
   "execution_count": null,
   "id": "73e86fc0",
   "metadata": {
    "id": "73e86fc0",
    "outputId": "0c9a64b5-0911-4c8b-efa0-f36592c42d6d"
   },
   "outputs": [
    {
     "data": {
      "text/plain": [
       "{'n_estimators': 140}"
      ]
     },
     "execution_count": 119,
     "metadata": {},
     "output_type": "execute_result"
    }
   ],
   "source": [
    "gridsearch_forest.best_params_"
   ]
  },
  {
   "cell_type": "code",
   "execution_count": null,
   "id": "e73855a9",
   "metadata": {
    "id": "e73855a9",
    "outputId": "b53b3385-7c83-49c5-871a-3c1074f9ecfb"
   },
   "outputs": [
    {
     "name": "stdout",
     "output_type": "stream",
     "text": [
      "0.4624358747986295 {'n_estimators': 100}\n",
      "0.461783777710962 {'n_estimators': 120}\n",
      "0.46092376487614306 {'n_estimators': 140}\n"
     ]
    }
   ],
   "source": [
    "cvres = gridsearch_forest.cv_results_\n",
    "\n",
    "for mean_score, params in zip(cvres['mean_test_score'], cvres['params']):\n",
    "    print(-mean_score, params) # rmsle와 그 때의 하이퍼 파라미터"
   ]
  },
  {
   "cell_type": "code",
   "execution_count": null,
   "id": "f27a0848",
   "metadata": {
    "id": "f27a0848"
   },
   "outputs": [],
   "source": [
    "# best_model = gridsearch_forest.best_estimator_"
   ]
  },
  {
   "cell_type": "code",
   "execution_count": null,
   "id": "5b56a814",
   "metadata": {
    "id": "5b56a814",
    "outputId": "2d38ffab-41b2-4189-d2b8-46bb875ddec8"
   },
   "outputs": [
    {
     "data": {
      "text/plain": [
       "[(0.7595180825712268, 'hour'),\n",
       " (0.04792802447771889, 'temp'),\n",
       " (0.03752619933445052, 'workingday'),\n",
       " (0.03460172064058957, 'season'),\n",
       " (0.03269870315942869, 'year'),\n",
       " (0.029982293239748867, 'dayofweek'),\n",
       " (0.022842240593619653, 'humidity'),\n",
       " (0.021451786722442186, 'atemp'),\n",
       " (0.011859502465998137, 'weather'),\n",
       " (0.001591446794776728, 'holiday')]"
      ]
     },
     "execution_count": 125,
     "metadata": {},
     "output_type": "execute_result"
    }
   ],
   "source": [
    "sorted(zip(gridsearch_forest.best_estimator_.feature_importances_, X_train.columns), reverse=True)"
   ]
  },
  {
   "cell_type": "markdown",
   "id": "d8be25af",
   "metadata": {
    "id": "d8be25af"
   },
   "source": [
    "### 8.3 그레디언트 부스팅 모델"
   ]
  },
  {
   "cell_type": "code",
   "execution_count": null,
   "id": "c5643ec1",
   "metadata": {
    "id": "c5643ec1"
   },
   "outputs": [],
   "source": [
    "from sklearn.ensemble import GradientBoostingRegressor"
   ]
  },
  {
   "cell_type": "code",
   "execution_count": null,
   "id": "6b7d226d",
   "metadata": {
    "id": "6b7d226d"
   },
   "outputs": [],
   "source": [
    "gbrt_params = { 'learning_rate' : [0.01, 0.02, 0.03, 0.04], # 각 트리의 기여도\n",
    "               'n_estimators' : [1000, 1500],\n",
    "               'subsample' : [0.9, 0.5, 0.2],\n",
    "               'max_depth' : [2, 4, 6, 8]\n",
    "    \n",
    "}\n",
    "\n",
    "gbrt = GradientBoostingRegressor()\n",
    "\n",
    "gridsearch_gbrt = GridSearchCV(gbrt, gbrt_params, scoring=rmsle_scorer, cv=5, n_jobs=-1)"
   ]
  },
  {
   "cell_type": "code",
   "execution_count": null,
   "id": "bd4707e4",
   "metadata": {
    "id": "bd4707e4",
    "outputId": "05fd9ab4-b708-4440-9436-0a4df984376c"
   },
   "outputs": [
    {
     "name": "stdout",
     "output_type": "stream",
     "text": [
      "Wall time: 33min 23s\n"
     ]
    },
    {
     "data": {
      "text/plain": [
       "GridSearchCV(cv=5, estimator=GradientBoostingRegressor(), n_jobs=-1,\n",
       "             param_grid={'learning_rate': [0.01, 0.02, 0.03, 0.04],\n",
       "                         'max_depth': [2, 4, 6, 8],\n",
       "                         'n_estimators': [1000, 1500],\n",
       "                         'subsample': [0.9, 0.5, 0.2]},\n",
       "             scoring=make_scorer(rmsle, greater_is_better=False))"
      ]
     },
     "execution_count": 138,
     "metadata": {},
     "output_type": "execute_result"
    }
   ],
   "source": [
    "%time gridsearch_gbrt.fit(X_train, log_y)"
   ]
  },
  {
   "cell_type": "code",
   "execution_count": null,
   "id": "3c958162",
   "metadata": {
    "id": "3c958162",
    "outputId": "d71a734c-fc21-4e72-ada2-35803e3490f9"
   },
   "outputs": [
    {
     "data": {
      "text/plain": [
       "{'learning_rate': 0.02, 'max_depth': 4, 'n_estimators': 1500, 'subsample': 0.2}"
      ]
     },
     "execution_count": 139,
     "metadata": {},
     "output_type": "execute_result"
    }
   ],
   "source": [
    "gridsearch_gbrt.best_params_"
   ]
  },
  {
   "cell_type": "code",
   "execution_count": null,
   "id": "2339611a",
   "metadata": {
    "id": "2339611a",
    "outputId": "69ba9d49-0c56-46cd-f794-42ccb1908265"
   },
   "outputs": [
    {
     "name": "stdout",
     "output_type": "stream",
     "text": [
      "0.5906089141705806 {'learning_rate': 0.01, 'max_depth': 2, 'n_estimators': 1000, 'subsample': 0.9}\n",
      "0.579921762585159 {'learning_rate': 0.01, 'max_depth': 2, 'n_estimators': 1000, 'subsample': 0.5}\n",
      "0.5663741039667025 {'learning_rate': 0.01, 'max_depth': 2, 'n_estimators': 1000, 'subsample': 0.2}\n",
      "0.5471539011441585 {'learning_rate': 0.01, 'max_depth': 2, 'n_estimators': 1500, 'subsample': 0.9}\n",
      "0.5311834646856217 {'learning_rate': 0.01, 'max_depth': 2, 'n_estimators': 1500, 'subsample': 0.5}\n",
      "0.5145898623173469 {'learning_rate': 0.01, 'max_depth': 2, 'n_estimators': 1500, 'subsample': 0.2}\n",
      "0.4118950190737608 {'learning_rate': 0.01, 'max_depth': 4, 'n_estimators': 1000, 'subsample': 0.9}\n",
      "0.3996996455607074 {'learning_rate': 0.01, 'max_depth': 4, 'n_estimators': 1000, 'subsample': 0.5}\n",
      "0.3905148703809438 {'learning_rate': 0.01, 'max_depth': 4, 'n_estimators': 1000, 'subsample': 0.2}\n",
      "0.39833687563844705 {'learning_rate': 0.01, 'max_depth': 4, 'n_estimators': 1500, 'subsample': 0.9}\n",
      "0.38808278161602433 {'learning_rate': 0.01, 'max_depth': 4, 'n_estimators': 1500, 'subsample': 0.5}\n",
      "0.3795914616843881 {'learning_rate': 0.01, 'max_depth': 4, 'n_estimators': 1500, 'subsample': 0.2}\n",
      "0.39842096753383477 {'learning_rate': 0.01, 'max_depth': 6, 'n_estimators': 1000, 'subsample': 0.9}\n",
      "0.3869577673518602 {'learning_rate': 0.01, 'max_depth': 6, 'n_estimators': 1000, 'subsample': 0.5}\n",
      "0.3824838450407437 {'learning_rate': 0.01, 'max_depth': 6, 'n_estimators': 1000, 'subsample': 0.2}\n",
      "0.3968372102507972 {'learning_rate': 0.01, 'max_depth': 6, 'n_estimators': 1500, 'subsample': 0.9}\n",
      "0.39148892207077896 {'learning_rate': 0.01, 'max_depth': 6, 'n_estimators': 1500, 'subsample': 0.5}\n",
      "0.38106460343540627 {'learning_rate': 0.01, 'max_depth': 6, 'n_estimators': 1500, 'subsample': 0.2}\n",
      "0.41987668866867167 {'learning_rate': 0.01, 'max_depth': 8, 'n_estimators': 1000, 'subsample': 0.9}\n",
      "0.4035587622239323 {'learning_rate': 0.01, 'max_depth': 8, 'n_estimators': 1000, 'subsample': 0.5}\n",
      "0.39139526613132203 {'learning_rate': 0.01, 'max_depth': 8, 'n_estimators': 1000, 'subsample': 0.2}\n",
      "0.42247997388135533 {'learning_rate': 0.01, 'max_depth': 8, 'n_estimators': 1500, 'subsample': 0.9}\n",
      "0.403033968363641 {'learning_rate': 0.01, 'max_depth': 8, 'n_estimators': 1500, 'subsample': 0.5}\n",
      "0.39254128948034345 {'learning_rate': 0.01, 'max_depth': 8, 'n_estimators': 1500, 'subsample': 0.2}\n",
      "0.5154467384447439 {'learning_rate': 0.02, 'max_depth': 2, 'n_estimators': 1000, 'subsample': 0.9}\n",
      "0.49609546286244033 {'learning_rate': 0.02, 'max_depth': 2, 'n_estimators': 1000, 'subsample': 0.5}\n",
      "0.48872050896328895 {'learning_rate': 0.02, 'max_depth': 2, 'n_estimators': 1000, 'subsample': 0.2}\n",
      "0.47444137116187884 {'learning_rate': 0.02, 'max_depth': 2, 'n_estimators': 1500, 'subsample': 0.9}\n",
      "0.4632210788301265 {'learning_rate': 0.02, 'max_depth': 2, 'n_estimators': 1500, 'subsample': 0.5}\n",
      "0.4511927968064321 {'learning_rate': 0.02, 'max_depth': 2, 'n_estimators': 1500, 'subsample': 0.2}\n",
      "0.3940615219421288 {'learning_rate': 0.02, 'max_depth': 4, 'n_estimators': 1000, 'subsample': 0.9}\n",
      "0.3907714604259203 {'learning_rate': 0.02, 'max_depth': 4, 'n_estimators': 1000, 'subsample': 0.5}\n",
      "0.38265131183936385 {'learning_rate': 0.02, 'max_depth': 4, 'n_estimators': 1000, 'subsample': 0.2}\n",
      "0.39509294536118206 {'learning_rate': 0.02, 'max_depth': 4, 'n_estimators': 1500, 'subsample': 0.9}\n",
      "0.38500914270823694 {'learning_rate': 0.02, 'max_depth': 4, 'n_estimators': 1500, 'subsample': 0.5}\n",
      "0.37793852547802886 {'learning_rate': 0.02, 'max_depth': 4, 'n_estimators': 1500, 'subsample': 0.2}\n",
      "0.40214516345353346 {'learning_rate': 0.02, 'max_depth': 6, 'n_estimators': 1000, 'subsample': 0.9}\n",
      "0.393040935756728 {'learning_rate': 0.02, 'max_depth': 6, 'n_estimators': 1000, 'subsample': 0.5}\n",
      "0.3919363193335945 {'learning_rate': 0.02, 'max_depth': 6, 'n_estimators': 1000, 'subsample': 0.2}\n",
      "0.4080759521079864 {'learning_rate': 0.02, 'max_depth': 6, 'n_estimators': 1500, 'subsample': 0.9}\n",
      "0.40018541504501376 {'learning_rate': 0.02, 'max_depth': 6, 'n_estimators': 1500, 'subsample': 0.5}\n",
      "0.39243648284144406 {'learning_rate': 0.02, 'max_depth': 6, 'n_estimators': 1500, 'subsample': 0.2}\n",
      "0.426434870907884 {'learning_rate': 0.02, 'max_depth': 8, 'n_estimators': 1000, 'subsample': 0.9}\n",
      "0.4102075452980422 {'learning_rate': 0.02, 'max_depth': 8, 'n_estimators': 1000, 'subsample': 0.5}\n",
      "0.39741837857782814 {'learning_rate': 0.02, 'max_depth': 8, 'n_estimators': 1000, 'subsample': 0.2}\n",
      "0.43375255879637037 {'learning_rate': 0.02, 'max_depth': 8, 'n_estimators': 1500, 'subsample': 0.9}\n",
      "0.4122889744185871 {'learning_rate': 0.02, 'max_depth': 8, 'n_estimators': 1500, 'subsample': 0.5}\n",
      "0.40760283095423794 {'learning_rate': 0.02, 'max_depth': 8, 'n_estimators': 1500, 'subsample': 0.2}\n",
      "0.47349613105504024 {'learning_rate': 0.03, 'max_depth': 2, 'n_estimators': 1000, 'subsample': 0.9}\n",
      "0.4594690737140569 {'learning_rate': 0.03, 'max_depth': 2, 'n_estimators': 1000, 'subsample': 0.5}\n",
      "0.4543533894350437 {'learning_rate': 0.03, 'max_depth': 2, 'n_estimators': 1000, 'subsample': 0.2}\n",
      "0.44317495889783987 {'learning_rate': 0.03, 'max_depth': 2, 'n_estimators': 1500, 'subsample': 0.9}\n",
      "0.43001870458437974 {'learning_rate': 0.03, 'max_depth': 2, 'n_estimators': 1500, 'subsample': 0.5}\n",
      "0.4296998651477966 {'learning_rate': 0.03, 'max_depth': 2, 'n_estimators': 1500, 'subsample': 0.2}\n",
      "0.39487445439739466 {'learning_rate': 0.03, 'max_depth': 4, 'n_estimators': 1000, 'subsample': 0.9}\n",
      "0.3835997293245262 {'learning_rate': 0.03, 'max_depth': 4, 'n_estimators': 1000, 'subsample': 0.5}\n",
      "0.3850881912330891 {'learning_rate': 0.03, 'max_depth': 4, 'n_estimators': 1000, 'subsample': 0.2}\n",
      "0.395186027786576 {'learning_rate': 0.03, 'max_depth': 4, 'n_estimators': 1500, 'subsample': 0.9}\n",
      "0.388819941216073 {'learning_rate': 0.03, 'max_depth': 4, 'n_estimators': 1500, 'subsample': 0.5}\n",
      "0.38981905398852745 {'learning_rate': 0.03, 'max_depth': 4, 'n_estimators': 1500, 'subsample': 0.2}\n",
      "0.4037401446700408 {'learning_rate': 0.03, 'max_depth': 6, 'n_estimators': 1000, 'subsample': 0.9}\n",
      "0.3987030387428145 {'learning_rate': 0.03, 'max_depth': 6, 'n_estimators': 1000, 'subsample': 0.5}\n",
      "0.3890568570237579 {'learning_rate': 0.03, 'max_depth': 6, 'n_estimators': 1000, 'subsample': 0.2}\n",
      "0.41305108506417343 {'learning_rate': 0.03, 'max_depth': 6, 'n_estimators': 1500, 'subsample': 0.9}\n",
      "0.40366887040582444 {'learning_rate': 0.03, 'max_depth': 6, 'n_estimators': 1500, 'subsample': 0.5}\n",
      "0.399786031773361 {'learning_rate': 0.03, 'max_depth': 6, 'n_estimators': 1500, 'subsample': 0.2}\n",
      "0.4316671890920107 {'learning_rate': 0.03, 'max_depth': 8, 'n_estimators': 1000, 'subsample': 0.9}\n",
      "0.41792501166325113 {'learning_rate': 0.03, 'max_depth': 8, 'n_estimators': 1000, 'subsample': 0.5}\n",
      "0.40250766060061577 {'learning_rate': 0.03, 'max_depth': 8, 'n_estimators': 1000, 'subsample': 0.2}\n",
      "0.4370268233120105 {'learning_rate': 0.03, 'max_depth': 8, 'n_estimators': 1500, 'subsample': 0.9}\n",
      "0.4202238864805464 {'learning_rate': 0.03, 'max_depth': 8, 'n_estimators': 1500, 'subsample': 0.5}\n",
      "0.4063778498773357 {'learning_rate': 0.03, 'max_depth': 8, 'n_estimators': 1500, 'subsample': 0.2}\n",
      "0.45100112068068154 {'learning_rate': 0.04, 'max_depth': 2, 'n_estimators': 1000, 'subsample': 0.9}\n",
      "0.43927772220082273 {'learning_rate': 0.04, 'max_depth': 2, 'n_estimators': 1000, 'subsample': 0.5}\n",
      "0.44152917410971737 {'learning_rate': 0.04, 'max_depth': 2, 'n_estimators': 1000, 'subsample': 0.2}\n",
      "0.4294218912667092 {'learning_rate': 0.04, 'max_depth': 2, 'n_estimators': 1500, 'subsample': 0.9}\n",
      "0.41517980250739406 {'learning_rate': 0.04, 'max_depth': 2, 'n_estimators': 1500, 'subsample': 0.5}\n",
      "0.4156676064827886 {'learning_rate': 0.04, 'max_depth': 2, 'n_estimators': 1500, 'subsample': 0.2}\n",
      "0.3949748055358647 {'learning_rate': 0.04, 'max_depth': 4, 'n_estimators': 1000, 'subsample': 0.9}\n",
      "0.38914522370176813 {'learning_rate': 0.04, 'max_depth': 4, 'n_estimators': 1000, 'subsample': 0.5}\n",
      "0.39001818425548423 {'learning_rate': 0.04, 'max_depth': 4, 'n_estimators': 1000, 'subsample': 0.2}\n",
      "0.39978233756910975 {'learning_rate': 0.04, 'max_depth': 4, 'n_estimators': 1500, 'subsample': 0.9}\n",
      "0.39507044815115694 {'learning_rate': 0.04, 'max_depth': 4, 'n_estimators': 1500, 'subsample': 0.5}\n",
      "0.38730094156576234 {'learning_rate': 0.04, 'max_depth': 4, 'n_estimators': 1500, 'subsample': 0.2}\n",
      "0.41272352555900715 {'learning_rate': 0.04, 'max_depth': 6, 'n_estimators': 1000, 'subsample': 0.9}\n",
      "0.40557251093134256 {'learning_rate': 0.04, 'max_depth': 6, 'n_estimators': 1000, 'subsample': 0.5}\n",
      "0.39501935398901855 {'learning_rate': 0.04, 'max_depth': 6, 'n_estimators': 1000, 'subsample': 0.2}\n",
      "0.4156625204444511 {'learning_rate': 0.04, 'max_depth': 6, 'n_estimators': 1500, 'subsample': 0.9}\n",
      "0.4095703434330421 {'learning_rate': 0.04, 'max_depth': 6, 'n_estimators': 1500, 'subsample': 0.5}\n",
      "0.4066175320762581 {'learning_rate': 0.04, 'max_depth': 6, 'n_estimators': 1500, 'subsample': 0.2}\n",
      "0.43516100506982786 {'learning_rate': 0.04, 'max_depth': 8, 'n_estimators': 1000, 'subsample': 0.9}\n",
      "0.4260868241573953 {'learning_rate': 0.04, 'max_depth': 8, 'n_estimators': 1000, 'subsample': 0.5}\n",
      "0.4197472575914326 {'learning_rate': 0.04, 'max_depth': 8, 'n_estimators': 1000, 'subsample': 0.2}\n",
      "0.43322665401448024 {'learning_rate': 0.04, 'max_depth': 8, 'n_estimators': 1500, 'subsample': 0.9}\n",
      "0.4279644987244298 {'learning_rate': 0.04, 'max_depth': 8, 'n_estimators': 1500, 'subsample': 0.5}\n",
      "0.4204275535001128 {'learning_rate': 0.04, 'max_depth': 8, 'n_estimators': 1500, 'subsample': 0.2}\n"
     ]
    }
   ],
   "source": [
    "cvres = gridsearch_gbrt.cv_results_\n",
    "\n",
    "for mean_score, params in zip(cvres['mean_test_score'], cvres['params']):\n",
    "    print(-mean_score, params) # rmsle와 그 때의 하이퍼 파라미터"
   ]
  },
  {
   "cell_type": "code",
   "execution_count": null,
   "id": "ea5196d7",
   "metadata": {
    "id": "ea5196d7"
   },
   "outputs": [],
   "source": [
    "best_model = gridsearch_gbrt.best_estimator_"
   ]
  },
  {
   "cell_type": "code",
   "execution_count": null,
   "id": "702dda1a",
   "metadata": {
    "id": "702dda1a",
    "outputId": "89080fca-5fde-45cb-8939-f2a0c65f7d49"
   },
   "outputs": [
    {
     "data": {
      "text/plain": [
       "[(0.7238389424392861, 'hour'),\n",
       " (0.04384496892905651, 'temp'),\n",
       " (0.0425674121293566, 'workingday'),\n",
       " (0.03834706261079211, 'dayofweek'),\n",
       " (0.035668256399721286, 'season'),\n",
       " (0.03370358086159958, 'year'),\n",
       " (0.0322601838824559, 'atemp'),\n",
       " (0.030783224044040294, 'humidity'),\n",
       " (0.016553611107436732, 'weather'),\n",
       " (0.0024327575962549927, 'holiday')]"
      ]
     },
     "execution_count": 142,
     "metadata": {},
     "output_type": "execute_result"
    }
   ],
   "source": [
    "sorted(zip(gridsearch_gbrt.best_estimator_.feature_importances_, X_train.columns), reverse=True)"
   ]
  },
  {
   "cell_type": "markdown",
   "id": "a33e23b2",
   "metadata": {
    "id": "a33e23b2"
   },
   "source": [
    "## 9.모델 예측과 성능 평가"
   ]
  },
  {
   "cell_type": "code",
   "execution_count": null,
   "id": "314fbb5a",
   "metadata": {
    "id": "314fbb5a",
    "outputId": "5124612e-00c8-44ab-c104-1c0a11deb98b"
   },
   "outputs": [
    {
     "data": {
      "text/plain": [
       "(6493, 10)"
      ]
     },
     "execution_count": 126,
     "metadata": {},
     "output_type": "execute_result"
    }
   ],
   "source": [
    "X_test.shape"
   ]
  },
  {
   "cell_type": "code",
   "execution_count": null,
   "id": "49d49133",
   "metadata": {
    "id": "49d49133",
    "outputId": "0d290c34-0ea8-41ec-ddb8-91ccb8fd69cb"
   },
   "outputs": [
    {
     "data": {
      "text/plain": [
       "array([2.46204042, 1.78796519, 1.3283687 , ..., 4.73332347, 4.42257987,\n",
       "       3.82758356])"
      ]
     },
     "execution_count": 143,
     "metadata": {},
     "output_type": "execute_result"
    }
   ],
   "source": [
    "best_pred = best_model.predict(X_test)\n",
    "best_pred"
   ]
  },
  {
   "cell_type": "code",
   "execution_count": null,
   "id": "ecfa7edb",
   "metadata": {
    "id": "ecfa7edb"
   },
   "outputs": [],
   "source": [
    "submission['count'] = np.expm1(best_pred)"
   ]
  },
  {
   "cell_type": "code",
   "execution_count": null,
   "id": "da9a0436",
   "metadata": {
    "id": "da9a0436"
   },
   "outputs": [],
   "source": [
    "ver = 1"
   ]
  },
  {
   "cell_type": "code",
   "execution_count": null,
   "id": "7fef1b49",
   "metadata": {
    "id": "7fef1b49"
   },
   "outputs": [],
   "source": [
    "submission.to_csv('bike_{}_submission.csv'.format(ver), index=False)"
   ]
  },
  {
   "cell_type": "markdown",
   "id": "5013d454",
   "metadata": {
    "id": "5013d454"
   },
   "source": [
    "# 더 해볼만한것!\n",
    "- registered와 casual을 각각 예측해서 합산해보는 방법도 있음\n",
    "- 더 강력한 모델(boosting 모델)로 도전"
   ]
  },
  {
   "cell_type": "code",
   "execution_count": null,
   "id": "8b2ba788",
   "metadata": {
    "id": "8b2ba788"
   },
   "outputs": [],
   "source": []
  },
  {
   "cell_type": "code",
   "execution_count": null,
   "id": "e2a998fb",
   "metadata": {
    "id": "e2a998fb"
   },
   "outputs": [],
   "source": []
  }
 ],
 "metadata": {
  "colab": {
   "collapsed_sections": [
    "e0a970f4",
    "9575aa7b",
    "8a72bd0b",
    "c12e990e",
    "9a7a9855",
    "7d2ba278",
    "e9d6cd7a",
    "536e1609",
    "f8612d6d",
    "43037adf",
    "bd5a7b08",
    "850413d9",
    "b42156d4",
    "a8335555",
    "2e5cb7e7",
    "8b53902e",
    "d8be25af"
   ],
   "provenance": [],
   "toc_visible": true
  },
  "kernelspec": {
   "display_name": "Python 3 (ipykernel)",
   "language": "python",
   "name": "python3"
  },
  "language_info": {
   "codemirror_mode": {
    "name": "ipython",
    "version": 3
   },
   "file_extension": ".py",
   "mimetype": "text/x-python",
   "name": "python",
   "nbconvert_exporter": "python",
   "pygments_lexer": "ipython3",
   "version": "3.9.12"
  }
 },
 "nbformat": 4,
 "nbformat_minor": 5
}
