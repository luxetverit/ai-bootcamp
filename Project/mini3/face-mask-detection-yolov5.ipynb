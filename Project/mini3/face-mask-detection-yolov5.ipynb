{
 "cells": [
  {
   "cell_type": "markdown",
   "metadata": {},
   "source": [
    "# Setup the Environment\n",
    "We are going to use YOLOv5 model for training.\n",
    "so lets clone and install the YOLO from github repo"
   ]
  },
  {
   "cell_type": "code",
   "execution_count": 1,
   "metadata": {
    "execution": {
     "iopub.execute_input": "2022-04-06T04:20:15.927091Z",
     "iopub.status.busy": "2022-04-06T04:20:15.92634Z",
     "iopub.status.idle": "2022-04-06T04:20:27.989707Z",
     "shell.execute_reply": "2022-04-06T04:20:27.98879Z",
     "shell.execute_reply.started": "2022-04-06T04:20:15.927003Z"
    }
   },
   "outputs": [
    {
     "name": "stdout",
     "output_type": "stream",
     "text": [
      "C:\\Users\\Administrator\\Documents\\dev\\ai-bootcamp\\Project\\mini3\\yolov5\n"
     ]
    },
    {
     "name": "stderr",
     "output_type": "stream",
     "text": [
      "Cloning into 'yolov5'...\n",
      "WARNING: Ignore distutils configs in setup.cfg due to encoding errors.\n",
      "WARNING: Ignore distutils configs in setup.cfg due to encoding errors.\n"
     ]
    }
   ],
   "source": [
    "!git clone https://github.com/ultralytics/yolov5\n",
    "%cd yolov5\n",
    "!pip install -qr requirements.txt"
   ]
  },
  {
   "cell_type": "code",
   "execution_count": 2,
   "metadata": {
    "execution": {
     "iopub.execute_input": "2022-04-06T04:20:27.992971Z",
     "iopub.status.busy": "2022-04-06T04:20:27.992687Z",
     "iopub.status.idle": "2022-04-06T04:20:29.386923Z",
     "shell.execute_reply": "2022-04-06T04:20:29.386188Z",
     "shell.execute_reply.started": "2022-04-06T04:20:27.992935Z"
    }
   },
   "outputs": [],
   "source": [
    "# Import required libraries\n",
    "import pandas as pd\n",
    "import numpy as np\n",
    "import os\n",
    "import glob\n",
    "from datetime import datetime\n",
    "import xml.etree.ElementTree as ET \n",
    "import cv2\n",
    "import matplotlib.pyplot as plt\n",
    "import seaborn as sns\n",
    "import warnings\n",
    "warnings.filterwarnings('ignore')"
   ]
  },
  {
   "cell_type": "code",
   "execution_count": 17,
   "metadata": {},
   "outputs": [
    {
     "name": "stdout",
     "output_type": "stream",
     "text": [
      "C:\\Users\\Administrator\\Documents\\dev\\ai-bootcamp\\Project\\mini3\\yolov5\n"
     ]
    }
   ],
   "source": [
    "%cd yolov5"
   ]
  },
  {
   "cell_type": "code",
   "execution_count": 26,
   "metadata": {
    "execution": {
     "iopub.execute_input": "2022-04-06T04:20:29.393368Z",
     "iopub.status.busy": "2022-04-06T04:20:29.391035Z",
     "iopub.status.idle": "2022-04-06T04:20:29.398629Z",
     "shell.execute_reply": "2022-04-06T04:20:29.397856Z",
     "shell.execute_reply.started": "2022-04-06T04:20:29.393314Z"
    }
   },
   "outputs": [],
   "source": [
    "input_data = './kaggle/input/face-mask-detection'\n",
    "output_data = './kaggle/working'"
   ]
  },
  {
   "cell_type": "markdown",
   "metadata": {},
   "source": [
    "# Read and Handle Annotations\n",
    "Read the data from .xml files\n",
    "<br>\n",
    "Extract filename and dimensions of the bouding boxes\n",
    "<br>\n",
    "and import that data into a pandas DataFrame"
   ]
  },
  {
   "cell_type": "code",
   "execution_count": 27,
   "metadata": {
    "execution": {
     "iopub.execute_input": "2022-04-06T04:20:29.406164Z",
     "iopub.status.busy": "2022-04-06T04:20:29.403812Z",
     "iopub.status.idle": "2022-04-06T04:20:29.41121Z",
     "shell.execute_reply": "2022-04-06T04:20:29.410567Z",
     "shell.execute_reply.started": "2022-04-06T04:20:29.406124Z"
    }
   },
   "outputs": [],
   "source": [
    "annotations_path = \"./kaggle/input/face-mask-detection/annotations\"\n",
    "images_path = \"./kaggle/input/face-mask-detection/images\""
   ]
  },
  {
   "cell_type": "code",
   "execution_count": 30,
   "metadata": {
    "execution": {
     "iopub.execute_input": "2022-04-06T04:20:29.416825Z",
     "iopub.status.busy": "2022-04-06T04:20:29.415529Z",
     "iopub.status.idle": "2022-04-06T04:20:31.834518Z",
     "shell.execute_reply": "2022-04-06T04:20:31.833716Z",
     "shell.execute_reply.started": "2022-04-06T04:20:29.416757Z"
    }
   },
   "outputs": [],
   "source": [
    "dataset = {\n",
    "            \"file\":[],\n",
    "            \"name\":[],    \n",
    "            \"width\":[],\n",
    "            \"height\":[],\n",
    "            \"xmin\":[],\n",
    "            \"ymin\":[],   \n",
    "            \"xmax\":[],\n",
    "            \"ymax\":[],\n",
    "           }\n",
    "\n",
    "for anno in glob.glob(annotations_path+\"/*.xml\"):\n",
    "    tree = ET.parse(anno)\n",
    "    \n",
    "    for elem in tree.iter():\n",
    "        if 'size' in elem.tag:\n",
    "            for attr in list(elem):\n",
    "                if 'width' in attr.tag: \n",
    "                    width = int(round(float(attr.text)))\n",
    "                if 'height' in attr.tag:\n",
    "                    height = int(round(float(attr.text)))    \n",
    "\n",
    "        if 'object' in elem.tag:\n",
    "            for attr in list(elem):\n",
    "                \n",
    "                if 'name' in attr.tag:\n",
    "                    name = attr.text                 \n",
    "                    dataset['name']+=[name]\n",
    "                    dataset['width']+=[width]\n",
    "                    dataset['height']+=[height] \n",
    "                    dataset['file']+=[anno.split('\\\\')[-1][0:-4]] \n",
    "                            \n",
    "                if 'bndbox' in attr.tag:\n",
    "                    for dim in list(attr):\n",
    "                        if 'xmin' in dim.tag:\n",
    "                            xmin = int(round(float(dim.text)))\n",
    "                            dataset['xmin']+=[xmin]\n",
    "                        if 'ymin' in dim.tag:\n",
    "                            ymin = int(round(float(dim.text)))\n",
    "                            dataset['ymin']+=[ymin]                                \n",
    "                        if 'xmax' in dim.tag:\n",
    "                            xmax = int(round(float(dim.text)))\n",
    "                            dataset['xmax']+=[xmax]                                \n",
    "                        if 'ymax' in dim.tag:\n",
    "                            ymax = int(round(float(dim.text)))\n",
    "                            dataset['ymax']+=[ymax]"
   ]
  },
  {
   "cell_type": "code",
   "execution_count": 31,
   "metadata": {
    "execution": {
     "iopub.execute_input": "2022-04-06T04:20:31.836274Z",
     "iopub.status.busy": "2022-04-06T04:20:31.835999Z",
     "iopub.status.idle": "2022-04-06T04:20:31.870948Z",
     "shell.execute_reply": "2022-04-06T04:20:31.870121Z",
     "shell.execute_reply.started": "2022-04-06T04:20:31.836208Z"
    }
   },
   "outputs": [
    {
     "data": {
      "text/html": [
       "<div>\n",
       "<style scoped>\n",
       "    .dataframe tbody tr th:only-of-type {\n",
       "        vertical-align: middle;\n",
       "    }\n",
       "\n",
       "    .dataframe tbody tr th {\n",
       "        vertical-align: top;\n",
       "    }\n",
       "\n",
       "    .dataframe thead th {\n",
       "        text-align: right;\n",
       "    }\n",
       "</style>\n",
       "<table border=\"1\" class=\"dataframe\">\n",
       "  <thead>\n",
       "    <tr style=\"text-align: right;\">\n",
       "      <th></th>\n",
       "      <th>file</th>\n",
       "      <th>name</th>\n",
       "      <th>width</th>\n",
       "      <th>height</th>\n",
       "      <th>xmin</th>\n",
       "      <th>ymin</th>\n",
       "      <th>xmax</th>\n",
       "      <th>ymax</th>\n",
       "    </tr>\n",
       "  </thead>\n",
       "  <tbody>\n",
       "    <tr>\n",
       "      <th>0</th>\n",
       "      <td>maksssksksss0</td>\n",
       "      <td>without_mask</td>\n",
       "      <td>512</td>\n",
       "      <td>366</td>\n",
       "      <td>79</td>\n",
       "      <td>105</td>\n",
       "      <td>109</td>\n",
       "      <td>142</td>\n",
       "    </tr>\n",
       "    <tr>\n",
       "      <th>1</th>\n",
       "      <td>maksssksksss0</td>\n",
       "      <td>with_mask</td>\n",
       "      <td>512</td>\n",
       "      <td>366</td>\n",
       "      <td>185</td>\n",
       "      <td>100</td>\n",
       "      <td>226</td>\n",
       "      <td>144</td>\n",
       "    </tr>\n",
       "    <tr>\n",
       "      <th>2</th>\n",
       "      <td>maksssksksss0</td>\n",
       "      <td>without_mask</td>\n",
       "      <td>512</td>\n",
       "      <td>366</td>\n",
       "      <td>325</td>\n",
       "      <td>90</td>\n",
       "      <td>360</td>\n",
       "      <td>141</td>\n",
       "    </tr>\n",
       "    <tr>\n",
       "      <th>3</th>\n",
       "      <td>maksssksksss1</td>\n",
       "      <td>with_mask</td>\n",
       "      <td>400</td>\n",
       "      <td>156</td>\n",
       "      <td>321</td>\n",
       "      <td>34</td>\n",
       "      <td>354</td>\n",
       "      <td>69</td>\n",
       "    </tr>\n",
       "    <tr>\n",
       "      <th>4</th>\n",
       "      <td>maksssksksss1</td>\n",
       "      <td>with_mask</td>\n",
       "      <td>400</td>\n",
       "      <td>156</td>\n",
       "      <td>224</td>\n",
       "      <td>38</td>\n",
       "      <td>261</td>\n",
       "      <td>73</td>\n",
       "    </tr>\n",
       "  </tbody>\n",
       "</table>\n",
       "</div>"
      ],
      "text/plain": [
       "            file          name  width  height  xmin  ymin  xmax  ymax\n",
       "0  maksssksksss0  without_mask    512     366    79   105   109   142\n",
       "1  maksssksksss0     with_mask    512     366   185   100   226   144\n",
       "2  maksssksksss0  without_mask    512     366   325    90   360   141\n",
       "3  maksssksksss1     with_mask    400     156   321    34   354    69\n",
       "4  maksssksksss1     with_mask    400     156   224    38   261    73"
      ]
     },
     "execution_count": 31,
     "metadata": {},
     "output_type": "execute_result"
    }
   ],
   "source": [
    "df=pd.DataFrame(dataset)\n",
    "df.head()"
   ]
  },
  {
   "cell_type": "code",
   "execution_count": 32,
   "metadata": {
    "execution": {
     "iopub.execute_input": "2022-04-06T04:20:31.872658Z",
     "iopub.status.busy": "2022-04-06T04:20:31.872407Z",
     "iopub.status.idle": "2022-04-06T04:20:31.884801Z",
     "shell.execute_reply": "2022-04-06T04:20:31.883879Z",
     "shell.execute_reply.started": "2022-04-06T04:20:31.872625Z"
    }
   },
   "outputs": [],
   "source": [
    "name_dict = {\n",
    "    'with_mask': 0,\n",
    "    'mask_weared_incorrect': 1,\n",
    "    'without_mask': 2 \n",
    "}\n",
    "\n",
    "df['class'] = df['name'].map(name_dict)"
   ]
  },
  {
   "cell_type": "code",
   "execution_count": 33,
   "metadata": {
    "execution": {
     "iopub.execute_input": "2022-04-06T04:20:31.886882Z",
     "iopub.status.busy": "2022-04-06T04:20:31.886324Z",
     "iopub.status.idle": "2022-04-06T04:20:31.896632Z",
     "shell.execute_reply": "2022-04-06T04:20:31.895677Z",
     "shell.execute_reply.started": "2022-04-06T04:20:31.886833Z"
    }
   },
   "outputs": [
    {
     "data": {
      "text/plain": [
       "array(['mask_weared_incorrect', 'with_mask', 'without_mask'], dtype=object)"
      ]
     },
     "execution_count": 33,
     "metadata": {},
     "output_type": "execute_result"
    }
   ],
   "source": [
    "np.sort(df.name.unique())"
   ]
  },
  {
   "cell_type": "markdown",
   "metadata": {},
   "source": [
    "# Train Test Split\n",
    "Split the dataset into training testing and validation set\n",
    "<br>\n",
    "separate the data in different folder inside the Yolo directory\n",
    "<br>\n",
    "and Normalize data"
   ]
  },
  {
   "cell_type": "code",
   "execution_count": 35,
   "metadata": {
    "execution": {
     "iopub.execute_input": "2022-04-06T04:20:31.89861Z",
     "iopub.status.busy": "2022-04-06T04:20:31.898327Z",
     "iopub.status.idle": "2022-04-06T04:20:31.958622Z",
     "shell.execute_reply": "2022-04-06T04:20:31.957884Z",
     "shell.execute_reply.started": "2022-04-06T04:20:31.898572Z"
    }
   },
   "outputs": [
    {
     "name": "stdout",
     "output_type": "stream",
     "text": [
      "There are 853 images in the dataset\n"
     ]
    }
   ],
   "source": [
    "fileNames = [*os.listdir(\"./kaggle/input/face-mask-detection/images\")]\n",
    "print('There are {} images in the dataset'.format(len(fileNames)))"
   ]
  },
  {
   "cell_type": "code",
   "execution_count": 36,
   "metadata": {
    "execution": {
     "iopub.execute_input": "2022-04-06T04:20:31.961315Z",
     "iopub.status.busy": "2022-04-06T04:20:31.961004Z",
     "iopub.status.idle": "2022-04-06T04:20:32.136096Z",
     "shell.execute_reply": "2022-04-06T04:20:32.13536Z",
     "shell.execute_reply.started": "2022-04-06T04:20:31.961282Z"
    }
   },
   "outputs": [
    {
     "name": "stdout",
     "output_type": "stream",
     "text": [
      "Length of Train = 767\n",
      "==============================\n",
      "Length of Valid = 61\n",
      "==============================\n",
      "Length of test = 25\n"
     ]
    }
   ],
   "source": [
    "from sklearn.model_selection import train_test_split\n",
    "train, test = train_test_split(fileNames, test_size=0.1, random_state=22)\n",
    "test, val = train_test_split(test, test_size=0.7, random_state=22)\n",
    "print(\"Length of Train =\",len(train))\n",
    "print(\"=\"*30)\n",
    "print(\"Length of Valid =\",len(val))\n",
    "print(\"=\"*30)\n",
    "print(\"Length of test =\", len(test))"
   ]
  },
  {
   "cell_type": "code",
   "execution_count": 40,
   "metadata": {},
   "outputs": [
    {
     "data": {
      "text/plain": [
       "'C:\\\\Users\\\\Administrator\\\\Documents\\\\dev\\\\ai-bootcamp\\\\Project\\\\mini3\\\\yolov5\\\\kaggle\\\\working'"
      ]
     },
     "execution_count": 40,
     "metadata": {},
     "output_type": "execute_result"
    }
   ],
   "source": [
    "pwd"
   ]
  },
  {
   "cell_type": "code",
   "execution_count": 41,
   "metadata": {
    "execution": {
     "iopub.execute_input": "2022-04-06T04:20:32.137825Z",
     "iopub.status.busy": "2022-04-06T04:20:32.137423Z",
     "iopub.status.idle": "2022-04-06T04:20:32.144106Z",
     "shell.execute_reply": "2022-04-06T04:20:32.143378Z",
     "shell.execute_reply.started": "2022-04-06T04:20:32.137787Z"
    }
   },
   "outputs": [],
   "source": [
    "# create separate train test and validation dir inside yolo/data/\n",
    "#os.chdir('./kaggle/working/')\n",
    "os.makedirs('./yolov5/data/train')\n",
    "os.makedirs('./yolov5/data/val')\n",
    "os.makedirs('./yolov5/data/test')\n",
    "os.makedirs('./yolov5/data/train/images')\n",
    "os.makedirs('./yolov5/data/train/labels')\n",
    "os.makedirs('./yolov5/data/test/images')\n",
    "os.makedirs('./yolov5/data/test/labels')\n",
    "os.makedirs('./yolov5/data/val/images')\n",
    "os.makedirs('./yolov5/data/val/labels')"
   ]
  },
  {
   "cell_type": "code",
   "execution_count": 42,
   "metadata": {
    "execution": {
     "iopub.execute_input": "2022-04-06T04:20:32.145882Z",
     "iopub.status.busy": "2022-04-06T04:20:32.145511Z",
     "iopub.status.idle": "2022-04-06T04:23:36.117931Z",
     "shell.execute_reply": "2022-04-06T04:23:36.117048Z",
     "shell.execute_reply.started": "2022-04-06T04:20:32.14575Z"
    }
   },
   "outputs": [
    {
     "ename": "FileNotFoundError",
     "evalue": "[Errno 2] No such file or directory: './kaggle/input/face-mask-detection/images/maksssksksss209.png'",
     "output_type": "error",
     "traceback": [
      "\u001b[1;31m---------------------------------------------------------------------------\u001b[0m",
      "\u001b[1;31mFileNotFoundError\u001b[0m                         Traceback (most recent call last)",
      "\u001b[1;32m~\\AppData\\Local\\Temp\\ipykernel_14176\\1853831945.py\u001b[0m in \u001b[0;36m<module>\u001b[1;34m\u001b[0m\n\u001b[0;32m      7\u001b[0m         \u001b[0m_\u001b[0m \u001b[1;33m=\u001b[0m \u001b[0mimg1\u001b[0m\u001b[1;33m.\u001b[0m\u001b[0msave\u001b[0m\u001b[1;33m(\u001b[0m\u001b[0moutput_data\u001b[0m\u001b[1;33m+\u001b[0m\u001b[1;34m\"/yolov5/data/\"\u001b[0m\u001b[1;33m+\u001b[0m\u001b[0mfolder_Name\u001b[0m\u001b[1;33m+\u001b[0m\u001b[1;34m\"/images/\"\u001b[0m\u001b[1;33m+\u001b[0m\u001b[0mimage\u001b[0m\u001b[1;33m)\u001b[0m\u001b[1;33m\u001b[0m\u001b[1;33m\u001b[0m\u001b[0m\n\u001b[0;32m      8\u001b[0m \u001b[1;33m\u001b[0m\u001b[0m\n\u001b[1;32m----> 9\u001b[1;33m \u001b[0mcopyImages\u001b[0m\u001b[1;33m(\u001b[0m\u001b[0mtrain\u001b[0m\u001b[1;33m,\u001b[0m \u001b[1;34m\"train\"\u001b[0m\u001b[1;33m)\u001b[0m\u001b[1;33m\u001b[0m\u001b[1;33m\u001b[0m\u001b[0m\n\u001b[0m\u001b[0;32m     10\u001b[0m \u001b[0mcopyImages\u001b[0m\u001b[1;33m(\u001b[0m\u001b[0mval\u001b[0m\u001b[1;33m,\u001b[0m \u001b[1;34m\"val\"\u001b[0m\u001b[1;33m)\u001b[0m\u001b[1;33m\u001b[0m\u001b[1;33m\u001b[0m\u001b[0m\n\u001b[0;32m     11\u001b[0m \u001b[0mcopyImages\u001b[0m\u001b[1;33m(\u001b[0m\u001b[0mtest\u001b[0m\u001b[1;33m,\u001b[0m \u001b[1;34m\"test\"\u001b[0m\u001b[1;33m)\u001b[0m\u001b[1;33m\u001b[0m\u001b[1;33m\u001b[0m\u001b[0m\n",
      "\u001b[1;32m~\\AppData\\Local\\Temp\\ipykernel_14176\\1853831945.py\u001b[0m in \u001b[0;36mcopyImages\u001b[1;34m(imageList, folder_Name)\u001b[0m\n\u001b[0;32m      3\u001b[0m \u001b[1;32mdef\u001b[0m \u001b[0mcopyImages\u001b[0m\u001b[1;33m(\u001b[0m\u001b[0mimageList\u001b[0m\u001b[1;33m,\u001b[0m \u001b[0mfolder_Name\u001b[0m\u001b[1;33m)\u001b[0m\u001b[1;33m:\u001b[0m\u001b[1;33m\u001b[0m\u001b[1;33m\u001b[0m\u001b[0m\n\u001b[0;32m      4\u001b[0m     \u001b[1;32mfor\u001b[0m \u001b[0mimage\u001b[0m \u001b[1;32min\u001b[0m \u001b[0mimageList\u001b[0m\u001b[1;33m:\u001b[0m\u001b[1;33m\u001b[0m\u001b[1;33m\u001b[0m\u001b[0m\n\u001b[1;32m----> 5\u001b[1;33m         \u001b[0mimg\u001b[0m \u001b[1;33m=\u001b[0m \u001b[0mImage\u001b[0m\u001b[1;33m.\u001b[0m\u001b[0mopen\u001b[0m\u001b[1;33m(\u001b[0m\u001b[0minput_data\u001b[0m\u001b[1;33m+\u001b[0m\u001b[1;34m\"/images/\"\u001b[0m\u001b[1;33m+\u001b[0m\u001b[0mimage\u001b[0m\u001b[1;33m)\u001b[0m\u001b[1;33m\u001b[0m\u001b[1;33m\u001b[0m\u001b[0m\n\u001b[0m\u001b[0;32m      6\u001b[0m         \u001b[0mimg1\u001b[0m \u001b[1;33m=\u001b[0m \u001b[0mimg\u001b[0m\u001b[1;33m.\u001b[0m\u001b[0mresize\u001b[0m\u001b[1;33m(\u001b[0m\u001b[1;33m(\u001b[0m\u001b[1;36m640\u001b[0m\u001b[1;33m,\u001b[0m \u001b[1;36m480\u001b[0m\u001b[1;33m)\u001b[0m\u001b[1;33m)\u001b[0m\u001b[1;33m\u001b[0m\u001b[1;33m\u001b[0m\u001b[0m\n\u001b[0;32m      7\u001b[0m         \u001b[0m_\u001b[0m \u001b[1;33m=\u001b[0m \u001b[0mimg1\u001b[0m\u001b[1;33m.\u001b[0m\u001b[0msave\u001b[0m\u001b[1;33m(\u001b[0m\u001b[0moutput_data\u001b[0m\u001b[1;33m+\u001b[0m\u001b[1;34m\"/yolov5/data/\"\u001b[0m\u001b[1;33m+\u001b[0m\u001b[0mfolder_Name\u001b[0m\u001b[1;33m+\u001b[0m\u001b[1;34m\"/images/\"\u001b[0m\u001b[1;33m+\u001b[0m\u001b[0mimage\u001b[0m\u001b[1;33m)\u001b[0m\u001b[1;33m\u001b[0m\u001b[1;33m\u001b[0m\u001b[0m\n",
      "\u001b[1;32mC:\\ProgramData\\Anaconda3\\lib\\site-packages\\PIL\\Image.py\u001b[0m in \u001b[0;36mopen\u001b[1;34m(fp, mode, formats)\u001b[0m\n\u001b[0;32m   3090\u001b[0m \u001b[1;33m\u001b[0m\u001b[0m\n\u001b[0;32m   3091\u001b[0m     \u001b[1;32mif\u001b[0m \u001b[0mfilename\u001b[0m\u001b[1;33m:\u001b[0m\u001b[1;33m\u001b[0m\u001b[1;33m\u001b[0m\u001b[0m\n\u001b[1;32m-> 3092\u001b[1;33m         \u001b[0mfp\u001b[0m \u001b[1;33m=\u001b[0m \u001b[0mbuiltins\u001b[0m\u001b[1;33m.\u001b[0m\u001b[0mopen\u001b[0m\u001b[1;33m(\u001b[0m\u001b[0mfilename\u001b[0m\u001b[1;33m,\u001b[0m \u001b[1;34m\"rb\"\u001b[0m\u001b[1;33m)\u001b[0m\u001b[1;33m\u001b[0m\u001b[1;33m\u001b[0m\u001b[0m\n\u001b[0m\u001b[0;32m   3093\u001b[0m         \u001b[0mexclusive_fp\u001b[0m \u001b[1;33m=\u001b[0m \u001b[1;32mTrue\u001b[0m\u001b[1;33m\u001b[0m\u001b[1;33m\u001b[0m\u001b[0m\n\u001b[0;32m   3094\u001b[0m \u001b[1;33m\u001b[0m\u001b[0m\n",
      "\u001b[1;31mFileNotFoundError\u001b[0m: [Errno 2] No such file or directory: './kaggle/input/face-mask-detection/images/maksssksksss209.png'"
     ]
    }
   ],
   "source": [
    "from PIL import Image\n",
    "\n",
    "def copyImages(imageList, folder_Name):\n",
    "    for image in imageList:\n",
    "        img = Image.open(input_data+\"/images/\"+image)\n",
    "        img1 = img.resize((640, 480))\n",
    "        _ = img1.save(output_data+\"/yolov5/data/\"+folder_Name+\"/images/\"+image)\n",
    "\n",
    "copyImages(train, \"train\")\n",
    "copyImages(val, \"val\")\n",
    "copyImages(test, \"test\")"
   ]
  },
  {
   "cell_type": "code",
   "execution_count": 43,
   "metadata": {
    "execution": {
     "iopub.execute_input": "2022-04-06T04:23:36.11954Z",
     "iopub.status.busy": "2022-04-06T04:23:36.119291Z",
     "iopub.status.idle": "2022-04-06T04:23:36.130829Z",
     "shell.execute_reply": "2022-04-06T04:23:36.129142Z",
     "shell.execute_reply.started": "2022-04-06T04:23:36.119507Z"
    }
   },
   "outputs": [
    {
     "data": {
      "text/html": [
       "<div>\n",
       "<style scoped>\n",
       "    .dataframe tbody tr th:only-of-type {\n",
       "        vertical-align: middle;\n",
       "    }\n",
       "\n",
       "    .dataframe tbody tr th {\n",
       "        vertical-align: top;\n",
       "    }\n",
       "\n",
       "    .dataframe thead th {\n",
       "        text-align: right;\n",
       "    }\n",
       "</style>\n",
       "<table border=\"1\" class=\"dataframe\">\n",
       "  <thead>\n",
       "    <tr style=\"text-align: right;\">\n",
       "      <th></th>\n",
       "      <th>file</th>\n",
       "      <th>name</th>\n",
       "      <th>width</th>\n",
       "      <th>height</th>\n",
       "      <th>xmin</th>\n",
       "      <th>ymin</th>\n",
       "      <th>xmax</th>\n",
       "      <th>ymax</th>\n",
       "      <th>class</th>\n",
       "    </tr>\n",
       "  </thead>\n",
       "  <tbody>\n",
       "    <tr>\n",
       "      <th>0</th>\n",
       "      <td>maksssksksss0</td>\n",
       "      <td>without_mask</td>\n",
       "      <td>512</td>\n",
       "      <td>366</td>\n",
       "      <td>79</td>\n",
       "      <td>105</td>\n",
       "      <td>109</td>\n",
       "      <td>142</td>\n",
       "      <td>2</td>\n",
       "    </tr>\n",
       "    <tr>\n",
       "      <th>1</th>\n",
       "      <td>maksssksksss0</td>\n",
       "      <td>with_mask</td>\n",
       "      <td>512</td>\n",
       "      <td>366</td>\n",
       "      <td>185</td>\n",
       "      <td>100</td>\n",
       "      <td>226</td>\n",
       "      <td>144</td>\n",
       "      <td>0</td>\n",
       "    </tr>\n",
       "    <tr>\n",
       "      <th>2</th>\n",
       "      <td>maksssksksss0</td>\n",
       "      <td>without_mask</td>\n",
       "      <td>512</td>\n",
       "      <td>366</td>\n",
       "      <td>325</td>\n",
       "      <td>90</td>\n",
       "      <td>360</td>\n",
       "      <td>141</td>\n",
       "      <td>2</td>\n",
       "    </tr>\n",
       "    <tr>\n",
       "      <th>3</th>\n",
       "      <td>maksssksksss1</td>\n",
       "      <td>with_mask</td>\n",
       "      <td>400</td>\n",
       "      <td>156</td>\n",
       "      <td>321</td>\n",
       "      <td>34</td>\n",
       "      <td>354</td>\n",
       "      <td>69</td>\n",
       "      <td>0</td>\n",
       "    </tr>\n",
       "    <tr>\n",
       "      <th>4</th>\n",
       "      <td>maksssksksss1</td>\n",
       "      <td>with_mask</td>\n",
       "      <td>400</td>\n",
       "      <td>156</td>\n",
       "      <td>224</td>\n",
       "      <td>38</td>\n",
       "      <td>261</td>\n",
       "      <td>73</td>\n",
       "      <td>0</td>\n",
       "    </tr>\n",
       "  </tbody>\n",
       "</table>\n",
       "</div>"
      ],
      "text/plain": [
       "            file          name  width  height  xmin  ymin  xmax  ymax  class\n",
       "0  maksssksksss0  without_mask    512     366    79   105   109   142      2\n",
       "1  maksssksksss0     with_mask    512     366   185   100   226   144      0\n",
       "2  maksssksksss0  without_mask    512     366   325    90   360   141      2\n",
       "3  maksssksksss1     with_mask    400     156   321    34   354    69      0\n",
       "4  maksssksksss1     with_mask    400     156   224    38   261    73      0"
      ]
     },
     "execution_count": 43,
     "metadata": {},
     "output_type": "execute_result"
    }
   ],
   "source": [
    "df.head()"
   ]
  },
  {
   "cell_type": "code",
   "execution_count": null,
   "metadata": {
    "execution": {
     "iopub.execute_input": "2022-04-06T04:23:36.133837Z",
     "iopub.status.busy": "2022-04-06T04:23:36.133389Z",
     "iopub.status.idle": "2022-04-06T04:23:36.146709Z",
     "shell.execute_reply": "2022-04-06T04:23:36.145977Z",
     "shell.execute_reply.started": "2022-04-06T04:23:36.1338Z"
    }
   },
   "outputs": [],
   "source": [
    "df['xmax'] = (640/df['width'])*df['xmax']\n",
    "df['ymax'] = (480/df['height'])*df['ymax']\n",
    "df['xmin'] = (640/df['width'])*df['xmin']\n",
    "df['ymin'] = (480/df['height'])*df['ymin']"
   ]
  },
  {
   "cell_type": "code",
   "execution_count": null,
   "metadata": {
    "execution": {
     "iopub.execute_input": "2022-04-06T04:23:36.148475Z",
     "iopub.status.busy": "2022-04-06T04:23:36.148146Z",
     "iopub.status.idle": "2022-04-06T04:23:36.158059Z",
     "shell.execute_reply": "2022-04-06T04:23:36.157271Z",
     "shell.execute_reply.started": "2022-04-06T04:23:36.148438Z"
    }
   },
   "outputs": [],
   "source": [
    "df[['xmax', 'ymax', 'xmin', 'ymin']] = df[['xmax', 'ymax', 'xmin', 'ymin']].astype('int64')"
   ]
  },
  {
   "cell_type": "code",
   "execution_count": null,
   "metadata": {
    "execution": {
     "iopub.execute_input": "2022-04-06T04:23:36.159629Z",
     "iopub.status.busy": "2022-04-06T04:23:36.159158Z",
     "iopub.status.idle": "2022-04-06T04:23:36.170736Z",
     "shell.execute_reply": "2022-04-06T04:23:36.169905Z",
     "shell.execute_reply.started": "2022-04-06T04:23:36.159592Z"
    }
   },
   "outputs": [],
   "source": [
    "df['x_center'] = (df['xmax']+df['xmin'])/(2*640)\n",
    "df['y_center'] = (df['ymax']+df['ymin'])/(2*480)\n",
    "df['box_height'] = (df['xmax']-df['xmin'])/(640)\n",
    "df['box_width'] = (df['ymax']-df['ymin'])/(480)"
   ]
  },
  {
   "cell_type": "code",
   "execution_count": null,
   "metadata": {
    "execution": {
     "iopub.execute_input": "2022-04-06T04:23:36.172933Z",
     "iopub.status.busy": "2022-04-06T04:23:36.172407Z",
     "iopub.status.idle": "2022-04-06T04:23:36.18931Z",
     "shell.execute_reply": "2022-04-06T04:23:36.188616Z",
     "shell.execute_reply.started": "2022-04-06T04:23:36.172898Z"
    }
   },
   "outputs": [],
   "source": [
    "df.head()"
   ]
  },
  {
   "cell_type": "code",
   "execution_count": null,
   "metadata": {
    "execution": {
     "iopub.execute_input": "2022-04-06T04:23:36.191428Z",
     "iopub.status.busy": "2022-04-06T04:23:36.190987Z",
     "iopub.status.idle": "2022-04-06T04:23:36.249279Z",
     "shell.execute_reply": "2022-04-06T04:23:36.248639Z",
     "shell.execute_reply.started": "2022-04-06T04:23:36.191393Z"
    }
   },
   "outputs": [],
   "source": [
    "df = df.astype('string')"
   ]
  },
  {
   "cell_type": "code",
   "execution_count": null,
   "metadata": {
    "execution": {
     "iopub.execute_input": "2022-04-06T04:23:36.251615Z",
     "iopub.status.busy": "2022-04-06T04:23:36.251162Z",
     "iopub.status.idle": "2022-04-06T04:23:38.404793Z",
     "shell.execute_reply": "2022-04-06T04:23:38.404092Z",
     "shell.execute_reply.started": "2022-04-06T04:23:36.251582Z"
    }
   },
   "outputs": [],
   "source": [
    "def create_labels(image_list, data_name):\n",
    "    fileNames = [x.split(\".\")[0] for x in image_list]\n",
    "\n",
    "    for name in fileNames:\n",
    "        data = df[df.file==name]\n",
    "        box_list = []\n",
    "        \n",
    "        for index in range(len(data)):\n",
    "            row = data.iloc[index]\n",
    "            box_list.append(row['class']+\" \"+row[\"x_center\"]+\" \"+row[\"y_center\"]\\\n",
    "                        +\" \"+row[\"box_height\"]+\" \"+row[\"box_width\"])\n",
    "            \n",
    "        text = \"\\n\".join(box_list)\n",
    "        with open(output_data+\"/yolov5/data/\"+data_name+\"/labels/\"+name+\".txt\", \"w\") as file:\n",
    "            file.write(text)\n",
    "\n",
    "\n",
    "create_labels(train, \"train\")\n",
    "create_labels(val, \"val\")\n",
    "create_labels(test, \"test\")"
   ]
  },
  {
   "cell_type": "markdown",
   "metadata": {},
   "source": [
    "# Configure the Model"
   ]
  },
  {
   "cell_type": "code",
   "execution_count": null,
   "metadata": {
    "execution": {
     "iopub.execute_input": "2022-04-06T04:23:38.406362Z",
     "iopub.status.busy": "2022-04-06T04:23:38.406095Z",
     "iopub.status.idle": "2022-04-06T04:23:38.411312Z",
     "shell.execute_reply": "2022-04-06T04:23:38.41064Z",
     "shell.execute_reply.started": "2022-04-06T04:23:38.406329Z"
    }
   },
   "outputs": [],
   "source": [
    "# go to YOLO directory\n",
    "%cd yolov5"
   ]
  },
  {
   "cell_type": "code",
   "execution_count": null,
   "metadata": {
    "execution": {
     "iopub.execute_input": "2022-04-06T04:23:38.413044Z",
     "iopub.status.busy": "2022-04-06T04:23:38.4126Z",
     "iopub.status.idle": "2022-04-06T04:23:40.237912Z",
     "shell.execute_reply": "2022-04-06T04:23:40.236967Z",
     "shell.execute_reply.started": "2022-04-06T04:23:38.413009Z"
    }
   },
   "outputs": [],
   "source": [
    "# to display images\n",
    "from IPython.display import Image, clear_output\n",
    "import torch\n",
    "from yolov5 import utils\n",
    "display = utils.notebook_init()"
   ]
  },
  {
   "cell_type": "code",
   "execution_count": null,
   "metadata": {
    "execution": {
     "iopub.execute_input": "2022-04-06T04:23:40.241114Z",
     "iopub.status.busy": "2022-04-06T04:23:40.240899Z",
     "iopub.status.idle": "2022-04-06T04:23:40.905616Z",
     "shell.execute_reply": "2022-04-06T04:23:40.904842Z",
     "shell.execute_reply.started": "2022-04-06T04:23:40.241086Z"
    }
   },
   "outputs": [],
   "source": [
    "# configure .yaml file to guide the model for training\n",
    "yaml_text = \"\"\"train: data/train/images\n",
    "val: data/train/images\n",
    "\n",
    "nc: 3\n",
    "names: ['with_mask', 'mask_weared_incorrect', 'without_mask']\"\"\"\n",
    "\n",
    "with open(\"data/data.yaml\", 'w') as file:\n",
    "    file.write(yaml_text)\n",
    "\n",
    "%cat data/data.yaml"
   ]
  },
  {
   "cell_type": "code",
   "execution_count": null,
   "metadata": {
    "execution": {
     "iopub.execute_input": "2022-04-06T04:23:40.908103Z",
     "iopub.status.busy": "2022-04-06T04:23:40.90768Z",
     "iopub.status.idle": "2022-04-06T04:23:40.913705Z",
     "shell.execute_reply": "2022-04-06T04:23:40.912966Z",
     "shell.execute_reply.started": "2022-04-06T04:23:40.908064Z"
    }
   },
   "outputs": [],
   "source": [
    "#customize iPython writefile so we can write variables\n",
    "from IPython.core.magic import register_line_cell_magic\n",
    "\n",
    "@register_line_cell_magic\n",
    "def writetemplate(line, cell):\n",
    "    with open(line, 'w') as f:\n",
    "        f.write(cell.format(**globals()))"
   ]
  },
  {
   "cell_type": "code",
   "execution_count": null,
   "metadata": {
    "execution": {
     "iopub.execute_input": "2022-04-06T04:23:56.724597Z",
     "iopub.status.busy": "2022-04-06T04:23:56.72433Z",
     "iopub.status.idle": "2022-04-06T04:23:56.730298Z",
     "shell.execute_reply": "2022-04-06T04:23:56.729576Z",
     "shell.execute_reply.started": "2022-04-06T04:23:56.724566Z"
    }
   },
   "outputs": [],
   "source": [
    "%%writetemplate models/custom_yolov5s.yaml\n",
    "\n",
    "# parameters\n",
    "nc: 3  # number of classes\n",
    "depth_multiple: 0.33  # model depth multiple\n",
    "width_multiple: 0.50  # layer channel multiple\n",
    "\n",
    "# anchors\n",
    "anchors:\n",
    "    - [10,13, 16,30, 33,23]  # P3/8\n",
    "    - [30,61, 62,45, 59,119]  # P4/16\n",
    "    - [116,90, 156,198, 373,326]  # P5/32\n",
    "\n",
    "# YOLOv5 backbone\n",
    "backbone:\n",
    "  # [from, number, module, args]\n",
    "  [[-1, 1, Focus, [64, 3]],  # 0-P1/2\n",
    "   [-1, 1, Conv, [128, 3, 2]],  # 1-P2/4\n",
    "   [-1, 3, BottleneckCSP, [128]],\n",
    "   [-1, 1, Conv, [256, 3, 2]],  # 3-P3/8\n",
    "   [-1, 9, BottleneckCSP, [256]],\n",
    "   [-1, 1, Conv, [512, 3, 2]],  # 5-P4/16\n",
    "   [-1, 9, BottleneckCSP, [512]],\n",
    "   [-1, 1, Conv, [1024, 3, 2]],  # 7-P5/32\n",
    "   [-1, 1, SPP, [1024, [5, 9, 13]]],\n",
    "   [-1, 3, BottleneckCSP, [1024, False]],  # 9\n",
    "  ]\n",
    "\n",
    "# YOLOv5 head\n",
    "head:\n",
    "    [[-1, 1, Conv, [512, 1, 1]],\n",
    "    [-1, 1, nn.Upsample, [None, 2, 'nearest']],\n",
    "    [[-1, 6], 1, Concat, [1]],  # cat backbone P4\n",
    "    [-1, 3, BottleneckCSP, [512, False]],  # 13\n",
    "\n",
    "    [-1, 1, Conv, [256, 1, 1]],\n",
    "    [-1, 1, nn.Upsample, [None, 2, 'nearest']],\n",
    "    [[-1, 4], 1, Concat, [1]],  # cat backbone P3\n",
    "    [-1, 3, BottleneckCSP, [256, False]],  # 17 (P3/8-small)\n",
    "\n",
    "    [-1, 1, Conv, [256, 3, 2]],\n",
    "    [[-1, 14], 1, Concat, [1]],  # cat head P4\n",
    "    [-1, 3, BottleneckCSP, [512, False]],  # 20 (P4/16-medium)\n",
    "\n",
    "    [-1, 1, Conv, [512, 3, 2]],\n",
    "    [[-1, 10], 1, Concat, [1]],  # cat head P5\n",
    "    [-1, 3, BottleneckCSP, [1024, False]],  # 23 (P5/32-large)\n",
    "\n",
    "    [[17, 20, 23], 1, Detect, [nc, anchors]],  # Detect(P3, P4, P5)\n",
    "    ]"
   ]
  },
  {
   "cell_type": "code",
   "execution_count": null,
   "metadata": {
    "_kg_hide-output": true,
    "execution": {
     "iopub.execute_input": "2022-04-06T04:24:03.631084Z",
     "iopub.status.busy": "2022-04-06T04:24:03.630365Z",
     "iopub.status.idle": "2022-04-06T04:44:35.07435Z",
     "shell.execute_reply": "2022-04-06T04:44:35.073303Z",
     "shell.execute_reply.started": "2022-04-06T04:24:03.631042Z"
    }
   },
   "outputs": [],
   "source": [
    "# train yolov5s on custom data for 100 epochs\n",
    "# time its performance\n",
    "# we are going to using pre-trained weights from yolov5.pt model\n",
    "\n",
    "start = datetime.now()\n",
    "!python train.py --img 640 --batch 32 --epochs 50 --data data/data.yaml --cfg models/custom_yolov5s.yaml --weights yolov5s.pt --name yolov5s_results  --cache\n",
    "end = datetime.now()"
   ]
  },
  {
   "cell_type": "code",
   "execution_count": null,
   "metadata": {
    "execution": {
     "iopub.execute_input": "2022-04-06T04:45:30.40163Z",
     "iopub.status.busy": "2022-04-06T04:45:30.401263Z",
     "iopub.status.idle": "2022-04-06T04:45:30.412487Z",
     "shell.execute_reply": "2022-04-06T04:45:30.411681Z",
     "shell.execute_reply.started": "2022-04-06T04:45:30.401591Z"
    }
   },
   "outputs": [],
   "source": [
    "print(\"Runtime =\",end-start)"
   ]
  },
  {
   "cell_type": "code",
   "execution_count": null,
   "metadata": {
    "execution": {
     "iopub.execute_input": "2022-04-06T04:45:41.100532Z",
     "iopub.status.busy": "2022-04-06T04:45:41.100268Z",
     "iopub.status.idle": "2022-04-06T04:45:42.314611Z",
     "shell.execute_reply": "2022-04-06T04:45:42.313883Z",
     "shell.execute_reply.started": "2022-04-06T04:45:41.100503Z"
    }
   },
   "outputs": [],
   "source": [
    "# lets visualize the training results\n",
    "img = plt.imread('runs/train/yolov5s_results/train_batch0.jpg')\n",
    "plt.figure(figsize=(20,15))\n",
    "plt.imshow(img)\n",
    "plt.axis('off')\n",
    "plt.show()"
   ]
  },
  {
   "cell_type": "markdown",
   "metadata": {},
   "source": [
    "# Test the Model\n",
    "lets test the model over test images we had separated before training"
   ]
  },
  {
   "cell_type": "code",
   "execution_count": null,
   "metadata": {
    "_kg_hide-output": true,
    "execution": {
     "iopub.execute_input": "2022-04-06T04:46:16.955727Z",
     "iopub.status.busy": "2022-04-06T04:46:16.955163Z",
     "iopub.status.idle": "2022-04-06T04:46:25.78487Z",
     "shell.execute_reply": "2022-04-06T04:46:25.783903Z",
     "shell.execute_reply.started": "2022-04-06T04:46:16.955687Z"
    }
   },
   "outputs": [],
   "source": [
    "!python detect.py --source data/test/images/ --weight runs/train/yolov5s_results/weights/best.pt --name expTestImage --conf 0.4"
   ]
  },
  {
   "cell_type": "markdown",
   "metadata": {},
   "source": [
    "results are saved inside run/detect/expTestImage dir <br>\n",
    "let's check the results to see how our model performed"
   ]
  },
  {
   "cell_type": "code",
   "execution_count": null,
   "metadata": {
    "execution": {
     "iopub.execute_input": "2022-04-06T04:47:50.287082Z",
     "iopub.status.busy": "2022-04-06T04:47:50.286283Z",
     "iopub.status.idle": "2022-04-06T04:47:50.292392Z",
     "shell.execute_reply": "2022-04-06T04:47:50.291692Z",
     "shell.execute_reply.started": "2022-04-06T04:47:50.287046Z"
    }
   },
   "outputs": [],
   "source": [
    "color_dict = {\n",
    "    'with_mask': (0, 255, 0),\n",
    "    'mask_weared_incorrect':  (0, 0, 255),\n",
    "    'without_mask': (255, 0, 0) \n",
    "}"
   ]
  },
  {
   "cell_type": "code",
   "execution_count": null,
   "metadata": {
    "execution": {
     "iopub.execute_input": "2022-04-06T04:53:08.29475Z",
     "iopub.status.busy": "2022-04-06T04:53:08.294472Z",
     "iopub.status.idle": "2022-04-06T04:53:08.30355Z",
     "shell.execute_reply": "2022-04-06T04:53:08.302759Z",
     "shell.execute_reply.started": "2022-04-06T04:53:08.294721Z"
    }
   },
   "outputs": [],
   "source": [
    "def show_image(img_id):\n",
    "    df_image = df[df.file==img_id]\n",
    "    df_image[['xmin', 'ymin', 'xmax', 'ymax']] = df_image[['xmin', 'ymin', 'xmax', 'ymax']].astype('int64')\n",
    "    path = 'data/test/images/'+img_id# +'.png'\n",
    "    img = plt.imread(path)\n",
    "\n",
    "    imge = img.copy()\n",
    "\n",
    "    for index in range(len(df_image)):\n",
    "        row = df_image.iloc[index]\n",
    "        cv2.rectangle(imge, \n",
    "                      (row['xmin'], row['ymin']),\n",
    "                      (row['xmax'], row['ymax']),\n",
    "                      color=color_dict[row['name']],\n",
    "                      thickness=2)\n",
    "\n",
    "    img_pred = plt.imread('runs/detect/expTestImage/'+img_id)\n",
    "    # ===================================\n",
    "    plt.figure(figsize=(14,17))\n",
    "\n",
    "    plt.subplot(1,2,1)\n",
    "    plt.imshow(imge)\n",
    "    plt.axis('off')\n",
    "    plt.title('Image with Truth Box')\n",
    "\n",
    "    plt.subplot(1,2,2)\n",
    "    plt.imshow(img_pred)\n",
    "    plt.axis('off')\n",
    "    plt.title('Image with Predicted Box')"
   ]
  },
  {
   "cell_type": "code",
   "execution_count": null,
   "metadata": {
    "execution": {
     "iopub.execute_input": "2022-04-06T04:53:10.405513Z",
     "iopub.status.busy": "2022-04-06T04:53:10.404723Z",
     "iopub.status.idle": "2022-04-06T04:53:11.073828Z",
     "shell.execute_reply": "2022-04-06T04:53:11.073202Z",
     "shell.execute_reply.started": "2022-04-06T04:53:10.405463Z"
    }
   },
   "outputs": [],
   "source": [
    "import os, random\n",
    "show_image(random.choice(os.listdir(\"data/test/images/\"))) \n",
    "show_image(random.choice(os.listdir(\"data/test/images/\"))) \n",
    "plt.show()"
   ]
  },
  {
   "cell_type": "markdown",
   "metadata": {},
   "source": [
    "# END"
   ]
  }
 ],
 "metadata": {
  "kernelspec": {
   "display_name": "Python 3 (ipykernel)",
   "language": "python",
   "name": "python3"
  },
  "language_info": {
   "codemirror_mode": {
    "name": "ipython",
    "version": 3
   },
   "file_extension": ".py",
   "mimetype": "text/x-python",
   "name": "python",
   "nbconvert_exporter": "python",
   "pygments_lexer": "ipython3",
   "version": "3.9.13"
  }
 },
 "nbformat": 4,
 "nbformat_minor": 4
}
