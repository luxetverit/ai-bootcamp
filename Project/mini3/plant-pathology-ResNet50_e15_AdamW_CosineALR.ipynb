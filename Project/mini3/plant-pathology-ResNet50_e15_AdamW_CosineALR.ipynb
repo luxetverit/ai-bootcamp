{
 "cells": [
  {
   "cell_type": "code",
   "execution_count": 1,
   "metadata": {
    "_cell_guid": "b1076dfc-b9ad-4769-8c92-a6c4dae69d19",
    "_uuid": "8f2839f25d086af736a60e9eeb907d3b93b6e0e5",
    "execution": {
     "iopub.execute_input": "2022-08-29T21:21:49.578161Z",
     "iopub.status.busy": "2022-08-29T21:21:49.577029Z",
     "iopub.status.idle": "2022-08-29T21:21:52.785039Z",
     "shell.execute_reply": "2022-08-29T21:21:52.784134Z",
     "shell.execute_reply.started": "2022-08-29T21:21:49.577366Z"
    },
    "scrolled": false
   },
   "outputs": [],
   "source": [
    "# This Python 3 environment comes with many helpful analytics libraries installed\n",
    "# It is defined by the kaggle/python Docker image: https://github.com/kaggle/docker-python\n",
    "# For example, here's several helpful packages to load\n",
    "\n",
    "import numpy as np # linear algebra\n",
    "import pandas as pd # data processing, CSV file I/O (e.g. pd.read_csv)\n",
    "import matplotlib.pyplot as plt\n",
    "from torchvision import models,transforms\n",
    "import torch.nn as nn\n",
    "import torch.utils.data as Data\n",
    "# Input data files are available in the read-only \"../input/\" directory\n",
    "# For example, running this (by clicking run or pressing Shift+Enter) will list all files under the input directory\n",
    "\n",
    "import os\n",
    "# for dirname, _, filenames in os.walk('./input'):\n",
    "#     for filename in filenames:\n",
    "#         print(os.path.join(dirname, filename))\n",
    "\n",
    "# You can write up to 20GB to the current directory (/kaggle/working/) that gets preserved as output when you create a version using \"Save & Run All\" \n",
    "# You can also write temporary files to /kaggle/temp/, but they won't be saved outside of the current session"
   ]
  },
  {
   "cell_type": "code",
   "execution_count": 2,
   "metadata": {
    "execution": {
     "iopub.execute_input": "2022-08-29T21:21:52.786908Z",
     "iopub.status.busy": "2022-08-29T21:21:52.786544Z",
     "iopub.status.idle": "2022-08-29T21:21:52.81976Z",
     "shell.execute_reply": "2022-08-29T21:21:52.818578Z",
     "shell.execute_reply.started": "2022-08-29T21:21:52.786871Z"
    }
   },
   "outputs": [],
   "source": [
    "import pandas as pd\n",
    "\n",
    "data_path = './input/plant-pathology-2020-fgvc7/'\n",
    "\n",
    "train = pd.read_csv(data_path + 'train.csv')\n",
    "test = pd.read_csv(data_path + 'test.csv')\n",
    "submission = pd.read_csv(data_path + 'sample_submission.csv')"
   ]
  },
  {
   "cell_type": "code",
   "execution_count": 3,
   "metadata": {
    "execution": {
     "iopub.execute_input": "2022-08-29T21:22:13.353829Z",
     "iopub.status.busy": "2022-08-29T21:22:13.352723Z",
     "iopub.status.idle": "2022-08-29T21:22:13.940674Z",
     "shell.execute_reply": "2022-08-29T21:22:13.939768Z",
     "shell.execute_reply.started": "2022-08-29T21:22:13.353791Z"
    }
   },
   "outputs": [],
   "source": [
    "import torch\n",
    "import random\n",
    "import numpy as np\n",
    "import os\n",
    "\n",
    "seed = 42\n",
    "os.environ['PYTHONHASHSEED'] = str(seed)\n",
    "random.seed(seed)\n",
    "np.random.seed(seed)\n",
    "torch.manual_seed(seed)\n",
    "torch.cuda.manual_seed(seed)\n",
    "torch.cuda.manual_seed_all(seed)\n",
    "torch.backends.cudnn.deterministic=True\n",
    "torch.backends.cudnn.benchmark=False\n",
    "torch.backends.cudnn.enabled=False"
   ]
  },
  {
   "cell_type": "code",
   "execution_count": 4,
   "metadata": {
    "execution": {
     "iopub.execute_input": "2022-08-29T21:22:13.942872Z",
     "iopub.status.busy": "2022-08-29T21:22:13.942081Z",
     "iopub.status.idle": "2022-08-29T21:22:14.008408Z",
     "shell.execute_reply": "2022-08-29T21:22:14.007444Z",
     "shell.execute_reply.started": "2022-08-29T21:22:13.942834Z"
    }
   },
   "outputs": [
    {
     "data": {
      "text/plain": [
       "device(type='cuda')"
      ]
     },
     "execution_count": 4,
     "metadata": {},
     "output_type": "execute_result"
    }
   ],
   "source": [
    "device = torch.device('cuda' if torch.cuda.is_available() else 'cpu')\n",
    "device"
   ]
  },
  {
   "cell_type": "code",
   "execution_count": 5,
   "metadata": {
    "execution": {
     "iopub.execute_input": "2022-08-29T21:22:14.01077Z",
     "iopub.status.busy": "2022-08-29T21:22:14.010104Z",
     "iopub.status.idle": "2022-08-29T21:22:14.032586Z",
     "shell.execute_reply": "2022-08-29T21:22:14.031742Z",
     "shell.execute_reply.started": "2022-08-29T21:22:14.010733Z"
    }
   },
   "outputs": [],
   "source": [
    "import pandas as pd\n",
    "\n",
    "data_path = './input/plant-pathology-2020-fgvc7/'\n",
    "\n",
    "train = pd.read_csv(data_path + 'train.csv')\n",
    "test = pd.read_csv(data_path + 'test.csv')\n",
    "submission = pd.read_csv(data_path + 'sample_submission.csv')"
   ]
  },
  {
   "cell_type": "code",
   "execution_count": 6,
   "metadata": {
    "execution": {
     "iopub.execute_input": "2022-08-29T21:22:14.035877Z",
     "iopub.status.busy": "2022-08-29T21:22:14.035602Z",
     "iopub.status.idle": "2022-08-29T21:22:14.555883Z",
     "shell.execute_reply": "2022-08-29T21:22:14.554919Z",
     "shell.execute_reply.started": "2022-08-29T21:22:14.035852Z"
    }
   },
   "outputs": [],
   "source": [
    "from sklearn.model_selection import train_test_split\n",
    "\n",
    "train, valid = train_test_split(train, test_size=0.1,\n",
    "                                stratify=train[['healthy', 'multiple_diseases', 'rust', 'scab']],\n",
    "                                random_state=42)"
   ]
  },
  {
   "cell_type": "code",
   "execution_count": 7,
   "metadata": {
    "execution": {
     "iopub.execute_input": "2022-08-29T21:22:14.557697Z",
     "iopub.status.busy": "2022-08-29T21:22:14.557248Z",
     "iopub.status.idle": "2022-08-29T21:22:14.567398Z",
     "shell.execute_reply": "2022-08-29T21:22:14.566274Z",
     "shell.execute_reply.started": "2022-08-29T21:22:14.55765Z"
    }
   },
   "outputs": [],
   "source": [
    "import cv2\n",
    "from torch.utils.data import Dataset\n",
    "import numpy as np\n",
    "\n",
    "class ImageDataset(Dataset):\n",
    "    def __init__(self, df, img_dir='./', transform=None, is_test=False):\n",
    "        super().__init__()\n",
    "        self.df = df\n",
    "        self.img_dir = img_dir\n",
    "        self.transform = transform\n",
    "        self.is_test = is_test\n",
    "        \n",
    "    def __len__(self):\n",
    "        return len(self.df)\n",
    "    \n",
    "    def __getitem__(self, idx):\n",
    "        img_id = self.df.iloc[idx, 0]\n",
    "        img_path = self.img_dir + img_id + '.jpg'\n",
    "        image = cv2.imread(img_path)\n",
    "        image = cv2.cvtColor(image, cv2.COLOR_BGR2RGB)\n",
    "        \n",
    "        if self.transform is not None:\n",
    "            image = self.transform(image=image)['image']\n",
    "        # 테스트 데이터이면 이미지 데이터만 반환, 그렇지 않으면 타깃값도 반환\n",
    "        if self.is_test:\n",
    "            return image\n",
    "        \n",
    "        else:\n",
    "            # 타깃값 4개 중 가장 큰 값의 인덱스\n",
    "            label = np.argmax(self.df.iloc[idx, 1:5])\n",
    "            return image, label"
   ]
  },
  {
   "cell_type": "code",
   "execution_count": 8,
   "metadata": {
    "execution": {
     "iopub.execute_input": "2022-08-29T21:22:14.569482Z",
     "iopub.status.busy": "2022-08-29T21:22:14.568922Z",
     "iopub.status.idle": "2022-08-29T21:22:15.60379Z",
     "shell.execute_reply": "2022-08-29T21:22:15.602836Z",
     "shell.execute_reply.started": "2022-08-29T21:22:14.569447Z"
    }
   },
   "outputs": [],
   "source": [
    "import albumentations as A\n",
    "from albumentations.pytorch import ToTensorV2"
   ]
  },
  {
   "cell_type": "code",
   "execution_count": 9,
   "metadata": {
    "execution": {
     "iopub.execute_input": "2022-08-29T21:22:15.605445Z",
     "iopub.status.busy": "2022-08-29T21:22:15.605107Z",
     "iopub.status.idle": "2022-08-29T21:22:15.615038Z",
     "shell.execute_reply": "2022-08-29T21:22:15.613306Z",
     "shell.execute_reply.started": "2022-08-29T21:22:15.60541Z"
    }
   },
   "outputs": [],
   "source": [
    "transform_train = A.Compose([\n",
    "    A.Resize(450, 650),\n",
    "    #A.Resize(320, 512),\n",
    "    A.RandomBrightnessContrast(brightness_limit=0.2, # 밝기 대비 조절\n",
    "                               contrast_limit=0.2, p=0.3),\n",
    "    A.VerticalFlip(p=0.2),\n",
    "    A.HorizontalFlip(p=0.5),\n",
    "    A.ShiftScaleRotate(\n",
    "        shift_limit=0.1,\n",
    "        scale_limit=0.2,\n",
    "        rotate_limit=30, p = 0.3),\n",
    "    A.OneOf([A.Emboss(p=1), # 양각화, 날카로움, 블러 효과\n",
    "             A.Sharpen(p=1),\n",
    "             A.Blur(p=1)], p=0.3),\n",
    "    A.PiecewiseAffine(p=0.3), # 어파인 변환\n",
    "    A.Normalize(), # 정규화 변환\n",
    "    ToTensorV2() # 텐서로 변환\n",
    "])"
   ]
  },
  {
   "cell_type": "code",
   "execution_count": 10,
   "metadata": {
    "execution": {
     "iopub.execute_input": "2022-08-29T21:22:15.617405Z",
     "iopub.status.busy": "2022-08-29T21:22:15.616376Z",
     "iopub.status.idle": "2022-08-29T21:22:15.626354Z",
     "shell.execute_reply": "2022-08-29T21:22:15.625429Z",
     "shell.execute_reply.started": "2022-08-29T21:22:15.617366Z"
    }
   },
   "outputs": [],
   "source": [
    "transform_test = A.Compose([\n",
    "    A.Resize(450,650),\n",
    "    #A.Resize(320, 512),\n",
    "    A.Normalize(),\n",
    "    ToTensorV2()\n",
    "])"
   ]
  },
  {
   "cell_type": "code",
   "execution_count": 11,
   "metadata": {
    "execution": {
     "iopub.execute_input": "2022-08-29T21:22:15.628081Z",
     "iopub.status.busy": "2022-08-29T21:22:15.627602Z",
     "iopub.status.idle": "2022-08-29T21:22:15.636147Z",
     "shell.execute_reply": "2022-08-29T21:22:15.635049Z",
     "shell.execute_reply.started": "2022-08-29T21:22:15.628046Z"
    }
   },
   "outputs": [],
   "source": [
    "img_dir = './input/plant-pathology-2020-fgvc7/images/'\n",
    "\n",
    "dataset_train = ImageDataset(train, img_dir=img_dir, transform=transform_train)\n",
    "dataset_valid = ImageDataset(valid, img_dir=img_dir, transform=transform_test)"
   ]
  },
  {
   "cell_type": "code",
   "execution_count": 12,
   "metadata": {
    "execution": {
     "iopub.execute_input": "2022-08-29T21:22:15.637985Z",
     "iopub.status.busy": "2022-08-29T21:22:15.637563Z",
     "iopub.status.idle": "2022-08-29T21:22:15.65196Z",
     "shell.execute_reply": "2022-08-29T21:22:15.65091Z",
     "shell.execute_reply.started": "2022-08-29T21:22:15.637949Z"
    },
    "scrolled": true
   },
   "outputs": [
    {
     "data": {
      "text/plain": [
       "<torch._C.Generator at 0x2c84b921c70>"
      ]
     },
     "execution_count": 12,
     "metadata": {},
     "output_type": "execute_result"
    }
   ],
   "source": [
    "def seed_worker(worker_id):\n",
    "    worker_seed = torch.initial_seed() % 2**32\n",
    "    np.random.seed(worker_seed)\n",
    "    random.seed(worker_seed)\n",
    "    \n",
    "g = torch.Generator()\n",
    "g.manual_seed(0)"
   ]
  },
  {
   "cell_type": "code",
   "execution_count": 13,
   "metadata": {
    "execution": {
     "iopub.execute_input": "2022-08-29T21:22:15.660227Z",
     "iopub.status.busy": "2022-08-29T21:22:15.659621Z",
     "iopub.status.idle": "2022-08-29T21:22:15.666428Z",
     "shell.execute_reply": "2022-08-29T21:22:15.665519Z",
     "shell.execute_reply.started": "2022-08-29T21:22:15.660199Z"
    }
   },
   "outputs": [],
   "source": [
    "from torch.utils.data import DataLoader\n",
    "\n",
    "batch_size = 4\n",
    "\n",
    "trainloader = DataLoader(dataset_train, batch_size=batch_size,\n",
    "                          shuffle=True, worker_init_fn = seed_worker,\n",
    "                          generator=g, num_workers=0)\n",
    "validloader = DataLoader(dataset_valid, batch_size=batch_size,\n",
    "                          shuffle=False, worker_init_fn = seed_worker,\n",
    "                          generator=g, num_workers=0)"
   ]
  },
  {
   "cell_type": "markdown",
   "metadata": {},
   "source": [
    "### 12.3.3 모델 생성"
   ]
  },
  {
   "cell_type": "code",
   "execution_count": 14,
   "metadata": {},
   "outputs": [
    {
     "name": "stderr",
     "output_type": "stream",
     "text": [
      "C:\\ProgramData\\Anaconda3\\lib\\site-packages\\torchvision\\models\\_utils.py:208: UserWarning: The parameter 'pretrained' is deprecated since 0.13 and may be removed in the future, please use 'weights' instead.\n",
      "  warnings.warn(\n",
      "C:\\ProgramData\\Anaconda3\\lib\\site-packages\\torchvision\\models\\_utils.py:223: UserWarning: Arguments other than a weight enum or `None` for 'weights' are deprecated since 0.13 and may be removed in the future. The current behavior is equivalent to passing `weights=ResNet50_Weights.IMAGENET1K_V1`. You can also use `weights=ResNet50_Weights.DEFAULT` to get the most up-to-date weights.\n",
      "  warnings.warn(msg)\n"
     ]
    }
   ],
   "source": [
    "model = models.resnet50(pretrained = True)\n",
    "for param in model.parameters():\n",
    "    param.require_grad = False\n",
    "\n",
    "num_ftrs = model.fc.in_features\n",
    "model.fc = nn.Sequential(nn.Linear(num_ftrs,512,bias=True),\n",
    "                          nn.ReLU(),\n",
    "                          nn.Dropout(p=0.3),\n",
    "                          nn.Linear(512,4, bias = True))\n",
    "\n",
    "model = model.to(device)"
   ]
  },
  {
   "cell_type": "code",
   "execution_count": 15,
   "metadata": {},
   "outputs": [],
   "source": [
    "def validation(model, validloader, criterion):\n",
    "    # 전방향 예측후 나온 점수(logits)의 최대값을 최종 예측으로 준비\n",
    "    # 이 최종 예측과 정답을 비교\n",
    "    # 전체 중 맞은 것의 개수 비율을 정확도(accuracy)로 계산\n",
    "    num_classes = 4\n",
    "    valid_accuracy = 0\n",
    "    valid_loss = 0\n",
    "    preds_auc_list = [] # 예측 확률값 저장용 리스트 초기화\n",
    "    preds_acc_list = []\n",
    "    true_list = [] # 실제 타깃값 저장용 리스트 초기화\n",
    "    true_onehot_list = []\n",
    "    \n",
    "    # 전방향 예측을 구할 때는 gradient가 필요가 없음\n",
    "    with torch.no_grad():\n",
    "        for images, labels in validloader: # 10000개의 데이터에 대해 100개씩(미니배치 사이즈) 100번을 iterations\n",
    "            # 1. 입력데이터 준비\n",
    "            #images.resize_(images.size()[0], 784) # 100, 1, 28, 28\n",
    "            images = images.to(device)\n",
    "            labels = labels.to(device)\n",
    "            \n",
    "            # 2. 전방향(Forward) 예측 \n",
    "            # logits = model.forward(images) # 점수 반환\n",
    "            outputs = model(images)\n",
    "            # _, preds = torch.max(logits, 1) # 100개에 대한 최종 예측\n",
    "            \n",
    "            loss = criterion(outputs, labels) # 100개에 대한 loss\n",
    "            \n",
    "            # acc 스코어\n",
    "            preds_acc = torch.max(outputs.cpu(), dim=1)[1].numpy()\n",
    "            true = labels.cpu().numpy()\n",
    "            \n",
    "            # roc_auc 스코어\n",
    "            preds_auc = torch.softmax(outputs.cpu(), dim=1).numpy()\n",
    "            true_onehot = torch.eye(num_classes, device='cuda')[labels].cuda().cpu().numpy()\n",
    "            \n",
    "            # ACC와 AUC 스코어 필요 인자가 달라서 각자 계산\n",
    "            # 왜 이렇게 계산하는지 학습 필요\n",
    "            preds_acc_list.extend(preds_acc)\n",
    "            preds_auc_list.extend(preds_auc)\n",
    "            true_list.extend(true)\n",
    "            true_onehot_list.extend(true_onehot)\n",
    "            \n",
    "            # valid_accuracy += accuracy\n",
    "            valid_loss += loss.item() # tensor 값을 꺼내옴 \n",
    "            \n",
    "    valid_auc = roc_auc_score(true_onehot_list, preds_auc_list)\n",
    "    vallid_accuracy = accuracy_score(true_list, preds_acc_list)\n",
    "    return valid_loss, valid_auc, vallid_accuracy # 100세트 전체 대한 총 loss, 총 accuracy"
   ]
  },
  {
   "cell_type": "code",
   "execution_count": 16,
   "metadata": {},
   "outputs": [],
   "source": [
    "from torch.utils.tensorboard import SummaryWriter\n",
    "from sklearn.metrics import roc_auc_score\n",
    "from sklearn.metrics import accuracy_score\n",
    "from tqdm.notebook import tqdm # 진행률 표시 막대\n",
    "writer  = SummaryWriter()"
   ]
  },
  {
   "cell_type": "code",
   "execution_count": 17,
   "metadata": {},
   "outputs": [],
   "source": [
    "train_loss_list = []\n",
    "valid_loss_list = []\n",
    "val_auc_list = []\n",
    "val_acc_list = []"
   ]
  },
  {
   "cell_type": "code",
   "execution_count": 18,
   "metadata": {},
   "outputs": [],
   "source": [
    "def train(model, epochs, criterion, optimizer):\n",
    "    steps = 0\n",
    "    min_loss = 10000\n",
    "    max_accuracy = 0\n",
    "    trigger = 0\n",
    "    patience = 5 # for Early stopping\n",
    "    num_classes = 4\n",
    "  \n",
    "    steps_per_epoch = len(trainloader) \n",
    "  \n",
    "    for epoch in range(epochs):\n",
    "        model.train()\n",
    "        train_loss = 0\n",
    "        for images, labels in tqdm(trainloader): # 진행률 막대 표시\n",
    "            steps += 1\n",
    "            # 1. 입력 데이터 준비\n",
    "            images = images.to(device)\n",
    "            labels = labels.to(device)\n",
    "            \n",
    "            # 2. 전방향(Forward) 예측 \n",
    "            outputs = model(images) # 예측\n",
    "            loss = criterion(outputs, labels) # 예측과 결과를 통해 Cross Entropy Loss 반환\n",
    "      \n",
    "            # 3. 역방향(Backward) 오차(Gradient) 전파\n",
    "            optimizer.zero_grad() # 파이토치에서 gradient가 누적되지 않게 하기 위해\n",
    "            loss.backward()\n",
    "      \n",
    "            # 4. 경사하강법으로 모델 파라미터 업데이트\n",
    "            optimizer.step() # W <- W -lr*Gradient\n",
    "      \n",
    "            train_loss += loss.item()\n",
    "        \n",
    "            if (steps % steps_per_epoch) == 0: # step :.... (epoch 마다)\n",
    "                model.eval() # 배치 정규화, 드롭아웃이 적용될 때는 model.forward 연산이 training때와 다르므로 반드시 설정\n",
    "                valid_loss, valid_auc, valid_accuracy = validation(model, validloader, criterion)\n",
    "        \n",
    "                # tensorboad 시각화를 위한 로그 이벤트 등록\n",
    "                writer.add_scalar(\"Loss/train\", train_loss/len(trainloader), epoch)\n",
    "                writer.add_scalar(\"Loss/valid\", valid_loss/len(validloader), epoch)\n",
    "                writer.add_scalars(\"Loss/train and valid\",\n",
    "                                  {'train' : train_loss/len(trainloader),\n",
    "                                  'valid' : valid_loss/len(validloader)}, epoch)\n",
    "                \n",
    "                # writer.add_scalar(\"Valid Accuracy\", valid_accuracy/len(validloader), epoch)\n",
    "                writer.add_scalar(\"Valid AUC\", valid_auc, epoch)\n",
    "                writer.add_scalar(\"Valid ACC\", valid_accuracy, epoch)\n",
    "                \n",
    "                train_loss_list.append(train_loss/len(trainloader))\n",
    "                valid_loss_list.append(valid_loss/len(validloader))\n",
    "                val_acc_list.append(valid_accuracy)\n",
    "                val_auc_list.append(valid_auc)\n",
    "                \n",
    "                print('Epoch : {}/{}...'.format(epoch+1, epochs),\n",
    "                      'Train Loss : {:.3f} / '.format(train_loss/len(trainloader)),\n",
    "                      'Valid Loss : {:.3f} / '.format(valid_loss/len(validloader)),\n",
    "                      'Valid AUC : {:.3f} / '.format(valid_auc),\n",
    "                      'Valid Accuracy : {:.3f}'.format(valid_accuracy))\n",
    "              \n",
    "                if valid_accuracy > max_accuracy: \n",
    "                    max_accuracy = valid_accuracy\n",
    "                    torch.save(model.state_dict(), 'best_checkpoint.pth')\n",
    "        \n",
    "                # Early Stopping (조기 종료)\n",
    "                if valid_loss > min_loss:\n",
    "                    trigger += 1 # valid loss가 min_loss 를 갱신하지 못할때마다 증가\n",
    "                    print('trigger : ', trigger )\n",
    "                    if trigger > patience:\n",
    "                        print('Early Stopping!!!')\n",
    "                        print('Traning step is finished!!')\n",
    "                        writer.flush()  \n",
    "                        return   \n",
    "                else:\n",
    "                    trigger = 0\n",
    "                    min_loss = valid_loss\n",
    "        \n",
    "                train_loss = 0\n",
    "                model.train()\n",
    "                scheduler.step()\n",
    "  \n",
    "    writer.flush()  "
   ]
  },
  {
   "cell_type": "code",
   "execution_count": 19,
   "metadata": {},
   "outputs": [],
   "source": [
    "torch.cuda.empty_cache()"
   ]
  },
  {
   "cell_type": "code",
   "execution_count": 20,
   "metadata": {},
   "outputs": [],
   "source": [
    "epochs=15"
   ]
  },
  {
   "cell_type": "code",
   "execution_count": 21,
   "metadata": {},
   "outputs": [],
   "source": [
    "import torch.nn as nn\n",
    "from torch import optim # 옵티마이저 (경사하강법...)\n",
    "from transformers import get_cosine_schedule_with_warmup\n",
    "from torch.optim.lr_scheduler import CosineAnnealingWarmRestarts\n",
    "\n",
    "criterion = nn.CrossEntropyLoss()\n"
   ]
  },
  {
   "cell_type": "code",
   "execution_count": null,
   "metadata": {},
   "outputs": [],
   "source": [
    "optimizer = torch.optim.AdamW(model.parameters(), lr=0.0001, momentum=0.9)\n",
    "scheduler = optim.lr_scheduler.ReduceLROnPlateau(optimizer, 'min', patience=5, factor=0.1, verbose=True)"
   ]
  },
  {
   "cell_type": "code",
   "execution_count": 43,
   "metadata": {},
   "outputs": [],
   "source": []
  },
  {
   "cell_type": "code",
   "execution_count": 22,
   "metadata": {},
   "outputs": [],
   "source": [
    "optimizer = torch.optim.AdamW(model.parameters(), lr=0.0001)\n",
    "scheduler = CosineAnnealingWarmRestarts(optimizer,T_0=3, T_mult=1, eta_min=0.00001)"
   ]
  },
  {
   "cell_type": "code",
   "execution_count": 22,
   "metadata": {},
   "outputs": [],
   "source": [
    "optimizer = torch.optim.AdamW(model.parameters(), lr=0.001)\n",
    "scheduler = optim.lr_scheduler.CosineAnnealingLR(optimizer, T_max=3, eta_min=0)"
   ]
  },
  {
   "cell_type": "code",
   "execution_count": 23,
   "metadata": {
    "scrolled": false
   },
   "outputs": [
    {
     "data": {
      "application/vnd.jupyter.widget-view+json": {
       "model_id": "4fd9cb84c15f4a3aa35546244243b023",
       "version_major": 2,
       "version_minor": 0
      },
      "text/plain": [
       "  0%|          | 0/410 [00:00<?, ?it/s]"
      ]
     },
     "metadata": {},
     "output_type": "display_data"
    },
    {
     "name": "stdout",
     "output_type": "stream",
     "text": [
      "Epoch : 1/15... Train Loss : 0.706 /  Valid Loss : 0.319 /  Valid AUC : 0.943 /  Valid Accuracy : 0.907\n"
     ]
    },
    {
     "data": {
      "application/vnd.jupyter.widget-view+json": {
       "model_id": "9ce0ee2b81e4430ab97fdeb01ba9a19e",
       "version_major": 2,
       "version_minor": 0
      },
      "text/plain": [
       "  0%|          | 0/410 [00:00<?, ?it/s]"
      ]
     },
     "metadata": {},
     "output_type": "display_data"
    },
    {
     "name": "stdout",
     "output_type": "stream",
     "text": [
      "Epoch : 2/15... Train Loss : 0.471 /  Valid Loss : 0.257 /  Valid AUC : 0.944 /  Valid Accuracy : 0.929\n"
     ]
    },
    {
     "data": {
      "application/vnd.jupyter.widget-view+json": {
       "model_id": "bb6ffa5a6b7148899d55700aa025608a",
       "version_major": 2,
       "version_minor": 0
      },
      "text/plain": [
       "  0%|          | 0/410 [00:00<?, ?it/s]"
      ]
     },
     "metadata": {},
     "output_type": "display_data"
    },
    {
     "name": "stdout",
     "output_type": "stream",
     "text": [
      "Epoch : 3/15... Train Loss : 0.343 /  Valid Loss : 0.189 /  Valid AUC : 0.976 /  Valid Accuracy : 0.940\n"
     ]
    },
    {
     "data": {
      "application/vnd.jupyter.widget-view+json": {
       "model_id": "e3c6f87033b74cc3b7eeb7b7746b17db",
       "version_major": 2,
       "version_minor": 0
      },
      "text/plain": [
       "  0%|          | 0/410 [00:00<?, ?it/s]"
      ]
     },
     "metadata": {},
     "output_type": "display_data"
    },
    {
     "name": "stdout",
     "output_type": "stream",
     "text": [
      "Epoch : 4/15... Train Loss : 0.366 /  Valid Loss : 0.272 /  Valid AUC : 0.938 /  Valid Accuracy : 0.923\n",
      "trigger :  1\n"
     ]
    },
    {
     "data": {
      "application/vnd.jupyter.widget-view+json": {
       "model_id": "ac154e9c741a45e7845a0b94ad11565a",
       "version_major": 2,
       "version_minor": 0
      },
      "text/plain": [
       "  0%|          | 0/410 [00:00<?, ?it/s]"
      ]
     },
     "metadata": {},
     "output_type": "display_data"
    },
    {
     "name": "stdout",
     "output_type": "stream",
     "text": [
      "Epoch : 5/15... Train Loss : 0.315 /  Valid Loss : 0.235 /  Valid AUC : 0.960 /  Valid Accuracy : 0.945\n",
      "trigger :  2\n"
     ]
    },
    {
     "data": {
      "application/vnd.jupyter.widget-view+json": {
       "model_id": "360e2193f1fc4b94ae6a77852590a5a7",
       "version_major": 2,
       "version_minor": 0
      },
      "text/plain": [
       "  0%|          | 0/410 [00:00<?, ?it/s]"
      ]
     },
     "metadata": {},
     "output_type": "display_data"
    },
    {
     "name": "stdout",
     "output_type": "stream",
     "text": [
      "Epoch : 6/15... Train Loss : 0.223 /  Valid Loss : 0.180 /  Valid AUC : 0.967 /  Valid Accuracy : 0.940\n"
     ]
    },
    {
     "data": {
      "application/vnd.jupyter.widget-view+json": {
       "model_id": "de26bf62c04c4b20b15716c3bc527e16",
       "version_major": 2,
       "version_minor": 0
      },
      "text/plain": [
       "  0%|          | 0/410 [00:00<?, ?it/s]"
      ]
     },
     "metadata": {},
     "output_type": "display_data"
    },
    {
     "name": "stdout",
     "output_type": "stream",
     "text": [
      "Epoch : 7/15... Train Loss : 0.320 /  Valid Loss : 0.146 /  Valid AUC : 0.986 /  Valid Accuracy : 0.951\n"
     ]
    },
    {
     "data": {
      "application/vnd.jupyter.widget-view+json": {
       "model_id": "56fc79a64f1a46e3ae6d78c31fef2034",
       "version_major": 2,
       "version_minor": 0
      },
      "text/plain": [
       "  0%|          | 0/410 [00:00<?, ?it/s]"
      ]
     },
     "metadata": {},
     "output_type": "display_data"
    },
    {
     "name": "stdout",
     "output_type": "stream",
     "text": [
      "Epoch : 8/15... Train Loss : 0.260 /  Valid Loss : 0.214 /  Valid AUC : 0.974 /  Valid Accuracy : 0.929\n",
      "trigger :  1\n"
     ]
    },
    {
     "data": {
      "application/vnd.jupyter.widget-view+json": {
       "model_id": "3206fcc6588d411eafec389c383a9c17",
       "version_major": 2,
       "version_minor": 0
      },
      "text/plain": [
       "  0%|          | 0/410 [00:00<?, ?it/s]"
      ]
     },
     "metadata": {},
     "output_type": "display_data"
    },
    {
     "name": "stdout",
     "output_type": "stream",
     "text": [
      "Epoch : 9/15... Train Loss : 0.190 /  Valid Loss : 0.152 /  Valid AUC : 0.991 /  Valid Accuracy : 0.940\n",
      "trigger :  2\n"
     ]
    },
    {
     "data": {
      "application/vnd.jupyter.widget-view+json": {
       "model_id": "e63178555f8441eba19017af21f6aa5e",
       "version_major": 2,
       "version_minor": 0
      },
      "text/plain": [
       "  0%|          | 0/410 [00:00<?, ?it/s]"
      ]
     },
     "metadata": {},
     "output_type": "display_data"
    },
    {
     "name": "stdout",
     "output_type": "stream",
     "text": [
      "Epoch : 10/15... Train Loss : 0.223 /  Valid Loss : 0.317 /  Valid AUC : 0.979 /  Valid Accuracy : 0.869\n",
      "trigger :  3\n"
     ]
    },
    {
     "data": {
      "application/vnd.jupyter.widget-view+json": {
       "model_id": "9b9f54b54f8b447aa1f8eb2735bc51cf",
       "version_major": 2,
       "version_minor": 0
      },
      "text/plain": [
       "  0%|          | 0/410 [00:00<?, ?it/s]"
      ]
     },
     "metadata": {},
     "output_type": "display_data"
    },
    {
     "name": "stdout",
     "output_type": "stream",
     "text": [
      "Epoch : 11/15... Train Loss : 0.200 /  Valid Loss : 0.172 /  Valid AUC : 0.991 /  Valid Accuracy : 0.934\n",
      "trigger :  4\n"
     ]
    },
    {
     "data": {
      "application/vnd.jupyter.widget-view+json": {
       "model_id": "34d2ead645d94d688278d629fd20b457",
       "version_major": 2,
       "version_minor": 0
      },
      "text/plain": [
       "  0%|          | 0/410 [00:00<?, ?it/s]"
      ]
     },
     "metadata": {},
     "output_type": "display_data"
    },
    {
     "name": "stdout",
     "output_type": "stream",
     "text": [
      "Epoch : 12/15... Train Loss : 0.155 /  Valid Loss : 0.133 /  Valid AUC : 0.985 /  Valid Accuracy : 0.962\n"
     ]
    },
    {
     "data": {
      "application/vnd.jupyter.widget-view+json": {
       "model_id": "07f65a0f00764f5392b12f0643050f2f",
       "version_major": 2,
       "version_minor": 0
      },
      "text/plain": [
       "  0%|          | 0/410 [00:00<?, ?it/s]"
      ]
     },
     "metadata": {},
     "output_type": "display_data"
    },
    {
     "name": "stdout",
     "output_type": "stream",
     "text": [
      "Epoch : 13/15... Train Loss : 0.215 /  Valid Loss : 0.154 /  Valid AUC : 0.978 /  Valid Accuracy : 0.945\n",
      "trigger :  1\n"
     ]
    },
    {
     "data": {
      "application/vnd.jupyter.widget-view+json": {
       "model_id": "58cd71152b0d4f2fb7235df3c842afda",
       "version_major": 2,
       "version_minor": 0
      },
      "text/plain": [
       "  0%|          | 0/410 [00:00<?, ?it/s]"
      ]
     },
     "metadata": {},
     "output_type": "display_data"
    },
    {
     "name": "stdout",
     "output_type": "stream",
     "text": [
      "Epoch : 14/15... Train Loss : 0.189 /  Valid Loss : 0.258 /  Valid AUC : 0.966 /  Valid Accuracy : 0.929\n",
      "trigger :  2\n"
     ]
    },
    {
     "data": {
      "application/vnd.jupyter.widget-view+json": {
       "model_id": "3b17ec32cfea4bd0ad27957a8f039c65",
       "version_major": 2,
       "version_minor": 0
      },
      "text/plain": [
       "  0%|          | 0/410 [00:00<?, ?it/s]"
      ]
     },
     "metadata": {},
     "output_type": "display_data"
    },
    {
     "name": "stdout",
     "output_type": "stream",
     "text": [
      "Epoch : 15/15... Train Loss : 0.129 /  Valid Loss : 0.117 /  Valid AUC : 0.989 /  Valid Accuracy : 0.978\n"
     ]
    }
   ],
   "source": [
    "# img size 320, 512\n",
    "train(model, epochs, criterion, optimizer)"
   ]
  },
  {
   "cell_type": "code",
   "execution_count": 24,
   "metadata": {
    "scrolled": false
   },
   "outputs": [
    {
     "name": "stderr",
     "output_type": "stream",
     "text": [
      "C:\\ProgramData\\Anaconda3\\lib\\site-packages\\seaborn\\_decorators.py:36: FutureWarning: Pass the following variables as keyword args: x, y. From version 0.12, the only valid positional argument will be `data`, and passing other arguments without an explicit keyword will result in an error or misinterpretation.\n",
      "  warnings.warn(\n",
      "C:\\ProgramData\\Anaconda3\\lib\\site-packages\\seaborn\\_decorators.py:36: FutureWarning: Pass the following variables as keyword args: x, y. From version 0.12, the only valid positional argument will be `data`, and passing other arguments without an explicit keyword will result in an error or misinterpretation.\n",
      "  warnings.warn(\n"
     ]
    },
    {
     "data": {
      "text/plain": [
       "<matplotlib.legend.Legend at 0x2c815ad0190>"
      ]
     },
     "execution_count": 24,
     "metadata": {},
     "output_type": "execute_result"
    },
    {
     "data": {
      "image/png": "[encoded data removed]",
      "text/plain": [
       "<Figure size 640x480 with 1 Axes>"
      ]
     },
     "metadata": {},
     "output_type": "display_data"
    }
   ],
   "source": [
    "import matplotlib.pyplot as plt\n",
    "import seaborn as sns\n",
    "\n",
    "plt.figure()\n",
    "plt.ylim(0,1.2)\n",
    "sns.lineplot(list(range(len(train_loss_list))), train_loss_list)\n",
    "sns.lineplot(list(range(len(valid_loss_list))), valid_loss_list)\n",
    "plt.xlabel('Epoch')\n",
    "plt.ylabel('Loss')\n",
    "plt.legend(['Train','Val'])"
   ]
  },
  {
   "cell_type": "code",
   "execution_count": 25,
   "metadata": {},
   "outputs": [
    {
     "name": "stderr",
     "output_type": "stream",
     "text": [
      "C:\\ProgramData\\Anaconda3\\lib\\site-packages\\seaborn\\_decorators.py:36: FutureWarning: Pass the following variables as keyword args: x, y. From version 0.12, the only valid positional argument will be `data`, and passing other arguments without an explicit keyword will result in an error or misinterpretation.\n",
      "  warnings.warn(\n",
      "C:\\ProgramData\\Anaconda3\\lib\\site-packages\\seaborn\\_decorators.py:36: FutureWarning: Pass the following variables as keyword args: x, y. From version 0.12, the only valid positional argument will be `data`, and passing other arguments without an explicit keyword will result in an error or misinterpretation.\n",
      "  warnings.warn(\n"
     ]
    },
    {
     "data": {
      "text/plain": [
       "<matplotlib.legend.Legend at 0x2c8263c5550>"
      ]
     },
     "execution_count": 25,
     "metadata": {},
     "output_type": "execute_result"
    },
    {
     "data": {
      "image/png": "[encoded data removed]",
      "text/plain": [
       "<Figure size 640x480 with 1 Axes>"
      ]
     },
     "metadata": {},
     "output_type": "display_data"
    }
   ],
   "source": [
    "import matplotlib.pyplot as plt\n",
    "import seaborn as sns\n",
    "\n",
    "plt.figure()\n",
    "plt.ylim(0.8,1)\n",
    "sns.lineplot(list(range(len(val_acc_list))), val_acc_list)\n",
    "sns.lineplot(list(range(len(val_auc_list))), val_auc_list)\n",
    "plt.xlabel('Epoch')\n",
    "plt.ylabel('Score')\n",
    "plt.legend(['Accuracy','ROC_AUC'])"
   ]
  },
  {
   "cell_type": "code",
   "execution_count": null,
   "metadata": {},
   "outputs": [],
   "source": []
  },
  {
   "cell_type": "code",
   "execution_count": 68,
   "metadata": {
    "scrolled": false
   },
   "outputs": [],
   "source": [
    "%load_ext tensorboard"
   ]
  },
  {
   "cell_type": "code",
   "execution_count": 44,
   "metadata": {},
   "outputs": [
    {
     "name": "stderr",
     "output_type": "stream",
     "text": [
      "오류: 프로세스 \"tensorboard.exe\"을(를) 찾을 수 없습니다.\n"
     ]
    }
   ],
   "source": [
    "!taskkill /im tensorboard.exe /f\n",
    "!del /q %TMP%\\.tensorboard-info\\*"
   ]
  },
  {
   "cell_type": "code",
   "execution_count": 69,
   "metadata": {
    "scrolled": true
   },
   "outputs": [
    {
     "data": {
      "text/html": [
       "\n",
       "      <iframe id=\"tensorboard-frame-89caa9a66c9cc4cc\" width=\"100%\" height=\"800\" frameborder=\"0\">\n",
       "      </iframe>\n",
       "      <script>\n",
       "        (function() {\n",
       "          const frame = document.getElementById(\"tensorboard-frame-89caa9a66c9cc4cc\");\n",
       "          const url = new URL(\"/\", window.location);\n",
       "          const port = 6006;\n",
       "          if (port) {\n",
       "            url.port = port;\n",
       "          }\n",
       "          frame.src = url;\n",
       "        })();\n",
       "      </script>\n",
       "    "
      ],
      "text/plain": [
       "<IPython.core.display.HTML object>"
      ]
     },
     "metadata": {},
     "output_type": "display_data"
    }
   ],
   "source": [
    "%tensorboard --logdir=runs"
   ]
  },
  {
   "cell_type": "code",
   "execution_count": 26,
   "metadata": {},
   "outputs": [],
   "source": [
    "writer.close()"
   ]
  },
  {
   "cell_type": "markdown",
   "metadata": {},
   "source": [
    "### 12.3.5 예측 및 결과 제출"
   ]
  },
  {
   "cell_type": "code",
   "execution_count": 29,
   "metadata": {
    "execution": {
     "iopub.execute_input": "2022-08-29T21:52:27.941952Z",
     "iopub.status.busy": "2022-08-29T21:52:27.941299Z",
     "iopub.status.idle": "2022-08-29T21:52:27.949652Z",
     "shell.execute_reply": "2022-08-29T21:52:27.948628Z",
     "shell.execute_reply.started": "2022-08-29T21:52:27.941904Z"
    }
   },
   "outputs": [],
   "source": [
    "dataset_test = ImageDataset(test, img_dir=img_dir, transform=transform_test, is_test=True)\n",
    " \n",
    "testloader = DataLoader(dataset_test, batch_size=batch_size, shuffle=False, worker_init_fn=seed_worker,\n",
    "                         generator=g, num_workers=0)"
   ]
  },
  {
   "cell_type": "markdown",
   "metadata": {},
   "source": [
    "예측"
   ]
  },
  {
   "cell_type": "code",
   "execution_count": 30,
   "metadata": {
    "execution": {
     "iopub.execute_input": "2022-08-29T21:52:27.953325Z",
     "iopub.status.busy": "2022-08-29T21:52:27.952674Z",
     "iopub.status.idle": "2022-08-29T21:54:06.023758Z",
     "shell.execute_reply": "2022-08-29T21:54:06.022406Z",
     "shell.execute_reply.started": "2022-08-29T21:52:27.953284Z"
    }
   },
   "outputs": [],
   "source": [
    "model.eval() # 모델을 평가 상태로 설정\n",
    "\n",
    "preds = np.zeros((len(test), 4)) # 예측값 저장용 배열초기화\n",
    "\n",
    "with torch.no_grad():\n",
    "    for i, images in enumerate(testloader):\n",
    "        images = images.to(device)\n",
    "        outputs = model(images)\n",
    "        \n",
    "        # 타깃 예측 확률\n",
    "        preds_part = torch.softmax(outputs.cpu(), dim=1).squeeze().numpy()\n",
    "        preds[i*batch_size:(i+1)*batch_size] += preds_part"
   ]
  },
  {
   "cell_type": "code",
   "execution_count": 31,
   "metadata": {
    "execution": {
     "iopub.execute_input": "2022-08-29T21:54:06.027262Z",
     "iopub.status.busy": "2022-08-29T21:54:06.025701Z",
     "iopub.status.idle": "2022-08-29T21:54:06.050861Z",
     "shell.execute_reply": "2022-08-29T21:54:06.050004Z",
     "shell.execute_reply.started": "2022-08-29T21:54:06.027216Z"
    }
   },
   "outputs": [],
   "source": [
    "submission[['healthy', 'multiple_diseases', 'rust', 'scab']] = preds\n",
    "submission.to_csv('subm_resnet50_cosineAlr.csv', index=False)"
   ]
  }
 ],
 "metadata": {
  "kernelspec": {
   "display_name": "Python 3 (ipykernel)",
   "language": "python",
   "name": "python3"
  },
  "language_info": {
   "codemirror_mode": {
    "name": "ipython",
    "version": 3
   },
   "file_extension": ".py",
   "mimetype": "text/x-python",
   "name": "python",
   "nbconvert_exporter": "python",
   "pygments_lexer": "ipython3",
   "version": "3.9.13"
  }
 },
 "nbformat": 4,
 "nbformat_minor": 4
}
