{
 "cells": [
  {
   "cell_type": "markdown",
   "id": "572e367a",
   "metadata": {},
   "source": [
    " - 사용자의 입출력을 보조하는 프레임워크"
   ]
  },
  {
   "cell_type": "markdown",
   "id": "2d8f71b5",
   "metadata": {},
   "source": [
    "**셀레니움**\n",
    " - 웹페이지 테스트 자동화를 할 수 있는 프레임워크\n",
    " - 완전한 상태의 웹페이지 소스 볼 수 있음\n",
    " - 스크래핑시 유용"
   ]
  },
  {
   "cell_type": "markdown",
   "id": "0f8ed311",
   "metadata": {},
   "source": [
    "**사용 예**\n",
    " - 자바스크립트가 동적으로 만들어내는 데이터를 스크래핑시\n",
    " - 사이트 내 html요소에 클릭, 키입력 등 사용자의 액션이 필요할 때"
   ]
  },
  {
   "cell_type": "markdown",
   "id": "42b53e60",
   "metadata": {},
   "source": [
    "**사용 방법**\n",
    " - 사용중인 웹 브라우저의 드라이버 파일 다운로드 필요 (Chrome)\n",
    " - 크롬 드라이버 파일 다운로드\n",
    " - https://www.selenium.dev/documentation/webdriver/"
   ]
  },
  {
   "cell_type": "code",
   "execution_count": 42,
   "id": "534985b6",
   "metadata": {},
   "outputs": [],
   "source": [
    "import selenium"
   ]
  },
  {
   "cell_type": "code",
   "execution_count": 43,
   "id": "4ebff130",
   "metadata": {},
   "outputs": [],
   "source": [
    "from selenium import webdriver"
   ]
  },
  {
   "cell_type": "code",
   "execution_count": 44,
   "id": "0f9517df",
   "metadata": {},
   "outputs": [],
   "source": [
    "driver = webdriver.Chrome() #driver가 있는 path"
   ]
  },
  {
   "cell_type": "code",
   "execution_count": 45,
   "id": "722b1568",
   "metadata": {},
   "outputs": [],
   "source": [
    "driver.get('https://www.weather.go.kr/w/obs-climate/land/city-obs.do')"
   ]
  },
  {
   "cell_type": "code",
   "execution_count": 8,
   "id": "3ee42e18",
   "metadata": {},
   "outputs": [],
   "source": [
    "driver.forward()"
   ]
  },
  {
   "cell_type": "code",
   "execution_count": 9,
   "id": "ebef642b",
   "metadata": {},
   "outputs": [],
   "source": [
    "driver.back()"
   ]
  },
  {
   "cell_type": "code",
   "execution_count": 18,
   "id": "6b6bf8e6",
   "metadata": {},
   "outputs": [
    {
     "data": {
      "text/plain": [
       "<selenium.webdriver.remote.webelement.WebElement (session=\"191aef2b4822991bf80cb603190e0e6f\", element=\"80c5daa3-e78a-489f-ac97-dca84469f5d8\")>"
      ]
     },
     "execution_count": 18,
     "metadata": {},
     "output_type": "execute_result"
    }
   ],
   "source": [
    "tmp = driver.find_element_by_tag_name('a')\n",
    "tmp"
   ]
  },
  {
   "cell_type": "code",
   "execution_count": 37,
   "id": "c6a41a03",
   "metadata": {},
   "outputs": [],
   "source": [
    "driver.get('https://naver.com')"
   ]
  },
  {
   "cell_type": "code",
   "execution_count": 17,
   "id": "47173a63",
   "metadata": {},
   "outputs": [],
   "source": [
    "elem = driver.find_element_by_id('select-tm')"
   ]
  },
  {
   "cell_type": "code",
   "execution_count": 18,
   "id": "cb2940cb",
   "metadata": {},
   "outputs": [],
   "source": [
    "from selenium.webdriver.common.keys import Keys\n",
    "elem.send_keys(Keys.ENTER)"
   ]
  },
  {
   "cell_type": "markdown",
   "id": "26134286",
   "metadata": {},
   "source": [
    "**Element를 찾는데 필요한 함수들**"
   ]
  },
  {
   "cell_type": "markdown",
   "id": "8332bd05",
   "metadata": {},
   "source": [
    " - driver.element_by_id\n",
    " - driver.element_by_name\n",
    " - driver.element_by_tag_name\n",
    " - driver.element_by_xpath\n",
    " - driver.element_by_css_seletor"
   ]
  },
  {
   "cell_type": "markdown",
   "id": "28fa7a87",
   "metadata": {},
   "source": [
    "## WorkShop\n",
    "#### 네이버 로그인"
   ]
  },
  {
   "cell_type": "code",
   "execution_count": 47,
   "id": "8beb8b0f",
   "metadata": {},
   "outputs": [],
   "source": [
    "options = webdriver.ChromeOptions()\n",
    "options.add_argument(\"user_agent=Mozilla/5.0 (Windows NT 10.0; Win64; x64) AppleWebKit/537.36 (KHTML, like Gecko) Chrome/106.0.0.0 Safari/537.36 Edg/106.0.1370.47\")\n",
    "\n",
    "driver = webdriver.Chrome(options=options)"
   ]
  },
  {
   "cell_type": "code",
   "execution_count": 67,
   "id": "2d4845ff",
   "metadata": {},
   "outputs": [],
   "source": [
    "elem = driver.find_element_by_css_selector('a.link_login')\n",
    "elem.click()\n",
    "//*[@id=\"default-form\"]/div[1]/div[3]/input[2]"
   ]
  },
  {
   "cell_type": "code",
   "execution_count": 37,
   "id": "7a13a776",
   "metadata": {},
   "outputs": [
    {
     "data": {
      "text/plain": [
       "'2022-11-10 11:00'"
      ]
     },
     "execution_count": 37,
     "metadata": {},
     "output_type": "execute_result"
    }
   ],
   "source": [
    "import datetime as dt\n",
    "tmpdate = dt.datetime.now()\n",
    "tmpdate = (str(tmpdate))[0:13] + ':00'\n",
    "tmpdate"
   ]
  },
  {
   "cell_type": "code",
   "execution_count": 38,
   "id": "4afc1cfa",
   "metadata": {},
   "outputs": [],
   "source": [
    "elem = driver.find_element_by_id('select-tm')\n",
    "elem.send_keys(Keys.CONTROL + 'a')\n",
    "elem.send_keys(Keys.BACKSPACE)\n",
    "elem.send_keys(tmpdate)\n"
   ]
  },
  {
   "cell_type": "code",
   "execution_count": 39,
   "id": "ae246441",
   "metadata": {},
   "outputs": [],
   "source": [
    "elem.send_keys(Keys.ENTER)"
   ]
  },
  {
   "cell_type": "code",
   "execution_count": 41,
   "id": "165096dd",
   "metadata": {},
   "outputs": [],
   "source": [
    "driver.quit()"
   ]
  },
  {
   "cell_type": "code",
   "execution_count": 58,
   "id": "56ee30b0",
   "metadata": {},
   "outputs": [],
   "source": [
    "elem = driver.find_element_by_id('id')\n",
    "elem.send_keys('replaysoccer')"
   ]
  },
  {
   "cell_type": "code",
   "execution_count": 61,
   "id": "c776efbe",
   "metadata": {},
   "outputs": [],
   "source": [
    "elem = driver.find_element_by_id('pw')\n",
    "elem.send_keys('ninja1qw@nv')"
   ]
  },
  {
   "cell_type": "code",
   "execution_count": 62,
   "id": "91a84d7a",
   "metadata": {},
   "outputs": [],
   "source": [
    "elem = driver.find_element_by_id('captcha')\n",
    "elem.send_keys('뒷다리 족발')"
   ]
  },
  {
   "cell_type": "code",
   "execution_count": 63,
   "id": "81c699b4",
   "metadata": {},
   "outputs": [],
   "source": [
    "elem = driver.find_element_by_id('log.login')\n",
    "elem.send_keys(Keys.ENTER)"
   ]
  },
  {
   "cell_type": "markdown",
   "id": "a2c8ba28",
   "metadata": {},
   "source": [
    "# WorkShop"
   ]
  },
  {
   "cell_type": "markdown",
   "id": "61f9cd36",
   "metadata": {},
   "source": [
    " - beutiful soup으로 처리할 수 없는 경우 selenium 이용"
   ]
  },
  {
   "cell_type": "markdown",
   "id": "6df0289f",
   "metadata": {},
   "source": [
    " - 구글 이미지 검색 사이트 이동(https://www.google.co.kr/imghp?hl=ko)"
   ]
  },
  {
   "cell_type": "code",
   "execution_count": 69,
   "id": "1b9320fd",
   "metadata": {},
   "outputs": [],
   "source": [
    "options = webdriver.ChromeOptions()\n",
    "options.add_argument(\"user_agent=Mozilla/5.0 (Windows NT 10.0; Win64; x64) AppleWebKit/537.36 (KHTML, like Gecko) Chrome/106.0.0.0 Safari/537.36 Edg/106.0.1370.47\")\n",
    "\n",
    "driver = webdriver.Chrome(options=options)\n",
    "\n",
    "driver.get('https://www.google.co.kr/imghp?hl=ko')"
   ]
  },
  {
   "cell_type": "code",
   "execution_count": 71,
   "id": "0a75df89",
   "metadata": {},
   "outputs": [],
   "source": [
    "keyword = '딸기'\n",
    "elem = driver.find_element_by_name('q')\n",
    "elem.send_keys(keyword)\n",
    "elem.submit()"
   ]
  },
  {
   "cell_type": "code",
   "execution_count": 76,
   "id": "7fb39a6f",
   "metadata": {},
   "outputs": [],
   "source": [
    "img_elems = driver.find_element_by_css_selector('img.rg_i.Q4LuWd')\n",
    "img_elems.click()"
   ]
  },
  {
   "cell_type": "code",
   "execution_count": 77,
   "id": "f1877c53",
   "metadata": {},
   "outputs": [
    {
     "name": "stdout",
     "output_type": "stream",
     "text": [
      "https://m.nongmin.com/upload/bbs/202202/20220213000003506/20220213000003506.jpg\n"
     ]
    }
   ],
   "source": [
    "image_elem = driver.find_element_by_xpath('//*[@id=\"Sva75c\"]/div/div/div[3]/div[2]/c-wiz/div/div[1]/div[1]/div[3]/div/a/img')\n",
    "image_url = image_elem.get_attribute('src')\n",
    "print(image_url)\n"
   ]
  },
  {
   "cell_type": "code",
   "execution_count": 79,
   "id": "5758f652",
   "metadata": {},
   "outputs": [],
   "source": [
    "# 이미지 주소로 request 해서 응답받은 이미지를 저장\n",
    "import requests\n",
    "\n",
    "user_agent = \"Mozilla/5.0 (Windows NT 10.0; Win64; x64) AppleWebKit/537.36 (KHTML, like Gecko) Chrome/106.0.0.0 Safari/537.36 Edg/106.0.1370.47\"\n",
    "\n",
    "headers = {\"User-Agent\" : user_agent}\n",
    "response = requests.get(image_url, headers)\n",
    "response.raise_for_status() \n",
    "\n",
    "with open('./images/strawberry1.jpg', 'wb') as fd:\n",
    "            fd.write(response.content)"
   ]
  },
  {
   "cell_type": "code",
   "execution_count": 81,
   "id": "0eb85701",
   "metadata": {},
   "outputs": [],
   "source": [
    "driver.quit()"
   ]
  },
  {
   "cell_type": "code",
   "execution_count": null,
   "id": "2de2ecb8",
   "metadata": {},
   "outputs": [],
   "source": []
  }
 ],
 "metadata": {
  "kernelspec": {
   "display_name": "Python 3 (ipykernel)",
   "language": "python",
   "name": "python3"
  },
  "language_info": {
   "codemirror_mode": {
    "name": "ipython",
    "version": 3
   },
   "file_extension": ".py",
   "mimetype": "text/x-python",
   "name": "python",
   "nbconvert_exporter": "python",
   "pygments_lexer": "ipython3",
   "version": "3.9.12"
  }
 },
 "nbformat": 4,
 "nbformat_minor": 5
}
