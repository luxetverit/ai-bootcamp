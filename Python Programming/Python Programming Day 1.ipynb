{
 "cells": [
  {
   "cell_type": "markdown",
   "id": "243bf935",
   "metadata": {},
   "source": [
    "# 단축키"
   ]
  },
  {
   "cell_type": "markdown",
   "id": "0ac11bcf",
   "metadata": {},
   "source": [
    "- shift + enter : 실행\n",
    "- alt + enter : 실행 후 셀 추가\n",
    "- a : 위로 셀 추가\n",
    "- b : 아래로 셀 추가\n",
    "- m : 마트다운 모드로 변경\n",
    "- y : 코드 모드로 변경\n",
    "- x : 셀 삭제 (=dd)\n",
    "- ctrl + shift + '-' : 커서가 위치한 곳에서 셀이 나뉜다.\n",
    "- shift + m : 선택된 셀들이 병합\n",
    "- esc : 에디터모드 & 셀포커스모드 변환"
   ]
  },
  {
   "cell_type": "code",
   "execution_count": 1,
   "id": "799a491a",
   "metadata": {},
   "outputs": [
    {
     "ename": "SyntaxError",
     "evalue": "invalid syntax (1273137196.py, line 1)",
     "output_type": "error",
     "traceback": [
      "\u001b[1;36m  Input \u001b[1;32mIn [1]\u001b[1;36m\u001b[0m\n\u001b[1;33m    Python Code 실행하기\u001b[0m\n\u001b[1;37m           ^\u001b[0m\n\u001b[1;31mSyntaxError\u001b[0m\u001b[1;31m:\u001b[0m invalid syntax\n"
     ]
    }
   ],
   "source": [
    "Python Code 실행하기"
   ]
  },
  {
   "cell_type": "markdown",
   "id": "45e7a6b2",
   "metadata": {},
   "source": [
    "# Python Code 실행하기\n",
    "## 1\n",
    "### 1.1\n",
    "#### 1.1.1\n",
    "**programming**"
   ]
  },
  {
   "cell_type": "code",
   "execution_count": 4,
   "id": "8b9bf34b",
   "metadata": {},
   "outputs": [
    {
     "name": "stdout",
     "output_type": "stream",
     "text": [
      "Hellow World!\n"
     ]
    },
    {
     "ename": "KeyboardInterrupt",
     "evalue": "",
     "output_type": "error",
     "traceback": [
      "\u001b[1;31m---------------------------------------------------------------------------\u001b[0m",
      "\u001b[1;31mKeyboardInterrupt\u001b[0m                         Traceback (most recent call last)",
      "Input \u001b[1;32mIn [4]\u001b[0m, in \u001b[0;36m<cell line: 3>\u001b[1;34m()\u001b[0m\n\u001b[0;32m      2\u001b[0m \u001b[38;5;28;01mwhile\u001b[39;00m(\u001b[38;5;28;01mTrue\u001b[39;00m):\n\u001b[0;32m      3\u001b[0m     a \u001b[38;5;241m=\u001b[39m \u001b[38;5;241m0\u001b[39m\n\u001b[1;32m----> 4\u001b[0m     a \u001b[38;5;241m=\u001b[39m \u001b[43ma\u001b[49m \u001b[38;5;241m+\u001b[39m \u001b[38;5;241m1\u001b[39m\n",
      "\u001b[1;31mKeyboardInterrupt\u001b[0m: "
     ]
    }
   ],
   "source": [
    "print(\"Hellow World!\")\n",
    "while(True):\n",
    "    a = 0\n",
    "    a = a + 1"
   ]
  },
  {
   "cell_type": "markdown",
   "id": "f7123e2d",
   "metadata": {},
   "source": [
    "**프로그램 실행 방법 option 2**"
   ]
  },
  {
   "cell_type": "code",
   "execution_count": 8,
   "id": "e0647d7b",
   "metadata": {},
   "outputs": [
    {
     "name": "stdout",
     "output_type": "stream",
     "text": [
      "Hello World\n"
     ]
    }
   ],
   "source": [
    "%run hello.py # run이란 매직 명령어로 외부 파일 실행"
   ]
  },
  {
   "cell_type": "markdown",
   "id": "8e109a60",
   "metadata": {},
   "source": [
    "**프로그램 실행 방법 option 3**"
   ]
  },
  {
   "cell_type": "code",
   "execution_count": 9,
   "id": "33253b3a",
   "metadata": {},
   "outputs": [],
   "source": [
    "# cmd 창 (or annaconda prompt)\n",
    "# python hello.py"
   ]
  },
  {
   "cell_type": "code",
   "execution_count": 10,
   "id": "5a4c2907",
   "metadata": {},
   "outputs": [
    {
     "data": {
      "text/plain": [
       "'C:\\\\Users\\\\jwnam\\\\Documents\\\\인공지능 25기\\\\Python Programming'"
      ]
     },
     "execution_count": 10,
     "metadata": {},
     "output_type": "execute_result"
    }
   ],
   "source": [
    "%pwd"
   ]
  },
  {
   "cell_type": "markdown",
   "id": "77b43181",
   "metadata": {},
   "source": [
    "# MarkDown Language\n",
    "\n",
    "\n",
    "[MarkDown Cheetsheet](https://www.markdownguide.org/cheat-sheet/)"
   ]
  },
  {
   "cell_type": "code",
   "execution_count": 150,
   "id": "31ae4c3e",
   "metadata": {
    "scrolled": true
   },
   "outputs": [
    {
     "ename": "FileNotFoundError",
     "evalue": "No such file or directory: 'Python-logo-notext.svg.png'",
     "output_type": "error",
     "traceback": [
      "\u001b[1;31m---------------------------------------------------------------------------\u001b[0m",
      "\u001b[1;31mTypeError\u001b[0m                                 Traceback (most recent call last)",
      "File \u001b[1;32m~\\anaconda3\\lib\\site-packages\\IPython\\core\\display.py:1032\u001b[0m, in \u001b[0;36mImage._data_and_metadata\u001b[1;34m(self, always_both)\u001b[0m\n\u001b[0;32m   1031\u001b[0m \u001b[38;5;28;01mtry\u001b[39;00m:\n\u001b[1;32m-> 1032\u001b[0m     b64_data \u001b[38;5;241m=\u001b[39m \u001b[43mb2a_base64\u001b[49m\u001b[43m(\u001b[49m\u001b[38;5;28;43mself\u001b[39;49m\u001b[38;5;241;43m.\u001b[39;49m\u001b[43mdata\u001b[49m\u001b[43m)\u001b[49m\u001b[38;5;241m.\u001b[39mdecode(\u001b[38;5;124m'\u001b[39m\u001b[38;5;124mascii\u001b[39m\u001b[38;5;124m'\u001b[39m)\n\u001b[0;32m   1033\u001b[0m \u001b[38;5;28;01mexcept\u001b[39;00m \u001b[38;5;167;01mTypeError\u001b[39;00m \u001b[38;5;28;01mas\u001b[39;00m e:\n",
      "\u001b[1;31mTypeError\u001b[0m: a bytes-like object is required, not 'str'",
      "\nThe above exception was the direct cause of the following exception:\n",
      "\u001b[1;31mFileNotFoundError\u001b[0m                         Traceback (most recent call last)",
      "File \u001b[1;32m~\\anaconda3\\lib\\site-packages\\IPython\\core\\formatters.py:973\u001b[0m, in \u001b[0;36mMimeBundleFormatter.__call__\u001b[1;34m(self, obj, include, exclude)\u001b[0m\n\u001b[0;32m    970\u001b[0m     method \u001b[38;5;241m=\u001b[39m get_real_method(obj, \u001b[38;5;28mself\u001b[39m\u001b[38;5;241m.\u001b[39mprint_method)\n\u001b[0;32m    972\u001b[0m     \u001b[38;5;28;01mif\u001b[39;00m method \u001b[38;5;129;01mis\u001b[39;00m \u001b[38;5;129;01mnot\u001b[39;00m \u001b[38;5;28;01mNone\u001b[39;00m:\n\u001b[1;32m--> 973\u001b[0m         \u001b[38;5;28;01mreturn\u001b[39;00m \u001b[43mmethod\u001b[49m\u001b[43m(\u001b[49m\u001b[43minclude\u001b[49m\u001b[38;5;241;43m=\u001b[39;49m\u001b[43minclude\u001b[49m\u001b[43m,\u001b[49m\u001b[43m \u001b[49m\u001b[43mexclude\u001b[49m\u001b[38;5;241;43m=\u001b[39;49m\u001b[43mexclude\u001b[49m\u001b[43m)\u001b[49m\n\u001b[0;32m    974\u001b[0m     \u001b[38;5;28;01mreturn\u001b[39;00m \u001b[38;5;28;01mNone\u001b[39;00m\n\u001b[0;32m    975\u001b[0m \u001b[38;5;28;01melse\u001b[39;00m:\n",
      "File \u001b[1;32m~\\anaconda3\\lib\\site-packages\\IPython\\core\\display.py:1022\u001b[0m, in \u001b[0;36mImage._repr_mimebundle_\u001b[1;34m(self, include, exclude)\u001b[0m\n\u001b[0;32m   1020\u001b[0m \u001b[38;5;28;01mif\u001b[39;00m \u001b[38;5;28mself\u001b[39m\u001b[38;5;241m.\u001b[39membed:\n\u001b[0;32m   1021\u001b[0m     mimetype \u001b[38;5;241m=\u001b[39m \u001b[38;5;28mself\u001b[39m\u001b[38;5;241m.\u001b[39m_mimetype\n\u001b[1;32m-> 1022\u001b[0m     data, metadata \u001b[38;5;241m=\u001b[39m \u001b[38;5;28;43mself\u001b[39;49m\u001b[38;5;241;43m.\u001b[39;49m\u001b[43m_data_and_metadata\u001b[49m\u001b[43m(\u001b[49m\u001b[43malways_both\u001b[49m\u001b[38;5;241;43m=\u001b[39;49m\u001b[38;5;28;43;01mTrue\u001b[39;49;00m\u001b[43m)\u001b[49m\n\u001b[0;32m   1023\u001b[0m     \u001b[38;5;28;01mif\u001b[39;00m metadata:\n\u001b[0;32m   1024\u001b[0m         metadata \u001b[38;5;241m=\u001b[39m {mimetype: metadata}\n",
      "File \u001b[1;32m~\\anaconda3\\lib\\site-packages\\IPython\\core\\display.py:1034\u001b[0m, in \u001b[0;36mImage._data_and_metadata\u001b[1;34m(self, always_both)\u001b[0m\n\u001b[0;32m   1032\u001b[0m     b64_data \u001b[38;5;241m=\u001b[39m b2a_base64(\u001b[38;5;28mself\u001b[39m\u001b[38;5;241m.\u001b[39mdata)\u001b[38;5;241m.\u001b[39mdecode(\u001b[38;5;124m'\u001b[39m\u001b[38;5;124mascii\u001b[39m\u001b[38;5;124m'\u001b[39m)\n\u001b[0;32m   1033\u001b[0m \u001b[38;5;28;01mexcept\u001b[39;00m \u001b[38;5;167;01mTypeError\u001b[39;00m \u001b[38;5;28;01mas\u001b[39;00m e:\n\u001b[1;32m-> 1034\u001b[0m     \u001b[38;5;28;01mraise\u001b[39;00m \u001b[38;5;167;01mFileNotFoundError\u001b[39;00m(\n\u001b[0;32m   1035\u001b[0m         \u001b[38;5;124m\"\u001b[39m\u001b[38;5;124mNo such file or directory: \u001b[39m\u001b[38;5;124m'\u001b[39m\u001b[38;5;132;01m%s\u001b[39;00m\u001b[38;5;124m'\u001b[39m\u001b[38;5;124m\"\u001b[39m \u001b[38;5;241m%\u001b[39m (\u001b[38;5;28mself\u001b[39m\u001b[38;5;241m.\u001b[39mdata)) \u001b[38;5;28;01mfrom\u001b[39;00m \u001b[38;5;21;01me\u001b[39;00m\n\u001b[0;32m   1036\u001b[0m md \u001b[38;5;241m=\u001b[39m {}\n\u001b[0;32m   1037\u001b[0m \u001b[38;5;28;01mif\u001b[39;00m \u001b[38;5;28mself\u001b[39m\u001b[38;5;241m.\u001b[39mmetadata:\n",
      "\u001b[1;31mFileNotFoundError\u001b[0m: No such file or directory: 'Python-logo-notext.svg.png'"
     ]
    },
    {
     "ename": "FileNotFoundError",
     "evalue": "No such file or directory: 'Python-logo-notext.svg.png'",
     "output_type": "error",
     "traceback": [
      "\u001b[1;31m---------------------------------------------------------------------------\u001b[0m",
      "\u001b[1;31mTypeError\u001b[0m                                 Traceback (most recent call last)",
      "File \u001b[1;32m~\\anaconda3\\lib\\site-packages\\IPython\\core\\display.py:1032\u001b[0m, in \u001b[0;36mImage._data_and_metadata\u001b[1;34m(self, always_both)\u001b[0m\n\u001b[0;32m   1031\u001b[0m \u001b[38;5;28;01mtry\u001b[39;00m:\n\u001b[1;32m-> 1032\u001b[0m     b64_data \u001b[38;5;241m=\u001b[39m \u001b[43mb2a_base64\u001b[49m\u001b[43m(\u001b[49m\u001b[38;5;28;43mself\u001b[39;49m\u001b[38;5;241;43m.\u001b[39;49m\u001b[43mdata\u001b[49m\u001b[43m)\u001b[49m\u001b[38;5;241m.\u001b[39mdecode(\u001b[38;5;124m'\u001b[39m\u001b[38;5;124mascii\u001b[39m\u001b[38;5;124m'\u001b[39m)\n\u001b[0;32m   1033\u001b[0m \u001b[38;5;28;01mexcept\u001b[39;00m \u001b[38;5;167;01mTypeError\u001b[39;00m \u001b[38;5;28;01mas\u001b[39;00m e:\n",
      "\u001b[1;31mTypeError\u001b[0m: a bytes-like object is required, not 'str'",
      "\nThe above exception was the direct cause of the following exception:\n",
      "\u001b[1;31mFileNotFoundError\u001b[0m                         Traceback (most recent call last)",
      "File \u001b[1;32m~\\anaconda3\\lib\\site-packages\\IPython\\core\\formatters.py:343\u001b[0m, in \u001b[0;36mBaseFormatter.__call__\u001b[1;34m(self, obj)\u001b[0m\n\u001b[0;32m    341\u001b[0m     method \u001b[38;5;241m=\u001b[39m get_real_method(obj, \u001b[38;5;28mself\u001b[39m\u001b[38;5;241m.\u001b[39mprint_method)\n\u001b[0;32m    342\u001b[0m     \u001b[38;5;28;01mif\u001b[39;00m method \u001b[38;5;129;01mis\u001b[39;00m \u001b[38;5;129;01mnot\u001b[39;00m \u001b[38;5;28;01mNone\u001b[39;00m:\n\u001b[1;32m--> 343\u001b[0m         \u001b[38;5;28;01mreturn\u001b[39;00m \u001b[43mmethod\u001b[49m\u001b[43m(\u001b[49m\u001b[43m)\u001b[49m\n\u001b[0;32m    344\u001b[0m     \u001b[38;5;28;01mreturn\u001b[39;00m \u001b[38;5;28;01mNone\u001b[39;00m\n\u001b[0;32m    345\u001b[0m \u001b[38;5;28;01melse\u001b[39;00m:\n",
      "File \u001b[1;32m~\\anaconda3\\lib\\site-packages\\IPython\\core\\display.py:1054\u001b[0m, in \u001b[0;36mImage._repr_png_\u001b[1;34m(self)\u001b[0m\n\u001b[0;32m   1052\u001b[0m \u001b[38;5;28;01mdef\u001b[39;00m \u001b[38;5;21m_repr_png_\u001b[39m(\u001b[38;5;28mself\u001b[39m):\n\u001b[0;32m   1053\u001b[0m     \u001b[38;5;28;01mif\u001b[39;00m \u001b[38;5;28mself\u001b[39m\u001b[38;5;241m.\u001b[39membed \u001b[38;5;129;01mand\u001b[39;00m \u001b[38;5;28mself\u001b[39m\u001b[38;5;241m.\u001b[39mformat \u001b[38;5;241m==\u001b[39m \u001b[38;5;28mself\u001b[39m\u001b[38;5;241m.\u001b[39m_FMT_PNG:\n\u001b[1;32m-> 1054\u001b[0m         \u001b[38;5;28;01mreturn\u001b[39;00m \u001b[38;5;28;43mself\u001b[39;49m\u001b[38;5;241;43m.\u001b[39;49m\u001b[43m_data_and_metadata\u001b[49m\u001b[43m(\u001b[49m\u001b[43m)\u001b[49m\n",
      "File \u001b[1;32m~\\anaconda3\\lib\\site-packages\\IPython\\core\\display.py:1034\u001b[0m, in \u001b[0;36mImage._data_and_metadata\u001b[1;34m(self, always_both)\u001b[0m\n\u001b[0;32m   1032\u001b[0m     b64_data \u001b[38;5;241m=\u001b[39m b2a_base64(\u001b[38;5;28mself\u001b[39m\u001b[38;5;241m.\u001b[39mdata)\u001b[38;5;241m.\u001b[39mdecode(\u001b[38;5;124m'\u001b[39m\u001b[38;5;124mascii\u001b[39m\u001b[38;5;124m'\u001b[39m)\n\u001b[0;32m   1033\u001b[0m \u001b[38;5;28;01mexcept\u001b[39;00m \u001b[38;5;167;01mTypeError\u001b[39;00m \u001b[38;5;28;01mas\u001b[39;00m e:\n\u001b[1;32m-> 1034\u001b[0m     \u001b[38;5;28;01mraise\u001b[39;00m \u001b[38;5;167;01mFileNotFoundError\u001b[39;00m(\n\u001b[0;32m   1035\u001b[0m         \u001b[38;5;124m\"\u001b[39m\u001b[38;5;124mNo such file or directory: \u001b[39m\u001b[38;5;124m'\u001b[39m\u001b[38;5;132;01m%s\u001b[39;00m\u001b[38;5;124m'\u001b[39m\u001b[38;5;124m\"\u001b[39m \u001b[38;5;241m%\u001b[39m (\u001b[38;5;28mself\u001b[39m\u001b[38;5;241m.\u001b[39mdata)) \u001b[38;5;28;01mfrom\u001b[39;00m \u001b[38;5;21;01me\u001b[39;00m\n\u001b[0;32m   1036\u001b[0m md \u001b[38;5;241m=\u001b[39m {}\n\u001b[0;32m   1037\u001b[0m \u001b[38;5;28;01mif\u001b[39;00m \u001b[38;5;28mself\u001b[39m\u001b[38;5;241m.\u001b[39mmetadata:\n",
      "\u001b[1;31mFileNotFoundError\u001b[0m: No such file or directory: 'Python-logo-notext.svg.png'"
     ]
    },
    {
     "data": {
      "text/plain": [
       "<IPython.core.display.Image object>"
      ]
     },
     "execution_count": 150,
     "metadata": {},
     "output_type": "execute_result"
    }
   ],
   "source": [
    "from IPython.display import Image\n",
    "Image(\"Python-logo-notext.svg.png\", width=100)"
   ]
  },
  {
   "cell_type": "code",
   "execution_count": 21,
   "id": "9a23c6f8",
   "metadata": {},
   "outputs": [],
   "source": [
    "an_apple = \"apple\""
   ]
  },
  {
   "cell_type": "code",
   "execution_count": 26,
   "id": "d50c2412",
   "metadata": {},
   "outputs": [
    {
     "ename": "AttributeError",
     "evalue": "'str' object has no attribute 'type'",
     "output_type": "error",
     "traceback": [
      "\u001b[1;31m---------------------------------------------------------------------------\u001b[0m",
      "\u001b[1;31mAttributeError\u001b[0m                            Traceback (most recent call last)",
      "Input \u001b[1;32mIn [26]\u001b[0m, in \u001b[0;36m<cell line: 1>\u001b[1;34m()\u001b[0m\n\u001b[1;32m----> 1\u001b[0m \u001b[43man_apple\u001b[49m\u001b[38;5;241;43m.\u001b[39;49m\u001b[43m \u001b[49m\u001b[38;5;28;43mtype\u001b[39;49m(an_apple)\n",
      "\u001b[1;31mAttributeError\u001b[0m: 'str' object has no attribute 'type'"
     ]
    }
   ],
   "source": [
    "an_apple. type(an_apple)"
   ]
  },
  {
   "cell_type": "code",
   "execution_count": 16,
   "id": "19acea5e",
   "metadata": {},
   "outputs": [],
   "source": [
    "an_example = 40"
   ]
  },
  {
   "cell_type": "code",
   "execution_count": 17,
   "id": "3d776c9b",
   "metadata": {},
   "outputs": [
    {
     "name": "stdout",
     "output_type": "stream",
     "text": [
      "40\n"
     ]
    }
   ],
   "source": [
    "print(an_example)"
   ]
  },
  {
   "cell_type": "code",
   "execution_count": 27,
   "id": "cc84b236",
   "metadata": {},
   "outputs": [],
   "source": [
    "score = [1, 2, 3]"
   ]
  },
  {
   "cell_type": "code",
   "execution_count": 28,
   "id": "0c7ab9be",
   "metadata": {},
   "outputs": [
    {
     "data": {
      "text/plain": [
       "[1, 2, 3]"
      ]
     },
     "execution_count": 28,
     "metadata": {},
     "output_type": "execute_result"
    }
   ],
   "source": [
    "score"
   ]
  },
  {
   "cell_type": "code",
   "execution_count": 29,
   "id": "ded3f4d9",
   "metadata": {},
   "outputs": [
    {
     "ename": "NameError",
     "evalue": "name 'sroce' is not defined",
     "output_type": "error",
     "traceback": [
      "\u001b[1;31m---------------------------------------------------------------------------\u001b[0m",
      "\u001b[1;31mNameError\u001b[0m                                 Traceback (most recent call last)",
      "Input \u001b[1;32mIn [29]\u001b[0m, in \u001b[0;36m<cell line: 1>\u001b[1;34m()\u001b[0m\n\u001b[1;32m----> 1\u001b[0m \u001b[43msroce\u001b[49m\u001b[38;5;241m.\u001b[39mpush(\u001b[38;5;241m9\u001b[39m)\n",
      "\u001b[1;31mNameError\u001b[0m: name 'sroce' is not defined"
     ]
    }
   ],
   "source": [
    "sroce.push(9)"
   ]
  },
  {
   "cell_type": "code",
   "execution_count": 30,
   "id": "1b77c05c",
   "metadata": {},
   "outputs": [
    {
     "ename": "NameError",
     "evalue": "name 'push' is not defined",
     "output_type": "error",
     "traceback": [
      "\u001b[1;31m---------------------------------------------------------------------------\u001b[0m",
      "\u001b[1;31mNameError\u001b[0m                                 Traceback (most recent call last)",
      "Input \u001b[1;32mIn [30]\u001b[0m, in \u001b[0;36m<cell line: 1>\u001b[1;34m()\u001b[0m\n\u001b[1;32m----> 1\u001b[0m score,\u001b[43mpush\u001b[49m(\u001b[38;5;241m9\u001b[39m)\n",
      "\u001b[1;31mNameError\u001b[0m: name 'push' is not defined"
     ]
    }
   ],
   "source": [
    "score,push(9)"
   ]
  },
  {
   "cell_type": "code",
   "execution_count": 31,
   "id": "a83ed7d6",
   "metadata": {
    "scrolled": true
   },
   "outputs": [
    {
     "ename": "TypeError",
     "evalue": "insert expected 2 arguments, got 1",
     "output_type": "error",
     "traceback": [
      "\u001b[1;31m---------------------------------------------------------------------------\u001b[0m",
      "\u001b[1;31mTypeError\u001b[0m                                 Traceback (most recent call last)",
      "Input \u001b[1;32mIn [31]\u001b[0m, in \u001b[0;36m<cell line: 1>\u001b[1;34m()\u001b[0m\n\u001b[1;32m----> 1\u001b[0m \u001b[43mscore\u001b[49m\u001b[38;5;241;43m.\u001b[39;49m\u001b[43minsert\u001b[49m\u001b[43m(\u001b[49m\u001b[38;5;241;43m9\u001b[39;49m\u001b[43m)\u001b[49m\n",
      "\u001b[1;31mTypeError\u001b[0m: insert expected 2 arguments, got 1"
     ]
    }
   ],
   "source": [
    "score.insert(9)"
   ]
  },
  {
   "cell_type": "code",
   "execution_count": 32,
   "id": "4f52a2df",
   "metadata": {},
   "outputs": [],
   "source": [
    "score.append(9)"
   ]
  },
  {
   "cell_type": "code",
   "execution_count": 33,
   "id": "caa42718",
   "metadata": {},
   "outputs": [
    {
     "data": {
      "text/plain": [
       "[1, 2, 3, 9]"
      ]
     },
     "execution_count": 33,
     "metadata": {},
     "output_type": "execute_result"
    }
   ],
   "source": [
    "score"
   ]
  },
  {
   "cell_type": "code",
   "execution_count": 34,
   "id": "a4eb057b",
   "metadata": {},
   "outputs": [],
   "source": [
    "score.sort()"
   ]
  },
  {
   "cell_type": "code",
   "execution_count": 35,
   "id": "39d910f9",
   "metadata": {},
   "outputs": [
    {
     "data": {
      "text/plain": [
       "[1, 2, 3, 9]"
      ]
     },
     "execution_count": 35,
     "metadata": {},
     "output_type": "execute_result"
    }
   ],
   "source": [
    "score"
   ]
  },
  {
   "cell_type": "code",
   "execution_count": 36,
   "id": "fe628203",
   "metadata": {},
   "outputs": [],
   "source": [
    "score.reverse()"
   ]
  },
  {
   "cell_type": "code",
   "execution_count": 37,
   "id": "5618c115",
   "metadata": {},
   "outputs": [
    {
     "data": {
      "text/plain": [
       "[9, 3, 2, 1]"
      ]
     },
     "execution_count": 37,
     "metadata": {},
     "output_type": "execute_result"
    }
   ],
   "source": [
    "score"
   ]
  },
  {
   "cell_type": "code",
   "execution_count": 41,
   "id": "74404c0e",
   "metadata": {},
   "outputs": [],
   "source": [
    "# 내가만든함수\n",
    "\n",
    "def add_func(a, b):\n",
    "    \"\"\"\n",
    "    add two numbers together\n",
    "    return a+b\n",
    "    \"\"\"\n",
    "    c = a + b\n",
    "    return c"
   ]
  },
  {
   "cell_type": "code",
   "execution_count": 42,
   "id": "51940164",
   "metadata": {},
   "outputs": [
    {
     "data": {
      "text/plain": [
       "9"
      ]
     },
     "execution_count": 42,
     "metadata": {},
     "output_type": "execute_result"
    }
   ],
   "source": [
    "add_func(3,6)"
   ]
  },
  {
   "cell_type": "code",
   "execution_count": 43,
   "id": "bdb290bc",
   "metadata": {},
   "outputs": [],
   "source": [
    "add_func?"
   ]
  },
  {
   "cell_type": "code",
   "execution_count": 50,
   "id": "74f3d514",
   "metadata": {},
   "outputs": [
    {
     "name": "stdout",
     "output_type": "stream",
     "text": [
      "Hello World\n"
     ]
    }
   ],
   "source": [
    "run hello.py"
   ]
  },
  {
   "cell_type": "code",
   "execution_count": null,
   "id": "4c435ccb",
   "metadata": {},
   "outputs": [],
   "source": [
    "# %load hello.py\n",
    "print(\"Hello World\")"
   ]
  },
  {
   "cell_type": "code",
   "execution_count": 53,
   "id": "b88770ae",
   "metadata": {},
   "outputs": [
    {
     "name": "stdout",
     "output_type": "stream",
     "text": [
      "CPU times: total: 0 ns\n",
      "Wall time: 0 ns\n"
     ]
    }
   ],
   "source": [
    "%time"
   ]
  },
  {
   "cell_type": "code",
   "execution_count": 54,
   "id": "7e39942a",
   "metadata": {},
   "outputs": [
    {
     "ename": "NameError",
     "evalue": "name 'hello' is not defined",
     "output_type": "error",
     "traceback": [
      "\u001b[1;31m---------------------------------------------------------------------------\u001b[0m",
      "\u001b[1;31mNameError\u001b[0m                                 Traceback (most recent call last)",
      "File \u001b[1;32m<timed eval>:1\u001b[0m, in \u001b[0;36m<module>\u001b[1;34m\u001b[0m\n",
      "\u001b[1;31mNameError\u001b[0m: name 'hello' is not defined"
     ]
    }
   ],
   "source": [
    "%time hello.py"
   ]
  },
  {
   "cell_type": "code",
   "execution_count": 55,
   "id": "0244760b",
   "metadata": {},
   "outputs": [
    {
     "name": "stdout",
     "output_type": "stream",
     "text": [
      "CPU times: total: 0 ns\n",
      "Wall time: 0 ns\n"
     ]
    }
   ],
   "source": [
    "a = 2\n",
    "b = 4\n",
    "\n",
    "%time c = a + b"
   ]
  },
  {
   "cell_type": "code",
   "execution_count": 56,
   "id": "6c44d110",
   "metadata": {},
   "outputs": [
    {
     "ename": "SyntaxError",
     "evalue": "invalid syntax (992583946.py, line 1)",
     "output_type": "error",
     "traceback": [
      "\u001b[1;36m  Input \u001b[1;32mIn [56]\u001b[1;36m\u001b[0m\n\u001b[1;33m    5!\u001b[0m\n\u001b[1;37m     ^\u001b[0m\n\u001b[1;31mSyntaxError\u001b[0m\u001b[1;31m:\u001b[0m invalid syntax\n"
     ]
    }
   ],
   "source": [
    "5!"
   ]
  },
  {
   "cell_type": "code",
   "execution_count": 57,
   "id": "5d5b1471",
   "metadata": {},
   "outputs": [
    {
     "name": "stderr",
     "output_type": "stream",
     "text": [
      "'5'은(는) 내부 또는 외부 명령, 실행할 수 있는 프로그램, 또는\n",
      "배치 파일이 아닙니다.\n"
     ]
    }
   ],
   "source": [
    "!5"
   ]
  },
  {
   "cell_type": "code",
   "execution_count": 58,
   "id": "f45965e7",
   "metadata": {},
   "outputs": [
    {
     "ename": "AttributeError",
     "evalue": "module 'math' has no attribute 'pactorial'",
     "output_type": "error",
     "traceback": [
      "\u001b[1;31m---------------------------------------------------------------------------\u001b[0m",
      "\u001b[1;31mAttributeError\u001b[0m                            Traceback (most recent call last)",
      "Input \u001b[1;32mIn [58]\u001b[0m, in \u001b[0;36m<cell line: 2>\u001b[1;34m()\u001b[0m\n\u001b[0;32m      1\u001b[0m \u001b[38;5;28;01mimport\u001b[39;00m \u001b[38;5;21;01mmath\u001b[39;00m\n\u001b[1;32m----> 2\u001b[0m \u001b[43mmath\u001b[49m\u001b[38;5;241;43m.\u001b[39;49m\u001b[43mpactorial\u001b[49m(\u001b[38;5;241m20\u001b[39m)\n",
      "\u001b[1;31mAttributeError\u001b[0m: module 'math' has no attribute 'pactorial'"
     ]
    }
   ],
   "source": [
    "import math\n",
    "math.pactorial(20)"
   ]
  },
  {
   "cell_type": "code",
   "execution_count": 59,
   "id": "aecb3201",
   "metadata": {},
   "outputs": [],
   "source": [
    "import math"
   ]
  },
  {
   "cell_type": "code",
   "execution_count": 60,
   "id": "ce335fc3",
   "metadata": {},
   "outputs": [
    {
     "data": {
      "text/plain": [
       "120"
      ]
     },
     "execution_count": 60,
     "metadata": {},
     "output_type": "execute_result"
    }
   ],
   "source": [
    "math.factorial(5)"
   ]
  },
  {
   "cell_type": "code",
   "execution_count": 61,
   "id": "93dca992",
   "metadata": {},
   "outputs": [
    {
     "name": "stdout",
     "output_type": "stream",
     "text": [
      "CPU times: total: 0 ns\n",
      "Wall time: 0 ns\n"
     ]
    },
    {
     "data": {
      "text/plain": [
       "2432902008176640000"
      ]
     },
     "execution_count": 61,
     "metadata": {},
     "output_type": "execute_result"
    }
   ],
   "source": [
    "%time math.factorial(20)"
   ]
  },
  {
   "cell_type": "code",
   "execution_count": 62,
   "id": "f8fed6ef",
   "metadata": {},
   "outputs": [
    {
     "name": "stdout",
     "output_type": "stream",
     "text": [
      "CPU times: total: 0 ns\n",
      "Wall time: 0 ns\n"
     ]
    },
    {
     "data": {
      "text/plain": [
       "30414093201713378043612608166064768844377641568960512000000000000"
      ]
     },
     "execution_count": 62,
     "metadata": {},
     "output_type": "execute_result"
    }
   ],
   "source": [
    "%time math.factorial(50)"
   ]
  },
  {
   "cell_type": "code",
   "execution_count": 63,
   "id": "ed1172cc",
   "metadata": {},
   "outputs": [
    {
     "name": "stdout",
     "output_type": "stream",
     "text": [
      "39.5 ns ± 4.82 ns per loop (mean ± std. dev. of 7 runs, 10,000,000 loops each)\n"
     ]
    }
   ],
   "source": [
    "%timeit c = a + b # 여러번 수행해서 평균 수행시간 출력"
   ]
  },
  {
   "cell_type": "code",
   "execution_count": 65,
   "id": "17ca7ee8",
   "metadata": {
    "scrolled": true
   },
   "outputs": [
    {
     "name": "stdout",
     "output_type": "stream",
     "text": [
      "CPU times: total: 0 ns\n",
      "Wall time: 0 ns\n"
     ]
    }
   ],
   "source": [
    "a = 2\n",
    "b = 5\n",
    "%time c = a + b"
   ]
  },
  {
   "cell_type": "code",
   "execution_count": 66,
   "id": "87724866",
   "metadata": {},
   "outputs": [
    {
     "name": "stdout",
     "output_type": "stream",
     "text": [
      "39 ns ± 3.56 ns per loop (mean ± std. dev. of 7 runs, 10,000,000 loops each)\n"
     ]
    }
   ],
   "source": [
    "%timeit c = a + b"
   ]
  },
  {
   "cell_type": "code",
   "execution_count": 67,
   "id": "6b5abeaf",
   "metadata": {},
   "outputs": [
    {
     "name": "stdout",
     "output_type": "stream",
     "text": [
      "156 ns ± 0.665 ns per loop (mean ± std. dev. of 7 runs, 10,000,000 loops each)\n"
     ]
    }
   ],
   "source": [
    "%timeit math.factorial(20)"
   ]
  },
  {
   "cell_type": "code",
   "execution_count": 68,
   "id": "03124253",
   "metadata": {},
   "outputs": [
    {
     "data": {
      "text/plain": [
       "int"
      ]
     },
     "execution_count": 68,
     "metadata": {},
     "output_type": "execute_result"
    }
   ],
   "source": [
    "type(a)"
   ]
  },
  {
   "cell_type": "markdown",
   "id": "548837c4",
   "metadata": {},
   "source": [
    "# 기본문법\n"
   ]
  },
  {
   "cell_type": "code",
   "execution_count": 69,
   "id": "b78a0056",
   "metadata": {},
   "outputs": [
    {
     "data": {
      "text/plain": [
       "2"
      ]
     },
     "execution_count": 69,
     "metadata": {},
     "output_type": "execute_result"
    }
   ],
   "source": [
    "# 들여쓰기\n",
    "# 나누기\n",
    "# 5//2 = 몫, 5%2 = 나머지\n",
    "5//2"
   ]
  },
  {
   "cell_type": "code",
   "execution_count": 70,
   "id": "a32ffdeb",
   "metadata": {},
   "outputs": [
    {
     "data": {
      "text/plain": [
       "1"
      ]
     },
     "execution_count": 70,
     "metadata": {},
     "output_type": "execute_result"
    }
   ],
   "source": [
    "5%2"
   ]
  },
  {
   "cell_type": "code",
   "execution_count": 71,
   "id": "168d2526",
   "metadata": {},
   "outputs": [
    {
     "data": {
      "text/plain": [
       "8"
      ]
     },
     "execution_count": 71,
     "metadata": {},
     "output_type": "execute_result"
    }
   ],
   "source": [
    "2^10"
   ]
  },
  {
   "cell_type": "code",
   "execution_count": 72,
   "id": "9f62c133",
   "metadata": {},
   "outputs": [
    {
     "data": {
      "text/plain": [
       "1024"
      ]
     },
     "execution_count": 72,
     "metadata": {},
     "output_type": "execute_result"
    }
   ],
   "source": [
    "2**10"
   ]
  },
  {
   "cell_type": "code",
   "execution_count": 73,
   "id": "562c4713",
   "metadata": {},
   "outputs": [
    {
     "ename": "NameError",
     "evalue": "name 'String' is not defined",
     "output_type": "error",
     "traceback": [
      "\u001b[1;31m---------------------------------------------------------------------------\u001b[0m",
      "\u001b[1;31mNameError\u001b[0m                                 Traceback (most recent call last)",
      "Input \u001b[1;32mIn [73]\u001b[0m, in \u001b[0;36m<cell line: 2>\u001b[1;34m()\u001b[0m\n\u001b[0;32m      1\u001b[0m \u001b[38;5;66;03m#자료형 변환\u001b[39;00m\n\u001b[1;32m----> 2\u001b[0m \u001b[43mString\u001b[49m(a)\n",
      "\u001b[1;31mNameError\u001b[0m: name 'String' is not defined"
     ]
    }
   ],
   "source": [
    "#자료형 변환\n",
    "String(a)"
   ]
  },
  {
   "cell_type": "code",
   "execution_count": 74,
   "id": "6915dfa0",
   "metadata": {},
   "outputs": [
    {
     "ename": "NameError",
     "evalue": "name 'toString' is not defined",
     "output_type": "error",
     "traceback": [
      "\u001b[1;31m---------------------------------------------------------------------------\u001b[0m",
      "\u001b[1;31mNameError\u001b[0m                                 Traceback (most recent call last)",
      "Input \u001b[1;32mIn [74]\u001b[0m, in \u001b[0;36m<cell line: 1>\u001b[1;34m()\u001b[0m\n\u001b[1;32m----> 1\u001b[0m \u001b[43mtoString\u001b[49m(a)\n",
      "\u001b[1;31mNameError\u001b[0m: name 'toString' is not defined"
     ]
    }
   ],
   "source": [
    "toString(a)"
   ]
  },
  {
   "cell_type": "code",
   "execution_count": 75,
   "id": "51ce681e",
   "metadata": {},
   "outputs": [
    {
     "ename": "AttributeError",
     "evalue": "'int' object has no attribute 'toString'",
     "output_type": "error",
     "traceback": [
      "\u001b[1;31m---------------------------------------------------------------------------\u001b[0m",
      "\u001b[1;31mAttributeError\u001b[0m                            Traceback (most recent call last)",
      "Input \u001b[1;32mIn [75]\u001b[0m, in \u001b[0;36m<cell line: 1>\u001b[1;34m()\u001b[0m\n\u001b[1;32m----> 1\u001b[0m \u001b[43ma\u001b[49m\u001b[38;5;241;43m.\u001b[39;49m\u001b[43mtoString\u001b[49m()\n",
      "\u001b[1;31mAttributeError\u001b[0m: 'int' object has no attribute 'toString'"
     ]
    }
   ],
   "source": [
    "a.toString()"
   ]
  },
  {
   "cell_type": "code",
   "execution_count": 76,
   "id": "ace4fe97",
   "metadata": {},
   "outputs": [],
   "source": [
    "z = \"2\""
   ]
  },
  {
   "cell_type": "code",
   "execution_count": 77,
   "id": "33707192",
   "metadata": {},
   "outputs": [
    {
     "data": {
      "text/plain": [
       "str"
      ]
     },
     "execution_count": 77,
     "metadata": {},
     "output_type": "execute_result"
    }
   ],
   "source": [
    "type(z)"
   ]
  },
  {
   "cell_type": "code",
   "execution_count": 79,
   "id": "f8ca2618",
   "metadata": {},
   "outputs": [
    {
     "ename": "NameError",
     "evalue": "name 'parseInt' is not defined",
     "output_type": "error",
     "traceback": [
      "\u001b[1;31m---------------------------------------------------------------------------\u001b[0m",
      "\u001b[1;31mNameError\u001b[0m                                 Traceback (most recent call last)",
      "Input \u001b[1;32mIn [79]\u001b[0m, in \u001b[0;36m<cell line: 1>\u001b[1;34m()\u001b[0m\n\u001b[1;32m----> 1\u001b[0m x \u001b[38;5;241m=\u001b[39m \u001b[43mparseInt\u001b[49m(z)\n",
      "\u001b[1;31mNameError\u001b[0m: name 'parseInt' is not defined"
     ]
    }
   ],
   "source": [
    "x = parseInt(z)"
   ]
  },
  {
   "cell_type": "code",
   "execution_count": 80,
   "id": "b3e1a433",
   "metadata": {},
   "outputs": [],
   "source": [
    "x = int(z)"
   ]
  },
  {
   "cell_type": "code",
   "execution_count": 81,
   "id": "43c0f28a",
   "metadata": {},
   "outputs": [
    {
     "data": {
      "text/plain": [
       "2"
      ]
     },
     "execution_count": 81,
     "metadata": {},
     "output_type": "execute_result"
    }
   ],
   "source": [
    "x"
   ]
  },
  {
   "cell_type": "code",
   "execution_count": 82,
   "id": "3fe4d655",
   "metadata": {},
   "outputs": [
    {
     "data": {
      "text/plain": [
       "int"
      ]
     },
     "execution_count": 82,
     "metadata": {},
     "output_type": "execute_result"
    }
   ],
   "source": [
    "type(x)"
   ]
  },
  {
   "cell_type": "code",
   "execution_count": 83,
   "id": "4cac0d98",
   "metadata": {},
   "outputs": [
    {
     "data": {
      "text/plain": [
       "False"
      ]
     },
     "execution_count": 83,
     "metadata": {},
     "output_type": "execute_result"
    }
   ],
   "source": [
    "a == 3"
   ]
  },
  {
   "cell_type": "code",
   "execution_count": 84,
   "id": "b0c6c54d",
   "metadata": {},
   "outputs": [
    {
     "data": {
      "text/plain": [
       "2"
      ]
     },
     "execution_count": 84,
     "metadata": {},
     "output_type": "execute_result"
    }
   ],
   "source": [
    "a"
   ]
  },
  {
   "cell_type": "code",
   "execution_count": 85,
   "id": "4fe65a1c",
   "metadata": {},
   "outputs": [],
   "source": [
    "floor = 0.2476 * 12 + 4.159"
   ]
  },
  {
   "cell_type": "code",
   "execution_count": 86,
   "id": "ed831f57",
   "metadata": {},
   "outputs": [
    {
     "name": "stdout",
     "output_type": "stream",
     "text": [
      "7.130199999999999\n"
     ]
    }
   ],
   "source": [
    "print(floor)"
   ]
  },
  {
   "cell_type": "code",
   "execution_count": 87,
   "id": "4eecbd0b",
   "metadata": {},
   "outputs": [
    {
     "data": {
      "text/plain": [
       "7"
      ]
     },
     "execution_count": 87,
     "metadata": {},
     "output_type": "execute_result"
    }
   ],
   "source": [
    "int(floor)"
   ]
  },
  {
   "cell_type": "code",
   "execution_count": 88,
   "id": "73dbd996",
   "metadata": {},
   "outputs": [
    {
     "ename": "SyntaxError",
     "evalue": "cannot assign to operator (52180327.py, line 1)",
     "output_type": "error",
     "traceback": [
      "\u001b[1;36m  Input \u001b[1;32mIn [88]\u001b[1;36m\u001b[0m\n\u001b[1;33m    x**2 + x -2 = 0\u001b[0m\n\u001b[1;37m    ^\u001b[0m\n\u001b[1;31mSyntaxError\u001b[0m\u001b[1;31m:\u001b[0m cannot assign to operator\n"
     ]
    }
   ],
   "source": [
    "x**2 + x -2 = 0"
   ]
  },
  {
   "cell_type": "code",
   "execution_count": 89,
   "id": "e8ce275e",
   "metadata": {},
   "outputs": [],
   "source": [
    "r1= (-b + (b**2-4*a*c)**0.5)/(2*a)"
   ]
  },
  {
   "cell_type": "code",
   "execution_count": 90,
   "id": "4c5a2995",
   "metadata": {},
   "outputs": [],
   "source": [
    "x = 2 + r1**2"
   ]
  },
  {
   "cell_type": "code",
   "execution_count": 91,
   "id": "f7e834d5",
   "metadata": {},
   "outputs": [
    {
     "data": {
      "text/plain": [
       "(1.6250000000000002-3.4798527267687636j)"
      ]
     },
     "execution_count": 91,
     "metadata": {},
     "output_type": "execute_result"
    }
   ],
   "source": [
    "x"
   ]
  },
  {
   "cell_type": "code",
   "execution_count": 92,
   "id": "3eb50ce9",
   "metadata": {},
   "outputs": [],
   "source": [
    "x = 2 - x**2"
   ]
  },
  {
   "cell_type": "code",
   "execution_count": 93,
   "id": "53910083",
   "metadata": {},
   "outputs": [
    {
     "data": {
      "text/plain": [
       "(11.468749999999996+11.309521361998483j)"
      ]
     },
     "execution_count": 93,
     "metadata": {},
     "output_type": "execute_result"
    }
   ],
   "source": [
    "x"
   ]
  },
  {
   "cell_type": "code",
   "execution_count": 94,
   "id": "cd9babe2",
   "metadata": {},
   "outputs": [
    {
     "ename": "SyntaxError",
     "evalue": "invalid syntax (3689615041.py, line 1)",
     "output_type": "error",
     "traceback": [
      "\u001b[1;36m  Input \u001b[1;32mIn [94]\u001b[1;36m\u001b[0m\n\u001b[1;33m    a=1: b=1: c=-2\u001b[0m\n\u001b[1;37m       ^\u001b[0m\n\u001b[1;31mSyntaxError\u001b[0m\u001b[1;31m:\u001b[0m invalid syntax\n"
     ]
    }
   ],
   "source": [
    "a=1: b=1: c=-2"
   ]
  },
  {
   "cell_type": "code",
   "execution_count": 95,
   "id": "57b5924a",
   "metadata": {},
   "outputs": [
    {
     "ename": "SyntaxError",
     "evalue": "invalid syntax (4228880942.py, line 1)",
     "output_type": "error",
     "traceback": [
      "\u001b[1;36m  Input \u001b[1;32mIn [95]\u001b[1;36m\u001b[0m\n\u001b[1;33m    a=1: b=1: c=-2\u001b[0m\n\u001b[1;37m       ^\u001b[0m\n\u001b[1;31mSyntaxError\u001b[0m\u001b[1;31m:\u001b[0m invalid syntax\n"
     ]
    }
   ],
   "source": [
    "a=1: b=1: c=-2\n",
    "        \n",
    "x1 = (-b + (b**2-4a*c)**0.5)/2*a\n",
    "x2 = (-b - (b**2-4a*c)**0.5)/2*a\n",
    "x1, x2"
   ]
  },
  {
   "cell_type": "code",
   "execution_count": 97,
   "id": "b9c60bd6",
   "metadata": {},
   "outputs": [
    {
     "data": {
      "text/plain": [
       "(1.0, -2.0)"
      ]
     },
     "execution_count": 97,
     "metadata": {},
     "output_type": "execute_result"
    }
   ],
   "source": [
    "a=1\n",
    "b=1\n",
    "c=-2\n",
    "        \n",
    "x1 = (-b + (b**2-4*a*c)**0.5)/2*a\n",
    "x2 = (-b - (b**2-4*a*c)**0.5)/2*a\n",
    "x1, x2"
   ]
  },
  {
   "cell_type": "code",
   "execution_count": 98,
   "id": "ca163ccd",
   "metadata": {},
   "outputs": [
    {
     "name": "stdout",
     "output_type": "stream",
     "text": [
      "2,3\n"
     ]
    },
    {
     "data": {
      "text/plain": [
       "'2,3'"
      ]
     },
     "execution_count": 98,
     "metadata": {},
     "output_type": "execute_result"
    }
   ],
   "source": [
    "input()"
   ]
  },
  {
   "cell_type": "code",
   "execution_count": 99,
   "id": "70dbde40",
   "metadata": {},
   "outputs": [
    {
     "name": "stdout",
     "output_type": "stream",
     "text": [
      "35\n"
     ]
    }
   ],
   "source": [
    "a = input()"
   ]
  },
  {
   "cell_type": "code",
   "execution_count": 100,
   "id": "cb63c783",
   "metadata": {},
   "outputs": [
    {
     "data": {
      "text/plain": [
       "'35'"
      ]
     },
     "execution_count": 100,
     "metadata": {},
     "output_type": "execute_result"
    }
   ],
   "source": [
    "a"
   ]
  },
  {
   "cell_type": "code",
   "execution_count": 101,
   "id": "a885fee1",
   "metadata": {},
   "outputs": [
    {
     "name": "stdout",
     "output_type": "stream",
     "text": [
      "숫자를 입력하세요333\n"
     ]
    }
   ],
   "source": [
    "a = input('숫자를 입력하세요')"
   ]
  },
  {
   "cell_type": "code",
   "execution_count": 102,
   "id": "fe6242c5",
   "metadata": {},
   "outputs": [
    {
     "data": {
      "text/plain": [
       "'333'"
      ]
     },
     "execution_count": 102,
     "metadata": {},
     "output_type": "execute_result"
    }
   ],
   "source": [
    "a"
   ]
  },
  {
   "cell_type": "code",
   "execution_count": 103,
   "id": "82c55df6",
   "metadata": {},
   "outputs": [
    {
     "data": {
      "text/plain": [
       "333"
      ]
     },
     "execution_count": 103,
     "metadata": {},
     "output_type": "execute_result"
    }
   ],
   "source": [
    "int(a)"
   ]
  },
  {
   "cell_type": "code",
   "execution_count": 104,
   "id": "914b8516",
   "metadata": {},
   "outputs": [
    {
     "name": "stdout",
     "output_type": "stream",
     "text": [
      "숫자를 입력하세요: 4455\n"
     ]
    }
   ],
   "source": [
    "a = input('숫자를 입력하세요: ')"
   ]
  },
  {
   "cell_type": "code",
   "execution_count": 105,
   "id": "de91d28e",
   "metadata": {},
   "outputs": [
    {
     "data": {
      "text/plain": [
       "'4455'"
      ]
     },
     "execution_count": 105,
     "metadata": {},
     "output_type": "execute_result"
    }
   ],
   "source": [
    "a"
   ]
  },
  {
   "cell_type": "code",
   "execution_count": 106,
   "id": "4f200fdd",
   "metadata": {},
   "outputs": [
    {
     "name": "stdout",
     "output_type": "stream",
     "text": [
      "22\n",
      "33\n"
     ]
    }
   ],
   "source": [
    "a = input()\n",
    "b = input()"
   ]
  },
  {
   "cell_type": "code",
   "execution_count": 107,
   "id": "f883ba8d",
   "metadata": {},
   "outputs": [
    {
     "data": {
      "text/plain": [
       "'2233'"
      ]
     },
     "execution_count": 107,
     "metadata": {},
     "output_type": "execute_result"
    }
   ],
   "source": [
    "a+b"
   ]
  },
  {
   "cell_type": "code",
   "execution_count": 108,
   "id": "ca2d5130",
   "metadata": {},
   "outputs": [
    {
     "data": {
      "text/plain": [
       "55"
      ]
     },
     "execution_count": 108,
     "metadata": {},
     "output_type": "execute_result"
    }
   ],
   "source": [
    "int(a) + int(b)"
   ]
  },
  {
   "cell_type": "code",
   "execution_count": 109,
   "id": "a57ceced",
   "metadata": {},
   "outputs": [
    {
     "data": {
      "text/plain": [
       "(10, 20)"
      ]
     },
     "execution_count": 109,
     "metadata": {},
     "output_type": "execute_result"
    }
   ],
   "source": [
    "# map() 함수 : 리스트 안에 있는 원소 모두를 일괄 적용할 때 사용\n",
    "a, b = map(int, [10, 20])\n",
    "a, b"
   ]
  },
  {
   "cell_type": "code",
   "execution_count": 110,
   "id": "0950c877",
   "metadata": {},
   "outputs": [
    {
     "data": {
      "text/plain": [
       "['abc', 'def']"
      ]
     },
     "execution_count": 110,
     "metadata": {},
     "output_type": "execute_result"
    }
   ],
   "source": [
    "'abc.def'.split('.')"
   ]
  },
  {
   "cell_type": "markdown",
   "id": "590af083",
   "metadata": {},
   "source": [
    "# 평균 점수 구하기"
   ]
  },
  {
   "cell_type": "code",
   "execution_count": 115,
   "id": "2b51672a",
   "metadata": {},
   "outputs": [
    {
     "name": "stdout",
     "output_type": "stream",
     "text": [
      "55\n",
      "65\n",
      "85\n"
     ]
    },
    {
     "data": {
      "text/plain": [
       "68"
      ]
     },
     "execution_count": 115,
     "metadata": {},
     "output_type": "execute_result"
    }
   ],
   "source": [
    "a = input()\n",
    "b = input()\n",
    "c = input()\n",
    "result = (int(a) + int(b) + int(c))/3\n",
    "int(result)"
   ]
  },
  {
   "cell_type": "code",
   "execution_count": 122,
   "id": "74f940d6",
   "metadata": {},
   "outputs": [
    {
     "name": "stdout",
     "output_type": "stream",
     "text": [
      "55 65 85\n"
     ]
    },
    {
     "data": {
      "text/plain": [
       "['55', '65', '85']"
      ]
     },
     "execution_count": 122,
     "metadata": {},
     "output_type": "execute_result"
    }
   ],
   "source": [
    "tmp = input()\n",
    "arr = tmp.split(' ')\n",
    "arr"
   ]
  },
  {
   "cell_type": "code",
   "execution_count": 133,
   "id": "403d8ab4",
   "metadata": {},
   "outputs": [
    {
     "data": {
      "text/plain": [
       "68"
      ]
     },
     "execution_count": 133,
     "metadata": {},
     "output_type": "execute_result"
    }
   ],
   "source": [
    "a, b, c = (map(int, tmp.split(' ')))\n",
    "result = (a + b + c) / 3\n",
    "int(result)"
   ]
  },
  {
   "cell_type": "markdown",
   "id": "ced2776b",
   "metadata": {},
   "source": [
    "# 국어 영어 수학 점수를 입력받아서 평균점수를 출력하라(정수형)"
   ]
  },
  {
   "cell_type": "code",
   "execution_count": 134,
   "id": "8bfb5330",
   "metadata": {},
   "outputs": [
    {
     "name": "stdout",
     "output_type": "stream",
     "text": [
      "55 65 85\n"
     ]
    },
    {
     "data": {
      "text/plain": [
       "68"
      ]
     },
     "execution_count": 134,
     "metadata": {},
     "output_type": "execute_result"
    }
   ],
   "source": [
    "tmp = input()\n",
    "a, b, c = map(int, tmp.split(' '))\n",
    "result = (a + b + c) / 3\n",
    "int(result)"
   ]
  },
  {
   "cell_type": "markdown",
   "id": "a46543bf",
   "metadata": {},
   "source": [
    " - print 옵션 sep"
   ]
  },
  {
   "cell_type": "code",
   "execution_count": 138,
   "id": "6654c4c3",
   "metadata": {},
   "outputs": [
    {
     "name": "stdout",
     "output_type": "stream",
     "text": [
      "556585\n",
      "55/65/85\n",
      "55-65-85\n"
     ]
    }
   ],
   "source": [
    "print(a, b, c, sep='')\n",
    "print(a, b, c, sep='/')\n",
    "print(a, b, c, sep='-')"
   ]
  },
  {
   "cell_type": "markdown",
   "id": "f213c176",
   "metadata": {},
   "source": [
    " - print 옵션 end"
   ]
  },
  {
   "cell_type": "code",
   "execution_count": 143,
   "id": "9e381947",
   "metadata": {},
   "outputs": [
    {
     "name": "stdout",
     "output_type": "stream",
     "text": [
      "55 65 85 11 22 33\n"
     ]
    }
   ],
   "source": [
    "print(a, b, c, end=' ')\n",
    "print(11, 22, 33)"
   ]
  },
  {
   "cell_type": "code",
   "execution_count": 145,
   "id": "4a5d7cdb",
   "metadata": {},
   "outputs": [
    {
     "name": "stdout",
     "output_type": "stream",
     "text": [
      "1\n",
      "2\n",
      "3\n",
      "1 2 3 5 6 7\n"
     ]
    }
   ],
   "source": [
    "print(1)\n",
    "print(2)\n",
    "print(3)\n",
    "\n",
    "print(1, 2, 3, end=' ')\n",
    "print(5, 6, 7)"
   ]
  },
  {
   "cell_type": "markdown",
   "id": "5004304a",
   "metadata": {},
   "source": [
    "# example"
   ]
  },
  {
   "cell_type": "markdown",
   "id": "f46b2424",
   "metadata": {},
   "source": [
    "**날짜와 시간 출력하기**\n",
    "2022/10/17 16:26:06"
   ]
  },
  {
   "cell_type": "code",
   "execution_count": 149,
   "id": "2ec6a5ab",
   "metadata": {},
   "outputs": [
    {
     "name": "stdout",
     "output_type": "stream",
     "text": [
      "2022/10/17 16:26:06\n"
     ]
    }
   ],
   "source": [
    "year = '2022'\n",
    "month = '10'\n",
    "day = '17'\n",
    "hour = '16'\n",
    "min = '26'\n",
    "sec = '06'\n",
    "\n",
    "print(year, month, day, sep='/', end=' ')\n",
    "print(hour, min, sec, sep=':')"
   ]
  },
  {
   "cell_type": "code",
   "execution_count": null,
   "id": "a6d0c986",
   "metadata": {},
   "outputs": [],
   "source": [
    "# 불린타입 (true/false)\n",
    "# 비교연산자\n",
    "# 논리연산자\n"
   ]
  },
  {
   "cell_type": "code",
   "execution_count": 151,
   "id": "ed00ae78",
   "metadata": {},
   "outputs": [
    {
     "ename": "SyntaxError",
     "evalue": "invalid syntax (144583616.py, line 1)",
     "output_type": "error",
     "traceback": [
      "\u001b[1;36m  Input \u001b[1;32mIn [151]\u001b[1;36m\u001b[0m\n\u001b[1;33m    10 == 10 && 10 !=5\u001b[0m\n\u001b[1;37m              ^\u001b[0m\n\u001b[1;31mSyntaxError\u001b[0m\u001b[1;31m:\u001b[0m invalid syntax\n"
     ]
    }
   ],
   "source": [
    "10 == 10 && 10 !=5"
   ]
  },
  {
   "cell_type": "code",
   "execution_count": 152,
   "id": "e6889041",
   "metadata": {},
   "outputs": [
    {
     "data": {
      "text/plain": [
       "True"
      ]
     },
     "execution_count": 152,
     "metadata": {},
     "output_type": "execute_result"
    }
   ],
   "source": [
    "10 == 10 and 10 != 5"
   ]
  },
  {
   "cell_type": "markdown",
   "id": "4c1001e6",
   "metadata": {},
   "source": [
    "#자료형 변환"
   ]
  },
  {
   "cell_type": "code",
   "execution_count": 153,
   "id": "19ecc89d",
   "metadata": {},
   "outputs": [
    {
     "data": {
      "text/plain": [
       "1"
      ]
     },
     "execution_count": 153,
     "metadata": {},
     "output_type": "execute_result"
    }
   ],
   "source": [
    "int(1.5)"
   ]
  },
  {
   "cell_type": "code",
   "execution_count": 154,
   "id": "d1e25549",
   "metadata": {},
   "outputs": [
    {
     "data": {
      "text/plain": [
       "1.0"
      ]
     },
     "execution_count": 154,
     "metadata": {},
     "output_type": "execute_result"
    }
   ],
   "source": [
    "float(1)"
   ]
  },
  {
   "cell_type": "code",
   "execution_count": 155,
   "id": "f0c785fb",
   "metadata": {},
   "outputs": [
    {
     "data": {
      "text/plain": [
       "'2'"
      ]
     },
     "execution_count": 155,
     "metadata": {},
     "output_type": "execute_result"
    }
   ],
   "source": [
    "str(2)"
   ]
  },
  {
   "cell_type": "markdown",
   "id": "cfdcc4e4",
   "metadata": {},
   "source": [
    "# WorkShop"
   ]
  },
  {
   "cell_type": "markdown",
   "id": "92cb6f3c",
   "metadata": {},
   "source": [
    "합격 여부 출력하기\n",
    " - 국어 영어 수학 과학 점수가 있을 때 한 과목이라도 50점 미만이면 불합격\n",
    "    다음 코드를 완성하여 합격이면 True, 불합격이면 False 가 출력되게 하시오"
   ]
  },
  {
   "cell_type": "code",
   "execution_count": 161,
   "id": "83026aeb",
   "metadata": {},
   "outputs": [
    {
     "name": "stdout",
     "output_type": "stream",
     "text": [
      "False\n"
     ]
    },
    {
     "data": {
      "text/plain": [
       "92"
      ]
     },
     "execution_count": 161,
     "metadata": {},
     "output_type": "execute_result"
    }
   ],
   "source": [
    "korean = 92\n",
    "english = 47\n",
    "mathmatics = 86\n",
    "science = 81\n",
    "\n",
    "if korean or english or mathmatics or science < 50:\n",
    "    print('False')\n",
    "else:\n",
    "    print('True')\n"
   ]
  },
  {
   "cell_type": "code",
   "execution_count": 162,
   "id": "8e1f741f",
   "metadata": {},
   "outputs": [],
   "source": [
    "is_pass = [korean >= 50, english >= 50, mathmatics >= 50, science >= 50]"
   ]
  },
  {
   "cell_type": "code",
   "execution_count": 163,
   "id": "802428c4",
   "metadata": {},
   "outputs": [
    {
     "data": {
      "text/plain": [
       "False"
      ]
     },
     "execution_count": 163,
     "metadata": {},
     "output_type": "execute_result"
    }
   ],
   "source": [
    "all(is_pass)"
   ]
  },
  {
   "cell_type": "code",
   "execution_count": 164,
   "id": "48003b1d",
   "metadata": {},
   "outputs": [
    {
     "data": {
      "text/plain": [
       "True"
      ]
     },
     "execution_count": 164,
     "metadata": {},
     "output_type": "execute_result"
    }
   ],
   "source": [
    "any(is_pass)"
   ]
  },
  {
   "cell_type": "code",
   "execution_count": 165,
   "id": "6b43940e",
   "metadata": {},
   "outputs": [
    {
     "data": {
      "text/plain": [
       "[True, False, True, True]"
      ]
     },
     "execution_count": 165,
     "metadata": {},
     "output_type": "execute_result"
    }
   ],
   "source": [
    "is_pass"
   ]
  },
  {
   "cell_type": "markdown",
   "id": "8cf1ba76",
   "metadata": {},
   "source": [
    "# WorkShop"
   ]
  },
  {
   "cell_type": "markdown",
   "id": "71eb1326",
   "metadata": {},
   "source": [
    "\"Python is a programming language\"\n",
    "that lets you work quicky\n",
    "and\n",
    "intergrate systems more effectively"
   ]
  },
  {
   "cell_type": "code",
   "execution_count": 169,
   "id": "562622ac",
   "metadata": {},
   "outputs": [
    {
     "name": "stdout",
     "output_type": "stream",
     "text": [
      "'Python' is a programming language\n"
     ]
    }
   ],
   "source": [
    "s = \"\"\"'Python' is a programming language\"\"\"\n",
    "print(s)"
   ]
  },
  {
   "cell_type": "markdown",
   "id": "84947d44",
   "metadata": {},
   "source": [
    "# List and Tuple"
   ]
  },
  {
   "cell_type": "code",
   "execution_count": 179,
   "id": "f6a413b4",
   "metadata": {},
   "outputs": [
    {
     "data": {
      "text/plain": [
       "[10, 9, 8, 7, 6, 5, 4, 3, 2, 1]"
      ]
     },
     "execution_count": 179,
     "metadata": {},
     "output_type": "execute_result"
    }
   ],
   "source": [
    "d = list(range(10, 0, -1))\n",
    "d"
   ]
  },
  {
   "cell_type": "code",
   "execution_count": null,
   "id": "36a29c77",
   "metadata": {},
   "outputs": [],
   "source": [
    "a = list(range(5, -10, -2))\n",
    "a"
   ]
  },
  {
   "cell_type": "code",
   "execution_count": 173,
   "id": "94756b21",
   "metadata": {},
   "outputs": [],
   "source": [
    "a = (a)"
   ]
  },
  {
   "cell_type": "code",
   "execution_count": 197,
   "id": "a4fd4033",
   "metadata": {},
   "outputs": [
    {
     "name": "stdout",
     "output_type": "stream",
     "text": [
      "2\n"
     ]
    },
    {
     "data": {
      "text/plain": [
       "(-10, -8, -6, -4, -2, 0, 2, 4, 6, 8)"
      ]
     },
     "execution_count": 197,
     "metadata": {},
     "output_type": "execute_result"
    }
   ],
   "source": [
    "a = int(input())\n",
    "b = list(range(-10, 10, a))\n",
    "c = tuple(b)\n",
    "c"
   ]
  },
  {
   "cell_type": "code",
   "execution_count": 198,
   "id": "ec960aa5",
   "metadata": {},
   "outputs": [
    {
     "data": {
      "text/plain": [
       "range(0, 5)"
      ]
     },
     "execution_count": 198,
     "metadata": {},
     "output_type": "execute_result"
    }
   ],
   "source": [
    "range(5)"
   ]
  },
  {
   "cell_type": "markdown",
   "id": "35da0dd6",
   "metadata": {},
   "source": [
    "# WorkShop"
   ]
  },
  {
   "cell_type": "markdown",
   "id": "95fdf3d7",
   "metadata": {},
   "source": [
    "**최근 3년간 연구 출력하기**\n",
    " - 리스트 year에 연도, population에 서울시 인구수가 저장되어 있습니다.\n",
    " - 아래 소스 코드를 완성하여 최근 3년간 연도와 인구수를 리스트로 출력되게 만드세요"
   ]
  },
  {
   "cell_type": "code",
   "execution_count": 226,
   "id": "25ffad90",
   "metadata": {},
   "outputs": [
    {
     "name": "stdout",
     "output_type": "stream",
     "text": [
      "[2016, 2017, 2018]\n",
      "[9930616, 9857426, 9838892]\n"
     ]
    }
   ],
   "source": [
    "year = [2011, 2012, 2013, 2014, 2015, 2016, 2017, 2018]\n",
    "population = [10249679, 10195318, 10143645, 10103233, 10022181, 9930616, 9857426, 9838892]\n",
    "print(year[-3:])\n",
    "print(population[-3:])\n"
   ]
  },
  {
   "cell_type": "code",
   "execution_count": 231,
   "id": "17745f39",
   "metadata": {},
   "outputs": [
    {
     "data": {
      "text/plain": [
       "[(2016, 9930616), (2017, 9857426), (2018, 9838892)]"
      ]
     },
     "execution_count": 231,
     "metadata": {},
     "output_type": "execute_result"
    }
   ],
   "source": [
    "list(zip(year[-3:], population[-3:]))"
   ]
  },
  {
   "cell_type": "markdown",
   "id": "2a2bccaf",
   "metadata": {},
   "source": [
    "**인덱스가 홀수인 요소 출력하기**\n",
    "- 다음 소스 코드를 완성하여 튜플 n에서 인덱스가 홀수인 요소들이 출력되게 만드세요.\n"
   ]
  },
  {
   "cell_type": "code",
   "execution_count": 216,
   "id": "3b3773fe",
   "metadata": {},
   "outputs": [],
   "source": [
    "n = -32, 75, 97, -10, 9, 32, 4, -15, 0, 76, 14, 2"
   ]
  },
  {
   "cell_type": "code",
   "execution_count": 217,
   "id": "08d9efe4",
   "metadata": {},
   "outputs": [
    {
     "name": "stdout",
     "output_type": "stream",
     "text": [
      "(75, -10, 32, -15, 76, 2)\n"
     ]
    }
   ],
   "source": [
    "result = n[1::2]\n",
    "print(result)"
   ]
  },
  {
   "cell_type": "markdown",
   "id": "8a731d25",
   "metadata": {},
   "source": [
    "**리스트의 마지막 요소 5개 삭제하기**\n",
    "- 표준 입력으로 숫자 또는 문자열 여러개가 입력되어 리스트 x에 저장됩니다(입력되는 숫자 또는 문자열의 개수는 정해져 있지 않음).\n",
    "- 리스트 x의 마지막 요소 5개를 삭제한 뒤 튜플로 출력되게 만드세요."
   ]
  },
  {
   "cell_type": "code",
   "execution_count": 224,
   "id": "e87e5aaa",
   "metadata": {},
   "outputs": [
    {
     "name": "stdout",
     "output_type": "stream",
     "text": [
      "2 3 4 5 6 7 8 9\n"
     ]
    },
    {
     "data": {
      "text/plain": [
       "['2', '3', '4']"
      ]
     },
     "execution_count": 224,
     "metadata": {},
     "output_type": "execute_result"
    }
   ],
   "source": [
    "x = input().split(' ')\n",
    "for i in range(len(x)-1, len(x)-6, -1):\n",
    "    del x[i]\n",
    "    \n",
    "tuple_x = tuple(x)\n",
    "x"
   ]
  },
  {
   "cell_type": "code",
   "execution_count": 228,
   "id": "fbda66f1",
   "metadata": {},
   "outputs": [
    {
     "name": "stdout",
     "output_type": "stream",
     "text": [
      "1 2 3 4 5 6 7 8\n"
     ]
    },
    {
     "data": {
      "text/plain": [
       "['1', '2', '3']"
      ]
     },
     "execution_count": 228,
     "metadata": {},
     "output_type": "execute_result"
    }
   ],
   "source": [
    "x = input().split(' ')\n",
    "del x[-5:]\n",
    "x"
   ]
  },
  {
   "cell_type": "markdown",
   "id": "981e41dd",
   "metadata": {},
   "source": [
    "**주민번호로 성별 구분하기**\n",
    "- 아래와 같은 홍길동씨의 주민번호를 대쉬(-) 기호 전후로 쪼개보자. 성별이 남자면 'male', 여자면 'female'을 출력하세요."
   ]
  },
  {
   "cell_type": "code",
   "execution_count": 251,
   "id": "19066f78",
   "metadata": {},
   "outputs": [
    {
     "name": "stdout",
     "output_type": "stream",
     "text": [
      "male\n"
     ]
    }
   ],
   "source": [
    "pin = '881204-1068234'\n",
    "pin = pin.split('-')\n",
    "\n",
    "first = pin[0]\n",
    "second = pin[1]\n",
    "if second[0] == '1':\n",
    "    print('male')\n",
    "else:\n",
    "    print('female')"
   ]
  },
  {
   "cell_type": "markdown",
   "id": "c10934fe",
   "metadata": {},
   "source": [
    "**핸드폰 번호 가리기**\n",
    "- 전화번호가 문자열 phone_number로 주어졌을 때, 전화번호의 뒷 4자리를 제외한 나머지 숫자를 전부 *으로 가린 문자열을 출력하세요.\n",
    "- 제한 조건\n",
    "- s는 길이 4 이상, 20이하인 문자열입니다.\n",
    "- 입출력 예\n",
    "```\n",
    "phone_number 출력문자열\n",
    "\"01033334444\" \"*******4444\"\n",
    "\"027778888\" \"*****8888\"\n",
    "```"
   ]
  },
  {
   "cell_type": "code",
   "execution_count": 249,
   "id": "485c06fb",
   "metadata": {},
   "outputs": [
    {
     "name": "stdout",
     "output_type": "stream",
     "text": [
      "01044457841\n",
      "0104445\n",
      "7841\n"
     ]
    }
   ],
   "source": [
    "num = input()\n",
    "left = num[0:len(num)-4]\n",
    "right = num[-4:]\n",
    "print(left)\n",
    "print(right)"
   ]
  },
  {
   "cell_type": "code",
   "execution_count": 242,
   "id": "22fcee46",
   "metadata": {},
   "outputs": [
    {
     "data": {
      "text/plain": [
       "'0104568****'"
      ]
     },
     "execution_count": 242,
     "metadata": {},
     "output_type": "execute_result"
    }
   ],
   "source": [
    "right = '****'\n",
    "left+right"
   ]
  },
  {
   "cell_type": "code",
   "execution_count": 250,
   "id": "f5991876",
   "metadata": {},
   "outputs": [
    {
     "name": "stdout",
     "output_type": "stream",
     "text": [
      "01045674568\n"
     ]
    },
    {
     "data": {
      "text/plain": [
       "'*******4568'"
      ]
     },
     "execution_count": 250,
     "metadata": {},
     "output_type": "execute_result"
    }
   ],
   "source": [
    "num = input()\n",
    "left = num[0:len(num)-4]\n",
    "right = num[-4:]\n",
    "result = num.replace(left, '*'*len(left))\n",
    "result"
   ]
  },
  {
   "cell_type": "code",
   "execution_count": 254,
   "id": "378e8dfc",
   "metadata": {},
   "outputs": [
    {
     "data": {
      "text/plain": [
       "dict"
      ]
     },
     "execution_count": 254,
     "metadata": {},
     "output_type": "execute_result"
    }
   ],
   "source": [
    "tmp_dict = {1: 222, 2: 555}\n",
    "type(tmp_dict)"
   ]
  },
  {
   "cell_type": "markdown",
   "id": "3f17a4ea",
   "metadata": {},
   "source": [
    "**빈 딕셔너리 만들기**\n",
    " - 딕셔너리 = {}\n",
    " - 딕셔너리 = dict()"
   ]
  },
  {
   "cell_type": "code",
   "execution_count": 256,
   "id": "ec9c2ad4",
   "metadata": {},
   "outputs": [
    {
     "data": {
      "text/plain": [
       "dict"
      ]
     },
     "execution_count": 256,
     "metadata": {},
     "output_type": "execute_result"
    }
   ],
   "source": [
    "x = dict()\n",
    "type(x)"
   ]
  },
  {
   "cell_type": "code",
   "execution_count": 260,
   "id": "72cd7ba5",
   "metadata": {},
   "outputs": [
    {
     "data": {
      "text/plain": [
       "{'health': 490, 'melee': 34, 'armor': 22}"
      ]
     },
     "execution_count": 260,
     "metadata": {},
     "output_type": "execute_result"
    }
   ],
   "source": [
    "dict(zip(['health', 'melee', 'armor'], [490, 34, 22]))"
   ]
  },
  {
   "cell_type": "markdown",
   "id": "8ce8d2d0",
   "metadata": {},
   "source": [
    "# WorkShop"
   ]
  },
  {
   "cell_type": "markdown",
   "id": "fb51b7ac",
   "metadata": {},
   "source": [
    "**교통 카드 시스템 만들기**\n",
    "표준 입력으로 나이(만 나이)가 입력됩니다(입력 값은 7 이상 입력됨). 교통카드 시스템에서 시내버스 요금은 다음과 같으며 각 나이에 맞게 요금을 차감한 뒤 잔액이 출력되게 만드세요(if, elif 사용). 현재 교통카드에는 9,000원이 들어있습니다.\n",
    "- 어린이(초등학생, 만 7세 이상 12세 이하): 650원\n",
    "- 청소년(중∙고등학생, 만 13세 이상 18세 이하): 1,050원\n",
    "- 어른(일반, 만 19세 이상): 1,250원\n",
    "```\n",
    "age = int(input())\n",
    "balance = 9000 # 교통카드 잔액\n",
    "________________\n",
    "________________\n",
    "________________\n",
    "print(balance)\n",
    "```"
   ]
  },
  {
   "cell_type": "code",
   "execution_count": 279,
   "id": "d4b669ad",
   "metadata": {},
   "outputs": [
    {
     "name": "stdout",
     "output_type": "stream",
     "text": [
      "22\n",
      "7750\n"
     ]
    }
   ],
   "source": [
    "balance = 9000\n",
    "kid = 650\n",
    "mid = 1050\n",
    "adult = 1250\n",
    "\n",
    "age = int(input())\n",
    "\n",
    "if 7 <= age <= 12:\n",
    "    balance -= kid\n",
    "elif 12 < age < 19:\n",
    "    balance -= mid\n",
    "elif age >= 19:\n",
    "    balance -= adult\n",
    "else:\n",
    "    balance\n",
    "\n",
    "print(balance)"
   ]
  },
  {
   "cell_type": "markdown",
   "id": "39570dae",
   "metadata": {},
   "source": [
    "**게임 캐릭터 능력 저장**\n",
    "- 표준 입력으로 문자열 여러 개와 숫자(실수) 여러 개가 두 줄로 입력됩니다. 입력된 첫 번째 줄은 키, 두 번째 줄은 값으로 하여 딕셔너리를 생성한 뒤 딕셔너리를 출력하는 프로그램을 만드세요. input().split()의 결과를 변수 한개에 저장하면 리스트로 저장됩니다.\n",
    "```\n",
    "(입력예)\n",
    "health health_regen mana mana_regen\n",
    "575.6 1.7 338.8 1.63\n",
    "(결과)\n",
    "{'health':575.6, 'health_regen':1.7, 'mana':338.8, 'mana_regen':1.63}\n",
    "```"
   ]
  },
  {
   "cell_type": "code",
   "execution_count": 277,
   "id": "f53f2cd9",
   "metadata": {},
   "outputs": [
    {
     "name": "stdout",
     "output_type": "stream",
     "text": [
      "aaa bbb ccc ddd\n",
      "123 333 2.1 559\n",
      "['aaa', 'bbb', 'ccc', 'ddd']\n",
      "['123', '333', '2.1', '559']\n",
      "{'aaa': '123', 'bbb': '333', 'ccc': '2.1', 'ddd': '559'}\n"
     ]
    }
   ],
   "source": [
    "tmp_key = input().split()\n",
    "tmp_val = input().split()\n",
    "\n",
    "result = dict(zip(tmp_key, tmp_val))\n",
    "print(tmp_key)\n",
    "print(tmp_val)\n",
    "print(result)"
   ]
  },
  {
   "cell_type": "markdown",
   "id": "91d0690b",
   "metadata": {},
   "source": [
    "# for 반복문"
   ]
  },
  {
   "cell_type": "code",
   "execution_count": 3,
   "id": "7e5e61af",
   "metadata": {
    "scrolled": true
   },
   "outputs": [
    {
     "name": "stdout",
     "output_type": "stream",
     "text": [
      "Hello World!\n",
      "Hello World!\n",
      "Hello World!\n",
      "Hello World!\n",
      "Hello World!\n",
      "Hello World!\n",
      "Hello World!\n",
      "Hello World!\n",
      "Hello World!\n",
      "Hello World!\n"
     ]
    }
   ],
   "source": [
    "for i in range(0,10,1):\n",
    "    print('Hello World!')"
   ]
  },
  {
   "cell_type": "markdown",
   "id": "01d27e6b",
   "metadata": {},
   "source": [
    " - 참고\n",
    " - enumerate 의 경우 i 만 가져오는게 아니라\n",
    " - var1에 인덱스, var2에 i값 반환"
   ]
  },
  {
   "cell_type": "code",
   "execution_count": 5,
   "id": "f521b473",
   "metadata": {
    "scrolled": true
   },
   "outputs": [
    {
     "name": "stdout",
     "output_type": "stream",
     "text": [
      "Hello Wordl! 0 0\n",
      "Hello Wordl! 1 2\n",
      "Hello Wordl! 2 4\n",
      "Hello Wordl! 3 6\n",
      "Hello Wordl! 4 8\n"
     ]
    }
   ],
   "source": [
    "for var1, var2 in enumerate(range(0, 10, 2)):\n",
    "    print('Hello Wordl!', var1, var2)"
   ]
  },
  {
   "cell_type": "markdown",
   "id": "30a7afd9",
   "metadata": {},
   "source": [
    " - for 변수 in 시퀀스객체(문자열, 리스트, 튜플) 형태로도 사용 가능하다"
   ]
  },
  {
   "cell_type": "code",
   "execution_count": 6,
   "id": "0e999fb2",
   "metadata": {},
   "outputs": [
    {
     "name": "stdout",
     "output_type": "stream",
     "text": [
      "H\n",
      "e\n",
      "l\n",
      "l\n",
      "o\n"
     ]
    }
   ],
   "source": [
    "for i in \"Hello\":\n",
    "    print(i)"
   ]
  },
  {
   "cell_type": "code",
   "execution_count": 8,
   "id": "749a2e5d",
   "metadata": {},
   "outputs": [
    {
     "name": "stdout",
     "output_type": "stream",
     "text": [
      "1\n",
      "2\n",
      "3\n"
     ]
    }
   ],
   "source": [
    "for i in [1,2,3]:\n",
    "    print(i)"
   ]
  },
  {
   "cell_type": "code",
   "execution_count": 9,
   "id": "da1641c0",
   "metadata": {},
   "outputs": [
    {
     "name": "stdout",
     "output_type": "stream",
     "text": [
      "0 H\n",
      "1 e\n",
      "2 l\n",
      "3 l\n",
      "4 o\n"
     ]
    }
   ],
   "source": [
    "for i, v in enumerate(\"Hello\"):\n",
    "    print(i, v)"
   ]
  },
  {
   "cell_type": "markdown",
   "id": "d3716c9d",
   "metadata": {},
   "source": [
    " - 표준 입력으로 정수가 입력됩니다. 입력된 정수의 구구단을 출력하는 프로그램을 만드세요.\n",
    "    출력 형식은 숫자 * 숫자 = 숫자"
   ]
  },
  {
   "cell_type": "code",
   "execution_count": 18,
   "id": "248e393c",
   "metadata": {},
   "outputs": [
    {
     "name": "stdout",
     "output_type": "stream",
     "text": [
      "2\n",
      "2 * 1 = 2\n",
      "2 * 2 = 4\n",
      "2 * 3 = 6\n",
      "2 * 4 = 8\n",
      "2 * 5 = 10\n",
      "2 * 6 = 12\n",
      "2 * 7 = 14\n",
      "2 * 8 = 16\n",
      "2 * 9 = 18\n"
     ]
    }
   ],
   "source": [
    "num = int(input())\n",
    "for i in range(1,10):\n",
    "    print(num,\"*\", i, \"=\", num * i)"
   ]
  },
  {
   "cell_type": "markdown",
   "id": "32ed9bdb",
   "metadata": {},
   "source": [
    " - Option2 format 서식지정자"
   ]
  },
  {
   "cell_type": "code",
   "execution_count": 20,
   "id": "c4387f8f",
   "metadata": {},
   "outputs": [
    {
     "name": "stdout",
     "output_type": "stream",
     "text": [
      "2\n",
      "2 * 1 = 2\n",
      "2 * 2 = 4\n",
      "2 * 3 = 6\n",
      "2 * 4 = 8\n",
      "2 * 5 = 10\n",
      "2 * 6 = 12\n",
      "2 * 7 = 14\n",
      "2 * 8 = 16\n",
      "2 * 9 = 18\n"
     ]
    }
   ],
   "source": [
    "x = int(input())\n",
    "\n",
    "for y in range(1,10):\n",
    "    print(\"%d * %d = %d\" % (x, y, x*y))"
   ]
  },
  {
   "cell_type": "markdown",
   "id": "f2456ba6",
   "metadata": {},
   "source": [
    " - Option3"
   ]
  },
  {
   "cell_type": "code",
   "execution_count": 22,
   "id": "80df6af1",
   "metadata": {},
   "outputs": [
    {
     "name": "stdout",
     "output_type": "stream",
     "text": [
      "1\n",
      "1 * 1 = 1\n",
      "1 * 2 = 2\n",
      "1 * 3 = 3\n",
      "1 * 4 = 4\n",
      "1 * 5 = 5\n",
      "1 * 6 = 6\n",
      "1 * 7 = 7\n",
      "1 * 8 = 8\n",
      "1 * 9 = 9\n"
     ]
    }
   ],
   "source": [
    "x = int(input())\n",
    "\n",
    "for y in range(1,10):\n",
    "    print(f\"{x} * {y} = {x*y}\")"
   ]
  },
  {
   "cell_type": "markdown",
   "id": "0f21e02a",
   "metadata": {},
   "source": [
    "# while 반복문"
   ]
  },
  {
   "cell_type": "code",
   "execution_count": 24,
   "id": "a9b6ed42",
   "metadata": {},
   "outputs": [
    {
     "name": "stdout",
     "output_type": "stream",
     "text": [
      "0\n",
      "1\n",
      "2\n",
      "3\n",
      "4\n",
      "5\n",
      "6\n",
      "7\n",
      "8\n",
      "9\n"
     ]
    }
   ],
   "source": [
    "i = 0\n",
    "while(i < 10):\n",
    "    print(i)\n",
    "    i += 1"
   ]
  },
  {
   "cell_type": "markdown",
   "id": "f1926697",
   "metadata": {},
   "source": [
    "# WorkShop"
   ]
  },
  {
   "cell_type": "markdown",
   "id": "df86b44f",
   "metadata": {},
   "source": [
    " - 주사위 던지고 눈을 출력하는 동작을 계속 반복하다가\n",
    " - 3이 나왔을 때 멈추기"
   ]
  },
  {
   "cell_type": "code",
   "execution_count": 60,
   "id": "9e16fc37",
   "metadata": {},
   "outputs": [
    {
     "name": "stdout",
     "output_type": "stream",
     "text": [
      "2\n",
      "4\n",
      "4\n",
      "1\n",
      "2\n",
      "5\n",
      "5\n",
      "1\n",
      "6\n",
      "2\n",
      "3\n"
     ]
    }
   ],
   "source": [
    "import random\n",
    "x = 0\n",
    "while(x != 3):\n",
    "    x = random.randint(1,6)\n",
    "    print(x)"
   ]
  },
  {
   "cell_type": "markdown",
   "id": "c28496e9",
   "metadata": {},
   "source": [
    "### 교통카드 잔액 출력하기\n",
    " - 표준입력으로 금액이 입력됩니다. 1회당 요금은 1,350이고 교통카드를 사용했을 때마다의 잔액을 각 줄에 출력하는 프로그램을 만드세요\n",
    " 잔액은 음수가 될 수 없으며 잔액이 부족하면 출력종료"
   ]
  },
  {
   "cell_type": "code",
   "execution_count": 65,
   "id": "58562978",
   "metadata": {},
   "outputs": [
    {
     "name": "stdout",
     "output_type": "stream",
     "text": [
      "26000\n",
      "24650\n",
      "23300\n",
      "21950\n",
      "20600\n",
      "19250\n",
      "17900\n",
      "16550\n",
      "15200\n",
      "13850\n",
      "12500\n",
      "11150\n",
      "9800\n",
      "8450\n",
      "7100\n",
      "5750\n",
      "4400\n",
      "3050\n",
      "1700\n",
      "350\n"
     ]
    }
   ],
   "source": [
    "balance = int(input())\n",
    "fee = 1350\n",
    "\n",
    "while(balance >= fee):\n",
    "    balance -= fee\n",
    "    print(balance)"
   ]
  },
  {
   "cell_type": "markdown",
   "id": "32012687",
   "metadata": {},
   "source": [
    "### 3으로 끝나는 숫자만 출력하기\n",
    " - 0과 73사이의 숫자 중 3으로 끝나는 숫자만 출력하세요"
   ]
  },
  {
   "cell_type": "code",
   "execution_count": 68,
   "id": "51829d10",
   "metadata": {},
   "outputs": [
    {
     "name": "stdout",
     "output_type": "stream",
     "text": [
      "3\n",
      "13\n",
      "23\n",
      "33\n",
      "43\n",
      "53\n",
      "63\n",
      "73\n"
     ]
    }
   ],
   "source": [
    "start = 0\n",
    "end = 73\n",
    "i = 0\n",
    "while(i <= end):\n",
    "    if (i % 10 == 3):\n",
    "        print(i)\n",
    "    i += 1"
   ]
  },
  {
   "cell_type": "markdown",
   "id": "ed15c3bd",
   "metadata": {},
   "source": [
    "**알파벳별 빈도 사전 등록**\n",
    "- 다음의 주어진 문자열 s에서 알파벳 별 빈도를 사전형인 d에 등록하는 파이썬 코드블럭을 작성하시오. \n",
    "\n",
    "```\n",
    "s = ‘life is short, so python is easy.’ \n",
    "punct = ‘,. ’ \n",
    "d = {} \n",
    "\n",
    "결과 print(d) (순서는 상관 없음)\n",
    "{'a': 1, 'e': 2, 'f': 1, 'i': 3, 'h': 2, 'l': 1, 'o': 3, 'n': 1, 'p': 1, 's': 5, 'r': 1, 't': 2, 'y': 2}\n",
    "\n",
    "```"
   ]
  },
  {
   "cell_type": "code",
   "execution_count": 98,
   "id": "13e82025",
   "metadata": {},
   "outputs": [
    {
     "name": "stdout",
     "output_type": "stream",
     "text": [
      "life is short, so python is easy.\n",
      "{'l': 1, 'i': 3, 'f': 1, 'e': 2, 's': 5, 'h': 2, 'o': 3, 'r': 1, 't': 2, 'p': 1, 'y': 2, 'n': 1, 'a': 1}\n"
     ]
    }
   ],
   "source": [
    "s = 'life is short, so python is easy.'\n",
    "# s = s.replace(' ', '').replace(',', '').replace('.', '')\n",
    "punct = ',. '\n",
    "# print(s)\n",
    "d = {}\n",
    "for c in s:\n",
    "    if c in punct:\n",
    "        continue\n",
    "    if c not in d:\n",
    "        d[c] = 1\n",
    "    else:\n",
    "        d[c] += 1\n",
    "\n",
    "print(d)\n"
   ]
  },
  {
   "cell_type": "markdown",
   "id": "72602f67",
   "metadata": {},
   "source": [
    "### 계단식 별 출력(1)"
   ]
  },
  {
   "cell_type": "code",
   "execution_count": 113,
   "id": "b831741d",
   "metadata": {},
   "outputs": [
    {
     "name": "stdout",
     "output_type": "stream",
     "text": [
      "*\n",
      "**\n",
      "***\n",
      "****\n",
      "*****\n"
     ]
    }
   ],
   "source": [
    "for i in range(1, 6):\n",
    "    print('*' * i)\n"
   ]
  },
  {
   "cell_type": "markdown",
   "id": "f90bb3d7",
   "metadata": {},
   "source": [
    "### 계단식 별 출력(2)"
   ]
  },
  {
   "cell_type": "code",
   "execution_count": 112,
   "id": "eb804a21",
   "metadata": {
    "scrolled": true
   },
   "outputs": [
    {
     "name": "stdout",
     "output_type": "stream",
     "text": [
      "*****\n",
      "****\n",
      "***\n",
      "**\n",
      "*\n"
     ]
    }
   ],
   "source": [
    "for i in range(5, 0, -1):\n",
    "    print('*' * i)"
   ]
  },
  {
   "cell_type": "code",
   "execution_count": 133,
   "id": "b6418bac",
   "metadata": {},
   "outputs": [
    {
     "name": "stdout",
     "output_type": "stream",
     "text": [
      "*****\n",
      "o****\n",
      "oo***\n",
      "ooo**\n",
      "oooo*\n"
     ]
    }
   ],
   "source": [
    "for i in range(5):\n",
    "    for j in range(i):\n",
    "        print('o', end = '')\n",
    "    \n",
    "    for k in range(5-i):\n",
    "        print('*', end = '')\n",
    "    print()"
   ]
  },
  {
   "cell_type": "markdown",
   "id": "24a00201",
   "metadata": {},
   "source": [
    "### 계단식 별 출력(3)"
   ]
  },
  {
   "cell_type": "code",
   "execution_count": 115,
   "id": "f9cef26b",
   "metadata": {},
   "outputs": [
    {
     "name": "stdout",
     "output_type": "stream",
     "text": [
      " *****\n",
      "  ****\n",
      "   ***\n",
      "    **\n",
      "     *\n"
     ]
    }
   ],
   "source": [
    "for i in range(5):\n",
    "    print(' ' * i, '*' * (5 - i))"
   ]
  },
  {
   "cell_type": "code",
   "execution_count": 136,
   "id": "d4a07f1d",
   "metadata": {},
   "outputs": [
    {
     "name": "stdout",
     "output_type": "stream",
     "text": [
      "*****\n",
      " ****\n",
      "  ***\n",
      "   **\n",
      "    *\n"
     ]
    }
   ],
   "source": [
    "for i in range(5):\n",
    "    for j in range(i):\n",
    "        print(' ', end = '')\n",
    "    \n",
    "    for k in range(5-i):\n",
    "        print('*', end = '')\n",
    "    print()"
   ]
  },
  {
   "cell_type": "markdown",
   "id": "b59c9a0c",
   "metadata": {},
   "source": [
    "### 별 출력하기(4)"
   ]
  },
  {
   "cell_type": "code",
   "execution_count": 117,
   "id": "2f3b3b5f",
   "metadata": {},
   "outputs": [
    {
     "name": "stdout",
     "output_type": "stream",
     "text": [
      "     *\n",
      "    ***\n",
      "   *****\n",
      "  *******\n",
      " *********\n"
     ]
    }
   ],
   "source": [
    "for i in range(1,6):\n",
    "    print(' ' * (5 - i), '*' * (2 * i - 1))"
   ]
  },
  {
   "cell_type": "code",
   "execution_count": 139,
   "id": "e2e85227",
   "metadata": {},
   "outputs": [
    {
     "name": "stdout",
     "output_type": "stream",
     "text": [
      "     *\n",
      "    ***\n",
      "   *****\n",
      "  *******\n",
      " *********\n"
     ]
    }
   ],
   "source": [
    "for i in range(5):\n",
    "    for j in range(5-i):\n",
    "        print(' ', end = '')\n",
    "    for k in range(2 * i + 1):\n",
    "        print('*', end = '')\n",
    "    print()"
   ]
  },
  {
   "cell_type": "markdown",
   "id": "a94e4b9b",
   "metadata": {},
   "source": [
    "### FizzBuzz 문제\n",
    " - 1에서 100까지 출력\n",
    " - 3의 배수는 Fizz 출력\n",
    " - 5의 배수는 Buzz 출력\n",
    " - 3과 5의 공배수는 FizzBuzz 출력"
   ]
  },
  {
   "cell_type": "code",
   "execution_count": 143,
   "id": "cbe3875d",
   "metadata": {
    "collapsed": true
   },
   "outputs": [
    {
     "name": "stdout",
     "output_type": "stream",
     "text": [
      "1\n",
      "2\n",
      "Fizz\n",
      "4\n",
      "Buzz\n",
      "Fizz\n",
      "7\n",
      "8\n",
      "Fizz\n",
      "Buzz\n",
      "11\n",
      "Fizz\n",
      "13\n",
      "14\n",
      "FizzBuzz\n",
      "16\n",
      "17\n",
      "Fizz\n",
      "19\n",
      "Buzz\n",
      "Fizz\n",
      "22\n",
      "23\n",
      "Fizz\n",
      "Buzz\n",
      "26\n",
      "Fizz\n",
      "28\n",
      "29\n",
      "FizzBuzz\n",
      "31\n",
      "32\n",
      "Fizz\n",
      "34\n",
      "Buzz\n",
      "Fizz\n",
      "37\n",
      "38\n",
      "Fizz\n",
      "Buzz\n",
      "41\n",
      "Fizz\n",
      "43\n",
      "44\n",
      "FizzBuzz\n",
      "46\n",
      "47\n",
      "Fizz\n",
      "49\n",
      "Buzz\n",
      "Fizz\n",
      "52\n",
      "53\n",
      "Fizz\n",
      "Buzz\n",
      "56\n",
      "Fizz\n",
      "58\n",
      "59\n",
      "FizzBuzz\n",
      "61\n",
      "62\n",
      "Fizz\n",
      "64\n",
      "Buzz\n",
      "Fizz\n",
      "67\n",
      "68\n",
      "Fizz\n",
      "Buzz\n",
      "71\n",
      "Fizz\n",
      "73\n",
      "74\n",
      "FizzBuzz\n",
      "76\n",
      "77\n",
      "Fizz\n",
      "79\n",
      "Buzz\n",
      "Fizz\n",
      "82\n",
      "83\n",
      "Fizz\n",
      "Buzz\n",
      "86\n",
      "Fizz\n",
      "88\n",
      "89\n",
      "FizzBuzz\n",
      "91\n",
      "92\n",
      "Fizz\n",
      "94\n",
      "Buzz\n",
      "Fizz\n",
      "97\n",
      "98\n",
      "Fizz\n",
      "Buzz\n"
     ]
    }
   ],
   "source": [
    "for i in range(1, 101):\n",
    "    if (i % 15 == 0):\n",
    "        print('FizzBuzz')\n",
    "    elif (i % 3 == 0):\n",
    "        print('Fizz')\n",
    "    elif (i % 5 == 0):\n",
    "        print('Buzz')\n",
    "    else:\n",
    "        print(i)"
   ]
  },
  {
   "cell_type": "markdown",
   "id": "3d61ea5e",
   "metadata": {},
   "source": [
    "# List 다루기\n",
    " - append, extend, insert"
   ]
  },
  {
   "cell_type": "markdown",
   "id": "38ebfd6a",
   "metadata": {},
   "source": [
    " - a list + b list = 는 a,b 원본을 유지한채 새로운 배열 생성\n",
    " - a.extend(b)는 a를 확장"
   ]
  },
  {
   "cell_type": "code",
   "execution_count": 145,
   "id": "bf26b40f",
   "metadata": {},
   "outputs": [
    {
     "data": {
      "text/plain": [
       "[1, 11, 2, 3]"
      ]
     },
     "execution_count": 145,
     "metadata": {},
     "output_type": "execute_result"
    }
   ],
   "source": [
    "a = [1,2,3]\n",
    "a.insert(1,11)\n",
    "a"
   ]
  },
  {
   "cell_type": "markdown",
   "id": "baf9e434",
   "metadata": {},
   "source": [
    " - insert(0, 요소) 리스트의 처음에 요소 추가\n",
    " - inser(len(list), 요소) 리스트의 마지막에 요소 추가"
   ]
  },
  {
   "cell_type": "markdown",
   "id": "e3234ec8",
   "metadata": {},
   "source": [
    " - pop : 마지막 요소 또는 특정 인덱스의 요소 삭제\n",
    " - remove : 인덱스가 아니라 값을 입력 후 해당 값을 삭제"
   ]
  },
  {
   "cell_type": "code",
   "execution_count": 147,
   "id": "2ef4a044",
   "metadata": {},
   "outputs": [
    {
     "name": "stdout",
     "output_type": "stream",
     "text": [
      "[1, 11, 2]\n",
      "[1, 11]\n"
     ]
    }
   ],
   "source": [
    "print(a)\n",
    "a.pop()\n",
    "print(a)"
   ]
  },
  {
   "cell_type": "code",
   "execution_count": 155,
   "id": "8108ea73",
   "metadata": {},
   "outputs": [],
   "source": [
    "a.insert(len(a), 1234)"
   ]
  },
  {
   "cell_type": "code",
   "execution_count": 156,
   "id": "0bb7da1f",
   "metadata": {},
   "outputs": [
    {
     "name": "stdout",
     "output_type": "stream",
     "text": [
      "[1, 11, 2, 2, 2, 1234]\n"
     ]
    }
   ],
   "source": [
    "print(a)"
   ]
  },
  {
   "cell_type": "code",
   "execution_count": 157,
   "id": "eb9cbce5",
   "metadata": {},
   "outputs": [
    {
     "name": "stdout",
     "output_type": "stream",
     "text": [
      "[1, 2, 2, 2, 1234]\n"
     ]
    }
   ],
   "source": [
    "a.remove(11)\n",
    "print(a)"
   ]
  },
  {
   "cell_type": "markdown",
   "id": "4a276e52",
   "metadata": {},
   "source": [
    " - index(val) : 리스트에서 특정 val의 index를 구함\n",
    " - count(val) : 리스트에서 특정 val의 개수를 구함"
   ]
  },
  {
   "cell_type": "code",
   "execution_count": 158,
   "id": "68c02016",
   "metadata": {},
   "outputs": [
    {
     "data": {
      "text/plain": [
       "1"
      ]
     },
     "execution_count": 158,
     "metadata": {},
     "output_type": "execute_result"
    }
   ],
   "source": [
    "a.index(2)"
   ]
  },
  {
   "cell_type": "code",
   "execution_count": 159,
   "id": "69407284",
   "metadata": {},
   "outputs": [
    {
     "ename": "NameError",
     "evalue": "name 'index' is not defined",
     "output_type": "error",
     "traceback": [
      "\u001b[1;31m---------------------------------------------------------------------------\u001b[0m",
      "\u001b[1;31mNameError\u001b[0m                                 Traceback (most recent call last)",
      "Input \u001b[1;32mIn [159]\u001b[0m, in \u001b[0;36m<cell line: 1>\u001b[1;34m()\u001b[0m\n\u001b[1;32m----> 1\u001b[0m a,\u001b[43mindex\u001b[49m(\u001b[38;5;241m1234\u001b[39m)\n",
      "\u001b[1;31mNameError\u001b[0m: name 'index' is not defined"
     ]
    }
   ],
   "source": [
    "a,index(1234)"
   ]
  },
  {
   "cell_type": "code",
   "execution_count": 160,
   "id": "930e6b06",
   "metadata": {},
   "outputs": [
    {
     "data": {
      "text/plain": [
       "4"
      ]
     },
     "execution_count": 160,
     "metadata": {},
     "output_type": "execute_result"
    }
   ],
   "source": [
    "a.index(1234)"
   ]
  },
  {
   "cell_type": "code",
   "execution_count": 163,
   "id": "5270a627",
   "metadata": {},
   "outputs": [
    {
     "data": {
      "text/plain": [
       "3"
      ]
     },
     "execution_count": 163,
     "metadata": {},
     "output_type": "execute_result"
    }
   ],
   "source": [
    "a.count(2)"
   ]
  },
  {
   "cell_type": "markdown",
   "id": "17050fe3",
   "metadata": {},
   "source": [
    " - reverse() : 리스트에서 여소의 순서를 반대로 뒤집음\n",
    " - sort() : 리스트의 요소를 정렬(오름차순 기본값)\n",
    " - clear() : 리스트의 모든 요소를 삭제"
   ]
  },
  {
   "cell_type": "code",
   "execution_count": 164,
   "id": "eccc15dc",
   "metadata": {},
   "outputs": [],
   "source": [
    "a.reverse()"
   ]
  },
  {
   "cell_type": "code",
   "execution_count": 165,
   "id": "9cda0067",
   "metadata": {},
   "outputs": [
    {
     "data": {
      "text/plain": [
       "[1234, 2, 2, 2, 1]"
      ]
     },
     "execution_count": 165,
     "metadata": {},
     "output_type": "execute_result"
    }
   ],
   "source": [
    "a"
   ]
  },
  {
   "cell_type": "code",
   "execution_count": 166,
   "id": "eb4edf4d",
   "metadata": {},
   "outputs": [],
   "source": [
    "a.sort()"
   ]
  },
  {
   "cell_type": "code",
   "execution_count": 167,
   "id": "a39283e9",
   "metadata": {},
   "outputs": [
    {
     "data": {
      "text/plain": [
       "[1, 2, 2, 2, 1234]"
      ]
     },
     "execution_count": 167,
     "metadata": {},
     "output_type": "execute_result"
    }
   ],
   "source": [
    "a"
   ]
  },
  {
   "cell_type": "markdown",
   "id": "31987af5",
   "metadata": {},
   "source": [
    " - =\n",
    " - copy()"
   ]
  },
  {
   "cell_type": "code",
   "execution_count": 170,
   "id": "0d750199",
   "metadata": {},
   "outputs": [
    {
     "data": {
      "text/plain": [
       "[1, 2, 2, 2, 1234]"
      ]
     },
     "execution_count": 170,
     "metadata": {},
     "output_type": "execute_result"
    }
   ],
   "source": [
    "a"
   ]
  },
  {
   "cell_type": "code",
   "execution_count": 172,
   "id": "2dcad261",
   "metadata": {},
   "outputs": [],
   "source": [
    "b = a\n",
    "b\n",
    "# =을 쓰는 경우 b는 새로운 리스트가 아니라 a값을 단순 참조\n",
    "\n",
    "b = a.copy()\n",
    "b\n",
    "# copy()를 쓰는 경우 b는 새로운 a와 같은 리스트를 생성해서 메모리에 할당\n",
    "# a의 값이 변해도 b는 변하지 않는다"
   ]
  },
  {
   "cell_type": "markdown",
   "id": "f4fc4297",
   "metadata": {},
   "source": [
    "# WorkShop"
   ]
  },
  {
   "cell_type": "markdown",
   "id": "b05f4d57",
   "metadata": {},
   "source": [
    "#### 리스트에서 특정 요소만 뽑아내기\n",
    " - 리스트 a에 들어있는 문자열 중에서 길이가 5인 것들만 리스트 형태로 출력되게 만드세요"
   ]
  },
  {
   "cell_type": "code",
   "execution_count": 180,
   "id": "6fa2892d",
   "metadata": {},
   "outputs": [
    {
     "name": "stdout",
     "output_type": "stream",
     "text": [
      "['alpha', 'bravo', 'delta', 'hotel', 'india']\n"
     ]
    }
   ],
   "source": [
    "a = ['alpha', 'bravo', 'charlie', 'delta', 'echo', 'foxtrot', 'golf', 'hotel', 'india']\n",
    "result = []\n",
    "for i in range(0, len(a)):\n",
    "    if len(a[i]) == 5:\n",
    "        result.append(a[i])\n",
    "print(result)\n",
    "        "
   ]
  },
  {
   "cell_type": "code",
   "execution_count": 186,
   "id": "30f7632f",
   "metadata": {},
   "outputs": [
    {
     "name": "stdout",
     "output_type": "stream",
     "text": [
      "['alpha', 'bravo', 'delta', 'hotel', 'india']\n"
     ]
    }
   ],
   "source": [
    "a = ['alpha', 'bravo', 'charlie', 'delta', 'echo', 'foxtrot', 'golf', 'hotel', 'india']\n",
    "result2 = []\n",
    "for i in a:\n",
    "    if len(i) == 5:\n",
    "        result2.append(i)\n",
    "print(result2)"
   ]
  },
  {
   "cell_type": "markdown",
   "id": "fc1c9fdc",
   "metadata": {},
   "source": [
    "**리스트 에서 map 사용하기**"
   ]
  },
  {
   "cell_type": "code",
   "execution_count": 188,
   "id": "4e999cd7",
   "metadata": {},
   "outputs": [
    {
     "name": "stdout",
     "output_type": "stream",
     "text": [
      "[1, 2, 3, 4, 5]\n"
     ]
    }
   ],
   "source": [
    "a = [1.1, 2.6, 3.3, 4.1, 5.9]\n",
    "result = []\n",
    "for i in a:\n",
    "    result.append(int(i))\n",
    "print(result)"
   ]
  },
  {
   "cell_type": "code",
   "execution_count": 191,
   "id": "6df72aa7",
   "metadata": {},
   "outputs": [
    {
     "name": "stdout",
     "output_type": "stream",
     "text": [
      "[1, 2, 3, 4, 5]\n"
     ]
    }
   ],
   "source": [
    "a = [1.1, 2.6, 3.3, 4.1, 5.9]\n",
    "result = list(map(int, a))\n",
    "print(result)"
   ]
  },
  {
   "cell_type": "markdown",
   "id": "ddfd9bc1",
   "metadata": {},
   "source": [
    "# WorkShop"
   ]
  },
  {
   "cell_type": "markdown",
   "id": "e2ced04e",
   "metadata": {},
   "source": [
    "**자동 로또 번호 생성기**\n",
    "- 1~45 숫자 중에서 6개를 고르는 로또 번호를 자동으로 만들어 주는 프로그램 작성하기\n",
    "- 사용자가 입력한 개수만큼 번호 쌍을 생성하기(예: 5를 입력하면 5 세트의 번호가 생성되도록 하기)\n",
    "- 한번 뽑히것은 뽑히지 않도록 하고, 최종 출력은 오름차순 정렬해서 보여주기"
   ]
  },
  {
   "cell_type": "code",
   "execution_count": 210,
   "id": "a5b2a1b8",
   "metadata": {
    "scrolled": true
   },
   "outputs": [
    {
     "name": "stdout",
     "output_type": "stream",
     "text": [
      "how many? 10\n",
      "[2, 3, 6, 9, 13, 44]\n",
      "[7, 17, 24, 32, 33, 38]\n",
      "[9, 12, 28, 35, 44, 45]\n",
      "[7, 11, 15, 30, 31, 37]\n",
      "[21, 25, 26, 28, 33, 38]\n",
      "[2, 5, 17, 30, 39, 45]\n",
      "[8, 10, 15, 21, 32, 41]\n",
      "[1, 4, 8, 9, 14, 21]\n",
      "[3, 5, 19, 22, 28, 38]\n",
      "[4, 13, 29, 36, 44, 45]\n"
     ]
    }
   ],
   "source": [
    "import random\n",
    "n = int(input(\"how many? \"))\n",
    "\n",
    "for i in range(n):\n",
    "    result = []\n",
    "    while(len(result) != 6):\n",
    "        val = random.randint(1,45)\n",
    "        if val not in result:\n",
    "            result.append(val)\n",
    "    result.sort()\n",
    "    print(result)\n"
   ]
  },
  {
   "cell_type": "code",
   "execution_count": 220,
   "id": "a0780e55",
   "metadata": {},
   "outputs": [
    {
     "name": "stdout",
     "output_type": "stream",
     "text": [
      "5\n",
      "[7, 8, 12, 15, 27, 31]\n",
      "[10, 23, 28, 35, 39, 45]\n",
      "[1, 13, 14, 16, 25, 34]\n",
      "[1, 11, 25, 28, 31, 40]\n",
      "[8, 22, 29, 36, 39, 43]\n"
     ]
    }
   ],
   "source": [
    "import random\n",
    "n = int(input())\n",
    "\n",
    "for i in range(n):\n",
    "    result = []\n",
    "    while True:\n",
    "        val = random.randint(1,45)\n",
    "        if val not in result:\n",
    "            result.append(val)\n",
    "        if len(result) >= 6:\n",
    "            break\n",
    "    result.sort()\n",
    "    print(result)"
   ]
  },
  {
   "cell_type": "markdown",
   "id": "bd7dd810",
   "metadata": {},
   "source": [
    "**서식 지정자**"
   ]
  },
  {
   "cell_type": "code",
   "execution_count": 221,
   "id": "1601b168",
   "metadata": {},
   "outputs": [
    {
     "data": {
      "text/plain": [
       "'나는 andrew 입니다.'"
      ]
     },
     "execution_count": 221,
     "metadata": {},
     "output_type": "execute_result"
    }
   ],
   "source": [
    "name = 'andrew'\n",
    "\"나는 %s 입니다.\" % name"
   ]
  },
  {
   "cell_type": "code",
   "execution_count": 223,
   "id": "e1fd137f",
   "metadata": {},
   "outputs": [
    {
     "data": {
      "text/plain": [
       "'내 학점은 4.21 입니다.'"
      ]
     },
     "execution_count": 223,
     "metadata": {},
     "output_type": "execute_result"
    }
   ],
   "source": [
    "score = 4.21\n",
    "\"내 학점은 %.2f 입니다.\" % score"
   ]
  },
  {
   "cell_type": "markdown",
   "id": "89c0eedd",
   "metadata": {},
   "source": [
    "**format 함수**"
   ]
  },
  {
   "cell_type": "code",
   "execution_count": 224,
   "id": "790ef9a9",
   "metadata": {},
   "outputs": [
    {
     "data": {
      "text/plain": [
       "'나는 hihi 입니다.'"
      ]
     },
     "execution_count": 224,
     "metadata": {},
     "output_type": "execute_result"
    }
   ],
   "source": [
    "name = 'hihi'\n",
    "\"나는 {} 입니다.\".format(name)"
   ]
  },
  {
   "cell_type": "code",
   "execution_count": 225,
   "id": "79a66f1b",
   "metadata": {},
   "outputs": [
    {
     "data": {
      "text/plain": [
       "'나는 hihi입니다. 내 학점은 4.11이고 나이는 30입니다.'"
      ]
     },
     "execution_count": 225,
     "metadata": {},
     "output_type": "execute_result"
    }
   ],
   "source": [
    "name = 'hihi'\n",
    "age = '30'\n",
    "score = '4.11'\n",
    "\"나는 {}입니다. 내 학점은 {}이고 나이는 {}입니다.\".format(name, score, age)"
   ]
  },
  {
   "cell_type": "markdown",
   "id": "747b9fbc",
   "metadata": {},
   "source": [
    "# 위치 인수와 키워드 인수"
   ]
  },
  {
   "cell_type": "code",
   "execution_count": 226,
   "id": "9ee1a0af",
   "metadata": {},
   "outputs": [
    {
     "name": "stdout",
     "output_type": "stream",
     "text": [
      "100\n",
      "2\n",
      "3\n",
      "4\n",
      "5\n",
      "1\n"
     ]
    }
   ],
   "source": [
    "#가변인수를 받는 함수\n",
    "def print_numbers(*args): #args 는 집합체로 구성되는 원소가 가변적이며 추상적인 명칭\n",
    "    for arg in args:\n",
    "        print(arg)\n",
    "        \n",
    "print_numbers(100,2,3,4,5,1)"
   ]
  },
  {
   "cell_type": "markdown",
   "id": "4f181c99",
   "metadata": {},
   "source": [
    " - 딕셔너리를 사용하여 호출하는 경우"
   ]
  },
  {
   "cell_type": "code",
   "execution_count": 227,
   "id": "a7b8ed59",
   "metadata": {},
   "outputs": [],
   "source": [
    "#딕셔너리의 경우 키:밸류 한 쌍이므로 언패킹 1번하면 키 출력, 두번하면 배률 출력\n",
    "def personal_info(name, age, address):\n",
    "  print(name)\n",
    "  print(age)\n",
    "  print(address)"
   ]
  },
  {
   "cell_type": "code",
   "execution_count": 228,
   "id": "e20fb6f5",
   "metadata": {},
   "outputs": [
    {
     "name": "stdout",
     "output_type": "stream",
     "text": [
      "name\n",
      "age\n",
      "address\n"
     ]
    }
   ],
   "source": [
    "d = {'name':'장경희', 'age':30, 'address':'서초동'}\n",
    "personal_info(*d)"
   ]
  },
  {
   "cell_type": "code",
   "execution_count": 229,
   "id": "7fd4ba9a",
   "metadata": {},
   "outputs": [
    {
     "name": "stdout",
     "output_type": "stream",
     "text": [
      "장경희\n",
      "30\n",
      "서초동\n"
     ]
    }
   ],
   "source": [
    "personal_info(**d)"
   ]
  },
  {
   "cell_type": "markdown",
   "id": "d3d082de",
   "metadata": {},
   "source": [
    " - 키워드 인수를 가변적으로 처리"
   ]
  },
  {
   "cell_type": "code",
   "execution_count": 230,
   "id": "ae8b0f8a",
   "metadata": {},
   "outputs": [],
   "source": [
    "def personal_info(**kwargs): #kwargs에는 가변적인 개수의 키와 값이 쌍으로 이루어짐\n",
    "    for k, v in kwargs.items():\n",
    "        print(k, v)"
   ]
  },
  {
   "cell_type": "code",
   "execution_count": 231,
   "id": "310952b2",
   "metadata": {},
   "outputs": [
    {
     "name": "stdout",
     "output_type": "stream",
     "text": [
      "name 장경희\n",
      "age 30\n",
      "address 서초동\n"
     ]
    }
   ],
   "source": [
    "personal_info(**d)"
   ]
  },
  {
   "cell_type": "markdown",
   "id": "15683541",
   "metadata": {},
   "source": [
    "# 함수에서 재귀호출 사용하기"
   ]
  },
  {
   "cell_type": "code",
   "execution_count": 232,
   "id": "f1e1b27a",
   "metadata": {},
   "outputs": [],
   "source": [
    "def hello():\n",
    "    print('hello world')\n",
    "    return\n",
    "    hello()\n",
    "    "
   ]
  },
  {
   "cell_type": "code",
   "execution_count": 233,
   "id": "5b906980",
   "metadata": {},
   "outputs": [
    {
     "name": "stdout",
     "output_type": "stream",
     "text": [
      "55\n"
     ]
    }
   ],
   "source": [
    "sum = 0\n",
    "for i in range(10, 0 , -1):\n",
    "    sum += i\n",
    "\n",
    "print(sum)"
   ]
  },
  {
   "cell_type": "code",
   "execution_count": 254,
   "id": "4417d47b",
   "metadata": {},
   "outputs": [],
   "source": [
    "def add_sum(n):\n",
    "    if n == 1: \n",
    "        return n\n",
    "    else: \n",
    "        return n + add_sum(n-1)"
   ]
  },
  {
   "cell_type": "code",
   "execution_count": 256,
   "id": "6b0d6479",
   "metadata": {},
   "outputs": [
    {
     "data": {
      "text/plain": [
       "66"
      ]
     },
     "execution_count": 256,
     "metadata": {},
     "output_type": "execute_result"
    }
   ],
   "source": [
    "add_sum(11)"
   ]
  },
  {
   "cell_type": "code",
   "execution_count": 257,
   "id": "fdc047dd",
   "metadata": {},
   "outputs": [],
   "source": [
    "sum = 0\n",
    "def add_sum2(n):\n",
    "    sum += n\n",
    "    if n == 0:\n",
    "        return sum\n",
    "    else:\n",
    "        n -= -1\n",
    "        return add_sum(n)\n",
    "    "
   ]
  },
  {
   "cell_type": "code",
   "execution_count": 259,
   "id": "7eaaa1f6",
   "metadata": {},
   "outputs": [
    {
     "data": {
      "text/plain": [
       "66"
      ]
     },
     "execution_count": 259,
     "metadata": {},
     "output_type": "execute_result"
    }
   ],
   "source": [
    "add_sum(11)"
   ]
  },
  {
   "cell_type": "markdown",
   "id": "77e9b316",
   "metadata": {},
   "source": [
    " - 팩토리얼 함수"
   ]
  },
  {
   "cell_type": "code",
   "execution_count": 1,
   "id": "2f802f8a",
   "metadata": {},
   "outputs": [],
   "source": [
    "def factorial(n):\n",
    "    if n == 1:\n",
    "        return 1\n",
    "    else:\n",
    "        return n * factorial(n-1)"
   ]
  },
  {
   "cell_type": "code",
   "execution_count": 2,
   "id": "d427275c",
   "metadata": {},
   "outputs": [
    {
     "data": {
      "text/plain": [
       "120"
      ]
     },
     "execution_count": 2,
     "metadata": {},
     "output_type": "execute_result"
    }
   ],
   "source": [
    "factorial(5)"
   ]
  },
  {
   "cell_type": "code",
   "execution_count": 14,
   "id": "1172e61c",
   "metadata": {},
   "outputs": [
    {
     "data": {
      "text/plain": [
       "120"
      ]
     },
     "execution_count": 14,
     "metadata": {},
     "output_type": "execute_result"
    }
   ],
   "source": [
    "n = 5\n",
    "result = 1\n",
    "for i in range(1, n + 1):\n",
    "    result = result * i\n",
    "result"
   ]
  },
  {
   "cell_type": "markdown",
   "id": "3f402bae",
   "metadata": {},
   "source": [
    " - map함수 : 반복 가능한 객체에 함수를 일괄 적용\n",
    " - filter : 반복 가능한 객체에 함수에서 출력하는 조건에 맞는 것만 가져옴"
   ]
  },
  {
   "cell_type": "code",
   "execution_count": 15,
   "id": "25a294bf",
   "metadata": {},
   "outputs": [],
   "source": [
    "def f(x):\n",
    "    return x > 5 and x < 10"
   ]
  },
  {
   "cell_type": "code",
   "execution_count": 19,
   "id": "666f8f22",
   "metadata": {},
   "outputs": [
    {
     "data": {
      "text/plain": [
       "[6, 7]"
      ]
     },
     "execution_count": 19,
     "metadata": {},
     "output_type": "execute_result"
    }
   ],
   "source": [
    "a = [3, 2, 1, 10, 16, 15, 22, 0, 6, 7]\n",
    "\n",
    "list(filter(f, a))"
   ]
  },
  {
   "cell_type": "markdown",
   "id": "9206a7a2",
   "metadata": {},
   "source": [
    "# WorkShop"
   ]
  },
  {
   "cell_type": "markdown",
   "id": "ab166f72",
   "metadata": {},
   "source": [
    "### 거리계산\n",
    "\n",
    " - 리스트를 이용하여 점 사이의 거리를 계산 해 보자.\n",
    " - 직교 좌표 위에서 A는 (1, 1), B는 (3, 2), C는 (5,7)일 때 X(2, 3)와 A/B/C와의 거리를 각각 구하여라.\n",
    " - 위 코드블럭을 이용하여 distMeasure 함수를 정의하라."
   ]
  },
  {
   "cell_type": "code",
   "execution_count": 38,
   "id": "80b9c0f2",
   "metadata": {},
   "outputs": [
    {
     "name": "stdout",
     "output_type": "stream",
     "text": [
      "2.236068\n",
      "1.414214\n",
      "5.000000\n"
     ]
    }
   ],
   "source": [
    "points = [(1,1), (3,2), (5,7)] # A, B, C\n",
    "x = (2,3)\n",
    "\n",
    "#c = ((a**2 + b**2)) **(1/2)\n",
    "\n",
    "def distMeasure_for(*args):\n",
    "    for arg in args:\n",
    "        c = (((arg[0]-x[0])**2) + ((arg[1]-x[1])**2)) **(1/2)\n",
    "        print(format(c, '5f'))\n",
    "distMeasure(*points)\n"
   ]
  },
  {
   "cell_type": "code",
   "execution_count": 41,
   "id": "a44dbba7",
   "metadata": {},
   "outputs": [
    {
     "data": {
      "text/plain": [
       "[2.23606797749979, 1.4142135623730951, 5.0]"
      ]
     },
     "execution_count": 41,
     "metadata": {},
     "output_type": "execute_result"
    }
   ],
   "source": [
    "def distMeasure_1p(point):\n",
    "    dist = (((point[0] - x[0]) ** 2) + (point[1] - x[1]) ** 2) ** (1/2)\n",
    "    return dist\n",
    "\n",
    "list(map(distMeasure_1p, points))"
   ]
  },
  {
   "cell_type": "code",
   "execution_count": 42,
   "id": "c54f717d",
   "metadata": {},
   "outputs": [
    {
     "data": {
      "text/plain": [
       "[2.23606797749979, 1.4142135623730951, 5.0]"
      ]
     },
     "execution_count": 42,
     "metadata": {},
     "output_type": "execute_result"
    }
   ],
   "source": [
    "list(map(lambda point: (((point[0] - x[0]) ** 2) + (point[1] - x[1]) ** 2) ** (1/2), points))"
   ]
  },
  {
   "cell_type": "markdown",
   "id": "2ce72ad0",
   "metadata": {},
   "source": [
    "**이미지 파일만 가져오기**\n",
    "- 다음 소스 코드를 완성하여 확장자가 .jpg, .png인 이미지 파일만 출력되게 만드세요. 여기서는 람다 표현식을 사용해야 하며 출력 결과는 리스트 형태라야 합니다. 람다 표현식에서 확장자를 검사할 때는 문자열 메서드를 활용하세요.\n",
    "```\n",
    "files = ['font', '1.png', '10.jpg', '11.gif', '2.jpg', '3.png', 'table.xslx', 'spec.docx']\n",
    "실행결과\n",
    "['1.png', '10.jpg', '2.jpg', '3.png']\n",
    "```"
   ]
  },
  {
   "cell_type": "code",
   "execution_count": 53,
   "id": "5da636c4",
   "metadata": {},
   "outputs": [
    {
     "name": "stdout",
     "output_type": "stream",
     "text": [
      "['1.png', '10.jpg', '2.jpg', '3.png']\n"
     ]
    }
   ],
   "source": [
    "files = ['font', '1.png', '10.jpg', '11.gif', '2.jpg', '3.png', 'table.xslx', 'spec.docx']\n",
    "result = list(filter(lambda file: file.find('.jpg') != -1 or file.find('.png') != -1, files))\n",
    "print(result)"
   ]
  },
  {
   "cell_type": "code",
   "execution_count": 52,
   "id": "9db3905c",
   "metadata": {},
   "outputs": [
    {
     "data": {
      "text/plain": [
       "['1.png', '10.jpg', '2.jpg', '3.png']"
      ]
     },
     "execution_count": 52,
     "metadata": {},
     "output_type": "execute_result"
    }
   ],
   "source": [
    "def filter_img(file):\n",
    "    if ('jpg' in file) or ('png' in file):\n",
    "        return True\n",
    "list(filter(filter_img, files))"
   ]
  },
  {
   "cell_type": "markdown",
   "id": "6100d126",
   "metadata": {},
   "source": [
    "**파일 이름을 한꺼번에 바꾸기**\n",
    "- 표준 입력으로 숫자.확장자 형식으로 된 파일 이름 여러 개가 입력됩니다. 파일 이름이 숫자 3개이면서 앞에 0이 들어가는 형식으로 출력되게 만드세요. 예를 들어 1.png는 001.png, 99.docx는 099.docx, 100.xlsx는 100.xlsx처럼 출력되어야 합니다. 그리고 람다 표현식을 사용해야 하며 출력 결과는 리스트 형태라야 합니다. 람다 표현식에서 파일명을 처리할 때는 문자열 포매팅과 문자열 메서드를 활용하세요.\n",
    "```\n",
    "\n",
    "입력 예\n",
    "1.jpg 10.png 11.png 2.jpg 3.png\n",
    "\n",
    "결과\n",
    "['001.jpg', '010.png', '011.png', '002.jpg', '003.png']\n",
    "\n",
    "입력 예\n",
    "97.xlsx 98.docx 99.docx 100.xlsx 101.docx 102.docx\n",
    "결과\n",
    "['097.xlsx', '098.docx', '099.docx', '100.xlsx', '101.docx', '102.docx']"
   ]
  },
  {
   "cell_type": "code",
   "execution_count": 51,
   "id": "f15c4e21",
   "metadata": {},
   "outputs": [
    {
     "name": "stdout",
     "output_type": "stream",
     "text": [
      "입력 : 1.jpg 10.png 11.png 2.jpg 3.png\n",
      "['1.jpg', '10.png', '11.png', '2.jpg', '3.png']\n"
     ]
    }
   ],
   "source": [
    "files2 = input('입력 : ').split()\n",
    "print(files2)\n",
    "list(filter(lambda x : '{}'.format(input)))"
   ]
  },
  {
   "cell_type": "code",
   "execution_count": 60,
   "id": "4fcb7695",
   "metadata": {},
   "outputs": [
    {
     "data": {
      "text/plain": [
       "'001.jpg'"
      ]
     },
     "execution_count": 60,
     "metadata": {},
     "output_type": "execute_result"
    }
   ],
   "source": [
    "tmpname = 1\n",
    "tmpext = 'jpg'\n",
    "\n",
    "\"{:03d}.{}\".format(tmpname, tmpext)"
   ]
  },
  {
   "cell_type": "code",
   "execution_count": 65,
   "id": "da99d3cf",
   "metadata": {},
   "outputs": [
    {
     "name": "stdout",
     "output_type": "stream",
     "text": [
      "['001.jpg', '010.png', '011.png', '002.jpg', '003.png']\n"
     ]
    }
   ],
   "source": [
    "names = []\n",
    "exts = []\n",
    "\n",
    "def fmt(name, ext):\n",
    "    return \"{:03d}.{}\".format(name, ext)\n",
    "    \n",
    "\n",
    "for file in files2:\n",
    "    name = file.split('.')[0]\n",
    "    names.append(int(name))\n",
    "    \n",
    "    ext = file.split('.')[1]\n",
    "    exts.append(ext)\n",
    "    \n",
    "result = list(map(fmt, names, exts))\n",
    "print(result)"
   ]
  },
  {
   "cell_type": "code",
   "execution_count": 68,
   "id": "6835433d",
   "metadata": {},
   "outputs": [
    {
     "data": {
      "text/plain": [
       "['001.jpg', '010.png', '011.png', '002.jpg', '003.png']"
      ]
     },
     "execution_count": 68,
     "metadata": {},
     "output_type": "execute_result"
    }
   ],
   "source": [
    "list(map(lambda name, ext : \"{:03d}.{}\".format(name, ext), names, exts))"
   ]
  },
  {
   "cell_type": "markdown",
   "id": "2b884249",
   "metadata": {},
   "source": [
    "# 클래스"
   ]
  },
  {
   "cell_type": "code",
   "execution_count": 69,
   "id": "4190d24b",
   "metadata": {},
   "outputs": [
    {
     "name": "stdout",
     "output_type": "stream",
     "text": [
      "<class 'int'>\n",
      "<class 'list'>\n"
     ]
    }
   ],
   "source": [
    "# 파이썬에서 흔히 볼 수 있는 클래스\n",
    "a = int(10)\n",
    "print(type(a))\n",
    "\n",
    "b = list(range(10))\n",
    "print(type(b))"
   ]
  },
  {
   "cell_type": "code",
   "execution_count": 70,
   "id": "30d4f941",
   "metadata": {},
   "outputs": [],
   "source": [
    "class Person:\n",
    "    def __init__(self):\n",
    "        self.hello = \"hello\"\n",
    "    def greeting(self):\n",
    "        print(self.hello)"
   ]
  },
  {
   "cell_type": "code",
   "execution_count": 71,
   "id": "0bf3931b",
   "metadata": {},
   "outputs": [
    {
     "name": "stdout",
     "output_type": "stream",
     "text": [
      "hello\n"
     ]
    }
   ],
   "source": [
    "james = Person()\n",
    "james.greeting()"
   ]
  },
  {
   "cell_type": "code",
   "execution_count": 73,
   "id": "d17795c6",
   "metadata": {},
   "outputs": [],
   "source": [
    "# 받은 메시지를 출력하는 클래스\n",
    "class Person2:\n",
    "    def __init__(self, hello_msg):\n",
    "        self.hello = hello_msg\n",
    "    def greeting(self):\n",
    "        print(self.hello)\n",
    "    "
   ]
  },
  {
   "cell_type": "code",
   "execution_count": 75,
   "id": "44aa32a9",
   "metadata": {},
   "outputs": [
    {
     "name": "stdout",
     "output_type": "stream",
     "text": [
      "hallo\n"
     ]
    }
   ],
   "source": [
    "james = Person2('hallo')\n",
    "james.greeting()\n"
   ]
  },
  {
   "cell_type": "code",
   "execution_count": 87,
   "id": "aa9630bd",
   "metadata": {},
   "outputs": [],
   "source": [
    "class Person:\n",
    "    def __init__(self, hello_msg, name, age, address, wallet):\n",
    "        self.hello = hello_msg\n",
    "        self.name = name\n",
    "        self.age = age\n",
    "        self.address = address\n",
    "        self.__wallet = wallet # 비공개 속성\n",
    "\n",
    "    def greeting(self):\n",
    "        print(self.hello)\n",
    "        print(\"저는 {}입니다\".format(self.name))\n",
    "        print(\"나이는 {}살입니다\".format(self.age))\n",
    "        print(\"{}에 살고 있습니다\".format(self.address))\n",
    "\n",
    "    def pay(self, amount):\n",
    "        self.__wallet = self.__wallet - amount\n",
    "        print(\"{}원 남았습니다.\".format(self.__wallet))\n",
    "    "
   ]
  },
  {
   "cell_type": "code",
   "execution_count": 88,
   "id": "bfb974e3",
   "metadata": {},
   "outputs": [],
   "source": [
    "selly = Person(\"hi?\", \"sell\", 15, \"gangnam\", 10000)"
   ]
  },
  {
   "cell_type": "code",
   "execution_count": 78,
   "id": "b49b35ca",
   "metadata": {},
   "outputs": [
    {
     "name": "stdout",
     "output_type": "stream",
     "text": [
      "hi?\n",
      "저는 sell입니다\n",
      "나이는 15살입니다\n",
      "gangnam에 살고 있습니다\n"
     ]
    }
   ],
   "source": [
    "selly.greeting()"
   ]
  },
  {
   "cell_type": "code",
   "execution_count": 79,
   "id": "34239eb7",
   "metadata": {},
   "outputs": [
    {
     "data": {
      "text/plain": [
       "'sell'"
      ]
     },
     "execution_count": 79,
     "metadata": {},
     "output_type": "execute_result"
    }
   ],
   "source": [
    "selly.name"
   ]
  },
  {
   "cell_type": "code",
   "execution_count": 99,
   "id": "540c61cd",
   "metadata": {},
   "outputs": [
    {
     "name": "stdout",
     "output_type": "stream",
     "text": [
      "194000원 남았습니다.\n"
     ]
    }
   ],
   "source": [
    "selly.pay(1000)"
   ]
  },
  {
   "cell_type": "markdown",
   "id": "33d96819",
   "metadata": {},
   "source": [
    "# 클래스 속성과 인스턴스 속성"
   ]
  },
  {
   "cell_type": "markdown",
   "id": "403b5084",
   "metadata": {},
   "source": [
    "```\n",
    "class 클래스이름:\n",
    "    method = value\n",
    "\n",
    "```"
   ]
  },
  {
   "cell_type": "code",
   "execution_count": 91,
   "id": "8bbd081d",
   "metadata": {},
   "outputs": [],
   "source": [
    "# 클래스 속성 : 모든 인스턴스들이 고융, 인스턴스 전체가 사용해야 하는 값을 저장할 때 사용\n",
    "# 인스턴스 속성 : 인스턴스별로 독립되어 있음, 각 인스턴스가 값을 따로 저장\n",
    "class Person:\n",
    "    bag = [] # <-- 클래스속성\n",
    "    \n",
    "    def put_bag(self, stuff):\n",
    "        Person.bag.append(stuff)"
   ]
  },
  {
   "cell_type": "code",
   "execution_count": 92,
   "id": "029606b2",
   "metadata": {},
   "outputs": [],
   "source": [
    "james = Person()"
   ]
  },
  {
   "cell_type": "code",
   "execution_count": 94,
   "id": "19b17537",
   "metadata": {},
   "outputs": [],
   "source": [
    "james.put_bag('book')"
   ]
  },
  {
   "cell_type": "code",
   "execution_count": 96,
   "id": "6dc7a7e5",
   "metadata": {},
   "outputs": [],
   "source": [
    "maria = Person()\n",
    "maria.put_bag('key')"
   ]
  },
  {
   "cell_type": "code",
   "execution_count": 97,
   "id": "58950618",
   "metadata": {},
   "outputs": [
    {
     "data": {
      "text/plain": [
       "['book', 'key']"
      ]
     },
     "execution_count": 97,
     "metadata": {},
     "output_type": "execute_result"
    }
   ],
   "source": [
    "james.bag"
   ]
  },
  {
   "cell_type": "code",
   "execution_count": 100,
   "id": "41a13536",
   "metadata": {},
   "outputs": [],
   "source": [
    "class Person2:\n",
    "    def __init__(self):\n",
    "        self.bag = []\n",
    "    \n",
    "    def put_bag(self, stuff):\n",
    "        self.bag.append(stuff)\n",
    "    "
   ]
  },
  {
   "cell_type": "code",
   "execution_count": 109,
   "id": "c56b2f82",
   "metadata": {},
   "outputs": [],
   "source": [
    "alex = Person2()\n",
    "alex.put_bag('drum')"
   ]
  },
  {
   "cell_type": "code",
   "execution_count": 110,
   "id": "24bca557",
   "metadata": {},
   "outputs": [],
   "source": [
    "misa = Person2()\n",
    "misa.put_bag('ball')"
   ]
  },
  {
   "cell_type": "code",
   "execution_count": 111,
   "id": "35dba947",
   "metadata": {},
   "outputs": [
    {
     "data": {
      "text/plain": [
       "['drum']"
      ]
     },
     "execution_count": 111,
     "metadata": {},
     "output_type": "execute_result"
    }
   ],
   "source": [
    "alex.bag"
   ]
  },
  {
   "cell_type": "code",
   "execution_count": 112,
   "id": "9b1227a5",
   "metadata": {},
   "outputs": [
    {
     "data": {
      "text/plain": [
       "['ball']"
      ]
     },
     "execution_count": 112,
     "metadata": {},
     "output_type": "execute_result"
    }
   ],
   "source": [
    "misa.bag"
   ]
  },
  {
   "cell_type": "markdown",
   "id": "99effebc",
   "metadata": {},
   "source": [
    "# 클래스 상속"
   ]
  },
  {
   "cell_type": "code",
   "execution_count": 115,
   "id": "f9ae70af",
   "metadata": {},
   "outputs": [],
   "source": [
    "class Person:\n",
    "    def __init__(self):\n",
    "        print(\"Person Initialized\")\n",
    "        self.hello = \"안녕하세요\"\n",
    "\n",
    "    def greeting(self):\n",
    "        print(\"안녕하세요\")\n",
    "\n",
    "class Student(Person):\n",
    "    def __init__(self):\n",
    "        super().__init__() # 부모클래스의 __init__()을 강제로 호출\n",
    "        print(\"Student Initialized\")\n",
    "\n",
    "    def study(self):\n",
    "        print(\"공부중입니다\")    "
   ]
  },
  {
   "cell_type": "code",
   "execution_count": 114,
   "id": "d9f1d6e5",
   "metadata": {},
   "outputs": [
    {
     "name": "stdout",
     "output_type": "stream",
     "text": [
      "Student Initialized\n",
      "공부중입니다\n"
     ]
    }
   ],
   "source": [
    "james = Student()\n",
    "james.study()"
   ]
  },
  {
   "cell_type": "code",
   "execution_count": 116,
   "id": "039441af",
   "metadata": {},
   "outputs": [
    {
     "name": "stdout",
     "output_type": "stream",
     "text": [
      "안녕하세요\n"
     ]
    }
   ],
   "source": [
    "james.greeting()"
   ]
  },
  {
   "cell_type": "markdown",
   "id": "10ab9b59",
   "metadata": {},
   "source": [
    "**메서드 오버라이딩**"
   ]
  },
  {
   "cell_type": "code",
   "execution_count": 117,
   "id": "ddce9a51",
   "metadata": {},
   "outputs": [],
   "source": [
    "class Person():\n",
    "    def greeting(self):\n",
    "        print(\"안녕하세요\")\n",
    "        \n",
    "class Student(Person):\n",
    "    def greeting(self):\n",
    "        print(\"안녕하세요 저는 인공지능 과정 25기 학생입니다.\")"
   ]
  },
  {
   "cell_type": "code",
   "execution_count": 118,
   "id": "a3581bed",
   "metadata": {},
   "outputs": [
    {
     "name": "stdout",
     "output_type": "stream",
     "text": [
      "안녕하세요 저는 인공지능 과정 25기 학생입니다.\n"
     ]
    }
   ],
   "source": [
    "james = Student()\n",
    "james.greeting()"
   ]
  },
  {
   "cell_type": "code",
   "execution_count": 119,
   "id": "16e7d7d5",
   "metadata": {},
   "outputs": [],
   "source": [
    "class Person2():\n",
    "    def greeting(self):\n",
    "        print(\"안녕하세요\")\n",
    "        \n",
    "class Student2(Person2):\n",
    "    def greeting(self):\n",
    "        super().greeting()\n",
    "        print(\"안녕하세요 저는 인공지능 과정 25기 학생입니다.\")"
   ]
  },
  {
   "cell_type": "code",
   "execution_count": 120,
   "id": "33b6cefd",
   "metadata": {},
   "outputs": [
    {
     "name": "stdout",
     "output_type": "stream",
     "text": [
      "안녕하세요\n",
      "안녕하세요 저는 인공지능 과정 25기 학생입니다.\n"
     ]
    }
   ],
   "source": [
    "selly = Student2()\n",
    "selly.greeting()"
   ]
  },
  {
   "cell_type": "markdown",
   "id": "8830678f",
   "metadata": {},
   "source": [
    "**다중 상속**"
   ]
  },
  {
   "cell_type": "code",
   "execution_count": 121,
   "id": "a12cf450",
   "metadata": {},
   "outputs": [],
   "source": [
    "class Person:\n",
    "    def greeting(self):\n",
    "        print(\"안녕하세요\")\n",
    "    \n",
    "class University:\n",
    "    def manage_credit(self):\n",
    "        print(\"학점 관리\")\n",
    "\n",
    "class Undergraduate(Person, University):\n",
    "    def study(self):\n",
    "        print(\"공부 하기\")\n"
   ]
  },
  {
   "cell_type": "code",
   "execution_count": 123,
   "id": "3a1ba168",
   "metadata": {},
   "outputs": [
    {
     "name": "stdout",
     "output_type": "stream",
     "text": [
      "공부 하기\n"
     ]
    }
   ],
   "source": [
    "james = Undergraduate()\n",
    "james.study()"
   ]
  },
  {
   "cell_type": "code",
   "execution_count": 124,
   "id": "87290ba5",
   "metadata": {},
   "outputs": [
    {
     "name": "stdout",
     "output_type": "stream",
     "text": [
      "학점 관리\n"
     ]
    }
   ],
   "source": [
    "james.manage_credit()"
   ]
  },
  {
   "cell_type": "code",
   "execution_count": 125,
   "id": "68174cf0",
   "metadata": {},
   "outputs": [
    {
     "name": "stdout",
     "output_type": "stream",
     "text": [
      "안녕하세요\n"
     ]
    }
   ],
   "source": [
    "james.greeting()"
   ]
  },
  {
   "cell_type": "markdown",
   "id": "b1e7df43",
   "metadata": {},
   "source": [
    "**추상 클래스**"
   ]
  },
  {
   "cell_type": "markdown",
   "id": "03b7a9b2",
   "metadata": {},
   "source": [
    "```\n",
    "from abc import *\n",
    "\n",
    "class abstract(metaclass=ABCMeta):\n",
    "    @abstractmethod\n",
    "    def method(self):\n",
    "        print(\"hallo\")\n",
    "```"
   ]
  },
  {
   "cell_type": "code",
   "execution_count": 133,
   "id": "62200f90",
   "metadata": {},
   "outputs": [],
   "source": [
    "from abc import *\n",
    "\n",
    "class StudentBase(metaclass=ABCMeta):\n",
    "    @abstractmethod\n",
    "    def study(self):\n",
    "        pass\n",
    "    \n",
    "    @abstractmethod\n",
    "    def gotoschool(self):\n",
    "        pass"
   ]
  },
  {
   "cell_type": "code",
   "execution_count": 136,
   "id": "82af9d07",
   "metadata": {},
   "outputs": [],
   "source": [
    "class Student(StudentBase):\n",
    "    def study(self):\n",
    "        print(\"study english\")\n",
    "        \n",
    "    def gotoschool(self):\n",
    "        print(\"i hate school\")"
   ]
  },
  {
   "cell_type": "code",
   "execution_count": 138,
   "id": "e8804566",
   "metadata": {},
   "outputs": [
    {
     "name": "stdout",
     "output_type": "stream",
     "text": [
      "i hate school\n"
     ]
    }
   ],
   "source": [
    "james = Student()\n",
    "james.gotoschool()"
   ]
  },
  {
   "cell_type": "markdown",
   "id": "4402957c",
   "metadata": {},
   "source": [
    "**리스트에 기능 추가하기**\n",
    "- 아래 예시와 같이 리스트(list)에 replace 메서드를 추가한 AdvancedList 클래스를 작성하세요. AdvancedList는 list를 상속받아서 만들고, replace 메서드는 리스트에서 특정 값으로 된 요소를 찾아서 다른 값으로 바꾸도록 만드세요.\n",
    "```\n",
    "x = AdvancedList([1, 2, 3, 1, 2, 3, 1, 2, 3])\n",
    "x.replace(1, 100)\n",
    "print(x)\n",
    "결과\n",
    "[100, 2, 3, 100, 2, 3, 100, 2, 3]\n",
    "```"
   ]
  },
  {
   "cell_type": "code",
   "execution_count": 156,
   "id": "05007cbf",
   "metadata": {},
   "outputs": [
    {
     "name": "stdout",
     "output_type": "stream",
     "text": [
      "[1, 2, 3, 1, 2, 3, 1, 2, 3] 1 100\n",
      "[100, 2, 3, 100, 2, 3, 100, 2, 3]\n"
     ]
    }
   ],
   "source": [
    "\n",
    "#for i in range(len(x)):\n",
    "#    if x[i] == 1:\n",
    "#        x[i] == 100\n",
    "\n",
    "class AdvancedLIst(list):\n",
    "    def replace(self, a, b):\n",
    "        print(self, a, b)\n",
    "        for i in range(len(self)):\n",
    "            if self[i] == a:\n",
    "                self[i] = b\n",
    "                \n",
    "x = AdvancedLIst([1, 2, 3, 1, 2, 3, 1, 2, 3])\n",
    "\n",
    "x.replace(1, 100)\n",
    "print(x)"
   ]
  },
  {
   "cell_type": "code",
   "execution_count": null,
   "id": "3f98f29c",
   "metadata": {},
   "outputs": [],
   "source": []
  }
 ],
 "metadata": {
  "kernelspec": {
   "display_name": "Python 3 (ipykernel)",
   "language": "python",
   "name": "python3"
  },
  "language_info": {
   "codemirror_mode": {
    "name": "ipython",
    "version": 3
   },
   "file_extension": ".py",
   "mimetype": "text/x-python",
   "name": "python",
   "nbconvert_exporter": "python",
   "pygments_lexer": "ipython3",
   "version": "3.9.12"
  }
 },
 "nbformat": 4,
 "nbformat_minor": 5
}
