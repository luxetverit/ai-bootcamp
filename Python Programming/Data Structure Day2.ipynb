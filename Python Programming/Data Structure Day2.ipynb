{
 "cells": [
  {
   "cell_type": "markdown",
   "id": "ea93b7a6",
   "metadata": {},
   "source": [
    "## 숫자의 합 구하기\n",
    "- 시간 제한 1초 | 난이도 브론즈 Ⅳ | 백준 온라인 저지 11720번\n",
    "- N개의 숫자가 공백 없이 써 있다. 이 숫자를 모두 합해 출력하는 프로그램을 작성하시오.\n",
    "**입력**\n",
    "- 1번째 줄에 숫자의 개수 N(1<=N<=100), 2번째 줄에 숫자 N개가 공백 없이 주어진다.\n",
    "**출력**\n",
    "- 입력으로 주어진 숫자 N개가 합을 출력한다."
   ]
  },
  {
   "cell_type": "code",
   "execution_count": 15,
   "id": "66f0c4ac",
   "metadata": {},
   "outputs": [
    {
     "name": "stdout",
     "output_type": "stream",
     "text": [
      "4\n",
      "1234\n",
      "10\n"
     ]
    }
   ],
   "source": [
    "n = int(input())\n",
    "nums = list(input())\n",
    "\n",
    "result = 0\n",
    "for i in nums:\n",
    "    result += int(i)\n",
    "print(result)"
   ]
  },
  {
   "cell_type": "code",
   "execution_count": 23,
   "id": "f38442af",
   "metadata": {},
   "outputs": [
    {
     "name": "stdout",
     "output_type": "stream",
     "text": [
      "['지민', '010-1111-1111'] \n",
      "['정국', '010-2222-2222'] ['지민', '010-1111-1111'] \n",
      "['뷔', '010-3333-3333'] ['정국', '010-2222-2222'] ['지민', '010-1111-1111'] \n",
      "['뷔', '010-3333-3333'] ['슈가', '010-4444-4444'] ['정국', '010-2222-2222'] ['지민', '010-1111-1111'] \n",
      "['정국', '010-2222-2222'] ['지민', '010-1111-1111'] ['진', '010-5555-5555'] \n"
     ]
    }
   ],
   "source": [
    "class Node() :\n",
    "    def __init__ (self) :\n",
    "        self.data = None\n",
    "        self.link = None\n",
    "def printNodes(start) :\n",
    "    current = start\n",
    "    if current == None :\n",
    "        return\n",
    "    print(current.data, end = ' ')\n",
    "    while current.link != None:\n",
    "        current = current.link\n",
    "        print(current.data, end = ' ')\n",
    "    print()\n",
    "def makeSimpleLinkedList(namePhone) :\n",
    "    global memory, head, current, pre\n",
    "    printNodes(head)\n",
    "    node = Node()\n",
    "    node.data = namePhone\n",
    "    memory.append(node)\n",
    "    if head == None : # 첫 번째 노드일 때\n",
    "        head = node\n",
    "        return\n",
    "    if head.data[0] > namePhone[0] : # 첫 번째 노드보다 작을 때\n",
    "        node.link = head\n",
    "        head = node\n",
    "        return\n",
    "    # 중간 노드로 삽입하는 경우\n",
    "    current = head\n",
    "    while current.link != None :\n",
    "        pre = current\n",
    "        current = current.link\n",
    "        if current.data[0] > namePhone[0]:\n",
    "            pre.link = node\n",
    "            node.link = current\n",
    "            return\n",
    "    # 삽입하는 노드가 가장 큰 경우\n",
    "    current.link = node\n",
    "    \n",
    "## 전역 변수 선언 부분 ##\n",
    "memory = []\n",
    "head, current, pre = None, None, None\n",
    "dataArray = [[\"지민\", \"010-1111-1111\"], [\"정국\", \"010-2222-2222\"], [\"뷔\", \"010-3333-3333\"], [\"슈가\", \"010-4444-4444\"], [\"진\", \"010-5555-5555\"]]\n",
    "\n",
    "## 메인 코드 부분 ##\n",
    "if __name__ == \"__main__\" :\n",
    "    for data in dataArray :\n",
    "        makeSimpleLinkedList(data)\n",
    "    #printNodes(head)\n",
    "    #printNodes(current)\n",
    "    printNodes(pre)\n",
    "    "
   ]
  },
  {
   "cell_type": "markdown",
   "id": "ab9ccb56",
   "metadata": {},
   "source": [
    "# 스택일반"
   ]
  },
  {
   "cell_type": "code",
   "execution_count": 31,
   "id": "8ca39c82",
   "metadata": {
    "scrolled": true
   },
   "outputs": [
    {
     "name": "stdout",
     "output_type": "stream",
     "text": [
      "스택의 크기를 입력하세요 ==> 6\n",
      "삽입(I)/추출(E)/확인(V)/종료(X) 중 하나를 선택 ==> i\n",
      "입력할 데이터 ==> aaaa\n",
      "스택 상태 :  ['aaaa', None, None, None, None, None]\n",
      "삽입(I)/추출(E)/확인(V)/종료(X) 중 하나를 선택 ==> i\n",
      "입력할 데이터 ==> bb\n",
      "스택 상태 :  ['aaaa', 'bb', None, None, None, None]\n",
      "삽입(I)/추출(E)/확인(V)/종료(X) 중 하나를 선택 ==> i\n",
      "입력할 데이터 ==> 33\n",
      "스택 상태 :  ['aaaa', 'bb', '33', None, None, None]\n",
      "삽입(I)/추출(E)/확인(V)/종료(X) 중 하나를 선택 ==> i\n",
      "입력할 데이터 ==> 6\n",
      "스택 상태 :  ['aaaa', 'bb', '33', '6', None, None]\n",
      "삽입(I)/추출(E)/확인(V)/종료(X) 중 하나를 선택 ==> x\n",
      "프로그램 종료!\n"
     ]
    }
   ],
   "source": [
    "# %load \"(실습 4) 스택 일반.py\"\n",
    "## 함수 선언 부분 ##\n",
    "def isStackFull() :\n",
    "    global SIZE, stack, top\n",
    "    if (top >= SIZE-1) :\n",
    "        return True\n",
    "    else :\n",
    "        return False\n",
    "def isStackEmpty() :\n",
    "    global SIZE, stack, top\n",
    "    if (top == -1) :\n",
    "        return True\n",
    "    else :\n",
    "        return False\n",
    "def push(data) :\n",
    "    global SIZE, stack, top\n",
    "    if (isStackFull()) :\n",
    "        print(\"스택이 꽉 찼습니다.\")\n",
    "        return\n",
    "    top += 1\n",
    "    stack[top]= data\n",
    "def pop() :\n",
    "    global SIZE, stack, top\n",
    "    if (isStackEmpty()) :\n",
    "        print(\"스택이 비었습니다.\")\n",
    "        return None\n",
    "    data = stack[top]\n",
    "    stack[top] = None\n",
    "    top -= 1\n",
    "    return data\n",
    "def peek() :\n",
    "    global SIZE, stack, top\n",
    "    if (isStackEmpty()) :\n",
    "        print(\"스택이 비었습니다.\")\n",
    "        return None\n",
    "    return stack[top]\n",
    "## 전역 변수 선언 부분 ##\n",
    "SIZE = int(input(\"스택의 크기를 입력하세요 ==> \"))\n",
    "stack = [ None for _ in range(SIZE) ]\n",
    "top = -1\n",
    "## 메인 코드 부분 ##\n",
    "if __name__ == \"__main__\" :\n",
    "    select = input(\"삽입(I)/추출(E)/확인(V)/종료(X) 중 하나를 선택 ==> \")\n",
    "    while (select != 'X' and select != 'x') :\n",
    "        if select=='I' or select =='i' :\n",
    "            data = input(\"입력할 데이터 ==> \")\n",
    "            push(data)\n",
    "            print(\"스택 상태 : \", stack)\n",
    "        elif select=='E' or select =='e' :\n",
    "            data = pop()\n",
    "            print(\"추출된 데이터 ==> \", data)\n",
    "            print(\"스택 상태 : \", stack)\n",
    "        elif select=='V' or select =='v' :\n",
    "            data = peek()\n",
    "            print(\"확인된 데이터 ==> \", data)\n",
    "            print(\"스택 상태 : \", stack)\n",
    "        else :\n",
    "            print(\"입력이 잘못됨\")\n",
    "        select = input(\"삽입(I)/추출(E)/확인(V)/종료(X) 중 하나를 선택 ==> \")\n",
    "    print(\"프로그램 종료!\")"
   ]
  },
  {
   "cell_type": "code",
   "execution_count": 32,
   "id": "21fbbef7",
   "metadata": {},
   "outputs": [
    {
     "name": "stdout",
     "output_type": "stream",
     "text": [
      "['aaaa', 'bb', '33', '6', None, None]\n"
     ]
    }
   ],
   "source": [
    "print(stack)"
   ]
  },
  {
   "cell_type": "code",
   "execution_count": 39,
   "id": "9348eb74",
   "metadata": {},
   "outputs": [
    {
     "name": "stdout",
     "output_type": "stream",
     "text": [
      "스택이 꽉 찼습니다.\n"
     ]
    }
   ],
   "source": [
    "push('zzzzzzzzzzzzzzz')"
   ]
  },
  {
   "cell_type": "code",
   "execution_count": 38,
   "id": "c3c74acb",
   "metadata": {},
   "outputs": [
    {
     "name": "stdout",
     "output_type": "stream",
     "text": [
      "['aaaa', 'bb', '33', '6', 1, 'zzzzzzzzzzzzzzz']\n"
     ]
    }
   ],
   "source": [
    "print(stack)"
   ]
  },
  {
   "cell_type": "code",
   "execution_count": 42,
   "id": "0dd86129",
   "metadata": {},
   "outputs": [
    {
     "name": "stdout",
     "output_type": "stream",
     "text": [
      "['aaaa', 'bb', '33', '6', 1, 'zzzzzzzzzzzzzzz']\n"
     ]
    }
   ],
   "source": [
    "print(stack)"
   ]
  },
  {
   "cell_type": "code",
   "execution_count": 44,
   "id": "77759782",
   "metadata": {},
   "outputs": [
    {
     "data": {
      "text/plain": [
       "'zzzzzzzzzzzzzzz'"
      ]
     },
     "execution_count": 44,
     "metadata": {},
     "output_type": "execute_result"
    }
   ],
   "source": [
    "pop()"
   ]
  },
  {
   "cell_type": "code",
   "execution_count": 45,
   "id": "e6f6558f",
   "metadata": {},
   "outputs": [
    {
     "name": "stdout",
     "output_type": "stream",
     "text": [
      "['aaaa', 'bb', '33', '6', 1, None]\n"
     ]
    }
   ],
   "source": [
    "print(stack)"
   ]
  },
  {
   "cell_type": "code",
   "execution_count": 46,
   "id": "b13eee65",
   "metadata": {},
   "outputs": [
    {
     "data": {
      "text/plain": [
       "1"
      ]
     },
     "execution_count": 46,
     "metadata": {},
     "output_type": "execute_result"
    }
   ],
   "source": [
    "pop()"
   ]
  },
  {
   "cell_type": "code",
   "execution_count": 47,
   "id": "1bf09b8d",
   "metadata": {},
   "outputs": [
    {
     "name": "stdout",
     "output_type": "stream",
     "text": [
      "['aaaa', 'bb', '33', '6', None, None]\n"
     ]
    }
   ],
   "source": [
    "print(stack)"
   ]
  },
  {
   "cell_type": "code",
   "execution_count": 48,
   "id": "814e2555",
   "metadata": {},
   "outputs": [],
   "source": [
    "push('data')"
   ]
  },
  {
   "cell_type": "code",
   "execution_count": 49,
   "id": "ea4babdf",
   "metadata": {},
   "outputs": [
    {
     "name": "stdout",
     "output_type": "stream",
     "text": [
      "['aaaa', 'bb', '33', '6', 'data', None]\n"
     ]
    }
   ],
   "source": [
    "print(stack)"
   ]
  },
  {
   "cell_type": "code",
   "execution_count": 62,
   "id": "e96ae913",
   "metadata": {},
   "outputs": [
    {
     "name": "stdout",
     "output_type": "stream",
     "text": [
      "naver.com-->daum.net-->nate.com-->방문 종료\n",
      "nate.com-->daum.net-->naver.com-->스택이 비었습니다.\n",
      "방문 종료\n"
     ]
    }
   ],
   "source": [
    "import webbrowser\n",
    "import time\n",
    "\n",
    "def isStackFull() :\n",
    "    global SIZE, stack, top\n",
    "    if (top >= SIZE-1) :\n",
    "        return True\n",
    "    else :\n",
    "        return False\n",
    "def isStackEmpty() :\n",
    "    global SIZE, stack, top\n",
    "    if (top == -1) :\n",
    "        return True\n",
    "    else :\n",
    "        return False\n",
    "def push(data) :\n",
    "    global SIZE, stack, top\n",
    "    if (isStackFull()) :\n",
    "        print(\"스택이 꽉 찼습니다.\")\n",
    "        return\n",
    "    top += 1\n",
    "    stack[top]= data\n",
    "def pop() :\n",
    "    global SIZE, stack, top\n",
    "    if (isStackEmpty()) :\n",
    "        print(\"스택이 비었습니다.\")\n",
    "        return None\n",
    "    data = stack[top]\n",
    "    stack[top] = None\n",
    "    top -= 1\n",
    "    return data\n",
    "def peek() :\n",
    "    global SIZE, stack, top\n",
    "    if (isStackEmpty()) :\n",
    "        print(\"스택이 비었습니다.\")\n",
    "        return None\n",
    "    return stack[top]\n",
    "\n",
    "## 전역 변수 선언 부분 ##\n",
    "SIZE = 100\n",
    "stack = [ None for _ in range(SIZE) ]\n",
    "top = -1\n",
    "\n",
    "## 메인 코드 부분 ##\n",
    "if __name__ == \"__main__\":\n",
    "    urls = ['naver.com', 'daum.net', 'nate.com']\n",
    "    \n",
    "    for url in urls :\n",
    "        push(url)\n",
    "        webbrowser.open(url)\n",
    "        print(url, end = '-->')\n",
    "        time.sleep(1)\n",
    "    print('방문 종료')\n",
    "    time.sleep(5)\n",
    "    \n",
    "    while True :\n",
    "        url = pop()\n",
    "        if url == None:\n",
    "            break\n",
    "        webbrowser.open(url)\n",
    "        print(url, end = '-->')\n",
    "        time.sleep(1)\n",
    "    print(\"방문 종료\")"
   ]
  },
  {
   "cell_type": "markdown",
   "id": "8976d9ec",
   "metadata": {},
   "source": [
    "**헨젤과 그레텔**\n",
    "- 헨젤과 그레텔이 돌을 떨어뜨리면서 숲으로 들어간다. 과자집에서 집으로 돌아갈 때는 떨어뜨린 순서와 반대로 돌을 주워야 한다. 스택을 이용해서 집으로 무사히 돌아가도록 하자"
   ]
  },
  {
   "cell_type": "code",
   "execution_count": 67,
   "id": "d00bb9fb",
   "metadata": {
    "scrolled": true
   },
   "outputs": [
    {
     "name": "stdout",
     "output_type": "stream",
     "text": [
      "과자집에 가는길 :  보라 --> 초록 --> 주황 --> 노랑 --> 파랑 --> 빨강 --> 과자집\n",
      "우리집에 오는길 :  빨강 --> 파랑 --> 노랑 --> 주황 --> 초록 --> 보라 --> 우리집\n"
     ]
    }
   ],
   "source": [
    "import random\n",
    "## 함수 선언 부분 ##\n",
    "def isStackFull() :\n",
    "    global SIZE, stack, top\n",
    "    if (top >= SIZE-1) :\n",
    "        return True\n",
    "    else :\n",
    "        return False\n",
    "def isStackEmpty() :\n",
    "    global SIZE, stack, top\n",
    "    if (top == -1) :\n",
    "        return True\n",
    "    else :\n",
    "        return False\n",
    "def push(data) :\n",
    "    global SIZE, stack, top\n",
    "    if (isStackFull()) :\n",
    "        return\n",
    "    top += 1\n",
    "    stack[top] = data\n",
    "def pop() :\n",
    "    global SIZE, stack, top\n",
    "    if (isStackEmpty()) :\n",
    "        return None\n",
    "    data = stack[top]\n",
    "    stack[top] = None\n",
    "    top -= 1\n",
    "    return data\n",
    "def peek() :\n",
    "    global SIZE, stack, top\n",
    "    if (isStackEmpty()) :\n",
    "        return None\n",
    "    return stack[top]\n",
    "\n",
    "## 전역 변수 선언 부분 ##\n",
    "SIZE = 10\n",
    "stack = [ None for _ in range(SIZE) ]\n",
    "top = -1\n",
    "\n",
    "## 메인 코드 부분 ##\n",
    "if __name__ == \"__main__\" :\n",
    "    stoneAry = [\"빨강\", \"파랑\", \"초록\", \"노랑\", \"보라\", \"주황\"]\n",
    "    random.shuffle(stoneAry)\n",
    "    print(\"과자집에 가는길 : \", end = ' ')\n",
    "    for stone in stoneAry :\n",
    "        #TODO\n",
    "        push(stone)\n",
    "        print(stone, \"-->\", end = ' ')\n",
    "    print(\"과자집\")\n",
    "    print(\"우리집에 오는길 : \", end = ' ')\n",
    "    while True :\n",
    "        #TODO\n",
    "        stone = pop()\n",
    "        if stone == None:\n",
    "            break\n",
    "        print(stone, \"-->\", end = ' ')\n",
    "    print(\"우리집\")"
   ]
  },
  {
   "cell_type": "markdown",
   "id": "edecc305",
   "metadata": {},
   "source": [
    "# Queue"
   ]
  },
  {
   "cell_type": "code",
   "execution_count": 73,
   "id": "6461d73b",
   "metadata": {},
   "outputs": [
    {
     "name": "stdout",
     "output_type": "stream",
     "text": [
      "큐의 크기를 입력하세요 ==> 5\n",
      "삽입(I)/추출(E)/확인(V)/종료(X) 중 하나를 선택 ==> i\n",
      "입력할 데이터 ==> 2\n",
      "큐 상태 :  ['2', None, None, None, None]\n",
      "삽입(I)/추출(E)/확인(V)/종료(X) 중 하나를 선택 ==> i\n",
      "입력할 데이터 ==> aaa\n",
      "큐 상태 :  ['2', 'aaa', None, None, None]\n",
      "삽입(I)/추출(E)/확인(V)/종료(X) 중 하나를 선택 ==> i\n",
      "입력할 데이터 ==> 4\n",
      "큐 상태 :  ['2', 'aaa', '4', None, None]\n",
      "삽입(I)/추출(E)/확인(V)/종료(X) 중 하나를 선택 ==> e\n",
      "추출된 데이터 ==>  2\n",
      "큐 상태 :  [None, 'aaa', '4', None, None]\n",
      "삽입(I)/추출(E)/확인(V)/종료(X) 중 하나를 선택 ==> e\n",
      "추출된 데이터 ==>  aaa\n",
      "큐 상태 :  [None, None, '4', None, None]\n",
      "삽입(I)/추출(E)/확인(V)/종료(X) 중 하나를 선택 ==> e\n",
      "추출된 데이터 ==>  4\n",
      "큐 상태 :  [None, None, None, None, None]\n",
      "삽입(I)/추출(E)/확인(V)/종료(X) 중 하나를 선택 ==> i\n",
      "입력할 데이터 ==> zzz\n",
      "큐 상태 :  [None, None, None, 'zzz', None]\n",
      "삽입(I)/추출(E)/확인(V)/종료(X) 중 하나를 선택 ==> x\n",
      "프로그램 종료!\n"
     ]
    }
   ],
   "source": [
    "## 함수 선언 부분 ##\n",
    "def isQueueFull() :\n",
    "    global SIZE, queue, front, rear\n",
    "    if (rear == SIZE-1) :\n",
    "        return True\n",
    "    else :\n",
    "        return False\n",
    "def isQueueEmpty() :\n",
    "    global SIZE, queue, front, rear\n",
    "    if (front == rear) :\n",
    "        return True\n",
    "    else :\n",
    "        return False\n",
    "def enQueue(data) :\n",
    "    global SIZE, queue, front, rear\n",
    "    if (isQueueFull()) :\n",
    "        print(\"큐가 꽉 찼습니다.\")\n",
    "        return\n",
    "    # todo\n",
    "    rear += 1\n",
    "    queue[rear] = data\n",
    "    \n",
    "def deQueue() :\n",
    "    global SIZE, queue, front, rear\n",
    "    if (isQueueEmpty()) :\n",
    "        print(\"큐가 비었습니다.\")\n",
    "        return None\n",
    "    # todo\n",
    "    front += 1\n",
    "    data = queue[front]\n",
    "    queue[front] = None\n",
    "    \n",
    "    return data\n",
    "def peek() :\n",
    "    global SIZE, queue, front, rear\n",
    "    if (isQueueEmpty()) :\n",
    "        print(\"큐가 비었습니다.\")\n",
    "        return None\n",
    "    return queue[front+1]\n",
    "\n",
    "## 전역 변수 선언 부분 ##\n",
    "SIZE = int(input(\"큐의 크기를 입력하세요 ==> \"))\n",
    "queue = [ None for _ in range(SIZE) ]\n",
    "front = rear = -1\n",
    "\n",
    "## 메인 코드 부분 ##\n",
    "if __name__ == \"__main__\" :\n",
    "    select = input(\"삽입(I)/추출(E)/확인(V)/종료(X) 중 하나를 선택 ==> \")\n",
    "    while (select != 'X' and select != 'x') :\n",
    "        if select=='I' or select =='i' :\n",
    "            data = input(\"입력할 데이터 ==> \")\n",
    "            enQueue(data)\n",
    "            print(\"큐 상태 : \", queue)\n",
    "        elif select=='E' or select =='e' :\n",
    "            data = deQueue()\n",
    "            print(\"추출된 데이터 ==> \", data)\n",
    "            print(\"큐 상태 : \", queue)\n",
    "        elif select=='V' or select =='v' :\n",
    "            data = peek()\n",
    "            print(\"확인된 데이터 ==> \", data)\n",
    "            print(\"큐 상태 : \", queue)\n",
    "        else :\n",
    "            print(\"입력이 잘못됨\")\n",
    "        select = input(\"삽입(I)/추출(E)/확인(V)/종료(X) 중 하나를 선택 ==> \")\n",
    "    print(\"프로그램 종료!\")"
   ]
  },
  {
   "cell_type": "code",
   "execution_count": 89,
   "id": "0a371005",
   "metadata": {},
   "outputs": [
    {
     "name": "stdout",
     "output_type": "stream",
     "text": [
      "큐가 꽉 찼는지 여부 ==> False\n",
      "큐 상태 ==>  [None, '문별', '휘인', '선미', None]\n"
     ]
    }
   ],
   "source": [
    "def isQueueFull() :\n",
    "    global SIZE, queue, front, rear\n",
    "    if (rear != SIZE-1) :\n",
    "        return False\n",
    "    elif (rear == SIZE -1) and (front == -1) :\n",
    "        return True\n",
    "    else :\n",
    "        for i in range(front+1, SIZE) :\n",
    "            #TODO\n",
    "            queue[i - 1] = queue[i]\n",
    "            queue[i] = None\n",
    "        #TODO\n",
    "        front -= 1\n",
    "        rear -= 1\n",
    "        return False\n",
    "SIZE = 5\n",
    "queue = [None, None, \"문별\", \"휘인\", \"선미\"]\n",
    "front = 1\n",
    "rear = 4\n",
    "print(\"큐가 꽉 찼는지 여부 ==>\", isQueueFull())\n",
    "print(\"큐 상태 ==> \", queue)\n",
    "\n",
    "\n",
    "\n",
    "\n",
    "\n",
    "\n",
    "\n"
   ]
  },
  {
   "cell_type": "markdown",
   "id": "02852126",
   "metadata": {},
   "source": [
    "# 유명 맛집의 대기줄"
   ]
  },
  {
   "cell_type": "code",
   "execution_count": 92,
   "id": "6acb00b5",
   "metadata": {},
   "outputs": [
    {
     "name": "stdout",
     "output_type": "stream",
     "text": [
      "대기 줄 상태 :  ['정국', '뷔', '지민', '진', '슈가']\n",
      "정국 님 식당에 들어감\n",
      "대기 줄 상태 :  ['뷔', '지민', '진', '슈가', None]\n",
      "뷔 님 식당에 들어감\n",
      "대기 줄 상태 :  ['지민', '진', '슈가', None, None]\n",
      "지민 님 식당에 들어감\n",
      "대기 줄 상태 :  ['진', '슈가', None, None, None]\n",
      "진 님 식당에 들어감\n",
      "대기 줄 상태 :  ['슈가', None, None, None, None]\n",
      "슈가 님 식당에 들어감\n",
      "대기 줄 상태 :  [None, None, None, None, None]\n",
      "식당 영업 종료!\n"
     ]
    }
   ],
   "source": [
    "## 함수 선언 부분 ##\n",
    "def isQueueFull() :\n",
    "    global SIZE, queue, front, rear\n",
    "    if (rear == SIZE-1) :\n",
    "        return True\n",
    "    else :\n",
    "        return False\n",
    "\n",
    "def isQueueEmpty() :\n",
    "    global SIZE, queue, front, rear\n",
    "    if (front == rear) :\n",
    "        return True\n",
    "    else :\n",
    "        return False\n",
    "\n",
    "def enQueue(data) :\n",
    "    global SIZE, queue, front, rear\n",
    "    if (isQueueFull()) :\n",
    "        print(\"큐가 꽉 찼습니다.\")\n",
    "        return\n",
    "    rear += 1\n",
    "    queue[rear] = data\n",
    "\n",
    "def deQueue() :\n",
    "    global SIZE, queue, front, rear\n",
    "    if (isQueueEmpty()) :\n",
    "        print(\"큐가 비었습니다.\")\n",
    "        return None\n",
    "    front += 1\n",
    "    data = queue[front]\n",
    "    queue[front] = None\n",
    "\n",
    "    # 모든 사람을 한칸씩 앞으로 당기기\n",
    "    # todo\n",
    "    for i in range(front + 1, SIZE):\n",
    "        queue[i - 1] = queue[i]\n",
    "        queue[i] = None\n",
    "    front -= 1\n",
    "    rear -= 1\n",
    "    return data\n",
    "\n",
    "def peek() :\n",
    "    global SIZE, queue, front, rear\n",
    "    if (isQueueEmpty()) :\n",
    "        print(\"큐가 비었습니다.\")\n",
    "        return None\n",
    "    return queue[front+1]\n",
    "\n",
    "## 전역 변수 선언 부분 ##\n",
    "SIZE = 5\n",
    "queue = [ None for _ in range(SIZE) ]\n",
    "front = rear = -1\n",
    "\n",
    "## 메인 코드 부분 ##\n",
    "if __name__ == \"__main__\" :\n",
    "    enQueue('정국')\n",
    "    enQueue('뷔')\n",
    "    enQueue('지민')\n",
    "    enQueue('진')\n",
    "    enQueue('슈가')\n",
    "    print(\"대기 줄 상태 : \", queue)\n",
    "\n",
    "    for _ in range(rear+1) :\n",
    "        print(deQueue(), '님 식당에 들어감')\n",
    "        print(\"대기 줄 상태 : \", queue)\n",
    "\n",
    "    print(\"식당 영업 종료!\")"
   ]
  },
  {
   "cell_type": "markdown",
   "id": "c5760b2d",
   "metadata": {},
   "source": [
    "#### 자료구조 : 이진트리\n",
    " - dfs : 깊이우선탐색\n",
    " - bsf : 너비우선탐색"
   ]
  },
  {
   "cell_type": "markdown",
   "id": "1727dbd3",
   "metadata": {},
   "source": [
    " - 큐, 스택을 사용해서 재귀함수로 탐색"
   ]
  },
  {
   "cell_type": "code",
   "execution_count": null,
   "id": "f184f3ab",
   "metadata": {},
   "outputs": [],
   "source": []
  }
 ],
 "metadata": {
  "kernelspec": {
   "display_name": "Python 3 (ipykernel)",
   "language": "python",
   "name": "python3"
  },
  "language_info": {
   "codemirror_mode": {
    "name": "ipython",
    "version": 3
   },
   "file_extension": ".py",
   "mimetype": "text/x-python",
   "name": "python",
   "nbconvert_exporter": "python",
   "pygments_lexer": "ipython3",
   "version": "3.9.12"
  }
 },
 "nbformat": 4,
 "nbformat_minor": 5
}
