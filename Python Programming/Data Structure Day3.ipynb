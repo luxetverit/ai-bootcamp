{
 "cells": [
  {
   "cell_type": "code",
   "execution_count": 6,
   "id": "62bffd79",
   "metadata": {},
   "outputs": [
    {
     "name": "stdout",
     "output_type": "stream",
     "text": [
      "전위 순회 : 화사->솔라->휘인->쯔위->문별->선미->끝\n",
      "중위 순회 : 휘인->솔라->쯔위->화사->선미->문별->끝\n",
      "후위 순회 : 휘인->쯔위->솔라->선미->문별->화사->끝\n"
     ]
    }
   ],
   "source": [
    "class TreeNode() :\n",
    "    def __init__ (self) :\n",
    "        self.left = None\n",
    "        self.data = None\n",
    "        self.right = None\n",
    "node1 = TreeNode()\n",
    "node1.data = '화사'\n",
    "node2 = TreeNode()\n",
    "node2.data = '솔라'\n",
    "node1.left = node2\n",
    "node3 = TreeNode()\n",
    "node3.data = '문별'\n",
    "node1.right = node3\n",
    "node4 = TreeNode()\n",
    "node4.data = '휘인'\n",
    "node2.left = node4\n",
    "node5 = TreeNode()\n",
    "node5.data = '쯔위'\n",
    "node2.right = node5\n",
    "node6 = TreeNode()\n",
    "node6.data = '선미'\n",
    "node3.left = node6\n",
    "def preorder(node) :\n",
    "    if node == None:\n",
    "        return\n",
    "    print(node.data, end='->')\n",
    "    preorder(node.left)\n",
    "    preorder(node.right)\n",
    "def inorder(node):\n",
    "    if node == None :\n",
    "        return\n",
    "    inorder(node.left)\n",
    "    print(node.data, end='->')\n",
    "    inorder(node.right)\n",
    "def postorder(node):\n",
    "    if node == None :\n",
    "        return\n",
    "    postorder(node.left)\n",
    "    postorder(node.right)\n",
    "    print(node.data, end='->')\n",
    "print('전위 순회 : ', end = '')\n",
    "preorder(node1)\n",
    "print('끝')\n",
    "print('중위 순회 : ', end = '')\n",
    "inorder(node1)\n",
    "print('끝')\n",
    "print('후위 순회 : ', end = '')\n",
    "postorder(node1)\n",
    "print('끝')"
   ]
  },
  {
   "cell_type": "code",
   "execution_count": 16,
   "id": "faeb7c46",
   "metadata": {},
   "outputs": [
    {
     "name": "stdout",
     "output_type": "stream",
     "text": [
      "이진 탐색 트리 구성 완료!\n"
     ]
    }
   ],
   "source": [
    "## 함수 선언 부분 ##\n",
    "class TreeNode() :\n",
    "    def __init__ (self) :\n",
    "        self.left = None\n",
    "        self.data = None\n",
    "        self.right = None\n",
    "## 전역 변수 선언 부분 ##\n",
    "memory = []\n",
    "root = None\n",
    "nameAry = ['블랙핑크', '레드벨벳', '마마무', '에이핑크',  '걸스데이', '트와이스' ]\n",
    "## 메인 코드 부분 ##\n",
    "node = TreeNode()\n",
    "node.data = nameAry[0]\n",
    "root = node\n",
    "memory.append(node)\n",
    "for name in nameAry[1:] :\n",
    "    node = TreeNode()\n",
    "    node.data = name\n",
    "    current = root\n",
    "    while True :\n",
    "        if name < current.data :\n",
    "            if current.left == None :\n",
    "                current.left = node\n",
    "                break\n",
    "            current = current.left\n",
    "        else :\n",
    "            if current.right == None :\n",
    "                current.right = node\n",
    "                break\n",
    "            current = current.right\n",
    "    memory.append(node)\n",
    "print(\"이진 탐색 트리 구성 완료!\")"
   ]
  },
  {
   "cell_type": "code",
   "execution_count": 8,
   "id": "16fa04d6",
   "metadata": {},
   "outputs": [
    {
     "name": "stdout",
     "output_type": "stream",
     "text": [
      "블랙핑크->레드벨벳->걸스데이->마마무->에이핑크->트와이스->"
     ]
    }
   ],
   "source": [
    "preorder(root)"
   ]
  },
  {
   "cell_type": "markdown",
   "id": "0fb6e6b9",
   "metadata": {},
   "source": [
    "# 이진 탐색 트리 검색"
   ]
  },
  {
   "cell_type": "code",
   "execution_count": 18,
   "id": "e69e1a42",
   "metadata": {},
   "outputs": [
    {
     "name": "stdout",
     "output_type": "stream",
     "text": [
      "마마무 을(를) 찾음.\n"
     ]
    }
   ],
   "source": [
    "findName = '마마무'\n",
    "\n",
    "current = root\n",
    "while True:\n",
    "    if findName == current.data :\n",
    "        print(findName, '을(를) 찾음.')\n",
    "        break\n",
    "    elif findName < current.data :\n",
    "        if current.left == None :\n",
    "            print(findName, '이(가) 트리에 없음')\n",
    "            break\n",
    "        current = current.left\n",
    "    else :\n",
    "        if current.right == None:\n",
    "            print(findName, '이(가) 트리에 없음')\n",
    "            break\n",
    "        current = current.right"
   ]
  },
  {
   "cell_type": "markdown",
   "id": "5bf983b1",
   "metadata": {},
   "source": [
    "# 이진탐색트리 삭제"
   ]
  },
  {
   "cell_type": "code",
   "execution_count": null,
   "id": "d2c9a31e",
   "metadata": {},
   "outputs": [],
   "source": [
    "deleteName = '마마무'\n",
    "current = root\n",
    "parent = None\n",
    "while True:\n",
    "    if deleteName == current.data :\n",
    "        if current.left == None and current.right == None :\n",
    "            if parent.left == current :\n",
    "                parent.left = None\n",
    "            else :\n",
    "                parent.right = None\n",
    "            del(current)\n",
    "        elif current.left != None and current.right == None :\n",
    "            if parent.left == current :\n",
    "                parent.left = current.left\n",
    "            else :\n",
    "                parent.right = current.left\n",
    "            del(current)\n",
    "        elif current.left == None and current.right != None :\n",
    "            if parent.left == current:\n",
    "                parent.left = current.right\n",
    "            else:\n",
    "                parent.right = current.right\n",
    "            del(current)\n",
    "        print(deleteName, '이(가) 삭제됨.')\n",
    "        break\n",
    "    elif deleteName < current.data :\n",
    "        if current.left == None :\n",
    "            print(deleteName, '이(가) 트리에 없음')\n",
    "            break\n",
    "        parent = current\n",
    "        current = current.left\n",
    "    else:\n",
    "        if current.right == None :\n",
    "            print(deleteName, '이(가) 트리에 없음')\n",
    "            break\n",
    "        parent = current\n",
    "        current = current.right"
   ]
  },
  {
   "cell_type": "markdown",
   "id": "679d5e58",
   "metadata": {},
   "source": [
    "# 선택정렬"
   ]
  },
  {
   "cell_type": "code",
   "execution_count": 20,
   "id": "41a44842",
   "metadata": {},
   "outputs": [
    {
     "name": "stdout",
     "output_type": "stream",
     "text": [
      "정렬 전 --> [188, 162, 168, 120, 50, 150, 177, 105]\n",
      "정렬 후 --> [50, 105, 120, 150, 162, 168, 177, 188]\n"
     ]
    }
   ],
   "source": [
    "## 함수 선언 부분 ##\n",
    "def selectionSort(ary) :\n",
    "    n = len(ary)\n",
    "    for i in range(0, n-1) : #cycle의 반복\n",
    "        minIdx = i\n",
    "        for k in range(i+1, n) :\n",
    "            # todo\n",
    "            if ary[minIdx] > ary[k]:\n",
    "                minIdx = k\n",
    "        data = ary[i]\n",
    "        ary[i] = ary[minIdx]\n",
    "        ary[minIdx] = data\n",
    "        #awap : ary[minIdx], ary[i] = ary[i], ary[minIdx] 위에3줄을 1줄로 대체\n",
    "    return ary\n",
    "\n",
    "## 전역 변수 선언 부분 ##\n",
    "dataAry = [188, 162, 168, 120, 50, 150, 177, 105]\n",
    "## 메인 코드 부분 ##\n",
    "\n",
    "print('정렬 전 -->', dataAry)\n",
    "dataAry = selectionSort(dataAry)\n",
    "print('정렬 후 -->', dataAry)"
   ]
  },
  {
   "cell_type": "markdown",
   "id": "21992ad0",
   "metadata": {},
   "source": [
    "**내림차순으로 자릿수 정렬하기**\n",
    "- 시간 제한 2초 | 난이도 실버 Ⅴ | 백준 온라인 저지 1427번\n",
    "- 배열을 정렬하는 것은 쉽다. 수가 주어지면 그 수의 각 자릿수를 내림차순으로 정렬하시오.\n",
    "**입력**\n",
    "- 1번째 줄에 정렬할 수 N이 주어진다. N은 1,000,000,000보다 작거나 같은 자연수다.\n",
    "**출력**\n",
    "- 1번째 줄에 자릿수를 내림차순 정렬한 수를 출력한다."
   ]
  },
  {
   "cell_type": "code",
   "execution_count": 35,
   "id": "eff4f30a",
   "metadata": {},
   "outputs": [
    {
     "name": "stdout",
     "output_type": "stream",
     "text": [
      "135139999128391\n",
      "999998533321111"
     ]
    }
   ],
   "source": [
    "N = list(input())\n",
    "\n",
    "def solution(N) :\n",
    "    n = len(N)\n",
    "    for i in range(0, n-1) :\n",
    "        minidx = i\n",
    "        for j in range(i+1, n) :\n",
    "            if N[minidx] < N[j]:\n",
    "                minidx = j\n",
    "        data = N[i]\n",
    "        N[i] = N[minidx]\n",
    "        N[minidx] = data\n",
    "        #N[i], N[minidx] = N[minidx], N[i]\n",
    "    return N\n",
    "\n",
    "result_arr = solution(N)\n",
    "for i in range(0, len(result_arr)) :\n",
    "    print(result_arr[i], end='')"
   ]
  },
  {
   "cell_type": "markdown",
   "id": "6c86637e",
   "metadata": {},
   "source": [
    "# 삽입정렬"
   ]
  },
  {
   "cell_type": "code",
   "execution_count": 36,
   "id": "88b456e5",
   "metadata": {},
   "outputs": [
    {
     "name": "stdout",
     "output_type": "stream",
     "text": [
      "정렬 전 --> [188, 162, 168, 120, 50, 150, 177, 105]\n",
      "정렬 후 --> [50, 105, 120, 150, 162, 168, 177, 188]\n"
     ]
    }
   ],
   "source": [
    "## 함수 선언 부분 ##\n",
    "def insertionSort(ary) :\n",
    "    n = len(ary)\n",
    "    for end in range(1, n) :\n",
    "        for cur in range(end, 0, -1) :\n",
    "            # todo\n",
    "            if ary[cur - 1] > ary[cur] :\n",
    "                ary[cur -1], ary[cur] = ary[cur], ary[cur - 1]\n",
    "    return ary\n",
    "## 전역 변수 선언 부분 ##\n",
    "dataAry = [188, 162, 168, 120, 50, 150, 177, 105]\n",
    "## 메인 코드 부분 ##\n",
    "print('정렬 전 -->', dataAry)\n",
    "dataAry = insertionSort(dataAry)\n",
    "print('정렬 후 -->', dataAry)"
   ]
  },
  {
   "cell_type": "markdown",
   "id": "b560d0c0",
   "metadata": {},
   "source": [
    " - **성적별 조 편성하기**\n",
    " \n",
    "학생의 성적별로 정렬한 후 가장 성적이 높은 학생과 가장 성적이 낮은 학생을 짝으로 조를 만들어 주자. 전체 학생 수는 짝수라고 가정한다."
   ]
  },
  {
   "cell_type": "code",
   "execution_count": 45,
   "id": "2c3712da",
   "metadata": {},
   "outputs": [
    {
     "name": "stdout",
     "output_type": "stream",
     "text": [
      "정렬 전 --> [['선미', 88], ['초아', 99], ['화사', 71], ['영탁', 78], ['영웅', 67], ['민호', 92]]\n",
      "정렬 후 --> [['영웅', 67], ['화사', 71], ['영탁', 78], ['선미', 88], ['민호', 92], ['초아', 99]]\n",
      "## 성적별 조 편성표 ##\n",
      "영웅 초아\n",
      "화사 민호\n",
      "영탁 선미\n"
     ]
    }
   ],
   "source": [
    "## 함수 선언 부분 ##\n",
    "def scoreSort(ary) :\n",
    "    n = len(ary)\n",
    "    for end in range(1, n) :\n",
    "        for cur in range(end, 0, -1) :\n",
    "            if ( ary[cur-1][1] > ary[cur][1] ) :\n",
    "                ary[cur-1], ary[cur] = ary[cur], ary[cur-1]\n",
    "    return ary\n",
    "## 전역 변수 선언 부분 ##\n",
    "scoreAry = [['선미', 88], ['초아', 99], ['화사', 71], ['영탁', 78], ['영웅', 67], ['민호', 92]]\n",
    "## 메인 코드 부분 ##\n",
    "print('정렬 전 -->', scoreAry)\n",
    "scoreAry = scoreSort(scoreAry)\n",
    "print('정렬 후 -->', scoreAry)\n",
    "print('## 성적별 조 편성표 ##')\n",
    "for i in range(len(scoreAry)//2) :\n",
    "    # todo\n",
    "    print(scoreAry[i][0], scoreAry[len(scoreAry) - i -1][0])\n",
    "    "
   ]
  },
  {
   "cell_type": "markdown",
   "id": "52bbba2a",
   "metadata": {},
   "source": [
    "# 버블정렬"
   ]
  },
  {
   "cell_type": "code",
   "execution_count": 46,
   "id": "93a7fe48",
   "metadata": {},
   "outputs": [
    {
     "name": "stdout",
     "output_type": "stream",
     "text": [
      "정렬 전 --> [50, 105, 120, 188, 150, 162, 168, 177]\n",
      "정렬 후 --> [50, 105, 120, 150, 162, 168, 177, 188]\n"
     ]
    }
   ],
   "source": [
    "## 함수 선언 부분 ##\n",
    "def bubbleSort(ary) :\n",
    "    n = len(ary)\n",
    "    for end in range(n-1, 0, -1) :\n",
    "        changeYN = False\n",
    "        for cur in range(0, end) :\n",
    "            if (ary[cur] > ary[cur+1]) :\n",
    "                ary[cur], ary[cur+1] = ary[cur+1], ary[cur]\n",
    "                # todo\n",
    "                changeYN = True\n",
    "            if chargeYN == False :\n",
    "                break\n",
    "         # todo\n",
    "    return ary\n",
    "## 전역 변수 선언 부분 ##\n",
    "dataAry = [50, 105, 120, 188, 150, 162, 168, 177]\n",
    "## 메인 코드 부분 ##\n",
    "print('정렬 전 -->', dataAry)\n",
    "dataAry = bubbleSort(dataAry)\n",
    "print('정렬 후 -->', dataAry)"
   ]
  },
  {
   "cell_type": "markdown",
   "id": "06eefe04",
   "metadata": {},
   "source": [
    "# 퀵정렬"
   ]
  },
  {
   "cell_type": "markdown",
   "id": "9c829035",
   "metadata": {},
   "source": [
    " - 중간값(pivot)을 설정 후 좌우로 나누어 정렬(left, pivot, right)"
   ]
  },
  {
   "cell_type": "code",
   "execution_count": 47,
   "id": "62661920",
   "metadata": {},
   "outputs": [
    {
     "name": "stdout",
     "output_type": "stream",
     "text": [
      "정렬 전 --> [188, 150, 168, 162, 105, 120, 177, 50]\n",
      "정렬 후 --> [50, 105, 120, 150, 162, 168, 177, 188]\n"
     ]
    }
   ],
   "source": [
    "## 함수 선언 부분 ##\n",
    "def quickSort(ary) :\n",
    "    n = len(ary)\n",
    "    if n <= 1 : # 정렬할 리스트의 개수가 1개 이하면\n",
    "        return ary\n",
    "    pivot = ary[n // 2]   # 기준값을 중간값으로 지정\n",
    "    leftAry, rightAry = [], []\n",
    "    for num in ary :\n",
    "        if num < pivot :\n",
    "            # todo\n",
    "            leftAry.append(num)\n",
    "        elif num > pivot :\n",
    "            # todo\n",
    "            rightAry.append(num)\n",
    "    return quickSort(leftAry) + [pivot] + quickSort(rightAry)\n",
    "## 전역 변수 선언 부분 ##\n",
    "dataAry = [188, 150, 168,  162, 105, 120,  177,  50]\n",
    "## 메인 코드 부분 ##\n",
    "print('정렬 전 -->', dataAry)\n",
    "dataAry = quickSort(dataAry)\n",
    "print('정렬 후 -->', dataAry)"
   ]
  },
  {
   "cell_type": "markdown",
   "id": "98295f5e",
   "metadata": {},
   "source": [
    " - 중복된 자료가 있는 경우의 퀵정렬"
   ]
  },
  {
   "cell_type": "code",
   "execution_count": 2,
   "id": "8805d73a",
   "metadata": {},
   "outputs": [
    {
     "name": "stdout",
     "output_type": "stream",
     "text": [
      "정렬 전 --> [120, 120, 188, 150, 168, 50, 50, 162, 105, 120, 177, 50]\n",
      "정렬 후 --> [50, 50, 50, 50, 105, 105, 120, 120, 120, 120, 150, 150, 162, 162, 168, 168, 177, 177, 188]\n"
     ]
    }
   ],
   "source": [
    "## 함수 선언 부분 ##\n",
    "def quickSort(ary) :\n",
    "    n = len(ary)\n",
    "    if n <= 1 :   # 정렬할 리스트의 개수가 1개 이하면\n",
    "        return ary\n",
    "    pivot = ary[n // 2]   # 기준값을 중간 값으로 지정\n",
    "    leftAry, midAry, rightAry = [], [], []\n",
    "    for num in ary :\n",
    "        if num < pivot :\n",
    "            # todo\n",
    "            leftAry.append(num)\n",
    "        elif num > pivot :\n",
    "            # todo\n",
    "            rightAry.append(num)\n",
    "        else :\n",
    "            # todo\n",
    "            midAry.append(num)\n",
    "    return quickSort(leftAry) + midAry +  [pivot] + quickSort(rightAry)\n",
    "\n",
    "## 전역 변수 선언 부분 ##\n",
    "dataAry = [120, 120, 188, 150, 168, 50, 50, 162, 105, 120,  177,  50]\n",
    "## 메인 코드 부분 ##\n",
    "print('정렬 전 -->', dataAry)\n",
    "dataAry = quickSort(dataAry)\n",
    "print('정렬 후 -->', dataAry)"
   ]
  },
  {
   "cell_type": "markdown",
   "id": "7f29d2da",
   "metadata": {},
   "source": [
    " - 일반적인 퀵정렬"
   ]
  },
  {
   "cell_type": "code",
   "execution_count": 9,
   "id": "55859140",
   "metadata": {},
   "outputs": [
    {
     "name": "stdout",
     "output_type": "stream",
     "text": [
      "정렬 전 --> [188, 150, 168, 162, 105, 120, 177, 50]\n"
     ]
    },
    {
     "ename": "IndexError",
     "evalue": "list index out of range",
     "output_type": "error",
     "traceback": [
      "\u001b[1;31m---------------------------------------------------------------------------\u001b[0m",
      "\u001b[1;31mIndexError\u001b[0m                                Traceback (most recent call last)",
      "Input \u001b[1;32mIn [9]\u001b[0m, in \u001b[0;36m<cell line: 26>\u001b[1;34m()\u001b[0m\n\u001b[0;32m     24\u001b[0m \u001b[38;5;66;03m## 메인 코드 부분 ##\u001b[39;00m\n\u001b[0;32m     25\u001b[0m \u001b[38;5;28mprint\u001b[39m(\u001b[38;5;124m'\u001b[39m\u001b[38;5;124m정렬 전 -->\u001b[39m\u001b[38;5;124m'\u001b[39m, dataAry)\n\u001b[1;32m---> 26\u001b[0m \u001b[43mquickSort\u001b[49m\u001b[43m(\u001b[49m\u001b[43mdataAry\u001b[49m\u001b[43m)\u001b[49m\n\u001b[0;32m     27\u001b[0m \u001b[38;5;28mprint\u001b[39m(\u001b[38;5;124m'\u001b[39m\u001b[38;5;124m정렬 후 -->\u001b[39m\u001b[38;5;124m'\u001b[39m, dataAry)\n",
      "Input \u001b[1;32mIn [9]\u001b[0m, in \u001b[0;36mquickSort\u001b[1;34m(arr)\u001b[0m\n\u001b[0;32m     19\u001b[0m \u001b[38;5;28;01mdef\u001b[39;00m \u001b[38;5;21mquickSort\u001b[39m(arr) :\n\u001b[1;32m---> 20\u001b[0m     \u001b[43mqSort\u001b[49m\u001b[43m(\u001b[49m\u001b[43marr\u001b[49m\u001b[43m,\u001b[49m\u001b[43m \u001b[49m\u001b[38;5;241;43m0\u001b[39;49m\u001b[43m,\u001b[49m\u001b[43m \u001b[49m\u001b[38;5;28;43mlen\u001b[39;49m\u001b[43m(\u001b[49m\u001b[43marr\u001b[49m\u001b[43m)\u001b[49m\u001b[38;5;241;43m-\u001b[39;49m\u001b[38;5;241;43m1\u001b[39;49m\u001b[43m)\u001b[49m\n",
      "Input \u001b[1;32mIn [9]\u001b[0m, in \u001b[0;36mqSort\u001b[1;34m(arr, left, right)\u001b[0m\n\u001b[0;32m      7\u001b[0m \u001b[38;5;28;01mwhile\u001b[39;00m arr[left] \u001b[38;5;241m<\u001b[39m pivot :\n\u001b[0;32m      8\u001b[0m     left \u001b[38;5;241m+\u001b[39m\u001b[38;5;241m=\u001b[39m \u001b[38;5;241m1\u001b[39m\n\u001b[1;32m----> 9\u001b[0m \u001b[38;5;28;01mwhile\u001b[39;00m \u001b[43marr\u001b[49m\u001b[43m[\u001b[49m\u001b[43mright\u001b[49m\u001b[43m]\u001b[49m \u001b[38;5;241m>\u001b[39m pivot :\n\u001b[0;32m     10\u001b[0m     right \u001b[38;5;241m+\u001b[39m\u001b[38;5;241m=\u001b[39m \u001b[38;5;241m1\u001b[39m\n\u001b[0;32m     11\u001b[0m \u001b[38;5;28;01mif\u001b[39;00m left \u001b[38;5;241m<\u001b[39m\u001b[38;5;241m=\u001b[39m right :\n",
      "\u001b[1;31mIndexError\u001b[0m: list index out of range"
     ]
    }
   ],
   "source": [
    "\n",
    "def qSort(arr, left, right) :\n",
    "    n = len(arr)\n",
    "    if n <= 1 :\n",
    "        return arr\n",
    "    pivot = arr[(left + right) // 2]\n",
    "    while left <= right :\n",
    "        while arr[left] < pivot :\n",
    "            left += 1\n",
    "        while arr[right] > pivot :\n",
    "            right += 1\n",
    "        if left <= right :\n",
    "            arr[left], arr[right] = arr[right], arr[left]\n",
    "            left += 1\n",
    "            right -= 1\n",
    "    mid = left\n",
    "    qSort(arr, left, mid - 1)\n",
    "    qSory(arr, mid, right)\n",
    "    \n",
    "def quickSort(arr) :\n",
    "    qSort(arr, 0, len(arr)-1)\n",
    "\n",
    "## 전역 변수 선언 부분 ##\n",
    "dataAry = [188, 150, 168, 162, 105, 120, 177, 50]\n",
    "## 메인 코드 부분 ##\n",
    "print('정렬 전 -->', dataAry)\n",
    "quickSort(dataAry)\n",
    "print('정렬 후 -->', dataAry)\n",
    "    "
   ]
  },
  {
   "cell_type": "code",
   "execution_count": 10,
   "id": "f995fabb",
   "metadata": {},
   "outputs": [
    {
     "name": "stdout",
     "output_type": "stream",
     "text": [
      "정렬 전 --> [188, 150, 168, 162, 105, 120, 177, 50]\n",
      "정렬 후 --> [50, 105, 120, 150, 162, 168, 177, 188]\n"
     ]
    }
   ],
   "source": [
    "## 함수 선언 부분 ##\n",
    "def qSort(arr, start, end) :\n",
    "    if end <= start :\n",
    "        return\n",
    "    low = start\n",
    "    high = end\n",
    "    pivot = arr[(low + high) // 2]  # 작은 값은 왼쪽, 큰 값은 오른쪽으로 분리한다.\n",
    "    while low <= high :\n",
    "        while arr[low] < pivot :\n",
    "            low += 1\n",
    "        while arr[high] > pivot :\n",
    "            high -= 1\n",
    "        if low <= high :\n",
    "            arr[low], arr[high] = arr[high], arr[low]\n",
    "            low, high = low + 1, high - 1\n",
    "    mid = low\n",
    "    qSort(arr, start, mid-1)\n",
    "    qSort(arr, mid, end)\n",
    "def quickSort(ary) :\n",
    "    qSort(ary, 0, len(ary)-1)\n",
    "## 전역 변수 선언 부분 ##\n",
    "dataAry = [188, 150, 168, 162, 105, 120, 177, 50]\n",
    "## 메인 코드 부분 ##\n",
    "print('정렬 전 -->', dataAry)\n",
    "quickSort(dataAry)\n",
    "print('정렬 후 -->', dataAry)"
   ]
  },
  {
   "cell_type": "code",
   "execution_count": null,
   "id": "c9059386",
   "metadata": {},
   "outputs": [],
   "source": []
  }
 ],
 "metadata": {
  "kernelspec": {
   "display_name": "Python 3 (ipykernel)",
   "language": "python",
   "name": "python3"
  },
  "language_info": {
   "codemirror_mode": {
    "name": "ipython",
    "version": 3
   },
   "file_extension": ".py",
   "mimetype": "text/x-python",
   "name": "python",
   "nbconvert_exporter": "python",
   "pygments_lexer": "ipython3",
   "version": "3.9.12"
  }
 },
 "nbformat": 4,
 "nbformat_minor": 5
}
