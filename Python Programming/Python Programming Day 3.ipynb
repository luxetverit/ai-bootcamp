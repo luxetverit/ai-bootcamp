{
 "cells": [
  {
   "cell_type": "markdown",
   "id": "24b1b9a5",
   "metadata": {},
   "source": [
    "# for와 range 사용하기"
   ]
  },
  {
   "cell_type": "code",
   "execution_count": null,
   "id": "a7e9e51d",
   "metadata": {},
   "outputs": [],
   "source": []
  },
  {
   "cell_type": "code",
   "execution_count": null,
   "id": "07628f73",
   "metadata": {},
   "outputs": [],
   "source": []
  },
  {
   "cell_type": "markdown",
   "id": "9db1a278",
   "metadata": {},
   "source": [
    "# Workshop"
   ]
  },
  {
   "cell_type": "markdown",
   "id": "97d30920",
   "metadata": {},
   "source": [
    "**구구단 출력 프로그램**\n",
    "- 표준 입력으로 성수가 입력됩니다. 입력된 정수의 구구단을 출력하는 프로그램을 만드세요(input에서 안내 문자열은 출력하지 않아야 합니다). 출력형식은 숫자 * 숫자 = 숫자 처럼 만들고 숫자와 *, = 사이는 공백을 한칸 띄웁니다.\n",
    "\n",
    "```\n",
    "입력 예\n",
    "2\n",
    "\n",
    "결과\n",
    "2 * 1 = 2\n",
    "2 * 2 = 4\n",
    "2 * 3 = 6\n",
    "2 * 4 = 8\n",
    "2 * 5 = 10\n",
    "2 * 6 = 12\n",
    "2 * 7 = 14\n",
    "2 * 8 = 16\n",
    "2 * 9 = 18\n",
    "```"
   ]
  },
  {
   "cell_type": "code",
   "execution_count": null,
   "id": "0ed60eec",
   "metadata": {},
   "outputs": [],
   "source": []
  },
  {
   "cell_type": "markdown",
   "id": "d6c68149",
   "metadata": {},
   "source": [
    "# while 반복문 사용하기"
   ]
  },
  {
   "cell_type": "code",
   "execution_count": null,
   "id": "d7d84e56",
   "metadata": {},
   "outputs": [],
   "source": []
  },
  {
   "cell_type": "markdown",
   "id": "35e7d18a",
   "metadata": {},
   "source": [
    "# Workshop"
   ]
  },
  {
   "cell_type": "markdown",
   "id": "69c896d5",
   "metadata": {},
   "source": [
    "- 주사위 던지고 눈을 출력하는 동작을 계속 반복하다가\n",
    "- \"3\"이 나왔을때 멈추기"
   ]
  },
  {
   "cell_type": "code",
   "execution_count": null,
   "id": "93885371",
   "metadata": {},
   "outputs": [],
   "source": []
  },
  {
   "cell_type": "markdown",
   "id": "c70f2afe",
   "metadata": {},
   "source": [
    "**교통카드 잔액 출력하기**\n",
    "- 표준입력으로 금액(정수)이 입력됩니다. 1회당 요금은 1,350이고, 교통카드를 사용했을 때마다의 잔액을 각 줄에 출력하는 프로그램을 만드세요(input에서 안내 문자열은 출려갛지 않아야 합니다). 단, 최초 금액은 출력하지 않아야 합니다. 그리고 잔액은 음수가 될 수 없으며 잔액이 부족하면 출력을 끝냅니다."
   ]
  },
  {
   "cell_type": "code",
   "execution_count": null,
   "id": "eb6f6b88",
   "metadata": {},
   "outputs": [],
   "source": []
  },
  {
   "cell_type": "markdown",
   "id": "ed06c536",
   "metadata": {},
   "source": [
    "**3으로 끝나는 숫자만 출력하기**\n",
    "- 0과 73 사이의 숫자 중 3으로 끝나는 숫자만 출력되게 만드세요.\n",
    "```\n",
    "출력예\n",
    "3 13 23 33 43 53 63 73 \n",
    "```"
   ]
  },
  {
   "cell_type": "code",
   "execution_count": null,
   "id": "4ffd74f5",
   "metadata": {},
   "outputs": [],
   "source": []
  },
  {
   "cell_type": "markdown",
   "id": "9fc0ba9a",
   "metadata": {},
   "source": [
    "**알파벳별 빈도 사전 등록**\n",
    "- 다음의 주어진 문자열 s에서 알파벳 별 빈도를 사전형인 d에 등록하는 파이썬 코드블럭을 작성하시오. \n",
    "\n",
    "```\n",
    "s = ‘life is short, so python is easy.’ \n",
    "punct = ‘,. ’ \n",
    "d = {} \n",
    "\n",
    "결과 print(d) (순서는 상관 없음)\n",
    "{'a': 1, 'e': 2, 'f': 1, 'i': 3, 'h': 2, 'l': 1, 'o': 3, 'n': 1, 'p': 1, 's': 5, 'r': 1, 't': 2, 'y': 2}\n",
    "\n",
    "```"
   ]
  },
  {
   "cell_type": "code",
   "execution_count": null,
   "id": "dc45de9a",
   "metadata": {},
   "outputs": [],
   "source": []
  },
  {
   "cell_type": "markdown",
   "id": "0c9a29ca",
   "metadata": {},
   "source": [
    "# 중첩 루프 사용하기"
   ]
  },
  {
   "cell_type": "code",
   "execution_count": null,
   "id": "a4f72dc6",
   "metadata": {},
   "outputs": [],
   "source": []
  },
  {
   "cell_type": "code",
   "execution_count": null,
   "id": "8b28f809",
   "metadata": {},
   "outputs": [],
   "source": []
  },
  {
   "cell_type": "markdown",
   "id": "c2965f89",
   "metadata": {},
   "source": [
    "**FizzBuzz 문제**\n",
    "\n",
    "- 1에서 100까지 출력\n",
    "- 3의 배수는 Fizz 출력\n",
    "- 5의 배수는 Buzz 출력\n",
    "- 3과 5의 공배수는 FizzBuzz 출력"
   ]
  },
  {
   "cell_type": "code",
   "execution_count": null,
   "id": "35963eea",
   "metadata": {},
   "outputs": [],
   "source": []
  },
  {
   "cell_type": "markdown",
   "id": "ae5018fa",
   "metadata": {},
   "source": [
    "# 리스트 응용하기"
   ]
  },
  {
   "cell_type": "code",
   "execution_count": null,
   "id": "d906227f",
   "metadata": {},
   "outputs": [],
   "source": []
  },
  {
   "cell_type": "markdown",
   "id": "71b5ddf2",
   "metadata": {},
   "source": [
    "# Workshop"
   ]
  },
  {
   "cell_type": "markdown",
   "id": "56aea7e4",
   "metadata": {},
   "source": [
    "**리스트에서 특정 요소만 뽑아내기**\n",
    "- 리스트 a에 들어있는 문자열 중에서 길이가 5인 것들만 리스트 형태로 출력되게 만드세요"
   ]
  },
  {
   "cell_type": "code",
   "execution_count": null,
   "id": "e5a0fe2e",
   "metadata": {},
   "outputs": [],
   "source": [
    "a = ['alpha', 'bravo', 'charlie', 'delta', 'echo', 'foxtrot', 'golf', 'hotel', 'india']"
   ]
  },
  {
   "cell_type": "code",
   "execution_count": null,
   "id": "65b9b453",
   "metadata": {},
   "outputs": [],
   "source": []
  }
 ],
 "metadata": {
  "kernelspec": {
   "display_name": "Python 3 (ipykernel)",
   "language": "python",
   "name": "python3"
  },
  "language_info": {
   "codemirror_mode": {
    "name": "ipython",
    "version": 3
   },
   "file_extension": ".py",
   "mimetype": "text/x-python",
   "name": "python",
   "nbconvert_exporter": "python",
   "pygments_lexer": "ipython3",
   "version": "3.9.12"
  }
 },
 "nbformat": 4,
 "nbformat_minor": 5
}
