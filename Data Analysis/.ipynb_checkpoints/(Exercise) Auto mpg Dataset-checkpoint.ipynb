{
 "cells": [
  {
   "cell_type": "markdown",
   "metadata": {
    "id": "o7tXqDDMA_qN"
   },
   "source": [
    "## 자동차 연비 데이터셋"
   ]
  },
  {
   "cell_type": "markdown",
   "metadata": {
    "id": "sOh6ZruLA_qR"
   },
   "source": [
    "- [UCI Machine Learning Repository](http://archive.ics.uci.edu/ml/index.php)의 [\n",
    "Auto MPG Data Set](https://archive.ics.uci.edu/ml/datasets/auto+mpg)에서 다운로드\n",
    " \n",
    " \n",
    "- [Kaggle](https://www.kaggle.com/)의\n",
    "[Auto-mpg dataset](https://www.kaggle.com/uciml/autompg-dataset)에서 다운로드"
   ]
  },
  {
   "cell_type": "code",
   "execution_count": 1,
   "metadata": {
    "executionInfo": {
     "elapsed": 560,
     "status": "ok",
     "timestamp": 1656918240722,
     "user": {
      "displayName": "장경희",
      "userId": "05148120440289478711"
     },
     "user_tz": -540
    },
    "id": "-ssQM0Z6A_qR"
   },
   "outputs": [],
   "source": [
    "import pandas as pd\n",
    "import matplotlib.pyplot as plt\n",
    "import seaborn as sns\n",
    "import numpy as np"
   ]
  },
  {
   "cell_type": "markdown",
   "metadata": {
    "id": "IToZP9CpA_qS"
   },
   "source": [
    "## 1. 데이터 탐색"
   ]
  },
  {
   "cell_type": "markdown",
   "metadata": {
    "id": "DDqmSBDqA_qT"
   },
   "source": [
    "#### 1.1 데이터 적재"
   ]
  },
  {
   "cell_type": "code",
   "execution_count": null,
   "metadata": {},
   "outputs": [],
   "source": []
  },
  {
   "cell_type": "markdown",
   "metadata": {
    "id": "raS3-tZeA_qU"
   },
   "source": [
    "#### 1.2 데이터 일부 확인"
   ]
  },
  {
   "cell_type": "code",
   "execution_count": null,
   "metadata": {},
   "outputs": [],
   "source": []
  },
  {
   "cell_type": "markdown",
   "metadata": {
    "id": "R2QgQ5TDA_qV"
   },
   "source": [
    "0. mpg: continuous\n",
    "1. cylinders: multi-valued discrete\n",
    "2. displacement: continuous\n",
    "3. horsepower: continuous\n",
    "4. weight: continuous\n",
    "5. acceleration: continuous\n",
    "6. model year: multi-valued discrete\n",
    "7. origin: multi-valued discrete\n",
    "8. car name: string (unique for each instance)"
   ]
  },
  {
   "cell_type": "markdown",
   "metadata": {
    "id": "AMNWmKcGA_qV"
   },
   "source": [
    "#### 1.3 열 이름 지정"
   ]
  },
  {
   "cell_type": "markdown",
   "metadata": {
    "id": "ieRM21C2A_qW"
   },
   "source": [
    "* 예 : ['mpg','cylinders','displacement','horsepower','weight', 'acceleration','model year','origin','name']"
   ]
  },
  {
   "cell_type": "code",
   "execution_count": null,
   "metadata": {},
   "outputs": [],
   "source": []
  },
  {
   "cell_type": "markdown",
   "metadata": {
    "id": "aV17_Q7EA_qW"
   },
   "source": [
    "- mpg : 연비\n",
    "- cylinders : 실린더수 \n",
    "- displacement : 배기량\n",
    "- horsepower: 출력\n",
    "- weight : 차중\n",
    "- acceleration : 가속능력\n",
    "- model year : 출시년도\n",
    "- origin : 제조국 1(USA), 2(EU), 3(JPN)\n",
    "- name : 모델명"
   ]
  },
  {
   "cell_type": "markdown",
   "metadata": {
    "id": "SLUlJ4wvA_qW"
   },
   "source": [
    "#### 1.4 데이터 형상 확인"
   ]
  },
  {
   "cell_type": "code",
   "execution_count": null,
   "metadata": {},
   "outputs": [],
   "source": []
  },
  {
   "cell_type": "markdown",
   "metadata": {
    "id": "OpWzFXFcA_qX"
   },
   "source": [
    "#### 1.5 데이터 요약정보 확인(데이터 타입, 누락정보)"
   ]
  },
  {
   "cell_type": "code",
   "execution_count": null,
   "metadata": {},
   "outputs": [],
   "source": []
  },
  {
   "cell_type": "markdown",
   "metadata": {
    "id": "0whTieQ3A_qY"
   },
   "source": [
    "#### 1.6 데이터 자료형 확인 "
   ]
  },
  {
   "cell_type": "code",
   "execution_count": null,
   "metadata": {},
   "outputs": [],
   "source": []
  },
  {
   "cell_type": "markdown",
   "metadata": {
    "id": "mOZ6e3YyA_qY"
   },
   "source": [
    "#### 1.7 Series(horsepower 열)의 자료형 확인 "
   ]
  },
  {
   "cell_type": "code",
   "execution_count": null,
   "metadata": {},
   "outputs": [],
   "source": []
  },
  {
   "cell_type": "markdown",
   "metadata": {
    "id": "oTy1fEhjA_qY"
   },
   "source": [
    "* (Question) horsepower는 숫자 데이터인데 왜 object 형으로 반환되었을까?\n",
    "* (Answer) "
   ]
  },
  {
   "cell_type": "markdown",
   "metadata": {
    "id": "hU-E3gEVA_qY"
   },
   "source": [
    "#### 1.8 제조국(origin) 특성의 데이터 분포(건수) 확인하기\n",
    "- 1(USA), 2(EU), 3(JPN)"
   ]
  },
  {
   "cell_type": "code",
   "execution_count": null,
   "metadata": {},
   "outputs": [],
   "source": []
  },
  {
   "cell_type": "markdown",
   "metadata": {
    "id": "DtxpqodyA_qZ"
   },
   "source": [
    "#### 1.9 제조국(origin) 특성을 histogram으로 표현하기"
   ]
  },
  {
   "cell_type": "code",
   "execution_count": null,
   "metadata": {},
   "outputs": [],
   "source": []
  },
  {
   "cell_type": "markdown",
   "metadata": {
    "id": "_Bo0KvybA_qZ"
   },
   "source": [
    "#### 1.10 coutry 컬럼 추가하기\n",
    "* 제조국 1, 2, 3을 각각 \"USA\", \"Europe\", \"Japan\"으로 대체한 값을 새로운 컬럼(country)에 적용하기"
   ]
  },
  {
   "cell_type": "code",
   "execution_count": null,
   "metadata": {},
   "outputs": [],
   "source": []
  },
  {
   "cell_type": "markdown",
   "metadata": {
    "id": "DSpisIiZA_qZ"
   },
   "source": [
    "* coutry 특성으로 groupby하여 \"국가당 몇건\"의 샘플이 있는지 확인하기"
   ]
  },
  {
   "cell_type": "code",
   "execution_count": null,
   "metadata": {},
   "outputs": [],
   "source": []
  },
  {
   "cell_type": "code",
   "execution_count": null,
   "metadata": {},
   "outputs": [],
   "source": []
  },
  {
   "cell_type": "markdown",
   "metadata": {
    "id": "Dp7-np-kA_qa"
   },
   "source": [
    "- 위에서 구한 국가당 레코드수를 파이차트 그리기"
   ]
  },
  {
   "cell_type": "code",
   "execution_count": null,
   "metadata": {},
   "outputs": [],
   "source": []
  },
  {
   "cell_type": "code",
   "execution_count": null,
   "metadata": {},
   "outputs": [],
   "source": []
  },
  {
   "cell_type": "markdown",
   "metadata": {
    "id": "Bah_aQ56A_qa"
   },
   "source": [
    "#### 1.11 국가별(country) mpg 값의 분포를 boxplot으로 확인하기\n",
    "- (Question) mpg의 중간값이 가장 낮은 국가는?\n",
    "- (Answer) "
   ]
  },
  {
   "cell_type": "code",
   "execution_count": null,
   "metadata": {},
   "outputs": [],
   "source": []
  },
  {
   "cell_type": "code",
   "execution_count": null,
   "metadata": {},
   "outputs": [],
   "source": []
  },
  {
   "cell_type": "markdown",
   "metadata": {
    "id": "P8gqMf1KA_qb"
   },
   "source": [
    "#### 1.12 통계 정보 확인 "
   ]
  },
  {
   "cell_type": "code",
   "execution_count": null,
   "metadata": {},
   "outputs": [],
   "source": []
  },
  {
   "cell_type": "code",
   "execution_count": null,
   "metadata": {},
   "outputs": [],
   "source": []
  },
  {
   "cell_type": "markdown",
   "metadata": {
    "id": "fwLpnFi9A_qb",
    "scrolled": true
   },
   "source": [
    "#### 1.13 특성들 간의 상관관계 구하기 "
   ]
  },
  {
   "cell_type": "markdown",
   "metadata": {
    "id": "dzGDd3_vA_qb"
   },
   "source": [
    "- 상관계수 매트릭스 : df.corr() 이용"
   ]
  },
  {
   "cell_type": "code",
   "execution_count": null,
   "metadata": {},
   "outputs": [],
   "source": []
  },
  {
   "cell_type": "markdown",
   "metadata": {
    "id": "2eTz20u4A_qb"
   },
   "source": [
    "- (시각화 1) 상관계수 산점도로 시각화 하기 : pd.plotting.scatter_matrix()"
   ]
  },
  {
   "cell_type": "code",
   "execution_count": null,
   "metadata": {},
   "outputs": [],
   "source": []
  },
  {
   "cell_type": "markdown",
   "metadata": {
    "id": "rpbhIqgzA_qb"
   },
   "source": [
    "- (시각화 2) 상관계수 히트맵으로 시각화하기"
   ]
  },
  {
   "cell_type": "code",
   "execution_count": null,
   "metadata": {},
   "outputs": [],
   "source": []
  },
  {
   "cell_type": "markdown",
   "metadata": {
    "id": "fO0mjxCHA_qc"
   },
   "source": [
    "* (Question) 타깃(mpg)와의 상관계수가 가장 높은 특성은?\n",
    "* (Answer) "
   ]
  },
  {
   "cell_type": "markdown",
   "metadata": {
    "id": "MoqsNsBpA_qc"
   },
   "source": [
    "* [컬러맵 정보](https://matplotlib.org/stable/tutorials/colors/colormaps.html)"
   ]
  },
  {
   "cell_type": "markdown",
   "metadata": {
    "id": "ZZ3GEfOGA_qc"
   },
   "source": [
    "- weight 특성과, mpg(타깃) 의 상관관계 및 산점도"
   ]
  },
  {
   "cell_type": "code",
   "execution_count": null,
   "metadata": {},
   "outputs": [],
   "source": []
  },
  {
   "cell_type": "code",
   "execution_count": null,
   "metadata": {},
   "outputs": [],
   "source": []
  },
  {
   "cell_type": "markdown",
   "metadata": {},
   "source": [
    "## 2. 데이터 처리"
   ]
  },
  {
   "cell_type": "markdown",
   "metadata": {},
   "source": [
    "### 2.1 누락데이터 처리하기"
   ]
  },
  {
   "cell_type": "markdown",
   "metadata": {},
   "source": [
    "- horsepower 열의 ('?')를 np.nan으로 변경"
   ]
  },
  {
   "cell_type": "code",
   "execution_count": null,
   "metadata": {},
   "outputs": [],
   "source": []
  },
  {
   "cell_type": "code",
   "execution_count": null,
   "metadata": {},
   "outputs": [],
   "source": []
  },
  {
   "cell_type": "markdown",
   "metadata": {},
   "source": [
    "- 누락 데이터 삭제하기(행삭제)"
   ]
  },
  {
   "cell_type": "code",
   "execution_count": null,
   "metadata": {},
   "outputs": [],
   "source": []
  },
  {
   "cell_type": "code",
   "execution_count": null,
   "metadata": {},
   "outputs": [],
   "source": []
  },
  {
   "cell_type": "markdown",
   "metadata": {},
   "source": [
    "- horsepower 컬럼의 데이터 타입을 실수형으로 변환"
   ]
  },
  {
   "cell_type": "code",
   "execution_count": null,
   "metadata": {},
   "outputs": [],
   "source": []
  },
  {
   "cell_type": "code",
   "execution_count": null,
   "metadata": {},
   "outputs": [],
   "source": []
  },
  {
   "cell_type": "markdown",
   "metadata": {},
   "source": [
    "### 2.2 데이터 구간 분할"
   ]
  },
  {
   "cell_type": "markdown",
   "metadata": {},
   "source": [
    "- horsepower 컬럼에 대해 3개의 구간으로 나누어 범주화 하기\n",
    "- 예) 저출력, 보통출력, 고출력"
   ]
  },
  {
   "cell_type": "code",
   "execution_count": null,
   "metadata": {},
   "outputs": [],
   "source": []
  },
  {
   "cell_type": "code",
   "execution_count": null,
   "metadata": {},
   "outputs": [],
   "source": []
  },
  {
   "cell_type": "markdown",
   "metadata": {},
   "source": [
    "### 2.3 더미 변수"
   ]
  },
  {
   "cell_type": "markdown",
   "metadata": {},
   "source": [
    "- 범주화된 horwerpower 컬럼을 더미변수화 하기"
   ]
  },
  {
   "cell_type": "code",
   "execution_count": null,
   "metadata": {},
   "outputs": [],
   "source": []
  },
  {
   "cell_type": "code",
   "execution_count": null,
   "metadata": {},
   "outputs": [],
   "source": []
  },
  {
   "cell_type": "markdown",
   "metadata": {},
   "source": [
    "### 2.4 불필요한 컬럼 삭제"
   ]
  },
  {
   "cell_type": "markdown",
   "metadata": {},
   "source": [
    "- horsepower, hp_cat, name 컬럼 삭제"
   ]
  },
  {
   "cell_type": "code",
   "execution_count": null,
   "metadata": {},
   "outputs": [],
   "source": []
  },
  {
   "cell_type": "code",
   "execution_count": null,
   "metadata": {},
   "outputs": [],
   "source": []
  },
  {
   "cell_type": "markdown",
   "metadata": {},
   "source": [
    "### 2.5 중복 데이터 확인"
   ]
  },
  {
   "cell_type": "code",
   "execution_count": null,
   "metadata": {},
   "outputs": [],
   "source": []
  },
  {
   "cell_type": "code",
   "execution_count": null,
   "metadata": {},
   "outputs": [],
   "source": []
  }
 ],
 "metadata": {
  "colab": {
   "collapsed_sections": [],
   "name": "(실습) Auto mpg Dataset.ipynb",
   "provenance": []
  },
  "kernelspec": {
   "display_name": "Python 3 (ipykernel)",
   "language": "python",
   "name": "python3"
  },
  "language_info": {
   "codemirror_mode": {
    "name": "ipython",
    "version": 3
   },
   "file_extension": ".py",
   "mimetype": "text/x-python",
   "name": "python",
   "nbconvert_exporter": "python",
   "pygments_lexer": "ipython3",
   "version": "3.9.12"
  },
  "toc": {
   "base_numbering": 1,
   "nav_menu": {},
   "number_sections": true,
   "sideBar": true,
   "skip_h1_title": false,
   "title_cell": "Table of Contents",
   "title_sidebar": "Contents",
   "toc_cell": false,
   "toc_position": {
    "height": "calc(100% - 180px)",
    "left": "10px",
    "top": "150px",
    "width": "279.273px"
   },
   "toc_section_display": true,
   "toc_window_display": true
  },
  "varInspector": {
   "cols": {
    "lenName": 16,
    "lenType": 16,
    "lenVar": 40
   },
   "kernels_config": {
    "python": {
     "delete_cmd_postfix": "",
     "delete_cmd_prefix": "del ",
     "library": "var_list.py",
     "varRefreshCmd": "print(var_dic_list())"
    },
    "r": {
     "delete_cmd_postfix": ") ",
     "delete_cmd_prefix": "rm(",
     "library": "var_list.r",
     "varRefreshCmd": "cat(var_dic_list()) "
    }
   },
   "types_to_exclude": [
    "module",
    "function",
    "builtin_function_or_method",
    "instance",
    "_Feature"
   ],
   "window_display": false
  }
 },
 "nbformat": 4,
 "nbformat_minor": 1
}
