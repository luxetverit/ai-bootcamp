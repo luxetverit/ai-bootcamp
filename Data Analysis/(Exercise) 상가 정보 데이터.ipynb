{
 "cells": [
  {
   "cell_type": "markdown",
   "metadata": {},
   "source": [
    "## Data  개요\n",
    "\n",
    "**소상공인시장진흥공단_상가(상권)정보**\n",
    "\n",
    "- 영업 중인 전국 상가업소 데이터를 제공\n",
    "- (상호명, 업종코드, 업종명, 지번주소, 도로명주소, 경도, 위도 등)\n",
    "\n",
    "- 공공 데이터 포털 \n",
    "https://www.data.go.kr/data/15083033/fileData.do"
   ]
  },
  {
   "cell_type": "code",
   "execution_count": 1,
   "metadata": {},
   "outputs": [],
   "source": [
    "import pandas as pd\n",
    "import seaborn as sns\n",
    "import matplotlib.pyplot as plt"
   ]
  },
  {
   "cell_type": "code",
   "execution_count": 2,
   "metadata": {},
   "outputs": [],
   "source": [
    "plt.rc(\"font\", family=\"Malgun Gothic\")\n",
    "plt.rc(\"axes\", unicode_minus=False)\n",
    "pd.options.display.max_columns = 39"
   ]
  },
  {
   "cell_type": "markdown",
   "metadata": {},
   "source": [
    "## Step 1: 질문하기 (Ask questions)\n",
    "데이터가 주어진 상태에서 질문을 할 수도 있고, 질문에 답할 수 있는 데이터를 수집할 수도 있다."
   ]
  },
  {
   "cell_type": "markdown",
   "metadata": {},
   "source": [
    "**예시**\n",
    "\n",
    "- (1) 서초구에는 어떤 음식점 업종이 많을까?\n",
    "- (2) 구별 음식점 업종 분포는 어떻게 다를까?\n",
    "- (3) 어느 구에 학원수가 많을까?\n",
    "- (4) 구별 학원 분포는 어떻게 다를까?\n",
    "- (5) 관심 동네 비교해보기"
   ]
  },
  {
   "cell_type": "markdown",
   "metadata": {},
   "source": [
    "## Step 2: 데이터 랭글링 (Wrangle data)\n",
    "- 데이터 랭글링 : 원자료(raw data)를 보다 쉽게 접근하고 분석할 수 있도록 데이터를 정리하고 통합하는 과정\n",
    "(참고. 위키피디아)\n",
    "- 세부적으로는 데이터의 수집(gather), 평가(assess), 정제(clean) 작업으로 나눌 수 있다."
   ]
  },
  {
   "cell_type": "markdown",
   "metadata": {},
   "source": [
    "### 2.1 수집(gather)"
   ]
  },
  {
   "cell_type": "code",
   "execution_count": 3,
   "metadata": {},
   "outputs": [],
   "source": [
    "df = pd.read_csv('./dataset/소상공인시장진흥공단_상가(상권)정보_서울_202209.csv')"
   ]
  },
  {
   "cell_type": "code",
   "execution_count": 4,
   "metadata": {
    "scrolled": true
   },
   "outputs": [
    {
     "data": {
      "text/html": [
       "<div>\n",
       "<style scoped>\n",
       "    .dataframe tbody tr th:only-of-type {\n",
       "        vertical-align: middle;\n",
       "    }\n",
       "\n",
       "    .dataframe tbody tr th {\n",
       "        vertical-align: top;\n",
       "    }\n",
       "\n",
       "    .dataframe thead th {\n",
       "        text-align: right;\n",
       "    }\n",
       "</style>\n",
       "<table border=\"1\" class=\"dataframe\">\n",
       "  <thead>\n",
       "    <tr style=\"text-align: right;\">\n",
       "      <th></th>\n",
       "      <th>상가업소번호</th>\n",
       "      <th>상호명</th>\n",
       "      <th>지점명</th>\n",
       "      <th>상권업종대분류코드</th>\n",
       "      <th>상권업종대분류명</th>\n",
       "      <th>상권업종중분류코드</th>\n",
       "      <th>상권업종중분류명</th>\n",
       "      <th>상권업종소분류코드</th>\n",
       "      <th>상권업종소분류명</th>\n",
       "      <th>표준산업분류코드</th>\n",
       "      <th>표준산업분류명</th>\n",
       "      <th>시도코드</th>\n",
       "      <th>시도명</th>\n",
       "      <th>시군구코드</th>\n",
       "      <th>시군구명</th>\n",
       "      <th>행정동코드</th>\n",
       "      <th>행정동명</th>\n",
       "      <th>법정동코드</th>\n",
       "      <th>법정동명</th>\n",
       "      <th>지번코드</th>\n",
       "      <th>대지구분코드</th>\n",
       "      <th>대지구분명</th>\n",
       "      <th>지번본번지</th>\n",
       "      <th>지번부번지</th>\n",
       "      <th>지번주소</th>\n",
       "      <th>도로명코드</th>\n",
       "      <th>도로명</th>\n",
       "      <th>건물본번지</th>\n",
       "      <th>건물부번지</th>\n",
       "      <th>건물관리번호</th>\n",
       "      <th>건물명</th>\n",
       "      <th>도로명주소</th>\n",
       "      <th>구우편번호</th>\n",
       "      <th>신우편번호</th>\n",
       "      <th>동정보</th>\n",
       "      <th>층정보</th>\n",
       "      <th>호정보</th>\n",
       "      <th>경도</th>\n",
       "      <th>위도</th>\n",
       "    </tr>\n",
       "  </thead>\n",
       "  <tbody>\n",
       "    <tr>\n",
       "      <th>0</th>\n",
       "      <td>23324279</td>\n",
       "      <td>제중건강원</td>\n",
       "      <td>NaN</td>\n",
       "      <td>D</td>\n",
       "      <td>소매</td>\n",
       "      <td>D10</td>\n",
       "      <td>건강/미용식품</td>\n",
       "      <td>D10A07</td>\n",
       "      <td>건강원</td>\n",
       "      <td>G47216</td>\n",
       "      <td>건강보조식품 소매업</td>\n",
       "      <td>11</td>\n",
       "      <td>서울특별시</td>\n",
       "      <td>11560</td>\n",
       "      <td>영등포구</td>\n",
       "      <td>1156053500</td>\n",
       "      <td>영등포동</td>\n",
       "      <td>1156010600</td>\n",
       "      <td>영등포동5가</td>\n",
       "      <td>1156010600100410001</td>\n",
       "      <td>1</td>\n",
       "      <td>대지</td>\n",
       "      <td>41</td>\n",
       "      <td>1.0</td>\n",
       "      <td>서울특별시 영등포구 영등포동5가 41-1</td>\n",
       "      <td>115604154799</td>\n",
       "      <td>서울특별시 영등포구 영중로14길</td>\n",
       "      <td>11</td>\n",
       "      <td>17.0</td>\n",
       "      <td>1156010600100410002034626</td>\n",
       "      <td>NaN</td>\n",
       "      <td>서울특별시 영등포구 영중로14길 11-17, (영등포동5가)</td>\n",
       "      <td>150030</td>\n",
       "      <td>7250</td>\n",
       "      <td>NaN</td>\n",
       "      <td>1</td>\n",
       "      <td>NaN</td>\n",
       "      <td>126.907168</td>\n",
       "      <td>37.520613</td>\n",
       "    </tr>\n",
       "    <tr>\n",
       "      <th>1</th>\n",
       "      <td>24525909</td>\n",
       "      <td>민속악기사</td>\n",
       "      <td>NaN</td>\n",
       "      <td>D</td>\n",
       "      <td>소매</td>\n",
       "      <td>D04</td>\n",
       "      <td>취미/오락관련소매</td>\n",
       "      <td>D04A09</td>\n",
       "      <td>악기판매</td>\n",
       "      <td>G47593</td>\n",
       "      <td>악기 소매업</td>\n",
       "      <td>11</td>\n",
       "      <td>서울특별시</td>\n",
       "      <td>11200</td>\n",
       "      <td>성동구</td>\n",
       "      <td>1120079000</td>\n",
       "      <td>용답동</td>\n",
       "      <td>1120012200</td>\n",
       "      <td>용답동</td>\n",
       "      <td>1120012200101420011</td>\n",
       "      <td>1</td>\n",
       "      <td>대지</td>\n",
       "      <td>142</td>\n",
       "      <td>11.0</td>\n",
       "      <td>서울특별시 성동구 용답동 142-11</td>\n",
       "      <td>112004109480</td>\n",
       "      <td>서울특별시 성동구 용답5길</td>\n",
       "      <td>2</td>\n",
       "      <td>NaN</td>\n",
       "      <td>1120012200101420011000227</td>\n",
       "      <td>NaN</td>\n",
       "      <td>서울특별시 성동구 용답5길 2, (용답동)</td>\n",
       "      <td>133849</td>\n",
       "      <td>4803</td>\n",
       "      <td>NaN</td>\n",
       "      <td>NaN</td>\n",
       "      <td>NaN</td>\n",
       "      <td>127.049018</td>\n",
       "      <td>37.566857</td>\n",
       "    </tr>\n",
       "    <tr>\n",
       "      <th>2</th>\n",
       "      <td>24715368</td>\n",
       "      <td>태평양진주</td>\n",
       "      <td>NaN</td>\n",
       "      <td>D</td>\n",
       "      <td>소매</td>\n",
       "      <td>D26</td>\n",
       "      <td>시계/귀금속소매</td>\n",
       "      <td>D26A01</td>\n",
       "      <td>시계/귀금속</td>\n",
       "      <td>G47830</td>\n",
       "      <td>시계 및 귀금속 소매업</td>\n",
       "      <td>11</td>\n",
       "      <td>서울특별시</td>\n",
       "      <td>11110</td>\n",
       "      <td>종로구</td>\n",
       "      <td>1111061500</td>\n",
       "      <td>종로1.2.3.4가동</td>\n",
       "      <td>1111015200</td>\n",
       "      <td>봉익동</td>\n",
       "      <td>1111015200100430001</td>\n",
       "      <td>1</td>\n",
       "      <td>대지</td>\n",
       "      <td>43</td>\n",
       "      <td>1.0</td>\n",
       "      <td>서울특별시 종로구 봉익동 43-1</td>\n",
       "      <td>111104100163</td>\n",
       "      <td>서울특별시 종로구 서순라길</td>\n",
       "      <td>17</td>\n",
       "      <td>10.0</td>\n",
       "      <td>1111015200100440000000001</td>\n",
       "      <td>금사랑투빌딩</td>\n",
       "      <td>서울특별시 종로구 서순라길 17-10, (봉익동)</td>\n",
       "      <td>110390</td>\n",
       "      <td>3138</td>\n",
       "      <td>NaN</td>\n",
       "      <td>NaN</td>\n",
       "      <td>NaN</td>\n",
       "      <td>126.993530</td>\n",
       "      <td>37.571848</td>\n",
       "    </tr>\n",
       "    <tr>\n",
       "      <th>3</th>\n",
       "      <td>15554136</td>\n",
       "      <td>김선희꼼꼼국어교습소</td>\n",
       "      <td>NaN</td>\n",
       "      <td>R</td>\n",
       "      <td>학문/교육</td>\n",
       "      <td>R01</td>\n",
       "      <td>학원-보습교습입시</td>\n",
       "      <td>R01A01</td>\n",
       "      <td>학원-입시</td>\n",
       "      <td>P85501</td>\n",
       "      <td>일반 교과 학원</td>\n",
       "      <td>11</td>\n",
       "      <td>서울특별시</td>\n",
       "      <td>11710</td>\n",
       "      <td>송파구</td>\n",
       "      <td>1171056100</td>\n",
       "      <td>방이1동</td>\n",
       "      <td>1171011100</td>\n",
       "      <td>방이동</td>\n",
       "      <td>1171011100101970003</td>\n",
       "      <td>1</td>\n",
       "      <td>대지</td>\n",
       "      <td>197</td>\n",
       "      <td>3.0</td>\n",
       "      <td>서울특별시 송파구 방이동 197-3</td>\n",
       "      <td>117104169448</td>\n",
       "      <td>서울특별시 송파구 위례성대로12길</td>\n",
       "      <td>31</td>\n",
       "      <td>NaN</td>\n",
       "      <td>1171011100101970003017195</td>\n",
       "      <td>NaN</td>\n",
       "      <td>서울특별시 송파구 위례성대로12길 31, (방이동)</td>\n",
       "      <td>138834</td>\n",
       "      <td>5640</td>\n",
       "      <td>NaN</td>\n",
       "      <td>2</td>\n",
       "      <td>NaN</td>\n",
       "      <td>127.121520</td>\n",
       "      <td>37.510967</td>\n",
       "    </tr>\n",
       "    <tr>\n",
       "      <th>4</th>\n",
       "      <td>17174175</td>\n",
       "      <td>비지트</td>\n",
       "      <td>NaN</td>\n",
       "      <td>Q</td>\n",
       "      <td>음식</td>\n",
       "      <td>Q01</td>\n",
       "      <td>한식</td>\n",
       "      <td>Q01A01</td>\n",
       "      <td>한식/백반/한정식</td>\n",
       "      <td>I56111</td>\n",
       "      <td>한식 음식점업</td>\n",
       "      <td>11</td>\n",
       "      <td>서울특별시</td>\n",
       "      <td>11650</td>\n",
       "      <td>서초구</td>\n",
       "      <td>1165062100</td>\n",
       "      <td>방배4동</td>\n",
       "      <td>1165010100</td>\n",
       "      <td>방배동</td>\n",
       "      <td>1165010100108540018</td>\n",
       "      <td>1</td>\n",
       "      <td>대지</td>\n",
       "      <td>854</td>\n",
       "      <td>18.0</td>\n",
       "      <td>서울특별시 서초구 방배동 854-18</td>\n",
       "      <td>116504163117</td>\n",
       "      <td>서울특별시 서초구 동광로18길</td>\n",
       "      <td>82</td>\n",
       "      <td>NaN</td>\n",
       "      <td>1165010100108540018009586</td>\n",
       "      <td>상랑의빌딩</td>\n",
       "      <td>서울특별시 서초구 동광로18길 82, (방배동)</td>\n",
       "      <td>137837</td>\n",
       "      <td>6572</td>\n",
       "      <td>NaN</td>\n",
       "      <td>1</td>\n",
       "      <td>NaN</td>\n",
       "      <td>126.991394</td>\n",
       "      <td>37.488375</td>\n",
       "    </tr>\n",
       "  </tbody>\n",
       "</table>\n",
       "</div>"
      ],
      "text/plain": [
       "     상가업소번호         상호명  지점명 상권업종대분류코드 상권업종대분류명 상권업종중분류코드   상권업종중분류명  \\\n",
       "0  23324279       제중건강원  NaN         D       소매       D10    건강/미용식품   \n",
       "1  24525909       민속악기사  NaN         D       소매       D04  취미/오락관련소매   \n",
       "2  24715368       태평양진주  NaN         D       소매       D26   시계/귀금속소매   \n",
       "3  15554136  김선희꼼꼼국어교습소  NaN         R    학문/교육       R01  학원-보습교습입시   \n",
       "4  17174175         비지트  NaN         Q       음식       Q01         한식   \n",
       "\n",
       "  상권업종소분류코드   상권업종소분류명 표준산업분류코드       표준산업분류명  시도코드    시도명  시군구코드  시군구명  \\\n",
       "0    D10A07        건강원   G47216    건강보조식품 소매업    11  서울특별시  11560  영등포구   \n",
       "1    D04A09       악기판매   G47593        악기 소매업    11  서울특별시  11200   성동구   \n",
       "2    D26A01     시계/귀금속   G47830  시계 및 귀금속 소매업    11  서울특별시  11110   종로구   \n",
       "3    R01A01      학원-입시   P85501      일반 교과 학원    11  서울특별시  11710   송파구   \n",
       "4    Q01A01  한식/백반/한정식   I56111       한식 음식점업    11  서울특별시  11650   서초구   \n",
       "\n",
       "        행정동코드         행정동명       법정동코드    법정동명                 지번코드  대지구분코드  \\\n",
       "0  1156053500         영등포동  1156010600  영등포동5가  1156010600100410001       1   \n",
       "1  1120079000          용답동  1120012200     용답동  1120012200101420011       1   \n",
       "2  1111061500  종로1.2.3.4가동  1111015200     봉익동  1111015200100430001       1   \n",
       "3  1171056100         방이1동  1171011100     방이동  1171011100101970003       1   \n",
       "4  1165062100         방배4동  1165010100     방배동  1165010100108540018       1   \n",
       "\n",
       "  대지구분명  지번본번지  지번부번지                    지번주소         도로명코드  \\\n",
       "0    대지     41    1.0  서울특별시 영등포구 영등포동5가 41-1  115604154799   \n",
       "1    대지    142   11.0    서울특별시 성동구 용답동 142-11  112004109480   \n",
       "2    대지     43    1.0      서울특별시 종로구 봉익동 43-1  111104100163   \n",
       "3    대지    197    3.0     서울특별시 송파구 방이동 197-3  117104169448   \n",
       "4    대지    854   18.0    서울특별시 서초구 방배동 854-18  116504163117   \n",
       "\n",
       "                  도로명  건물본번지  건물부번지                     건물관리번호     건물명  \\\n",
       "0   서울특별시 영등포구 영중로14길     11   17.0  1156010600100410002034626     NaN   \n",
       "1      서울특별시 성동구 용답5길      2    NaN  1120012200101420011000227     NaN   \n",
       "2      서울특별시 종로구 서순라길     17   10.0  1111015200100440000000001  금사랑투빌딩   \n",
       "3  서울특별시 송파구 위례성대로12길     31    NaN  1171011100101970003017195     NaN   \n",
       "4    서울특별시 서초구 동광로18길     82    NaN  1165010100108540018009586   상랑의빌딩   \n",
       "\n",
       "                               도로명주소   구우편번호  신우편번호  동정보  층정보  호정보  \\\n",
       "0  서울특별시 영등포구 영중로14길 11-17, (영등포동5가)  150030   7250  NaN    1  NaN   \n",
       "1            서울특별시 성동구 용답5길 2, (용답동)  133849   4803  NaN  NaN  NaN   \n",
       "2        서울특별시 종로구 서순라길 17-10, (봉익동)  110390   3138  NaN  NaN  NaN   \n",
       "3       서울특별시 송파구 위례성대로12길 31, (방이동)  138834   5640  NaN    2  NaN   \n",
       "4         서울특별시 서초구 동광로18길 82, (방배동)  137837   6572  NaN    1  NaN   \n",
       "\n",
       "           경도         위도  \n",
       "0  126.907168  37.520613  \n",
       "1  127.049018  37.566857  \n",
       "2  126.993530  37.571848  \n",
       "3  127.121520  37.510967  \n",
       "4  126.991394  37.488375  "
      ]
     },
     "execution_count": 4,
     "metadata": {},
     "output_type": "execute_result"
    }
   ],
   "source": [
    "df.head(5)"
   ]
  },
  {
   "cell_type": "code",
   "execution_count": 53,
   "metadata": {},
   "outputs": [
    {
     "data": {
      "text/html": [
       "<div>\n",
       "<style scoped>\n",
       "    .dataframe tbody tr th:only-of-type {\n",
       "        vertical-align: middle;\n",
       "    }\n",
       "\n",
       "    .dataframe tbody tr th {\n",
       "        vertical-align: top;\n",
       "    }\n",
       "\n",
       "    .dataframe thead th {\n",
       "        text-align: right;\n",
       "    }\n",
       "</style>\n",
       "<table border=\"1\" class=\"dataframe\">\n",
       "  <thead>\n",
       "    <tr style=\"text-align: right;\">\n",
       "      <th></th>\n",
       "      <th>0</th>\n",
       "      <th>1</th>\n",
       "      <th>2</th>\n",
       "      <th>3</th>\n",
       "      <th>4</th>\n",
       "    </tr>\n",
       "  </thead>\n",
       "  <tbody>\n",
       "    <tr>\n",
       "      <th>상호명</th>\n",
       "      <td>제중건강원</td>\n",
       "      <td>민속악기사</td>\n",
       "      <td>태평양진주</td>\n",
       "      <td>김선희꼼꼼국어교습소</td>\n",
       "      <td>비지트</td>\n",
       "    </tr>\n",
       "    <tr>\n",
       "      <th>상권업종대분류명</th>\n",
       "      <td>소매</td>\n",
       "      <td>소매</td>\n",
       "      <td>소매</td>\n",
       "      <td>학문/교육</td>\n",
       "      <td>음식</td>\n",
       "    </tr>\n",
       "    <tr>\n",
       "      <th>상권업종중분류명</th>\n",
       "      <td>건강/미용식품</td>\n",
       "      <td>취미/오락관련소매</td>\n",
       "      <td>시계/귀금속소매</td>\n",
       "      <td>학원-보습교습입시</td>\n",
       "      <td>한식</td>\n",
       "    </tr>\n",
       "    <tr>\n",
       "      <th>상권업종소분류명</th>\n",
       "      <td>건강원</td>\n",
       "      <td>악기판매</td>\n",
       "      <td>시계/귀금속</td>\n",
       "      <td>학원-입시</td>\n",
       "      <td>한식/백반/한정식</td>\n",
       "    </tr>\n",
       "    <tr>\n",
       "      <th>시도명</th>\n",
       "      <td>서울특별시</td>\n",
       "      <td>서울특별시</td>\n",
       "      <td>서울특별시</td>\n",
       "      <td>서울특별시</td>\n",
       "      <td>서울특별시</td>\n",
       "    </tr>\n",
       "    <tr>\n",
       "      <th>시군구명</th>\n",
       "      <td>영등포구</td>\n",
       "      <td>성동구</td>\n",
       "      <td>종로구</td>\n",
       "      <td>송파구</td>\n",
       "      <td>서초구</td>\n",
       "    </tr>\n",
       "    <tr>\n",
       "      <th>행정동명</th>\n",
       "      <td>영등포동</td>\n",
       "      <td>용답동</td>\n",
       "      <td>종로1.2.3.4가동</td>\n",
       "      <td>방이1동</td>\n",
       "      <td>방배4동</td>\n",
       "    </tr>\n",
       "    <tr>\n",
       "      <th>법정동명</th>\n",
       "      <td>영등포동5가</td>\n",
       "      <td>용답동</td>\n",
       "      <td>봉익동</td>\n",
       "      <td>방이동</td>\n",
       "      <td>방배동</td>\n",
       "    </tr>\n",
       "    <tr>\n",
       "      <th>대지구분명</th>\n",
       "      <td>대지</td>\n",
       "      <td>대지</td>\n",
       "      <td>대지</td>\n",
       "      <td>대지</td>\n",
       "      <td>대지</td>\n",
       "    </tr>\n",
       "    <tr>\n",
       "      <th>지번본번지</th>\n",
       "      <td>41</td>\n",
       "      <td>142</td>\n",
       "      <td>43</td>\n",
       "      <td>197</td>\n",
       "      <td>854</td>\n",
       "    </tr>\n",
       "    <tr>\n",
       "      <th>지번주소</th>\n",
       "      <td>서울특별시 영등포구 영등포동5가 41-1</td>\n",
       "      <td>서울특별시 성동구 용답동 142-11</td>\n",
       "      <td>서울특별시 종로구 봉익동 43-1</td>\n",
       "      <td>서울특별시 송파구 방이동 197-3</td>\n",
       "      <td>서울특별시 서초구 방배동 854-18</td>\n",
       "    </tr>\n",
       "    <tr>\n",
       "      <th>도로명</th>\n",
       "      <td>서울특별시 영등포구 영중로14길</td>\n",
       "      <td>서울특별시 성동구 용답5길</td>\n",
       "      <td>서울특별시 종로구 서순라길</td>\n",
       "      <td>서울특별시 송파구 위례성대로12길</td>\n",
       "      <td>서울특별시 서초구 동광로18길</td>\n",
       "    </tr>\n",
       "    <tr>\n",
       "      <th>건물본번지</th>\n",
       "      <td>11</td>\n",
       "      <td>2</td>\n",
       "      <td>17</td>\n",
       "      <td>31</td>\n",
       "      <td>82</td>\n",
       "    </tr>\n",
       "    <tr>\n",
       "      <th>도로명주소</th>\n",
       "      <td>서울특별시 영등포구 영중로14길 11-17, (영등포동5가)</td>\n",
       "      <td>서울특별시 성동구 용답5길 2, (용답동)</td>\n",
       "      <td>서울특별시 종로구 서순라길 17-10, (봉익동)</td>\n",
       "      <td>서울특별시 송파구 위례성대로12길 31, (방이동)</td>\n",
       "      <td>서울특별시 서초구 동광로18길 82, (방배동)</td>\n",
       "    </tr>\n",
       "    <tr>\n",
       "      <th>경도</th>\n",
       "      <td>126.907168</td>\n",
       "      <td>127.049018</td>\n",
       "      <td>126.99353</td>\n",
       "      <td>127.12152</td>\n",
       "      <td>126.991394</td>\n",
       "    </tr>\n",
       "    <tr>\n",
       "      <th>위도</th>\n",
       "      <td>37.520613</td>\n",
       "      <td>37.566857</td>\n",
       "      <td>37.571848</td>\n",
       "      <td>37.510967</td>\n",
       "      <td>37.488375</td>\n",
       "    </tr>\n",
       "  </tbody>\n",
       "</table>\n",
       "</div>"
      ],
      "text/plain": [
       "                                          0                        1  \\\n",
       "상호명                                   제중건강원                    민속악기사   \n",
       "상권업종대분류명                                 소매                       소매   \n",
       "상권업종중분류명                            건강/미용식품                취미/오락관련소매   \n",
       "상권업종소분류명                                건강원                     악기판매   \n",
       "시도명                                   서울특별시                    서울특별시   \n",
       "시군구명                                   영등포구                      성동구   \n",
       "행정동명                                   영등포동                      용답동   \n",
       "법정동명                                 영등포동5가                      용답동   \n",
       "대지구분명                                    대지                       대지   \n",
       "지번본번지                                    41                      142   \n",
       "지번주소                 서울특별시 영등포구 영등포동5가 41-1     서울특별시 성동구 용답동 142-11   \n",
       "도로명                       서울특별시 영등포구 영중로14길           서울특별시 성동구 용답5길   \n",
       "건물본번지                                    11                        2   \n",
       "도로명주소     서울특별시 영등포구 영중로14길 11-17, (영등포동5가)  서울특별시 성동구 용답5길 2, (용답동)   \n",
       "경도                               126.907168               127.049018   \n",
       "위도                                37.520613                37.566857   \n",
       "\n",
       "                                    2                             3  \\\n",
       "상호명                             태평양진주                    김선희꼼꼼국어교습소   \n",
       "상권업종대분류명                           소매                         학문/교육   \n",
       "상권업종중분류명                     시계/귀금속소매                     학원-보습교습입시   \n",
       "상권업종소분류명                       시계/귀금속                         학원-입시   \n",
       "시도명                             서울특별시                         서울특별시   \n",
       "시군구명                              종로구                           송파구   \n",
       "행정동명                      종로1.2.3.4가동                          방이1동   \n",
       "법정동명                              봉익동                           방이동   \n",
       "대지구분명                              대지                            대지   \n",
       "지번본번지                              43                           197   \n",
       "지번주소               서울특별시 종로구 봉익동 43-1           서울특별시 송파구 방이동 197-3   \n",
       "도로명                    서울특별시 종로구 서순라길            서울특별시 송파구 위례성대로12길   \n",
       "건물본번지                              17                            31   \n",
       "도로명주소     서울특별시 종로구 서순라길 17-10, (봉익동)  서울특별시 송파구 위례성대로12길 31, (방이동)   \n",
       "경도                          126.99353                     127.12152   \n",
       "위도                          37.571848                     37.510967   \n",
       "\n",
       "                                   4  \n",
       "상호명                              비지트  \n",
       "상권업종대분류명                          음식  \n",
       "상권업종중분류명                          한식  \n",
       "상권업종소분류명                   한식/백반/한정식  \n",
       "시도명                            서울특별시  \n",
       "시군구명                             서초구  \n",
       "행정동명                            방배4동  \n",
       "법정동명                             방배동  \n",
       "대지구분명                             대지  \n",
       "지번본번지                            854  \n",
       "지번주소            서울특별시 서초구 방배동 854-18  \n",
       "도로명                 서울특별시 서초구 동광로18길  \n",
       "건물본번지                             82  \n",
       "도로명주소     서울특별시 서초구 동광로18길 82, (방배동)  \n",
       "경도                        126.991394  \n",
       "위도                         37.488375  "
      ]
     },
     "execution_count": 53,
     "metadata": {},
     "output_type": "execute_result"
    }
   ],
   "source": [
    "df.head().T"
   ]
  },
  {
   "cell_type": "markdown",
   "metadata": {},
   "source": [
    "### 2.2 평가(assess)"
   ]
  },
  {
   "cell_type": "markdown",
   "metadata": {},
   "source": [
    "**샘플의 개수**, **컬럼의 개수**"
   ]
  },
  {
   "cell_type": "code",
   "execution_count": 6,
   "metadata": {
    "scrolled": true
   },
   "outputs": [
    {
     "data": {
      "text/plain": [
       "상가업소번호       361490\n",
       "상호명          361490\n",
       "지점명           61624\n",
       "상권업종대분류코드    361490\n",
       "상권업종대분류명     361490\n",
       "상권업종중분류코드    361490\n",
       "상권업종중분류명     361490\n",
       "상권업종소분류코드    361490\n",
       "상권업종소분류명     361490\n",
       "표준산업분류코드     336942\n",
       "표준산업분류명      336942\n",
       "시도코드         361490\n",
       "시도명          361490\n",
       "시군구코드        361490\n",
       "시군구명         361490\n",
       "행정동코드        361490\n",
       "행정동명         361490\n",
       "법정동코드        361490\n",
       "법정동명         361490\n",
       "지번코드         361490\n",
       "대지구분코드       361490\n",
       "대지구분명        361490\n",
       "지번본번지        361490\n",
       "지번부번지        286583\n",
       "지번주소         361490\n",
       "도로명코드        361490\n",
       "도로명          361490\n",
       "건물본번지        361490\n",
       "건물부번지         48289\n",
       "건물관리번호       361490\n",
       "건물명          179097\n",
       "도로명주소        361490\n",
       "구우편번호        361490\n",
       "신우편번호        361490\n",
       "동정보           41048\n",
       "층정보          221085\n",
       "호정보               0\n",
       "경도           361490\n",
       "위도           361490\n",
       "dtype: int64"
      ]
     },
     "execution_count": 6,
     "metadata": {},
     "output_type": "execute_result"
    }
   ],
   "source": [
    "df.count(0)"
   ]
  },
  {
   "cell_type": "code",
   "execution_count": 54,
   "metadata": {},
   "outputs": [
    {
     "data": {
      "text/plain": [
       "RangeIndex(start=0, stop=361490, step=1)"
      ]
     },
     "execution_count": 54,
     "metadata": {},
     "output_type": "execute_result"
    }
   ],
   "source": [
    "df.index"
   ]
  },
  {
   "cell_type": "markdown",
   "metadata": {},
   "source": [
    "**인덱스 정보 보기**"
   ]
  },
  {
   "cell_type": "code",
   "execution_count": 12,
   "metadata": {},
   "outputs": [
    {
     "data": {
      "text/plain": [
       "상가업소번호         int64\n",
       "상호명           object\n",
       "지점명           object\n",
       "상권업종대분류코드     object\n",
       "상권업종대분류명      object\n",
       "상권업종중분류코드     object\n",
       "상권업종중분류명      object\n",
       "상권업종소분류코드     object\n",
       "상권업종소분류명      object\n",
       "표준산업분류코드      object\n",
       "표준산업분류명       object\n",
       "시도코드           int64\n",
       "시도명           object\n",
       "시군구코드          int64\n",
       "시군구명          object\n",
       "행정동코드          int64\n",
       "행정동명          object\n",
       "법정동코드          int64\n",
       "법정동명          object\n",
       "지번코드           int64\n",
       "대지구분코드         int64\n",
       "대지구분명         object\n",
       "지번본번지          int64\n",
       "지번부번지        float64\n",
       "지번주소          object\n",
       "도로명코드          int64\n",
       "도로명           object\n",
       "건물본번지          int64\n",
       "건물부번지        float64\n",
       "건물관리번호        object\n",
       "건물명           object\n",
       "도로명주소         object\n",
       "구우편번호          int64\n",
       "신우편번호          int64\n",
       "동정보           object\n",
       "층정보           object\n",
       "호정보          float64\n",
       "경도           float64\n",
       "위도           float64\n",
       "dtype: object"
      ]
     },
     "execution_count": 12,
     "metadata": {},
     "output_type": "execute_result"
    }
   ],
   "source": [
    "df.dtypes"
   ]
  },
  {
   "cell_type": "markdown",
   "metadata": {},
   "source": [
    "**컬럼 정보 보기**"
   ]
  },
  {
   "cell_type": "code",
   "execution_count": 5,
   "metadata": {},
   "outputs": [
    {
     "data": {
      "text/plain": [
       "Index(['상가업소번호', '상호명', '지점명', '상권업종대분류코드', '상권업종대분류명', '상권업종중분류코드',\n",
       "       '상권업종중분류명', '상권업종소분류코드', '상권업종소분류명', '표준산업분류코드', '표준산업분류명', '시도코드',\n",
       "       '시도명', '시군구코드', '시군구명', '행정동코드', '행정동명', '법정동코드', '법정동명', '지번코드',\n",
       "       '대지구분코드', '대지구분명', '지번본번지', '지번부번지', '지번주소', '도로명코드', '도로명', '건물본번지',\n",
       "       '건물부번지', '건물관리번호', '건물명', '도로명주소', '구우편번호', '신우편번호', '동정보', '층정보',\n",
       "       '호정보', '경도', '위도'],\n",
       "      dtype='object')"
      ]
     },
     "execution_count": 5,
     "metadata": {},
     "output_type": "execute_result"
    }
   ],
   "source": [
    "df.columns"
   ]
  },
  {
   "cell_type": "markdown",
   "metadata": {},
   "source": [
    "**요약 정보 보기**"
   ]
  },
  {
   "cell_type": "code",
   "execution_count": 14,
   "metadata": {},
   "outputs": [
    {
     "name": "stdout",
     "output_type": "stream",
     "text": [
      "<class 'pandas.core.frame.DataFrame'>\n",
      "RangeIndex: 361490 entries, 0 to 361489\n",
      "Data columns (total 39 columns):\n",
      " #   Column     Non-Null Count   Dtype  \n",
      "---  ------     --------------   -----  \n",
      " 0   상가업소번호     361490 non-null  int64  \n",
      " 1   상호명        361490 non-null  object \n",
      " 2   지점명        61624 non-null   object \n",
      " 3   상권업종대분류코드  361490 non-null  object \n",
      " 4   상권업종대분류명   361490 non-null  object \n",
      " 5   상권업종중분류코드  361490 non-null  object \n",
      " 6   상권업종중분류명   361490 non-null  object \n",
      " 7   상권업종소분류코드  361490 non-null  object \n",
      " 8   상권업종소분류명   361490 non-null  object \n",
      " 9   표준산업분류코드   336942 non-null  object \n",
      " 10  표준산업분류명    336942 non-null  object \n",
      " 11  시도코드       361490 non-null  int64  \n",
      " 12  시도명        361490 non-null  object \n",
      " 13  시군구코드      361490 non-null  int64  \n",
      " 14  시군구명       361490 non-null  object \n",
      " 15  행정동코드      361490 non-null  int64  \n",
      " 16  행정동명       361490 non-null  object \n",
      " 17  법정동코드      361490 non-null  int64  \n",
      " 18  법정동명       361490 non-null  object \n",
      " 19  지번코드       361490 non-null  int64  \n",
      " 20  대지구분코드     361490 non-null  int64  \n",
      " 21  대지구분명      361490 non-null  object \n",
      " 22  지번본번지      361490 non-null  int64  \n",
      " 23  지번부번지      286583 non-null  float64\n",
      " 24  지번주소       361490 non-null  object \n",
      " 25  도로명코드      361490 non-null  int64  \n",
      " 26  도로명        361490 non-null  object \n",
      " 27  건물본번지      361490 non-null  int64  \n",
      " 28  건물부번지      48289 non-null   float64\n",
      " 29  건물관리번호     361490 non-null  object \n",
      " 30  건물명        179097 non-null  object \n",
      " 31  도로명주소      361490 non-null  object \n",
      " 32  구우편번호      361490 non-null  int64  \n",
      " 33  신우편번호      361490 non-null  int64  \n",
      " 34  동정보        41048 non-null   object \n",
      " 35  층정보        221085 non-null  object \n",
      " 36  호정보        0 non-null       float64\n",
      " 37  경도         361490 non-null  float64\n",
      " 38  위도         361490 non-null  float64\n",
      "dtypes: float64(5), int64(12), object(22)\n",
      "memory usage: 107.6+ MB\n"
     ]
    }
   ],
   "source": [
    "df.info()"
   ]
  },
  {
   "cell_type": "markdown",
   "metadata": {},
   "source": [
    "**누락 데이터 확인**"
   ]
  },
  {
   "cell_type": "code",
   "execution_count": 56,
   "metadata": {
    "scrolled": true
   },
   "outputs": [
    {
     "data": {
      "text/plain": [
       "상호명         0\n",
       "상권업종대분류명    0\n",
       "상권업종중분류명    0\n",
       "상권업종소분류명    0\n",
       "시도명         0\n",
       "시군구명        0\n",
       "행정동명        0\n",
       "법정동명        0\n",
       "대지구분명       0\n",
       "지번본번지       0\n",
       "지번주소        0\n",
       "도로명         0\n",
       "건물본번지       0\n",
       "도로명주소       0\n",
       "경도          0\n",
       "위도          0\n",
       "dtype: int64"
      ]
     },
     "execution_count": 56,
     "metadata": {},
     "output_type": "execute_result"
    }
   ],
   "source": [
    "null_sum = df.isnull().sum()\n",
    "null_sum"
   ]
  },
  {
   "cell_type": "code",
   "execution_count": 57,
   "metadata": {
    "scrolled": true
   },
   "outputs": [
    {
     "data": {
      "text/plain": [
       "<AxesSubplot:>"
      ]
     },
     "execution_count": 57,
     "metadata": {},
     "output_type": "execute_result"
    },
    {
     "data": {
      "image/png": "[encoded data removed]",
      "text/plain": [
       "<Figure size 720x720 with 1 Axes>"
      ]
     },
     "metadata": {
      "needs_background": "light"
     },
     "output_type": "display_data"
    }
   ],
   "source": [
    "null_sum.plot(kind='barh', figsize=(10, 10))"
   ]
  },
  {
   "cell_type": "code",
   "execution_count": 58,
   "metadata": {},
   "outputs": [
    {
     "data": {
      "text/plain": [
       "<AxesSubplot:>"
      ]
     },
     "execution_count": 58,
     "metadata": {},
     "output_type": "execute_result"
    },
    {
     "data": {
      "image/png": "[encoded data removed]",
      "text/plain": [
       "<Figure size 720x720 with 1 Axes>"
      ]
     },
     "metadata": {
      "needs_background": "light"
     },
     "output_type": "display_data"
    }
   ],
   "source": [
    "plt.figure(figsize=(10, 10))\n",
    "sns.barplot(y=null_sum.index, x=null_sum.values)"
   ]
  },
  {
   "cell_type": "markdown",
   "metadata": {},
   "source": [
    "### 2.3 정제(clean)"
   ]
  },
  {
   "cell_type": "markdown",
   "metadata": {},
   "source": [
    "**누락 데이터가 많은 컬럼 삭제**"
   ]
  },
  {
   "cell_type": "code",
   "execution_count": 6,
   "metadata": {},
   "outputs": [],
   "source": [
    "df = df.dropna(axis=1)"
   ]
  },
  {
   "cell_type": "code",
   "execution_count": 59,
   "metadata": {},
   "outputs": [
    {
     "data": {
      "text/plain": [
       "Index(['상호명', '상권업종대분류명', '상권업종중분류명', '상권업종소분류명', '시도명', '시군구명', '행정동명',\n",
       "       '법정동명', '대지구분명'],\n",
       "      dtype='object')"
      ]
     },
     "execution_count": 59,
     "metadata": {},
     "output_type": "execute_result"
    }
   ],
   "source": [
    "not_use = null_sum.sort_values(ascending=False).head(9)\n",
    "not_use_col = not_use.index\n",
    "not_use_col"
   ]
  },
  {
   "cell_type": "code",
   "execution_count": null,
   "metadata": {},
   "outputs": [],
   "source": [
    "df = df.drop(not_use_col, axis=1)"
   ]
  },
  {
   "cell_type": "code",
   "execution_count": 7,
   "metadata": {},
   "outputs": [
    {
     "data": {
      "text/plain": [
       "상가업소번호       361490\n",
       "상호명          361490\n",
       "상권업종대분류코드    361490\n",
       "상권업종대분류명     361490\n",
       "상권업종중분류코드    361490\n",
       "상권업종중분류명     361490\n",
       "상권업종소분류코드    361490\n",
       "상권업종소분류명     361490\n",
       "시도코드         361490\n",
       "시도명          361490\n",
       "시군구코드        361490\n",
       "시군구명         361490\n",
       "행정동코드        361490\n",
       "행정동명         361490\n",
       "법정동코드        361490\n",
       "법정동명         361490\n",
       "지번코드         361490\n",
       "대지구분코드       361490\n",
       "대지구분명        361490\n",
       "지번본번지        361490\n",
       "지번주소         361490\n",
       "도로명코드        361490\n",
       "도로명          361490\n",
       "건물본번지        361490\n",
       "건물관리번호       361490\n",
       "도로명주소        361490\n",
       "구우편번호        361490\n",
       "신우편번호        361490\n",
       "경도           361490\n",
       "위도           361490\n",
       "dtype: int64"
      ]
     },
     "execution_count": 7,
     "metadata": {},
     "output_type": "execute_result"
    }
   ],
   "source": [
    "df.isnull().sum()"
   ]
  },
  {
   "cell_type": "markdown",
   "metadata": {},
   "source": [
    "**컬럼명에 \"코드\" 또는 \"번호\"가 들어간 컬럼 삭제**"
   ]
  },
  {
   "cell_type": "code",
   "execution_count": 8,
   "metadata": {},
   "outputs": [
    {
     "data": {
      "text/html": [
       "<div>\n",
       "<style scoped>\n",
       "    .dataframe tbody tr th:only-of-type {\n",
       "        vertical-align: middle;\n",
       "    }\n",
       "\n",
       "    .dataframe tbody tr th {\n",
       "        vertical-align: top;\n",
       "    }\n",
       "\n",
       "    .dataframe thead th {\n",
       "        text-align: right;\n",
       "    }\n",
       "</style>\n",
       "<table border=\"1\" class=\"dataframe\">\n",
       "  <thead>\n",
       "    <tr style=\"text-align: right;\">\n",
       "      <th></th>\n",
       "      <th>상호명</th>\n",
       "      <th>상권업종대분류명</th>\n",
       "      <th>상권업종중분류명</th>\n",
       "      <th>상권업종소분류명</th>\n",
       "      <th>시도명</th>\n",
       "      <th>시군구명</th>\n",
       "      <th>행정동명</th>\n",
       "      <th>법정동명</th>\n",
       "      <th>대지구분명</th>\n",
       "      <th>지번본번지</th>\n",
       "      <th>지번주소</th>\n",
       "      <th>도로명</th>\n",
       "      <th>건물본번지</th>\n",
       "      <th>도로명주소</th>\n",
       "      <th>경도</th>\n",
       "      <th>위도</th>\n",
       "    </tr>\n",
       "  </thead>\n",
       "  <tbody>\n",
       "    <tr>\n",
       "      <th>0</th>\n",
       "      <td>제중건강원</td>\n",
       "      <td>소매</td>\n",
       "      <td>건강/미용식품</td>\n",
       "      <td>건강원</td>\n",
       "      <td>서울특별시</td>\n",
       "      <td>영등포구</td>\n",
       "      <td>영등포동</td>\n",
       "      <td>영등포동5가</td>\n",
       "      <td>대지</td>\n",
       "      <td>41</td>\n",
       "      <td>서울특별시 영등포구 영등포동5가 41-1</td>\n",
       "      <td>서울특별시 영등포구 영중로14길</td>\n",
       "      <td>11</td>\n",
       "      <td>서울특별시 영등포구 영중로14길 11-17, (영등포동5가)</td>\n",
       "      <td>126.907168</td>\n",
       "      <td>37.520613</td>\n",
       "    </tr>\n",
       "    <tr>\n",
       "      <th>1</th>\n",
       "      <td>민속악기사</td>\n",
       "      <td>소매</td>\n",
       "      <td>취미/오락관련소매</td>\n",
       "      <td>악기판매</td>\n",
       "      <td>서울특별시</td>\n",
       "      <td>성동구</td>\n",
       "      <td>용답동</td>\n",
       "      <td>용답동</td>\n",
       "      <td>대지</td>\n",
       "      <td>142</td>\n",
       "      <td>서울특별시 성동구 용답동 142-11</td>\n",
       "      <td>서울특별시 성동구 용답5길</td>\n",
       "      <td>2</td>\n",
       "      <td>서울특별시 성동구 용답5길 2, (용답동)</td>\n",
       "      <td>127.049018</td>\n",
       "      <td>37.566857</td>\n",
       "    </tr>\n",
       "    <tr>\n",
       "      <th>2</th>\n",
       "      <td>태평양진주</td>\n",
       "      <td>소매</td>\n",
       "      <td>시계/귀금속소매</td>\n",
       "      <td>시계/귀금속</td>\n",
       "      <td>서울특별시</td>\n",
       "      <td>종로구</td>\n",
       "      <td>종로1.2.3.4가동</td>\n",
       "      <td>봉익동</td>\n",
       "      <td>대지</td>\n",
       "      <td>43</td>\n",
       "      <td>서울특별시 종로구 봉익동 43-1</td>\n",
       "      <td>서울특별시 종로구 서순라길</td>\n",
       "      <td>17</td>\n",
       "      <td>서울특별시 종로구 서순라길 17-10, (봉익동)</td>\n",
       "      <td>126.993530</td>\n",
       "      <td>37.571848</td>\n",
       "    </tr>\n",
       "    <tr>\n",
       "      <th>3</th>\n",
       "      <td>김선희꼼꼼국어교습소</td>\n",
       "      <td>학문/교육</td>\n",
       "      <td>학원-보습교습입시</td>\n",
       "      <td>학원-입시</td>\n",
       "      <td>서울특별시</td>\n",
       "      <td>송파구</td>\n",
       "      <td>방이1동</td>\n",
       "      <td>방이동</td>\n",
       "      <td>대지</td>\n",
       "      <td>197</td>\n",
       "      <td>서울특별시 송파구 방이동 197-3</td>\n",
       "      <td>서울특별시 송파구 위례성대로12길</td>\n",
       "      <td>31</td>\n",
       "      <td>서울특별시 송파구 위례성대로12길 31, (방이동)</td>\n",
       "      <td>127.121520</td>\n",
       "      <td>37.510967</td>\n",
       "    </tr>\n",
       "    <tr>\n",
       "      <th>4</th>\n",
       "      <td>비지트</td>\n",
       "      <td>음식</td>\n",
       "      <td>한식</td>\n",
       "      <td>한식/백반/한정식</td>\n",
       "      <td>서울특별시</td>\n",
       "      <td>서초구</td>\n",
       "      <td>방배4동</td>\n",
       "      <td>방배동</td>\n",
       "      <td>대지</td>\n",
       "      <td>854</td>\n",
       "      <td>서울특별시 서초구 방배동 854-18</td>\n",
       "      <td>서울특별시 서초구 동광로18길</td>\n",
       "      <td>82</td>\n",
       "      <td>서울특별시 서초구 동광로18길 82, (방배동)</td>\n",
       "      <td>126.991394</td>\n",
       "      <td>37.488375</td>\n",
       "    </tr>\n",
       "  </tbody>\n",
       "</table>\n",
       "</div>"
      ],
      "text/plain": [
       "          상호명 상권업종대분류명   상권업종중분류명   상권업종소분류명    시도명  시군구명         행정동명  \\\n",
       "0       제중건강원       소매    건강/미용식품        건강원  서울특별시  영등포구         영등포동   \n",
       "1       민속악기사       소매  취미/오락관련소매       악기판매  서울특별시   성동구          용답동   \n",
       "2       태평양진주       소매   시계/귀금속소매     시계/귀금속  서울특별시   종로구  종로1.2.3.4가동   \n",
       "3  김선희꼼꼼국어교습소    학문/교육  학원-보습교습입시      학원-입시  서울특별시   송파구         방이1동   \n",
       "4         비지트       음식         한식  한식/백반/한정식  서울특별시   서초구         방배4동   \n",
       "\n",
       "     법정동명 대지구분명  지번본번지                    지번주소                 도로명  건물본번지  \\\n",
       "0  영등포동5가    대지     41  서울특별시 영등포구 영등포동5가 41-1   서울특별시 영등포구 영중로14길     11   \n",
       "1     용답동    대지    142    서울특별시 성동구 용답동 142-11      서울특별시 성동구 용답5길      2   \n",
       "2     봉익동    대지     43      서울특별시 종로구 봉익동 43-1      서울특별시 종로구 서순라길     17   \n",
       "3     방이동    대지    197     서울특별시 송파구 방이동 197-3  서울특별시 송파구 위례성대로12길     31   \n",
       "4     방배동    대지    854    서울특별시 서초구 방배동 854-18    서울특별시 서초구 동광로18길     82   \n",
       "\n",
       "                               도로명주소          경도         위도  \n",
       "0  서울특별시 영등포구 영중로14길 11-17, (영등포동5가)  126.907168  37.520613  \n",
       "1            서울특별시 성동구 용답5길 2, (용답동)  127.049018  37.566857  \n",
       "2        서울특별시 종로구 서순라길 17-10, (봉익동)  126.993530  37.571848  \n",
       "3       서울특별시 송파구 위례성대로12길 31, (방이동)  127.121520  37.510967  \n",
       "4         서울특별시 서초구 동광로18길 82, (방배동)  126.991394  37.488375  "
      ]
     },
     "execution_count": 8,
     "metadata": {},
     "output_type": "execute_result"
    }
   ],
   "source": [
    "cols = [c for c in df.columns if c[-2:] == '코드']\n",
    "df.drop(cols, axis=1, inplace=True)\n",
    "\n",
    "cols2 = [c for c in df.columns if c[-2:] == '번호']\n",
    "df.drop(cols2, axis=1, inplace=True)\n",
    "df.head()\n",
    "\n",
    "df.columns.str.contains(\"코드\")\n",
    "code_cols = df.columns[df.columns.str.contains(\"코드\")]\n",
    "code_cols\n",
    "df = df.drop(code_cols, axis=1)\n",
    "\n",
    "num_cols = df.columns[df.columns.str.contains(\"번호\")]\n",
    "num_cols\n",
    "df = df.drop(num_cols, axis=1)"
   ]
  },
  {
   "cell_type": "code",
   "execution_count": null,
   "metadata": {},
   "outputs": [],
   "source": []
  },
  {
   "cell_type": "markdown",
   "metadata": {},
   "source": [
    "## Step 3: 데이터 탐색 (Exploratory Data Analysis)\n",
    "데이터의 패턴을 찾고, 관계를 시각화 하는 작업 등으로 통해 데이터에 대한 직관을 극대화 한다."
   ]
  },
  {
   "cell_type": "markdown",
   "metadata": {},
   "source": [
    "**기술 통계 요약**"
   ]
  },
  {
   "cell_type": "code",
   "execution_count": 12,
   "metadata": {},
   "outputs": [
    {
     "data": {
      "text/html": [
       "<div>\n",
       "<style scoped>\n",
       "    .dataframe tbody tr th:only-of-type {\n",
       "        vertical-align: middle;\n",
       "    }\n",
       "\n",
       "    .dataframe tbody tr th {\n",
       "        vertical-align: top;\n",
       "    }\n",
       "\n",
       "    .dataframe thead th {\n",
       "        text-align: right;\n",
       "    }\n",
       "</style>\n",
       "<table border=\"1\" class=\"dataframe\">\n",
       "  <thead>\n",
       "    <tr style=\"text-align: right;\">\n",
       "      <th></th>\n",
       "      <th>지번본번지</th>\n",
       "      <th>건물본번지</th>\n",
       "      <th>경도</th>\n",
       "      <th>위도</th>\n",
       "    </tr>\n",
       "  </thead>\n",
       "  <tbody>\n",
       "    <tr>\n",
       "      <th>count</th>\n",
       "      <td>361490.000000</td>\n",
       "      <td>361490.000000</td>\n",
       "      <td>361490.000000</td>\n",
       "      <td>361490.000000</td>\n",
       "    </tr>\n",
       "    <tr>\n",
       "      <th>mean</th>\n",
       "      <td>422.386384</td>\n",
       "      <td>139.732366</td>\n",
       "      <td>126.993759</td>\n",
       "      <td>37.544906</td>\n",
       "    </tr>\n",
       "    <tr>\n",
       "      <th>std</th>\n",
       "      <td>426.373510</td>\n",
       "      <td>259.077055</td>\n",
       "      <td>0.083937</td>\n",
       "      <td>0.049022</td>\n",
       "    </tr>\n",
       "    <tr>\n",
       "      <th>min</th>\n",
       "      <td>1.000000</td>\n",
       "      <td>1.000000</td>\n",
       "      <td>126.768169</td>\n",
       "      <td>37.434081</td>\n",
       "    </tr>\n",
       "    <tr>\n",
       "      <th>25%</th>\n",
       "      <td>102.000000</td>\n",
       "      <td>19.000000</td>\n",
       "      <td>126.922367</td>\n",
       "      <td>37.504588</td>\n",
       "    </tr>\n",
       "    <tr>\n",
       "      <th>50%</th>\n",
       "      <td>301.000000</td>\n",
       "      <td>46.000000</td>\n",
       "      <td>127.009557</td>\n",
       "      <td>37.542195</td>\n",
       "    </tr>\n",
       "    <tr>\n",
       "      <th>75%</th>\n",
       "      <td>644.000000</td>\n",
       "      <td>154.000000</td>\n",
       "      <td>127.056107</td>\n",
       "      <td>37.572518</td>\n",
       "    </tr>\n",
       "    <tr>\n",
       "      <th>max</th>\n",
       "      <td>9999.000000</td>\n",
       "      <td>3581.000000</td>\n",
       "      <td>127.182588</td>\n",
       "      <td>37.690787</td>\n",
       "    </tr>\n",
       "  </tbody>\n",
       "</table>\n",
       "</div>"
      ],
      "text/plain": [
       "               지번본번지          건물본번지             경도             위도\n",
       "count  361490.000000  361490.000000  361490.000000  361490.000000\n",
       "mean      422.386384     139.732366     126.993759      37.544906\n",
       "std       426.373510     259.077055       0.083937       0.049022\n",
       "min         1.000000       1.000000     126.768169      37.434081\n",
       "25%       102.000000      19.000000     126.922367      37.504588\n",
       "50%       301.000000      46.000000     127.009557      37.542195\n",
       "75%       644.000000     154.000000     127.056107      37.572518\n",
       "max      9999.000000    3581.000000     127.182588      37.690787"
      ]
     },
     "execution_count": 12,
     "metadata": {},
     "output_type": "execute_result"
    }
   ],
   "source": [
    "df.describe()"
   ]
  },
  {
   "cell_type": "code",
   "execution_count": 60,
   "metadata": {},
   "outputs": [
    {
     "data": {
      "text/html": [
       "<div>\n",
       "<style scoped>\n",
       "    .dataframe tbody tr th:only-of-type {\n",
       "        vertical-align: middle;\n",
       "    }\n",
       "\n",
       "    .dataframe tbody tr th {\n",
       "        vertical-align: top;\n",
       "    }\n",
       "\n",
       "    .dataframe thead th {\n",
       "        text-align: right;\n",
       "    }\n",
       "</style>\n",
       "<table border=\"1\" class=\"dataframe\">\n",
       "  <thead>\n",
       "    <tr style=\"text-align: right;\">\n",
       "      <th></th>\n",
       "      <th>상호명</th>\n",
       "      <th>상권업종대분류명</th>\n",
       "      <th>상권업종중분류명</th>\n",
       "      <th>상권업종소분류명</th>\n",
       "      <th>시도명</th>\n",
       "      <th>시군구명</th>\n",
       "      <th>행정동명</th>\n",
       "      <th>법정동명</th>\n",
       "      <th>대지구분명</th>\n",
       "      <th>지번주소</th>\n",
       "      <th>도로명</th>\n",
       "      <th>도로명주소</th>\n",
       "    </tr>\n",
       "  </thead>\n",
       "  <tbody>\n",
       "    <tr>\n",
       "      <th>count</th>\n",
       "      <td>361490</td>\n",
       "      <td>361490</td>\n",
       "      <td>361490</td>\n",
       "      <td>361490</td>\n",
       "      <td>361490</td>\n",
       "      <td>361490</td>\n",
       "      <td>361490</td>\n",
       "      <td>361490</td>\n",
       "      <td>361490</td>\n",
       "      <td>361490</td>\n",
       "      <td>361490</td>\n",
       "      <td>361490</td>\n",
       "    </tr>\n",
       "    <tr>\n",
       "      <th>unique</th>\n",
       "      <td>263524</td>\n",
       "      <td>8</td>\n",
       "      <td>89</td>\n",
       "      <td>677</td>\n",
       "      <td>1</td>\n",
       "      <td>25</td>\n",
       "      <td>425</td>\n",
       "      <td>463</td>\n",
       "      <td>2</td>\n",
       "      <td>134165</td>\n",
       "      <td>12408</td>\n",
       "      <td>133359</td>\n",
       "    </tr>\n",
       "    <tr>\n",
       "      <th>top</th>\n",
       "      <td>CU</td>\n",
       "      <td>음식</td>\n",
       "      <td>한식</td>\n",
       "      <td>한식/백반/한정식</td>\n",
       "      <td>서울특별시</td>\n",
       "      <td>강남구</td>\n",
       "      <td>역삼1동</td>\n",
       "      <td>역삼동</td>\n",
       "      <td>대지</td>\n",
       "      <td>서울특별시 종로구 종로6가 262-1</td>\n",
       "      <td>서울특별시 종로구 종로</td>\n",
       "      <td>서울특별시 종로구 종로 266, (종로6가)</td>\n",
       "    </tr>\n",
       "    <tr>\n",
       "      <th>freq</th>\n",
       "      <td>1702</td>\n",
       "      <td>121534</td>\n",
       "      <td>39624</td>\n",
       "      <td>29155</td>\n",
       "      <td>361490</td>\n",
       "      <td>35511</td>\n",
       "      <td>6628</td>\n",
       "      <td>8292</td>\n",
       "      <td>361232</td>\n",
       "      <td>892</td>\n",
       "      <td>2263</td>\n",
       "      <td>898</td>\n",
       "    </tr>\n",
       "  </tbody>\n",
       "</table>\n",
       "</div>"
      ],
      "text/plain": [
       "           상호명 상권업종대분류명 상권업종중분류명   상권업종소분류명     시도명    시군구명    행정동명    법정동명  \\\n",
       "count   361490   361490   361490     361490  361490  361490  361490  361490   \n",
       "unique  263524        8       89        677       1      25     425     463   \n",
       "top         CU       음식       한식  한식/백반/한정식   서울특별시     강남구    역삼1동     역삼동   \n",
       "freq      1702   121534    39624      29155  361490   35511    6628    8292   \n",
       "\n",
       "         대지구분명                  지번주소           도로명                     도로명주소  \n",
       "count   361490                361490        361490                    361490  \n",
       "unique       2                134165         12408                    133359  \n",
       "top         대지  서울특별시 종로구 종로6가 262-1  서울특별시 종로구 종로  서울특별시 종로구 종로 266, (종로6가)  \n",
       "freq    361232                   892          2263                       898  "
      ]
     },
     "execution_count": 60,
     "metadata": {},
     "output_type": "execute_result"
    }
   ],
   "source": [
    "df.describe(include=\"object\")"
   ]
  },
  {
   "cell_type": "markdown",
   "metadata": {},
   "source": [
    "### 3.1 히스토그램으로 수치 데이터의 분포 한눈에 확인하기\n",
    "- **히스토그램(histogram)** : 수치형 데이터의 구간별 빈도수를 나타내는 그래프"
   ]
  },
  {
   "cell_type": "code",
   "execution_count": 61,
   "metadata": {},
   "outputs": [
    {
     "data": {
      "image/png": "[encoded data removed]",
      "text/plain": [
       "<Figure size 864x864 with 4 Axes>"
      ]
     },
     "metadata": {
      "needs_background": "light"
     },
     "output_type": "display_data"
    }
   ],
   "source": [
    "h = df.hist(figsize=(12, 12), bins=50)"
   ]
  },
  {
   "cell_type": "markdown",
   "metadata": {},
   "source": [
    "### 3.2 상관 계수로 두 변량간의 관계 파악하기"
   ]
  },
  {
   "cell_type": "code",
   "execution_count": 62,
   "metadata": {},
   "outputs": [],
   "source": [
    "corr = df.corr()"
   ]
  },
  {
   "cell_type": "code",
   "execution_count": 23,
   "metadata": {
    "scrolled": true
   },
   "outputs": [
    {
     "data": {
      "text/html": [
       "<div>\n",
       "<style scoped>\n",
       "    .dataframe tbody tr th:only-of-type {\n",
       "        vertical-align: middle;\n",
       "    }\n",
       "\n",
       "    .dataframe tbody tr th {\n",
       "        vertical-align: top;\n",
       "    }\n",
       "\n",
       "    .dataframe thead th {\n",
       "        text-align: right;\n",
       "    }\n",
       "</style>\n",
       "<table border=\"1\" class=\"dataframe\">\n",
       "  <thead>\n",
       "    <tr style=\"text-align: right;\">\n",
       "      <th></th>\n",
       "      <th>위도</th>\n",
       "      <th>경도</th>\n",
       "    </tr>\n",
       "  </thead>\n",
       "  <tbody>\n",
       "    <tr>\n",
       "      <th>count</th>\n",
       "      <td>361490.000000</td>\n",
       "      <td>361490.000000</td>\n",
       "    </tr>\n",
       "    <tr>\n",
       "      <th>mean</th>\n",
       "      <td>37.544906</td>\n",
       "      <td>126.993759</td>\n",
       "    </tr>\n",
       "    <tr>\n",
       "      <th>std</th>\n",
       "      <td>0.049022</td>\n",
       "      <td>0.083937</td>\n",
       "    </tr>\n",
       "    <tr>\n",
       "      <th>min</th>\n",
       "      <td>37.434081</td>\n",
       "      <td>126.768169</td>\n",
       "    </tr>\n",
       "    <tr>\n",
       "      <th>25%</th>\n",
       "      <td>37.504588</td>\n",
       "      <td>126.922367</td>\n",
       "    </tr>\n",
       "    <tr>\n",
       "      <th>50%</th>\n",
       "      <td>37.542195</td>\n",
       "      <td>127.009557</td>\n",
       "    </tr>\n",
       "    <tr>\n",
       "      <th>75%</th>\n",
       "      <td>37.572518</td>\n",
       "      <td>127.056107</td>\n",
       "    </tr>\n",
       "    <tr>\n",
       "      <th>max</th>\n",
       "      <td>37.690787</td>\n",
       "      <td>127.182588</td>\n",
       "    </tr>\n",
       "  </tbody>\n",
       "</table>\n",
       "</div>"
      ],
      "text/plain": [
       "                  위도             경도\n",
       "count  361490.000000  361490.000000\n",
       "mean       37.544906     126.993759\n",
       "std         0.049022       0.083937\n",
       "min        37.434081     126.768169\n",
       "25%        37.504588     126.922367\n",
       "50%        37.542195     127.009557\n",
       "75%        37.572518     127.056107\n",
       "max        37.690787     127.182588"
      ]
     },
     "execution_count": 23,
     "metadata": {},
     "output_type": "execute_result"
    }
   ],
   "source": [
    "df[[\"위도\", \"경도\"]].describe()"
   ]
  },
  {
   "cell_type": "code",
   "execution_count": 63,
   "metadata": {},
   "outputs": [
    {
     "data": {
      "text/plain": [
       "<AxesSubplot:>"
      ]
     },
     "execution_count": 63,
     "metadata": {},
     "output_type": "execute_result"
    },
    {
     "data": {
      "image/png": "[encoded data removed]",
      "text/plain": [
       "<Figure size 432x288 with 2 Axes>"
      ]
     },
     "metadata": {
      "needs_background": "light"
     },
     "output_type": "display_data"
    }
   ],
   "source": [
    "sns.heatmap(corr, annot=True, fmt='.2f', linewidths=0.5, cmap='YlGnBu')"
   ]
  },
  {
   "cell_type": "code",
   "execution_count": 24,
   "metadata": {
    "scrolled": true
   },
   "outputs": [
    {
     "data": {
      "text/html": [
       "<div>\n",
       "<style scoped>\n",
       "    .dataframe tbody tr th:only-of-type {\n",
       "        vertical-align: middle;\n",
       "    }\n",
       "\n",
       "    .dataframe tbody tr th {\n",
       "        vertical-align: top;\n",
       "    }\n",
       "\n",
       "    .dataframe thead th {\n",
       "        text-align: right;\n",
       "    }\n",
       "</style>\n",
       "<table border=\"1\" class=\"dataframe\">\n",
       "  <thead>\n",
       "    <tr style=\"text-align: right;\">\n",
       "      <th></th>\n",
       "      <th>위도</th>\n",
       "      <th>경도</th>\n",
       "    </tr>\n",
       "  </thead>\n",
       "  <tbody>\n",
       "    <tr>\n",
       "      <th>위도</th>\n",
       "      <td>1.00000</td>\n",
       "      <td>0.15501</td>\n",
       "    </tr>\n",
       "    <tr>\n",
       "      <th>경도</th>\n",
       "      <td>0.15501</td>\n",
       "      <td>1.00000</td>\n",
       "    </tr>\n",
       "  </tbody>\n",
       "</table>\n",
       "</div>"
      ],
      "text/plain": [
       "         위도       경도\n",
       "위도  1.00000  0.15501\n",
       "경도  0.15501  1.00000"
      ]
     },
     "execution_count": 24,
     "metadata": {},
     "output_type": "execute_result"
    }
   ],
   "source": [
    "df[[\"위도\", \"경도\"]].corr()"
   ]
  },
  {
   "cell_type": "code",
   "execution_count": null,
   "metadata": {},
   "outputs": [],
   "source": [
    "df_corr = df.corr()\n",
    "sns.heatmap(df_corr, cmap='Reds', annot=True)"
   ]
  },
  {
   "cell_type": "code",
   "execution_count": 64,
   "metadata": {
    "scrolled": false
   },
   "outputs": [
    {
     "data": {
      "text/plain": [
       "<AxesSubplot:xlabel='경도', ylabel='위도'>"
      ]
     },
     "execution_count": 64,
     "metadata": {},
     "output_type": "execute_result"
    },
    {
     "data": {
      "image/png": "[encoded data removed]",
      "text/plain": [
       "<Figure size 432x288 with 1 Axes>"
      ]
     },
     "metadata": {
      "needs_background": "light"
     },
     "output_type": "display_data"
    }
   ],
   "source": [
    "df.plot(x='경도',y='위도', kind='scatter', alpha=0.1)"
   ]
  },
  {
   "cell_type": "code",
   "execution_count": 27,
   "metadata": {},
   "outputs": [
    {
     "data": {
      "text/plain": [
       "<AxesSubplot:xlabel='경도', ylabel='위도'>"
      ]
     },
     "execution_count": 27,
     "metadata": {},
     "output_type": "execute_result"
    },
    {
     "data": {
      "image/png": "[encoded data removed]",
      "text/plain": [
       "<Figure size 432x288 with 1 Axes>"
      ]
     },
     "metadata": {
      "needs_background": "light"
     },
     "output_type": "display_data"
    }
   ],
   "source": [
    "sns.scatterplot(data=df.sample(1000), x=\"경도\", y=\"위도\")"
   ]
  },
  {
   "cell_type": "markdown",
   "metadata": {},
   "source": [
    "* [컬러맵 정보](https://matplotlib.org/stable/tutorials/colors/colormaps.html)"
   ]
  },
  {
   "cell_type": "markdown",
   "metadata": {},
   "source": [
    "### 3.3 문자열 데이터에 대한 요약"
   ]
  },
  {
   "cell_type": "markdown",
   "metadata": {},
   "source": [
    "- 상권업종대분류명 요약"
   ]
  },
  {
   "cell_type": "code",
   "execution_count": 16,
   "metadata": {
    "scrolled": true
   },
   "outputs": [
    {
     "name": "stdout",
     "output_type": "stream",
     "text": [
      "<class 'pandas.core.series.Series'>\n",
      "RangeIndex: 361490 entries, 0 to 361489\n",
      "Series name: 상권업종대분류명\n",
      "Non-Null Count   Dtype \n",
      "--------------   ----- \n",
      "361490 non-null  object\n",
      "dtypes: object(1)\n",
      "memory usage: 2.8+ MB\n"
     ]
    }
   ],
   "source": [
    "df['상권업종대분류명'].info()"
   ]
  },
  {
   "cell_type": "code",
   "execution_count": 28,
   "metadata": {},
   "outputs": [
    {
     "data": {
      "text/plain": [
       "count     361490\n",
       "unique         8\n",
       "top           음식\n",
       "freq      121534\n",
       "Name: 상권업종대분류명, dtype: object"
      ]
     },
     "execution_count": 28,
     "metadata": {},
     "output_type": "execute_result"
    }
   ],
   "source": [
    "df['상권업종대분류명'].describe()"
   ]
  },
  {
   "cell_type": "markdown",
   "metadata": {},
   "source": [
    "- 상권업종대분류명 의 unique 값"
   ]
  },
  {
   "cell_type": "code",
   "execution_count": 17,
   "metadata": {},
   "outputs": [
    {
     "data": {
      "text/plain": [
       "array(['소매', '학문/교육', '음식', '부동산', '생활서비스', '관광/여가/오락', '숙박', '스포츠'],\n",
       "      dtype=object)"
      ]
     },
     "execution_count": 17,
     "metadata": {},
     "output_type": "execute_result"
    }
   ],
   "source": [
    "df['상권업종대분류명'].unique()"
   ]
  },
  {
   "cell_type": "markdown",
   "metadata": {},
   "source": [
    "- 상권업종대분류명 의 unique 값의 갯수"
   ]
  },
  {
   "cell_type": "code",
   "execution_count": 21,
   "metadata": {},
   "outputs": [
    {
     "data": {
      "text/plain": [
       "8"
      ]
     },
     "execution_count": 21,
     "metadata": {},
     "output_type": "execute_result"
    }
   ],
   "source": [
    "df['상권업종대분류명'].nunique()"
   ]
  },
  {
   "cell_type": "markdown",
   "metadata": {},
   "source": [
    "- 상권업종대분류명 의 최빈값"
   ]
  },
  {
   "cell_type": "code",
   "execution_count": 65,
   "metadata": {},
   "outputs": [
    {
     "data": {
      "text/plain": [
       "0    음식\n",
       "Name: 상권업종대분류명, dtype: object"
      ]
     },
     "execution_count": 65,
     "metadata": {},
     "output_type": "execute_result"
    }
   ],
   "source": [
    "df[\"상권업종대분류명\"].mode()"
   ]
  },
  {
   "cell_type": "markdown",
   "metadata": {},
   "source": [
    "- 상권업종대분류명 의 빈도수"
   ]
  },
  {
   "cell_type": "code",
   "execution_count": 30,
   "metadata": {},
   "outputs": [
    {
     "data": {
      "text/plain": [
       "음식          121534\n",
       "소매          103889\n",
       "생활서비스        74450\n",
       "학문/교육        26193\n",
       "부동산          18600\n",
       "관광/여가/오락      9167\n",
       "스포츠           5290\n",
       "숙박            2367\n",
       "Name: 상권업종대분류명, dtype: int64"
      ]
     },
     "execution_count": 30,
     "metadata": {},
     "output_type": "execute_result"
    }
   ],
   "source": [
    "df[\"상권업종대분류명\"].value_counts()"
   ]
  },
  {
   "cell_type": "code",
   "execution_count": 29,
   "metadata": {},
   "outputs": [
    {
     "data": {
      "text/html": [
       "<div>\n",
       "<style scoped>\n",
       "    .dataframe tbody tr th:only-of-type {\n",
       "        vertical-align: middle;\n",
       "    }\n",
       "\n",
       "    .dataframe tbody tr th {\n",
       "        vertical-align: top;\n",
       "    }\n",
       "\n",
       "    .dataframe thead th {\n",
       "        text-align: right;\n",
       "    }\n",
       "</style>\n",
       "<table border=\"1\" class=\"dataframe\">\n",
       "  <thead>\n",
       "    <tr style=\"text-align: right;\">\n",
       "      <th></th>\n",
       "      <th>상호명</th>\n",
       "      <th>상권업종대분류명</th>\n",
       "      <th>상권업종중분류명</th>\n",
       "      <th>상권업종소분류명</th>\n",
       "      <th>시도명</th>\n",
       "      <th>시군구명</th>\n",
       "      <th>행정동명</th>\n",
       "      <th>법정동명</th>\n",
       "      <th>대지구분명</th>\n",
       "      <th>지번주소</th>\n",
       "      <th>도로명</th>\n",
       "      <th>도로명주소</th>\n",
       "    </tr>\n",
       "  </thead>\n",
       "  <tbody>\n",
       "    <tr>\n",
       "      <th>count</th>\n",
       "      <td>361490</td>\n",
       "      <td>361490</td>\n",
       "      <td>361490</td>\n",
       "      <td>361490</td>\n",
       "      <td>361490</td>\n",
       "      <td>361490</td>\n",
       "      <td>361490</td>\n",
       "      <td>361490</td>\n",
       "      <td>361490</td>\n",
       "      <td>361490</td>\n",
       "      <td>361490</td>\n",
       "      <td>361490</td>\n",
       "    </tr>\n",
       "    <tr>\n",
       "      <th>unique</th>\n",
       "      <td>263524</td>\n",
       "      <td>8</td>\n",
       "      <td>89</td>\n",
       "      <td>677</td>\n",
       "      <td>1</td>\n",
       "      <td>25</td>\n",
       "      <td>425</td>\n",
       "      <td>463</td>\n",
       "      <td>2</td>\n",
       "      <td>134165</td>\n",
       "      <td>12408</td>\n",
       "      <td>133359</td>\n",
       "    </tr>\n",
       "    <tr>\n",
       "      <th>top</th>\n",
       "      <td>CU</td>\n",
       "      <td>음식</td>\n",
       "      <td>한식</td>\n",
       "      <td>한식/백반/한정식</td>\n",
       "      <td>서울특별시</td>\n",
       "      <td>강남구</td>\n",
       "      <td>역삼1동</td>\n",
       "      <td>역삼동</td>\n",
       "      <td>대지</td>\n",
       "      <td>서울특별시 종로구 종로6가 262-1</td>\n",
       "      <td>서울특별시 종로구 종로</td>\n",
       "      <td>서울특별시 종로구 종로 266, (종로6가)</td>\n",
       "    </tr>\n",
       "    <tr>\n",
       "      <th>freq</th>\n",
       "      <td>1702</td>\n",
       "      <td>121534</td>\n",
       "      <td>39624</td>\n",
       "      <td>29155</td>\n",
       "      <td>361490</td>\n",
       "      <td>35511</td>\n",
       "      <td>6628</td>\n",
       "      <td>8292</td>\n",
       "      <td>361232</td>\n",
       "      <td>892</td>\n",
       "      <td>2263</td>\n",
       "      <td>898</td>\n",
       "    </tr>\n",
       "  </tbody>\n",
       "</table>\n",
       "</div>"
      ],
      "text/plain": [
       "           상호명 상권업종대분류명 상권업종중분류명   상권업종소분류명     시도명    시군구명    행정동명    법정동명  \\\n",
       "count   361490   361490   361490     361490  361490  361490  361490  361490   \n",
       "unique  263524        8       89        677       1      25     425     463   \n",
       "top         CU       음식       한식  한식/백반/한정식   서울특별시     강남구    역삼1동     역삼동   \n",
       "freq      1702   121534    39624      29155  361490   35511    6628    8292   \n",
       "\n",
       "         대지구분명                  지번주소           도로명                     도로명주소  \n",
       "count   361490                361490        361490                    361490  \n",
       "unique       2                134165         12408                    133359  \n",
       "top         대지  서울특별시 종로구 종로6가 262-1  서울특별시 종로구 종로  서울특별시 종로구 종로 266, (종로6가)  \n",
       "freq    361232                   892          2263                       898  "
      ]
     },
     "execution_count": 29,
     "metadata": {},
     "output_type": "execute_result"
    }
   ],
   "source": [
    "df.describe(include=\"object\")"
   ]
  },
  {
   "cell_type": "markdown",
   "metadata": {},
   "source": [
    "### 3.4 구별 음식점 업종 비교하기"
   ]
  },
  {
   "cell_type": "markdown",
   "metadata": {},
   "source": [
    "#### (1) 서초구에는 어떤 음식점 업종이 많을까?"
   ]
  },
  {
   "cell_type": "markdown",
   "metadata": {},
   "source": [
    "- 서초구에서 상권업종대분류명이 음식인 데이터만 가져오기"
   ]
  },
  {
   "cell_type": "code",
   "execution_count": 67,
   "metadata": {},
   "outputs": [
    {
     "data": {
      "text/html": [
       "<div>\n",
       "<style scoped>\n",
       "    .dataframe tbody tr th:only-of-type {\n",
       "        vertical-align: middle;\n",
       "    }\n",
       "\n",
       "    .dataframe tbody tr th {\n",
       "        vertical-align: top;\n",
       "    }\n",
       "\n",
       "    .dataframe thead th {\n",
       "        text-align: right;\n",
       "    }\n",
       "</style>\n",
       "<table border=\"1\" class=\"dataframe\">\n",
       "  <thead>\n",
       "    <tr style=\"text-align: right;\">\n",
       "      <th></th>\n",
       "      <th>상호명</th>\n",
       "      <th>상권업종대분류명</th>\n",
       "      <th>상권업종중분류명</th>\n",
       "      <th>상권업종소분류명</th>\n",
       "      <th>시도명</th>\n",
       "      <th>시군구명</th>\n",
       "      <th>행정동명</th>\n",
       "      <th>법정동명</th>\n",
       "      <th>대지구분명</th>\n",
       "      <th>지번본번지</th>\n",
       "      <th>지번주소</th>\n",
       "      <th>도로명</th>\n",
       "      <th>건물본번지</th>\n",
       "      <th>도로명주소</th>\n",
       "      <th>경도</th>\n",
       "      <th>위도</th>\n",
       "    </tr>\n",
       "  </thead>\n",
       "  <tbody>\n",
       "    <tr>\n",
       "      <th>4</th>\n",
       "      <td>비지트</td>\n",
       "      <td>음식</td>\n",
       "      <td>한식</td>\n",
       "      <td>한식/백반/한정식</td>\n",
       "      <td>서울특별시</td>\n",
       "      <td>서초구</td>\n",
       "      <td>방배4동</td>\n",
       "      <td>방배동</td>\n",
       "      <td>대지</td>\n",
       "      <td>854</td>\n",
       "      <td>서울특별시 서초구 방배동 854-18</td>\n",
       "      <td>서울특별시 서초구 동광로18길</td>\n",
       "      <td>82</td>\n",
       "      <td>서울특별시 서초구 동광로18길 82, (방배동)</td>\n",
       "      <td>126.991394</td>\n",
       "      <td>37.488375</td>\n",
       "    </tr>\n",
       "    <tr>\n",
       "      <th>6</th>\n",
       "      <td>다향</td>\n",
       "      <td>음식</td>\n",
       "      <td>한식</td>\n",
       "      <td>한식/백반/한정식</td>\n",
       "      <td>서울특별시</td>\n",
       "      <td>서초구</td>\n",
       "      <td>서초3동</td>\n",
       "      <td>서초동</td>\n",
       "      <td>대지</td>\n",
       "      <td>1485</td>\n",
       "      <td>서울특별시 서초구 서초동 1485-3</td>\n",
       "      <td>서울특별시 서초구 효령로</td>\n",
       "      <td>230</td>\n",
       "      <td>서울특별시 서초구 효령로 230, (서초동)</td>\n",
       "      <td>127.009382</td>\n",
       "      <td>37.483436</td>\n",
       "    </tr>\n",
       "    <tr>\n",
       "      <th>24</th>\n",
       "      <td>장수식당</td>\n",
       "      <td>음식</td>\n",
       "      <td>한식</td>\n",
       "      <td>한식/백반/한정식</td>\n",
       "      <td>서울특별시</td>\n",
       "      <td>서초구</td>\n",
       "      <td>잠원동</td>\n",
       "      <td>잠원동</td>\n",
       "      <td>대지</td>\n",
       "      <td>29</td>\n",
       "      <td>서울특별시 서초구 잠원동 29-3</td>\n",
       "      <td>서울특별시 서초구 강남대로95길</td>\n",
       "      <td>17</td>\n",
       "      <td>서울특별시 서초구 강남대로95길 17, (잠원동)</td>\n",
       "      <td>127.018983</td>\n",
       "      <td>37.513638</td>\n",
       "    </tr>\n",
       "    <tr>\n",
       "      <th>32</th>\n",
       "      <td>북경깐풍기</td>\n",
       "      <td>음식</td>\n",
       "      <td>중식</td>\n",
       "      <td>중국음식/중국집</td>\n",
       "      <td>서울특별시</td>\n",
       "      <td>서초구</td>\n",
       "      <td>서초4동</td>\n",
       "      <td>서초동</td>\n",
       "      <td>대지</td>\n",
       "      <td>1307</td>\n",
       "      <td>서울특별시 서초구 서초동 1307-18</td>\n",
       "      <td>서울특별시 서초구 강남대로65길</td>\n",
       "      <td>7</td>\n",
       "      <td>서울특별시 서초구 강남대로65길 7, (서초동)</td>\n",
       "      <td>127.025310</td>\n",
       "      <td>37.500247</td>\n",
       "    </tr>\n",
       "    <tr>\n",
       "      <th>60</th>\n",
       "      <td>라이브존레스토랑</td>\n",
       "      <td>음식</td>\n",
       "      <td>양식</td>\n",
       "      <td>패밀리레스토랑</td>\n",
       "      <td>서울특별시</td>\n",
       "      <td>서초구</td>\n",
       "      <td>반포4동</td>\n",
       "      <td>반포동</td>\n",
       "      <td>대지</td>\n",
       "      <td>83</td>\n",
       "      <td>서울특별시 서초구 반포동 83-16</td>\n",
       "      <td>서울특별시 서초구 동광로49길</td>\n",
       "      <td>7</td>\n",
       "      <td>서울특별시 서초구 동광로49길 7, (반포동)</td>\n",
       "      <td>127.001978</td>\n",
       "      <td>37.493519</td>\n",
       "    </tr>\n",
       "  </tbody>\n",
       "</table>\n",
       "</div>"
      ],
      "text/plain": [
       "         상호명 상권업종대분류명 상권업종중분류명   상권업종소분류명    시도명 시군구명  행정동명 법정동명 대지구분명  지번본번지  \\\n",
       "4        비지트       음식       한식  한식/백반/한정식  서울특별시  서초구  방배4동  방배동    대지    854   \n",
       "6         다향       음식       한식  한식/백반/한정식  서울특별시  서초구  서초3동  서초동    대지   1485   \n",
       "24      장수식당       음식       한식  한식/백반/한정식  서울특별시  서초구   잠원동  잠원동    대지     29   \n",
       "32     북경깐풍기       음식       중식   중국음식/중국집  서울특별시  서초구  서초4동  서초동    대지   1307   \n",
       "60  라이브존레스토랑       음식       양식    패밀리레스토랑  서울특별시  서초구  반포4동  반포동    대지     83   \n",
       "\n",
       "                     지번주소                도로명  건물본번지  \\\n",
       "4    서울특별시 서초구 방배동 854-18   서울특별시 서초구 동광로18길     82   \n",
       "6    서울특별시 서초구 서초동 1485-3      서울특별시 서초구 효령로    230   \n",
       "24     서울특별시 서초구 잠원동 29-3  서울특별시 서초구 강남대로95길     17   \n",
       "32  서울특별시 서초구 서초동 1307-18  서울특별시 서초구 강남대로65길      7   \n",
       "60    서울특별시 서초구 반포동 83-16   서울특별시 서초구 동광로49길      7   \n",
       "\n",
       "                          도로명주소          경도         위도  \n",
       "4    서울특별시 서초구 동광로18길 82, (방배동)  126.991394  37.488375  \n",
       "6      서울특별시 서초구 효령로 230, (서초동)  127.009382  37.483436  \n",
       "24  서울특별시 서초구 강남대로95길 17, (잠원동)  127.018983  37.513638  \n",
       "32   서울특별시 서초구 강남대로65길 7, (서초동)  127.025310  37.500247  \n",
       "60    서울특별시 서초구 동광로49길 7, (반포동)  127.001978  37.493519  "
      ]
     },
     "execution_count": 67,
     "metadata": {},
     "output_type": "execute_result"
    }
   ],
   "source": [
    "seocho_food = df[(df[\"시군구명\"] == \"서초구\") & \n",
    "   (df[\"상권업종대분류명\"] == \"음식\")]\n",
    "seocho_food.head()"
   ]
  },
  {
   "cell_type": "code",
   "execution_count": 68,
   "metadata": {
    "scrolled": true
   },
   "outputs": [
    {
     "data": {
      "text/plain": [
       "한식         1966\n",
       "커피점/카페     1205\n",
       "분식          520\n",
       "유흥주점        452\n",
       "일식/수산물      449\n",
       "양식          407\n",
       "패스트푸드       277\n",
       "제과제빵떡케익     260\n",
       "닭/오리요리      213\n",
       "중식          183\n",
       "별식/퓨전요리     141\n",
       "기타음식업        23\n",
       "부페           17\n",
       "음식배달서비스       5\n",
       "Name: 상권업종중분류명, dtype: int64"
      ]
     },
     "execution_count": 68,
     "metadata": {},
     "output_type": "execute_result"
    }
   ],
   "source": [
    "seocho_food['상권업종중분류명'].value_counts()"
   ]
  },
  {
   "cell_type": "code",
   "execution_count": 70,
   "metadata": {},
   "outputs": [
    {
     "data": {
      "text/plain": [
       "<AxesSubplot:>"
      ]
     },
     "execution_count": 70,
     "metadata": {},
     "output_type": "execute_result"
    },
    {
     "data": {
      "image/png": "[encoded data removed]",
      "text/plain": [
       "<Figure size 432x432 with 1 Axes>"
      ]
     },
     "metadata": {
      "needs_background": "light"
     },
     "output_type": "display_data"
    }
   ],
   "source": [
    "seocho_food['상권업종중분류명'].value_counts().plot(kind='barh', figsize=(6,6))"
   ]
  },
  {
   "cell_type": "markdown",
   "metadata": {},
   "source": [
    "**분석결과** : 서초구에는 한식, 카페, 분식 순으로 상권이 분포한다"
   ]
  },
  {
   "cell_type": "markdown",
   "metadata": {},
   "source": [
    "#### (2) 구별 업종(상권업종중분류명 기준)  분포 비교하기"
   ]
  },
  {
   "cell_type": "markdown",
   "metadata": {},
   "source": [
    "- 상권업종대분류명 이 음식인 데이터 준비"
   ]
  },
  {
   "cell_type": "code",
   "execution_count": 35,
   "metadata": {},
   "outputs": [
    {
     "data": {
      "text/html": [
       "<div>\n",
       "<style scoped>\n",
       "    .dataframe tbody tr th:only-of-type {\n",
       "        vertical-align: middle;\n",
       "    }\n",
       "\n",
       "    .dataframe tbody tr th {\n",
       "        vertical-align: top;\n",
       "    }\n",
       "\n",
       "    .dataframe thead th {\n",
       "        text-align: right;\n",
       "    }\n",
       "</style>\n",
       "<table border=\"1\" class=\"dataframe\">\n",
       "  <thead>\n",
       "    <tr style=\"text-align: right;\">\n",
       "      <th></th>\n",
       "      <th>상호명</th>\n",
       "      <th>상권업종대분류명</th>\n",
       "      <th>상권업종중분류명</th>\n",
       "      <th>상권업종소분류명</th>\n",
       "      <th>시도명</th>\n",
       "      <th>시군구명</th>\n",
       "      <th>행정동명</th>\n",
       "      <th>법정동명</th>\n",
       "      <th>대지구분명</th>\n",
       "      <th>지번본번지</th>\n",
       "      <th>지번주소</th>\n",
       "      <th>도로명</th>\n",
       "      <th>건물본번지</th>\n",
       "      <th>도로명주소</th>\n",
       "      <th>경도</th>\n",
       "      <th>위도</th>\n",
       "    </tr>\n",
       "  </thead>\n",
       "  <tbody>\n",
       "    <tr>\n",
       "      <th>4</th>\n",
       "      <td>비지트</td>\n",
       "      <td>음식</td>\n",
       "      <td>한식</td>\n",
       "      <td>한식/백반/한정식</td>\n",
       "      <td>서울특별시</td>\n",
       "      <td>서초구</td>\n",
       "      <td>방배4동</td>\n",
       "      <td>방배동</td>\n",
       "      <td>대지</td>\n",
       "      <td>854</td>\n",
       "      <td>서울특별시 서초구 방배동 854-18</td>\n",
       "      <td>서울특별시 서초구 동광로18길</td>\n",
       "      <td>82</td>\n",
       "      <td>서울특별시 서초구 동광로18길 82, (방배동)</td>\n",
       "      <td>126.991394</td>\n",
       "      <td>37.488375</td>\n",
       "    </tr>\n",
       "    <tr>\n",
       "      <th>6</th>\n",
       "      <td>다향</td>\n",
       "      <td>음식</td>\n",
       "      <td>한식</td>\n",
       "      <td>한식/백반/한정식</td>\n",
       "      <td>서울특별시</td>\n",
       "      <td>서초구</td>\n",
       "      <td>서초3동</td>\n",
       "      <td>서초동</td>\n",
       "      <td>대지</td>\n",
       "      <td>1485</td>\n",
       "      <td>서울특별시 서초구 서초동 1485-3</td>\n",
       "      <td>서울특별시 서초구 효령로</td>\n",
       "      <td>230</td>\n",
       "      <td>서울특별시 서초구 효령로 230, (서초동)</td>\n",
       "      <td>127.009382</td>\n",
       "      <td>37.483436</td>\n",
       "    </tr>\n",
       "    <tr>\n",
       "      <th>24</th>\n",
       "      <td>장수식당</td>\n",
       "      <td>음식</td>\n",
       "      <td>한식</td>\n",
       "      <td>한식/백반/한정식</td>\n",
       "      <td>서울특별시</td>\n",
       "      <td>서초구</td>\n",
       "      <td>잠원동</td>\n",
       "      <td>잠원동</td>\n",
       "      <td>대지</td>\n",
       "      <td>29</td>\n",
       "      <td>서울특별시 서초구 잠원동 29-3</td>\n",
       "      <td>서울특별시 서초구 강남대로95길</td>\n",
       "      <td>17</td>\n",
       "      <td>서울특별시 서초구 강남대로95길 17, (잠원동)</td>\n",
       "      <td>127.018983</td>\n",
       "      <td>37.513638</td>\n",
       "    </tr>\n",
       "    <tr>\n",
       "      <th>32</th>\n",
       "      <td>북경깐풍기</td>\n",
       "      <td>음식</td>\n",
       "      <td>중식</td>\n",
       "      <td>중국음식/중국집</td>\n",
       "      <td>서울특별시</td>\n",
       "      <td>서초구</td>\n",
       "      <td>서초4동</td>\n",
       "      <td>서초동</td>\n",
       "      <td>대지</td>\n",
       "      <td>1307</td>\n",
       "      <td>서울특별시 서초구 서초동 1307-18</td>\n",
       "      <td>서울특별시 서초구 강남대로65길</td>\n",
       "      <td>7</td>\n",
       "      <td>서울특별시 서초구 강남대로65길 7, (서초동)</td>\n",
       "      <td>127.025310</td>\n",
       "      <td>37.500247</td>\n",
       "    </tr>\n",
       "    <tr>\n",
       "      <th>60</th>\n",
       "      <td>라이브존레스토랑</td>\n",
       "      <td>음식</td>\n",
       "      <td>양식</td>\n",
       "      <td>패밀리레스토랑</td>\n",
       "      <td>서울특별시</td>\n",
       "      <td>서초구</td>\n",
       "      <td>반포4동</td>\n",
       "      <td>반포동</td>\n",
       "      <td>대지</td>\n",
       "      <td>83</td>\n",
       "      <td>서울특별시 서초구 반포동 83-16</td>\n",
       "      <td>서울특별시 서초구 동광로49길</td>\n",
       "      <td>7</td>\n",
       "      <td>서울특별시 서초구 동광로49길 7, (반포동)</td>\n",
       "      <td>127.001978</td>\n",
       "      <td>37.493519</td>\n",
       "    </tr>\n",
       "    <tr>\n",
       "      <th>...</th>\n",
       "      <td>...</td>\n",
       "      <td>...</td>\n",
       "      <td>...</td>\n",
       "      <td>...</td>\n",
       "      <td>...</td>\n",
       "      <td>...</td>\n",
       "      <td>...</td>\n",
       "      <td>...</td>\n",
       "      <td>...</td>\n",
       "      <td>...</td>\n",
       "      <td>...</td>\n",
       "      <td>...</td>\n",
       "      <td>...</td>\n",
       "      <td>...</td>\n",
       "      <td>...</td>\n",
       "      <td>...</td>\n",
       "    </tr>\n",
       "    <tr>\n",
       "      <th>361185</th>\n",
       "      <td>마실</td>\n",
       "      <td>음식</td>\n",
       "      <td>유흥주점</td>\n",
       "      <td>꼬치구이전문점</td>\n",
       "      <td>서울특별시</td>\n",
       "      <td>서초구</td>\n",
       "      <td>반포1동</td>\n",
       "      <td>반포동</td>\n",
       "      <td>대지</td>\n",
       "      <td>705</td>\n",
       "      <td>서울특별시 서초구 반포동 705-7</td>\n",
       "      <td>서울특별시 서초구 신반포로</td>\n",
       "      <td>326</td>\n",
       "      <td>서울특별시 서초구 신반포로 326-13, (반포동)</td>\n",
       "      <td>127.019767</td>\n",
       "      <td>37.509869</td>\n",
       "    </tr>\n",
       "    <tr>\n",
       "      <th>361258</th>\n",
       "      <td>커피앤와플타임</td>\n",
       "      <td>음식</td>\n",
       "      <td>커피점/카페</td>\n",
       "      <td>커피전문점/카페/다방</td>\n",
       "      <td>서울특별시</td>\n",
       "      <td>서초구</td>\n",
       "      <td>서초2동</td>\n",
       "      <td>서초동</td>\n",
       "      <td>대지</td>\n",
       "      <td>1360</td>\n",
       "      <td>서울특별시 서초구 서초동 1360-6</td>\n",
       "      <td>서울특별시 서초구 남부순환로347길</td>\n",
       "      <td>48</td>\n",
       "      <td>서울특별시 서초구 남부순환로347길 48-7, (서초동)</td>\n",
       "      <td>127.031458</td>\n",
       "      <td>37.486619</td>\n",
       "    </tr>\n",
       "    <tr>\n",
       "      <th>361302</th>\n",
       "      <td>클립커피</td>\n",
       "      <td>음식</td>\n",
       "      <td>커피점/카페</td>\n",
       "      <td>커피전문점/카페/다방</td>\n",
       "      <td>서울특별시</td>\n",
       "      <td>서초구</td>\n",
       "      <td>반포1동</td>\n",
       "      <td>반포동</td>\n",
       "      <td>대지</td>\n",
       "      <td>705</td>\n",
       "      <td>서울특별시 서초구 반포동 705-7</td>\n",
       "      <td>서울특별시 서초구 신반포로</td>\n",
       "      <td>326</td>\n",
       "      <td>서울특별시 서초구 신반포로 326-13, (반포동)</td>\n",
       "      <td>127.019767</td>\n",
       "      <td>37.509869</td>\n",
       "    </tr>\n",
       "    <tr>\n",
       "      <th>361304</th>\n",
       "      <td>서래셀부루</td>\n",
       "      <td>음식</td>\n",
       "      <td>유흥주점</td>\n",
       "      <td>룸살롱/단란주점</td>\n",
       "      <td>서울특별시</td>\n",
       "      <td>서초구</td>\n",
       "      <td>방배4동</td>\n",
       "      <td>방배동</td>\n",
       "      <td>대지</td>\n",
       "      <td>813</td>\n",
       "      <td>서울특별시 서초구 방배동 813-7</td>\n",
       "      <td>서울특별시 서초구 동광로</td>\n",
       "      <td>70</td>\n",
       "      <td>서울특별시 서초구 동광로 70, (방배동)</td>\n",
       "      <td>126.990252</td>\n",
       "      <td>37.492591</td>\n",
       "    </tr>\n",
       "    <tr>\n",
       "      <th>361486</th>\n",
       "      <td>챔프컴퍼니</td>\n",
       "      <td>음식</td>\n",
       "      <td>한식</td>\n",
       "      <td>한식/백반/한정식</td>\n",
       "      <td>서울특별시</td>\n",
       "      <td>서초구</td>\n",
       "      <td>방배1동</td>\n",
       "      <td>방배동</td>\n",
       "      <td>대지</td>\n",
       "      <td>938</td>\n",
       "      <td>서울특별시 서초구 방배동 938-24</td>\n",
       "      <td>서울특별시 서초구 방배로23길</td>\n",
       "      <td>32</td>\n",
       "      <td>서울특별시 서초구 방배로23길 32-4, (방배동)</td>\n",
       "      <td>126.992590</td>\n",
       "      <td>37.486042</td>\n",
       "    </tr>\n",
       "  </tbody>\n",
       "</table>\n",
       "<p>6118 rows × 16 columns</p>\n",
       "</div>"
      ],
      "text/plain": [
       "             상호명 상권업종대분류명 상권업종중분류명     상권업종소분류명    시도명 시군구명  행정동명 법정동명 대지구분명  \\\n",
       "4            비지트       음식       한식    한식/백반/한정식  서울특별시  서초구  방배4동  방배동    대지   \n",
       "6             다향       음식       한식    한식/백반/한정식  서울특별시  서초구  서초3동  서초동    대지   \n",
       "24          장수식당       음식       한식    한식/백반/한정식  서울특별시  서초구   잠원동  잠원동    대지   \n",
       "32         북경깐풍기       음식       중식     중국음식/중국집  서울특별시  서초구  서초4동  서초동    대지   \n",
       "60      라이브존레스토랑       음식       양식      패밀리레스토랑  서울특별시  서초구  반포4동  반포동    대지   \n",
       "...          ...      ...      ...          ...    ...  ...   ...  ...   ...   \n",
       "361185        마실       음식     유흥주점      꼬치구이전문점  서울특별시  서초구  반포1동  반포동    대지   \n",
       "361258   커피앤와플타임       음식   커피점/카페  커피전문점/카페/다방  서울특별시  서초구  서초2동  서초동    대지   \n",
       "361302      클립커피       음식   커피점/카페  커피전문점/카페/다방  서울특별시  서초구  반포1동  반포동    대지   \n",
       "361304     서래셀부루       음식     유흥주점     룸살롱/단란주점  서울특별시  서초구  방배4동  방배동    대지   \n",
       "361486     챔프컴퍼니       음식       한식    한식/백반/한정식  서울특별시  서초구  방배1동  방배동    대지   \n",
       "\n",
       "        지번본번지                   지번주소                  도로명  건물본번지  \\\n",
       "4         854   서울특별시 서초구 방배동 854-18     서울특별시 서초구 동광로18길     82   \n",
       "6        1485   서울특별시 서초구 서초동 1485-3        서울특별시 서초구 효령로    230   \n",
       "24         29     서울특별시 서초구 잠원동 29-3    서울특별시 서초구 강남대로95길     17   \n",
       "32       1307  서울특별시 서초구 서초동 1307-18    서울특별시 서초구 강남대로65길      7   \n",
       "60         83    서울특별시 서초구 반포동 83-16     서울특별시 서초구 동광로49길      7   \n",
       "...       ...                    ...                  ...    ...   \n",
       "361185    705    서울특별시 서초구 반포동 705-7       서울특별시 서초구 신반포로    326   \n",
       "361258   1360   서울특별시 서초구 서초동 1360-6  서울특별시 서초구 남부순환로347길     48   \n",
       "361302    705    서울특별시 서초구 반포동 705-7       서울특별시 서초구 신반포로    326   \n",
       "361304    813    서울특별시 서초구 방배동 813-7        서울특별시 서초구 동광로     70   \n",
       "361486    938   서울특별시 서초구 방배동 938-24     서울특별시 서초구 방배로23길     32   \n",
       "\n",
       "                                  도로명주소          경도         위도  \n",
       "4            서울특별시 서초구 동광로18길 82, (방배동)  126.991394  37.488375  \n",
       "6              서울특별시 서초구 효령로 230, (서초동)  127.009382  37.483436  \n",
       "24          서울특별시 서초구 강남대로95길 17, (잠원동)  127.018983  37.513638  \n",
       "32           서울특별시 서초구 강남대로65길 7, (서초동)  127.025310  37.500247  \n",
       "60            서울특별시 서초구 동광로49길 7, (반포동)  127.001978  37.493519  \n",
       "...                                 ...         ...        ...  \n",
       "361185     서울특별시 서초구 신반포로 326-13, (반포동)  127.019767  37.509869  \n",
       "361258  서울특별시 서초구 남부순환로347길 48-7, (서초동)  127.031458  37.486619  \n",
       "361302     서울특별시 서초구 신반포로 326-13, (반포동)  127.019767  37.509869  \n",
       "361304          서울특별시 서초구 동광로 70, (방배동)  126.990252  37.492591  \n",
       "361486     서울특별시 서초구 방배로23길 32-4, (방배동)  126.992590  37.486042  \n",
       "\n",
       "[6118 rows x 16 columns]"
      ]
     },
     "execution_count": 35,
     "metadata": {},
     "output_type": "execute_result"
    }
   ],
   "source": [
    "df_food = df[(df[\"시군구명\"] == \"서초구\") & \n",
    "   (df[\"상권업종대분류명\"] == \"음식\")]\n",
    "df_food"
   ]
  },
  {
   "cell_type": "markdown",
   "metadata": {},
   "source": [
    "- 시군구명, 상권업종중분류명 으로 그룹화 해서 상점수 개수 구하기"
   ]
  },
  {
   "cell_type": "code",
   "execution_count": 71,
   "metadata": {},
   "outputs": [
    {
     "data": {
      "text/plain": [
       "시군구명  상권업종중분류명\n",
       "서초구   기타음식업         23\n",
       "      닭/오리요리       213\n",
       "      별식/퓨전요리      141\n",
       "      부페            17\n",
       "      분식           520\n",
       "      양식           407\n",
       "      유흥주점         452\n",
       "      음식배달서비스        5\n",
       "      일식/수산물       449\n",
       "      제과제빵떡케익      260\n",
       "      중식           183\n",
       "      커피점/카페      1205\n",
       "      패스트푸드        277\n",
       "      한식          1966\n",
       "Name: 상호명, dtype: int64"
      ]
     },
     "execution_count": 71,
     "metadata": {},
     "output_type": "execute_result"
    }
   ],
   "source": [
    "food_groupby = df_food.groupby(['시군구명', '상권업종중분류명'])['상호명'].count()\n",
    "food_groupby"
   ]
  },
  {
   "cell_type": "code",
   "execution_count": 73,
   "metadata": {},
   "outputs": [
    {
     "data": {
      "text/html": [
       "<div>\n",
       "<style scoped>\n",
       "    .dataframe tbody tr th:only-of-type {\n",
       "        vertical-align: middle;\n",
       "    }\n",
       "\n",
       "    .dataframe tbody tr th {\n",
       "        vertical-align: top;\n",
       "    }\n",
       "\n",
       "    .dataframe thead th {\n",
       "        text-align: right;\n",
       "    }\n",
       "</style>\n",
       "<table border=\"1\" class=\"dataframe\">\n",
       "  <thead>\n",
       "    <tr style=\"text-align: right;\">\n",
       "      <th></th>\n",
       "      <th>시군구명</th>\n",
       "      <th>상권업종중분류명</th>\n",
       "      <th>상호수</th>\n",
       "    </tr>\n",
       "  </thead>\n",
       "  <tbody>\n",
       "    <tr>\n",
       "      <th>0</th>\n",
       "      <td>서초구</td>\n",
       "      <td>기타음식업</td>\n",
       "      <td>23</td>\n",
       "    </tr>\n",
       "    <tr>\n",
       "      <th>1</th>\n",
       "      <td>서초구</td>\n",
       "      <td>닭/오리요리</td>\n",
       "      <td>213</td>\n",
       "    </tr>\n",
       "    <tr>\n",
       "      <th>2</th>\n",
       "      <td>서초구</td>\n",
       "      <td>별식/퓨전요리</td>\n",
       "      <td>141</td>\n",
       "    </tr>\n",
       "    <tr>\n",
       "      <th>3</th>\n",
       "      <td>서초구</td>\n",
       "      <td>부페</td>\n",
       "      <td>17</td>\n",
       "    </tr>\n",
       "    <tr>\n",
       "      <th>4</th>\n",
       "      <td>서초구</td>\n",
       "      <td>분식</td>\n",
       "      <td>520</td>\n",
       "    </tr>\n",
       "    <tr>\n",
       "      <th>5</th>\n",
       "      <td>서초구</td>\n",
       "      <td>양식</td>\n",
       "      <td>407</td>\n",
       "    </tr>\n",
       "    <tr>\n",
       "      <th>6</th>\n",
       "      <td>서초구</td>\n",
       "      <td>유흥주점</td>\n",
       "      <td>452</td>\n",
       "    </tr>\n",
       "    <tr>\n",
       "      <th>7</th>\n",
       "      <td>서초구</td>\n",
       "      <td>음식배달서비스</td>\n",
       "      <td>5</td>\n",
       "    </tr>\n",
       "    <tr>\n",
       "      <th>8</th>\n",
       "      <td>서초구</td>\n",
       "      <td>일식/수산물</td>\n",
       "      <td>449</td>\n",
       "    </tr>\n",
       "    <tr>\n",
       "      <th>9</th>\n",
       "      <td>서초구</td>\n",
       "      <td>제과제빵떡케익</td>\n",
       "      <td>260</td>\n",
       "    </tr>\n",
       "    <tr>\n",
       "      <th>10</th>\n",
       "      <td>서초구</td>\n",
       "      <td>중식</td>\n",
       "      <td>183</td>\n",
       "    </tr>\n",
       "    <tr>\n",
       "      <th>11</th>\n",
       "      <td>서초구</td>\n",
       "      <td>커피점/카페</td>\n",
       "      <td>1205</td>\n",
       "    </tr>\n",
       "    <tr>\n",
       "      <th>12</th>\n",
       "      <td>서초구</td>\n",
       "      <td>패스트푸드</td>\n",
       "      <td>277</td>\n",
       "    </tr>\n",
       "    <tr>\n",
       "      <th>13</th>\n",
       "      <td>서초구</td>\n",
       "      <td>한식</td>\n",
       "      <td>1966</td>\n",
       "    </tr>\n",
       "  </tbody>\n",
       "</table>\n",
       "</div>"
      ],
      "text/plain": [
       "   시군구명 상권업종중분류명   상호수\n",
       "0   서초구    기타음식업    23\n",
       "1   서초구   닭/오리요리   213\n",
       "2   서초구  별식/퓨전요리   141\n",
       "3   서초구       부페    17\n",
       "4   서초구       분식   520\n",
       "5   서초구       양식   407\n",
       "6   서초구     유흥주점   452\n",
       "7   서초구  음식배달서비스     5\n",
       "8   서초구   일식/수산물   449\n",
       "9   서초구  제과제빵떡케익   260\n",
       "10  서초구       중식   183\n",
       "11  서초구   커피점/카페  1205\n",
       "12  서초구    패스트푸드   277\n",
       "13  서초구       한식  1966"
      ]
     },
     "execution_count": 73,
     "metadata": {},
     "output_type": "execute_result"
    }
   ],
   "source": [
    "food = food_groupby.reset_index()\n",
    "food = food.rename(columns={'상호명': '상호수'})\n",
    "food"
   ]
  },
  {
   "cell_type": "markdown",
   "metadata": {},
   "source": [
    "- 전체 업종별 평균 시각화하기"
   ]
  },
  {
   "cell_type": "code",
   "execution_count": 52,
   "metadata": {},
   "outputs": [
    {
     "data": {
      "text/plain": [
       "4             한식\n",
       "6             한식\n",
       "24            한식\n",
       "32            중식\n",
       "60            양식\n",
       "           ...  \n",
       "361185      유흥주점\n",
       "361258    커피점/카페\n",
       "361302    커피점/카페\n",
       "361304      유흥주점\n",
       "361486        한식\n",
       "Name: 상권업종중분류명, Length: 6118, dtype: object"
      ]
     },
     "execution_count": 52,
     "metadata": {},
     "output_type": "execute_result"
    }
   ],
   "source": [
    "tmp=df_food['상권업종중분류명']\n",
    "tmp\n",
    "#sns.barplot(data=df, x=\"상권업종중분류명\", y=tmp)"
   ]
  },
  {
   "cell_type": "code",
   "execution_count": 75,
   "metadata": {},
   "outputs": [
    {
     "data": {
      "text/plain": [
       "<AxesSubplot:xlabel='상권업종중분류명', ylabel='상호수'>"
      ]
     },
     "execution_count": 75,
     "metadata": {},
     "output_type": "execute_result"
    },
    {
     "data": {
      "image/png": "[encoded data removed]",
      "text/plain": [
       "<Figure size 864x432 with 1 Axes>"
      ]
     },
     "metadata": {
      "needs_background": "light"
     },
     "output_type": "display_data"
    }
   ],
   "source": [
    "plt.figure(figsize=(12, 6))\n",
    "sns.barplot(data=food, x='상권업종중분류명', y='상호수')"
   ]
  },
  {
   "cell_type": "markdown",
   "metadata": {},
   "source": [
    "- 상권업종중분류명에 따른 상호수를 시각화하되 시군구명별로 모두 표시 (sns.catplot 이용)"
   ]
  },
  {
   "cell_type": "code",
   "execution_count": null,
   "metadata": {},
   "outputs": [],
   "source": []
  },
  {
   "cell_type": "code",
   "execution_count": null,
   "metadata": {},
   "outputs": [],
   "source": []
  },
  {
   "cell_type": "markdown",
   "metadata": {},
   "source": [
    "**분석결과** : "
   ]
  },
  {
   "cell_type": "markdown",
   "metadata": {},
   "source": [
    "### 3.5 구별 학원수 비교하기"
   ]
  },
  {
   "cell_type": "markdown",
   "metadata": {},
   "source": [
    "#### (1) 어느 구에 학원수가 많을까?"
   ]
  },
  {
   "cell_type": "markdown",
   "metadata": {},
   "source": [
    "- 상권업종대분류명의 unique 값"
   ]
  },
  {
   "cell_type": "code",
   "execution_count": 41,
   "metadata": {},
   "outputs": [
    {
     "data": {
      "text/plain": [
       "array(['소매', '학문/교육', '음식', '부동산', '생활서비스', '관광/여가/오락', '숙박', '스포츠'],\n",
       "      dtype=object)"
      ]
     },
     "execution_count": 41,
     "metadata": {},
     "output_type": "execute_result"
    }
   ],
   "source": [
    "df[\"상권업종대분류명\"].unique()"
   ]
  },
  {
   "cell_type": "markdown",
   "metadata": {},
   "source": [
    "- 상권업종대분류명이 학문/교육인 데이터 가져오기"
   ]
  },
  {
   "cell_type": "code",
   "execution_count": 43,
   "metadata": {},
   "outputs": [],
   "source": [
    "df_academy = df[(df[\"상권업종대분류명\"] == \"학문/교육\")]"
   ]
  },
  {
   "cell_type": "markdown",
   "metadata": {},
   "source": [
    "- 시군구명으로 빈도수 구하기"
   ]
  },
  {
   "cell_type": "code",
   "execution_count": 44,
   "metadata": {},
   "outputs": [
    {
     "data": {
      "text/plain": [
       "강남구     2586\n",
       "송파구     1755\n",
       "서초구     1699\n",
       "양천구     1609\n",
       "노원구     1495\n",
       "강서구     1357\n",
       "강동구     1341\n",
       "은평구     1105\n",
       "성북구     1102\n",
       "마포구     1081\n",
       "광진구     1059\n",
       "관악구     1015\n",
       "구로구     1010\n",
       "동작구      998\n",
       "영등포구     795\n",
       "동대문구     779\n",
       "중랑구      776\n",
       "도봉구      759\n",
       "서대문구     717\n",
       "성동구      711\n",
       "금천구      555\n",
       "강북구      540\n",
       "종로구      533\n",
       "용산구      465\n",
       "중구       351\n",
       "Name: 시군구명, dtype: int64"
      ]
     },
     "execution_count": 44,
     "metadata": {},
     "output_type": "execute_result"
    }
   ],
   "source": [
    "df_academy['시군구명'].value_counts()"
   ]
  },
  {
   "cell_type": "markdown",
   "metadata": {},
   "source": [
    "- 빈도수 시각화하기"
   ]
  },
  {
   "cell_type": "code",
   "execution_count": 48,
   "metadata": {
    "scrolled": true
   },
   "outputs": [
    {
     "data": {
      "text/plain": [
       "학원-입시        4858\n",
       "학원-외국어/어학    3372\n",
       "학원(종합)       3220\n",
       "학원-기타        2606\n",
       "어린이집         2429\n",
       "             ... \n",
       "학원-텔렉스/통신       1\n",
       "학원-용접기술         1\n",
       "학원-국가고시         1\n",
       "학원-도배           1\n",
       "학원-레크리에이션       1\n",
       "Name: 상권업종소분류명, Length: 100, dtype: int64"
      ]
     },
     "execution_count": 48,
     "metadata": {},
     "output_type": "execute_result"
    }
   ],
   "source": [
    "academy_count = df_academy[\"상권업종소분류명\"].value_counts()\n",
    "academy_count"
   ]
  },
  {
   "cell_type": "code",
   "execution_count": 49,
   "metadata": {},
   "outputs": [
    {
     "data": {
      "text/plain": [
       "<AxesSubplot:>"
      ]
     },
     "execution_count": 49,
     "metadata": {},
     "output_type": "execute_result"
    },
    {
     "data": {
      "image/png": "[encoded data removed]",
      "text/plain": [
       "<Figure size 432x288 with 1 Axes>"
      ]
     },
     "metadata": {
      "needs_background": "light"
     },
     "output_type": "display_data"
    }
   ],
   "source": [
    "academy_count.hist()"
   ]
  },
  {
   "cell_type": "markdown",
   "metadata": {},
   "source": [
    "**분석 결과** :"
   ]
  },
  {
   "cell_type": "markdown",
   "metadata": {},
   "source": [
    "#### (2) 구별 학원의 세부 업종 (상권업종소분류명 기준) 분포 비교하기"
   ]
  },
  {
   "cell_type": "markdown",
   "metadata": {},
   "source": [
    "- 상권업종소분류명으로 빈도수를 구하기"
   ]
  },
  {
   "cell_type": "code",
   "execution_count": null,
   "metadata": {},
   "outputs": [],
   "source": []
  },
  {
   "cell_type": "markdown",
   "metadata": {},
   "source": [
    "- 상권업종소분류명 빈도수 기준 상위 4개만 가져오기"
   ]
  },
  {
   "cell_type": "code",
   "execution_count": null,
   "metadata": {},
   "outputs": [],
   "source": []
  },
  {
   "cell_type": "markdown",
   "metadata": {},
   "source": [
    "- 위에서 구한 상위 4개 업종으로만 데이터 가져오기"
   ]
  },
  {
   "cell_type": "code",
   "execution_count": null,
   "metadata": {},
   "outputs": [],
   "source": []
  },
  {
   "cell_type": "markdown",
   "metadata": {},
   "source": [
    "- 상권업종소분류명, 시군구명으로 그룹화를 해서 빈도수 구하기"
   ]
  },
  {
   "cell_type": "code",
   "execution_count": null,
   "metadata": {},
   "outputs": [],
   "source": []
  },
  {
   "cell_type": "markdown",
   "metadata": {},
   "source": [
    "#### (3) 위치 정보 시각화하기"
   ]
  },
  {
   "cell_type": "markdown",
   "metadata": {},
   "source": [
    "- 위에서 구한 데이터를 구별로 시각화"
   ]
  },
  {
   "cell_type": "code",
   "execution_count": null,
   "metadata": {},
   "outputs": [],
   "source": []
  },
  {
   "cell_type": "markdown",
   "metadata": {},
   "source": [
    "- 학원-입시 업종만 시각화"
   ]
  },
  {
   "cell_type": "code",
   "execution_count": null,
   "metadata": {},
   "outputs": [],
   "source": []
  },
  {
   "cell_type": "markdown",
   "metadata": {},
   "source": [
    "- 강남구에 대해서만 시각화"
   ]
  },
  {
   "cell_type": "code",
   "execution_count": null,
   "metadata": {},
   "outputs": [],
   "source": []
  },
  {
   "cell_type": "markdown",
   "metadata": {},
   "source": [
    "- 관심 동네 비교해보기"
   ]
  },
  {
   "cell_type": "code",
   "execution_count": null,
   "metadata": {},
   "outputs": [],
   "source": []
  }
 ],
 "metadata": {
  "kernelspec": {
   "display_name": "Python 3 (ipykernel)",
   "language": "python",
   "name": "python3"
  },
  "language_info": {
   "codemirror_mode": {
    "name": "ipython",
    "version": 3
   },
   "file_extension": ".py",
   "mimetype": "text/x-python",
   "name": "python",
   "nbconvert_exporter": "python",
   "pygments_lexer": "ipython3",
   "version": "3.9.12"
  },
  "varInspector": {
   "cols": {
    "lenName": 16,
    "lenType": 16,
    "lenVar": 40
   },
   "kernels_config": {
    "python": {
     "delete_cmd_postfix": "",
     "delete_cmd_prefix": "del ",
     "library": "var_list.py",
     "varRefreshCmd": "print(var_dic_list())"
    },
    "r": {
     "delete_cmd_postfix": ") ",
     "delete_cmd_prefix": "rm(",
     "library": "var_list.r",
     "varRefreshCmd": "cat(var_dic_list()) "
    }
   },
   "types_to_exclude": [
    "module",
    "function",
    "builtin_function_or_method",
    "instance",
    "_Feature"
   ],
   "window_display": false
  }
 },
 "nbformat": 4,
 "nbformat_minor": 4
}
