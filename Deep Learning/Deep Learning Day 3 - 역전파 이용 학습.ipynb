{
 "cells": [
  {
   "cell_type": "markdown",
   "id": "4e8b240b",
   "metadata": {},
   "source": [
    "# 신경망 학습"
   ]
  },
  {
   "cell_type": "code",
   "execution_count": 2,
   "id": "c0a2601d",
   "metadata": {},
   "outputs": [],
   "source": [
    "import numpy as np\n",
    "from dataset.mnist import load_mnist"
   ]
  },
  {
   "cell_type": "markdown",
   "id": "25a6ebbd",
   "metadata": {},
   "source": [
    "## Helper functions"
   ]
  },
  {
   "cell_type": "code",
   "execution_count": 4,
   "id": "c0c5b1ad",
   "metadata": {},
   "outputs": [],
   "source": [
    "# 손실함수 (Cross Entropy)\n",
    "def cross_entropy_error(y, t):\n",
    "    delta = 1e-7 # 0.0000001\n",
    "    \n",
    "    if y.ndim == 1:\n",
    "        t = t.reshape(1, t.size) \n",
    "        y = y.reshape(1, y.size)\n",
    "        \n",
    "    batch_size = y.shape[0]\n",
    "    return -np.sum(t*np.log(y+delta))/batch_size"
   ]
  },
  {
   "cell_type": "code",
   "execution_count": 5,
   "id": "abc413a5",
   "metadata": {},
   "outputs": [],
   "source": [
    "# 신경망에서 사용할 W(Matrix 형태)의 편미분 행렬을 구하는 함수\n",
    "# 신경망의 기울기 : 그레디언트 (편미분 벡터)\n",
    "def numerical_gradient(f, x): # x의 shape이 (784, 20) => grads 도 (784, 20)\n",
    "    h = 1e-4 # 0.0001\n",
    "    grads = np.zeros_like(x)\n",
    "    \n",
    "    it = np.nditer(x, flags=[\"multi_index\"], op_flags=[\"readwrite\"])\n",
    "        \n",
    "    while not it.finished:\n",
    "        idx = it.multi_index\n",
    "        tmp_val = x[idx]\n",
    "\n",
    "        x[idx] = tmp_val + h\n",
    "        fxh1 = f(x) # f(x+h)\n",
    "        x[idx] = tmp_val - h\n",
    "        fxh2 = f(x) # f(x-h)\n",
    "    \n",
    "        grads[idx] = (fxh1 - fxh2) / (2*h)\n",
    "        x[idx] = tmp_val\n",
    "        it.iternext()\n",
    "        \n",
    "    return grads"
   ]
  },
  {
   "cell_type": "code",
   "execution_count": 6,
   "id": "44236caa",
   "metadata": {},
   "outputs": [],
   "source": [
    "# Softmax\n",
    "def softmax(x):\n",
    "    if x.ndim == 2:\n",
    "        x = x.T # 10*100\n",
    "        x = x - np.max(x, axis=0) # 10*100 - 100 = 10*100\n",
    "        y = np.exp(x) / np.sum(np.exp(x), axis=0)\n",
    "        return y.T \n",
    "\n",
    "    x = x - np.max(x) # 오버플로 대책\n",
    "    return np.exp(x) / np.sum(np.exp(x))"
   ]
  },
  {
   "cell_type": "code",
   "execution_count": 7,
   "id": "b35d3bdc",
   "metadata": {},
   "outputs": [],
   "source": [
    "# Sigmoid\n",
    "def sigmoid(x):\n",
    "    return 1/(1+np.exp(-x))"
   ]
  },
  {
   "cell_type": "markdown",
   "id": "15168194",
   "metadata": {},
   "source": [
    "## 2층 신경망 구현하기"
   ]
  },
  {
   "cell_type": "code",
   "execution_count": 28,
   "id": "31cc9f9e",
   "metadata": {},
   "outputs": [],
   "source": [
    "class TwoLayerNet:\n",
    "    def __init__(self, input_size, hidden_size, output_size, weight_init_std=0.01):\n",
    "        # W1 shape (784, 20), B1 shape (20, ), W2 shape (20, 10). B2 shape (10,)\n",
    "        self.params = {}\n",
    "        self.params['W1'] = weight_init_std * np.random.randn(input_size, hidden_size)\n",
    "        self.params['b1'] = np.zeros(hidden_size)\n",
    "        self.params['W2'] = weight_init_std * np.random.randn(hidden_size, output_size)\n",
    "        self.params['b2'] = np.zeros(output_size)\n",
    "        \n",
    "    def predict(self, x):\n",
    "        W1, W2 = self.params['W1'], self.params['W2']\n",
    "        b1, b2 = self.params['b1'], self.params['b2']\n",
    "        \n",
    "        a1 = np.dot(x, W1) + b1 # (784,) X (784, 20) + (20,)\n",
    "        z1 = sigmoid(a1) # (20,)\n",
    "        \n",
    "        a2 = np.dot(z1, W2) + b2 # (20,) X (20, 10) + (10,)\n",
    "        y = softmax(a2) # (10,)\n",
    "        \n",
    "        return y\n",
    "    \n",
    "    def loss(self, x, t):\n",
    "        y = self.predict(x)\n",
    "        loss = cross_entropy_error(y, t)\n",
    "        return loss      \n",
    "    \n",
    "    def accuracy(self, x, t):\n",
    "        y = self.predict(x) # y는 0~1사이의 확률값\n",
    "        y = np.argmax(y, axis=1) # y는 클래스의 인덱스\n",
    "        t = np.argmax(t, axis=1)\n",
    "        accuracy = np.sum(y==t)/x.shape[0]\n",
    "        \n",
    "        return accuracy\n",
    "    \n",
    "    def numerical_gradient(self, x, t):\n",
    "        f = lambda w : self.loss(x, t)\n",
    "        \n",
    "        # W1 shape (784, 20), B1 shape (20, ), W2 shape (20, 10). B2 shape (10,)\n",
    "        grads = {}\n",
    "        grads[\"W1\"] = numerical_gradient(f, self.params['W1']) # W1 (784, 20) --> dW1 (784, 20)\n",
    "        grads[\"b1\"] = numerical_gradient(f, self.params['b1']) # b1 (20,) --> db1 (20,)\n",
    "        grads[\"W2\"] = numerical_gradient(f, self.params['W2']) # W2 (20, 10) --> dW2 (20, 10)\n",
    "        grads[\"b2\"] = numerical_gradient(f, self.params['b2']) # b2 (10,) --> db2 (10,)\n",
    "        \n",
    "        return grads\n",
    "    \n",
    "    def gradient(self, x, t):    \n",
    "        grads = {}\n",
    "        \n",
    "        W1, W2 = self.params['W1'], self.params['W2']\n",
    "        b1, b2 = self.params['b1'], self.params['b2']\n",
    "        \n",
    "        a1 = np.dot(x, W1) + b1\n",
    "        z1 = sigmoid(a1)\n",
    "        a2 = np.dot(z1, W2) + b2\n",
    "        y = softmax(a2)\n",
    "        \n",
    "        batch_size = x.shape[0]\n",
    "        da2 = (y-t)/batch_size\n",
    "        \n",
    "        db2 = np.sum(da2, axis=0) ##\n",
    "        dw2 = np.dot(z1.T, da2) ##\n",
    "        \n",
    "        dz1 = np.dot(da2, W2.T)\n",
    "        da1 = (1-z1)*z1*dz1\n",
    "        \n",
    "        db1 = np.sum(da1, axis=0) ##\n",
    "        dw1 = np.dot(x.T, da1) ##\n",
    "        \n",
    "        grads['W1'], grads['W2'] = dw1, dw2\n",
    "        grads['b1'], grads['b2'] = db1, db2\n",
    "        \n",
    "        return grads"
   ]
  },
  {
   "cell_type": "code",
   "execution_count": 41,
   "id": "9f0b2518",
   "metadata": {},
   "outputs": [
    {
     "name": "stdout",
     "output_type": "stream",
     "text": [
      "0 TR ACC: 0.11236666666666667TEST ACC: 0.1135\n",
      "600 TR ACC: 0.7076833333333333TEST ACC: 0.712\n",
      "1200 TR ACC: 0.8572666666666666TEST ACC: 0.8607\n",
      "1800 TR ACC: 0.8909833333333333TEST ACC: 0.8914\n",
      "2400 TR ACC: 0.9030166666666667TEST ACC: 0.9036\n",
      "3000 TR ACC: 0.9105333333333333TEST ACC: 0.9097\n",
      "3600 TR ACC: 0.9159TEST ACC: 0.9147\n",
      "4200 TR ACC: 0.9194666666666667TEST ACC: 0.9186\n",
      "4800 TR ACC: 0.9232666666666667TEST ACC: 0.9213\n",
      "5400 TR ACC: 0.9252333333333334TEST ACC: 0.9234\n",
      "6000 TR ACC: 0.9285333333333333TEST ACC: 0.9272\n",
      "6600 TR ACC: 0.9307333333333333TEST ACC: 0.9284\n",
      "7200 TR ACC: 0.9334TEST ACC: 0.931\n",
      "7800 TR ACC: 0.9351166666666667TEST ACC: 0.933\n",
      "8400 TR ACC: 0.9367TEST ACC: 0.9349\n",
      "9000 TR ACC: 0.9386833333333333TEST ACC: 0.9352\n",
      "9600 TR ACC: 0.9399833333333333TEST ACC: 0.9365\n"
     ]
    }
   ],
   "source": [
    "(X_train, y_train), (X_test, y_test) = load_mnist(normalize=True, flatten=True, one_hot_label=True)\n",
    "\n",
    "network = TwoLayerNet(input_size = 784, hidden_size=20, output_size=10)\n",
    "\n",
    "train_loss_list = []\n",
    "train_acc_list = []\n",
    "test_acc_list = []\n",
    "\n",
    "# 하이퍼파라미터\n",
    "iters_num = 10000\n",
    "batch_size = 100 # 미니배치 사이즈\n",
    "learning_rate = 0.1\n",
    "\n",
    "# 에폭 : 훈련데이터 전체를 소진하는데 걸리는 시간\n",
    "# 6만개의 훈련 데이터를 100개씩 학습 했을 때 모두 소진하는데 걸리는 횟수 600번\n",
    "train_size = int(X_train.shape[0])\n",
    "iter_per_epoch = train_size/batch_size # 60000/100 = 600번\n",
    "\n",
    "\n",
    "for i in range(iters_num):\n",
    "    batch_mask = np.random.choice(60000, 100) # 랜덤하게 뽑은 배치의 인덱스\n",
    "    x_batch = X_train[batch_mask]\n",
    "    t_batch = y_train[batch_mask]\n",
    "\n",
    "    # 1. Gradient \n",
    "    grads = network.gradient(x_batch, t_batch)\n",
    "\n",
    "    # 2. Gradent Descent (모델 파라미터 업데이트)\n",
    "    for keys in ('W1', 'W2', 'b1', 'b2'):\n",
    "        # W(new) <- W(old) - (lr * Gradient) : 경사 하강법\n",
    "        network.params[keys] = network.params[keys] - (learning_rate * grads[keys])\n",
    "\n",
    "    loss = network.loss(x_batch, t_batch)  \n",
    "    train_loss_list.append(loss)\n",
    "    \n",
    "    # epoch 마다 로그 출력ㅊ\n",
    "    if i % iter_per_epoch == 0: # 600, 1200....\n",
    "        train_accuracy = network.accuracy(X_train, y_train)\n",
    "        test_accuracy = network.accuracy(X_test, y_test)\n",
    "        train_acc_list.append(train_accuracy)\n",
    "        test_acc_list.append(test_accuracy)\n",
    "        print(str(i) + ' TR ACC: ' + str(train_accuracy) + 'TEST ACC: ' + str(test_accuracy))\n",
    "    \n",
    "    #print(i, loss)"
   ]
  },
  {
   "cell_type": "code",
   "execution_count": 43,
   "id": "81b3e2b3",
   "metadata": {},
   "outputs": [],
   "source": [
    "import matplotlib.pyplot as plt"
   ]
  },
  {
   "cell_type": "markdown",
   "id": "aa828e9b",
   "metadata": {},
   "source": [
    "**정확도(Accuracy)**"
   ]
  },
  {
   "cell_type": "code",
   "execution_count": 47,
   "id": "83f653c1",
   "metadata": {},
   "outputs": [
    {
     "data": {
      "text/plain": [
       "<matplotlib.legend.Legend at 0x1df61833bb0>"
      ]
     },
     "execution_count": 47,
     "metadata": {},
     "output_type": "execute_result"
    },
    {
     "data": {
      "image/png": "[encoded data removed]",
      "text/plain": [
       "<Figure size 432x288 with 1 Axes>"
      ]
     },
     "metadata": {
      "needs_background": "light"
     },
     "output_type": "display_data"
    }
   ],
   "source": [
    "x = np.arange(len(train_acc_list))\n",
    "plt.plot(x, train_acc_list, label='train_accuracy')\n",
    "plt.plot(x, test_acc_list, label='test_accuracy')\n",
    "plt.xlabel('apoch')\n",
    "plt.ylabel('accuracy')\n",
    "plt.legend()"
   ]
  },
  {
   "cell_type": "markdown",
   "id": "56c61872",
   "metadata": {},
   "source": [
    "**손실(loss)**"
   ]
  },
  {
   "cell_type": "code",
   "execution_count": 48,
   "id": "f0010acb",
   "metadata": {},
   "outputs": [
    {
     "data": {
      "text/plain": [
       "[<matplotlib.lines.Line2D at 0x1df618ab370>]"
      ]
     },
     "execution_count": 48,
     "metadata": {},
     "output_type": "execute_result"
    },
    {
     "data": {
      "image/png": "[encoded data removed]",
      "text/plain": [
       "<Figure size 432x288 with 1 Axes>"
      ]
     },
     "metadata": {
      "needs_background": "light"
     },
     "output_type": "display_data"
    }
   ],
   "source": [
    "x = np.arange(len(train_loss_list))\n",
    "plt.plot(x, train_loss_list)"
   ]
  },
  {
   "cell_type": "code",
   "execution_count": 50,
   "id": "6f34f268",
   "metadata": {},
   "outputs": [
    {
     "data": {
      "text/plain": [
       "Text(0, 0.5, 'loss')"
      ]
     },
     "execution_count": 50,
     "metadata": {},
     "output_type": "execute_result"
    },
    {
     "data": {
      "image/png": "[encoded data removed]",
      "text/plain": [
       "<Figure size 432x288 with 1 Axes>"
      ]
     },
     "metadata": {
      "needs_background": "light"
     },
     "output_type": "display_data"
    }
   ],
   "source": [
    "x = np.arange(len(train_loss_list)-9000)\n",
    "plt.plot(x, train_loss_list[:1000])\n",
    "plt.xlabel('iterations')\n",
    "plt.ylabel('loss')"
   ]
  },
  {
   "cell_type": "code",
   "execution_count": null,
   "id": "2f38affe",
   "metadata": {},
   "outputs": [],
   "source": []
  }
 ],
 "metadata": {
  "kernelspec": {
   "display_name": "Python 3 (ipykernel)",
   "language": "python",
   "name": "python3"
  },
  "language_info": {
   "codemirror_mode": {
    "name": "ipython",
    "version": 3
   },
   "file_extension": ".py",
   "mimetype": "text/x-python",
   "name": "python",
   "nbconvert_exporter": "python",
   "pygments_lexer": "ipython3",
   "version": "3.9.12"
  }
 },
 "nbformat": 4,
 "nbformat_minor": 5
}
